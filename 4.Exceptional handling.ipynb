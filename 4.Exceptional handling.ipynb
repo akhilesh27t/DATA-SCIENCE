{
 "cells": [
  {
   "cell_type": "code",
   "execution_count": 6,
   "id": "4703e6a6-af43-4fb4-a415-b6b52f35eedc",
   "metadata": {},
   "outputs": [
    {
     "name": "stdout",
     "output_type": "stream",
     "text": [
      "division not possible\n"
     ]
    }
   ],
   "source": [
    "try:\n",
    "    print(10/0)\n",
    "except ZeroDivisionError:\n",
    "    print(\"division not possible\")"
   ]
  },
  {
   "cell_type": "code",
   "execution_count": 8,
   "id": "26373c89-b123-4d9e-9cf1-bfb49446ac56",
   "metadata": {},
   "outputs": [
    {
     "name": "stdout",
     "output_type": "stream",
     "text": [
      "5.0\n"
     ]
    }
   ],
   "source": [
    "try:\n",
    "    print(10/2)\n",
    "except ZeroDivisionError:\n",
    "    print(\"division not possible\")"
   ]
  },
  {
   "cell_type": "code",
   "execution_count": 12,
   "id": "0d8b8a32-2c88-4e60-8c14-4cb5ca102c45",
   "metadata": {},
   "outputs": [
    {
     "name": "stdin",
     "output_type": "stream",
     "text": [
      "Enter any number 5\n",
      "Enter any number 2\n"
     ]
    },
    {
     "name": "stdout",
     "output_type": "stream",
     "text": [
      "2.5\n"
     ]
    }
   ],
   "source": [
    "def division(a,b):\n",
    "    if b==0:\n",
    "        print(\"division is not possible\")\n",
    "    else:\n",
    "        return (a/b)\n",
    "a=float(input(\"Enter any number\"))\n",
    "b=float(input(\"Enter any number\"))\n",
    "print(division(a,b))\n"
   ]
  },
  {
   "cell_type": "code",
   "execution_count": 20,
   "id": "497af67a-733c-4760-83fa-1b7034af2d47",
   "metadata": {},
   "outputs": [
    {
     "name": "stdin",
     "output_type": "stream",
     "text": [
      "Enter the numerator:  10\n",
      "Enter the denominator:  2\n"
     ]
    },
    {
     "name": "stdout",
     "output_type": "stream",
     "text": [
      "The result is: 5.0\n",
      "Division operation completed.\n"
     ]
    }
   ],
   "source": [
    "def divide_numbers():\n",
    "    try:\n",
    "        num1 = float(input(\"Enter the numerator: \"))\n",
    "        num2 = float(input(\"Enter the denominator: \"))\n",
    "        result = num1 / num2\n",
    "    except ZeroDivisionError:\n",
    "        print(\"Error: Division by zero is not allowed.\")\n",
    "    except ValueError:\n",
    "        print(\"Error: Invalid input. Please enter numeric values.\")\n",
    "    else:\n",
    "        print(f\"The result is: {result}\")\n",
    "\n",
    "    print(\"Division operation completed.\")\n",
    "divide_numbers()"
   ]
  },
  {
   "cell_type": "code",
   "execution_count": 22,
   "id": "765de894-2f3b-4494-b2d5-4950e5498533",
   "metadata": {},
   "outputs": [
    {
     "name": "stdin",
     "output_type": "stream",
     "text": [
      "Enter the file name to read:  file1\n"
     ]
    },
    {
     "name": "stdout",
     "output_type": "stream",
     "text": [
      "File content:\n",
      "python programming is a simple one\n",
      "python is good for scripting\n",
      "python is really good for automation\n",
      "python has good backend framework\n",
      "134 567 8907!@#$%^&*\n",
      "File read successfully.\n",
      "Operation completed.\n"
     ]
    }
   ],
   "source": [
    "# i wannt to read the file and print the containt on the file we have write permission \n",
    "def read_and_print_file():\n",
    "    try:\n",
    "        file_name = input(\"Enter the file name to read: \")\n",
    "        with open(file_name, 'r') as file:\n",
    "            content = file.read()\n",
    "            print(\"File content:\")\n",
    "            print(content)\n",
    "    except FileNotFoundError:\n",
    "        print(f\"Error: The file '{file_name}' was not found.\")\n",
    "    except Exception as e:\n",
    "        print(f\"An unexpected error occurred: {e}\")\n",
    "    else:\n",
    "        print(\"File read successfully.\")\n",
    "    finally:\n",
    "        print(\"Operation completed.\")\n",
    "\n",
    "read_and_print_file()"
   ]
  },
  {
   "cell_type": "code",
   "execution_count": 24,
   "id": "875d6803-2824-4a84-8bf4-0912743feab4",
   "metadata": {},
   "outputs": [
    {
     "name": "stdout",
     "output_type": "stream",
     "text": [
      "<class 'ZeroDivisionError'>\n",
      "<class 'ZeroDivisionError'>\n",
      "ZeroDivisionError\n",
      "division by zero\n"
     ]
    }
   ],
   "source": [
    "try:\n",
    "    print(10/0)\n",
    "except Exception as e:\n",
    "    print(type(e))\n",
    "    print(e.__class__)\n",
    "    print(e.__class__.__name__)\n",
    "    print(e)\n",
    "    "
   ]
  },
  {
   "cell_type": "code",
   "execution_count": 6,
   "id": "57083c77-32e4-4929-8611-736a939a98b7",
   "metadata": {},
   "outputs": [
    {
     "name": "stdout",
     "output_type": "stream",
     "text": [
      "division not possible\n",
      "Operation is completed\n"
     ]
    }
   ],
   "source": [
    "try:\n",
    "    print(10/0)\n",
    "except ZeroDivisionError:\n",
    "    print(\"division not possible\")\n",
    "finally:\n",
    "    print(\"Operation is completed\")"
   ]
  },
  {
   "cell_type": "code",
   "execution_count": 17,
   "id": "5c8ad1f2-e14b-4312-87eb-6fd1a62c682e",
   "metadata": {},
   "outputs": [
    {
     "name": "stdout",
     "output_type": "stream",
     "text": [
      "Original list : [1, 2, 3, 4]\n",
      "Operation is not possible\n"
     ]
    }
   ],
   "source": [
    "try:\n",
    "    list=[1,2,3,4]\n",
    "    print(\"Original list :\",list)\n",
    "    list.index(5)\n",
    "    print(\"List after indexing:\",list )\n",
    "except Exception as e:\n",
    "    print(\"Operation is not possible\")"
   ]
  },
  {
   "cell_type": "code",
   "execution_count": null,
   "id": "e7b7d704-d897-49d7-8803-2f08d5057288",
   "metadata": {},
   "outputs": [],
   "source": []
  }
 ],
 "metadata": {
  "kernelspec": {
   "display_name": "Python 3 (ipykernel)",
   "language": "python",
   "name": "python3"
  },
  "language_info": {
   "codemirror_mode": {
    "name": "ipython",
    "version": 3
   },
   "file_extension": ".py",
   "mimetype": "text/x-python",
   "name": "python",
   "nbconvert_exporter": "python",
   "pygments_lexer": "ipython3",
   "version": "3.12.7"
  }
 },
 "nbformat": 4,
 "nbformat_minor": 5
}
