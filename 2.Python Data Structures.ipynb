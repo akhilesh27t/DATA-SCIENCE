{
 "cells": [
  {
   "cell_type": "markdown",
   "id": "ac2b4345-9860-4c03-8847-8e16500074fe",
   "metadata": {},
   "source": [
    "# @Data Structures"
   ]
  },
  {
   "cell_type": "raw",
   "id": "90996222-278a-45e8-a240-ab88430d45df",
   "metadata": {},
   "source": [
    "@Data Structure:\n",
    "     -Way of organizing the data in a optimal way.\n",
    "     -It will take less time to retrive that data and also take less space for storing.\n",
    "     -Goal:optimize the time and space\n",
    "     -Graph is important in DS because their are lots of graph algorithm.\n",
    "     -Base on the data organisation, data structure are classified into 2 types:\n",
    "       1.Linear DS:\n",
    "            -We are storing the data in linear fashion\n",
    "            -eg.list,linear stack ,link list\n",
    "       2.Non-linear DS:\n",
    "            -We are storing the data in non-linear fashion.\n",
    "            -eg.Trees,Graph etc.\n",
    "     -Tree and graph we called it as logical data structure.\n",
    "     -so if we want create tree or graph in the memory we have to 2 representation\n",
    "        1.Array Representation\n",
    "        2.Linked list Representation\n",
    "\n",
    "    #Inbuild Data Structure-in python\n",
    "        1.List\n",
    "        2.Tuple\n",
    "        3.Set\n",
    "        4.Dictionary"
   ]
  },
  {
   "cell_type": "markdown",
   "id": "126b57d9-87a1-46a3-be00-a88db2146b3b",
   "metadata": {},
   "source": [
    "# List"
   ]
  },
  {
   "cell_type": "raw",
   "id": "ee4b9c41-2c8d-452a-ab3f-cf2368ccac86",
   "metadata": {},
   "source": [
    "@List:\n",
    "    -It is inbuilt DS in python\n",
    "    -It is also called as collection of heterogenous kind of data items.\n",
    "    -We can use list to store the different kind of data.\n",
    "    -We are using subscript operator to create a list.\n",
    "    -Each item in a list is seperated by comma(,).\n",
    "    -Each item in a list have the index.\n",
    "    -through index only we are accessing the list items\n",
    "    -List is dynamic in nature.\n",
    "    -Mutable:we can change the content of a list.\n",
    "    -List will be created inside the heap segment of the memory.\n",
    "    Syntax:\n",
    "      list_name=[item1,item2-------,item n]\n",
    "    -Accessing the elements of the list through indexing.\n",
    "    -Transversing the list/iterative list.\n",
    "    -Visiting the each and every element in the list."
   ]
  },
  {
   "cell_type": "code",
   "execution_count": 5,
   "id": "eb0b8ce7-134d-4aa8-bdaf-305c0ba7704d",
   "metadata": {},
   "outputs": [
    {
     "data": {
      "text/plain": [
       "[]"
      ]
     },
     "execution_count": 5,
     "metadata": {},
     "output_type": "execute_result"
    }
   ],
   "source": [
    "# create the empty list\n",
    "list1=[]\n",
    "list1"
   ]
  },
  {
   "cell_type": "code",
   "execution_count": 2,
   "id": "bf60c8db-268f-4eab-abf5-41a0591acefc",
   "metadata": {},
   "outputs": [
    {
     "data": {
      "text/plain": [
       "list"
      ]
     },
     "execution_count": 2,
     "metadata": {},
     "output_type": "execute_result"
    }
   ],
   "source": [
    "l=[1,2,3,4,5]\n",
    "type(l)"
   ]
  },
  {
   "cell_type": "code",
   "execution_count": 7,
   "id": "a79666d1-b7b5-479d-b3fc-0322bc385f2d",
   "metadata": {},
   "outputs": [
    {
     "name": "stdout",
     "output_type": "stream",
     "text": [
      "[1, 2, 3, 4, 5, 6]\n"
     ]
    }
   ],
   "source": [
    "# create integer list\n",
    "list2=[1,2,3,4,5,6]\n",
    "print(list2)"
   ]
  },
  {
   "cell_type": "code",
   "execution_count": 9,
   "id": "19ff0091-9cd9-471a-bc06-75402aa000fe",
   "metadata": {},
   "outputs": [
    {
     "name": "stdout",
     "output_type": "stream",
     "text": [
      "[2.3, 3.4, 4.2, 6.2]\n"
     ]
    }
   ],
   "source": [
    "# list of float\n",
    "list3=[2.3,3.4,4.2,6.2]\n",
    "print(list3)"
   ]
  },
  {
   "cell_type": "code",
   "execution_count": 11,
   "id": "b9c1b397-e322-402c-a24c-9cfcde48eb2d",
   "metadata": {},
   "outputs": [
    {
     "name": "stdout",
     "output_type": "stream",
     "text": [
      "Kiran\n"
     ]
    }
   ],
   "source": [
    "# list of string\n",
    "list4=[\"Kiran\",\"Magare\"]\n",
    "print(list4[0])"
   ]
  },
  {
   "cell_type": "code",
   "execution_count": 6,
   "id": "3e102df5-f1e3-4804-b01e-ed8d21616d03",
   "metadata": {},
   "outputs": [
    {
     "name": "stdout",
     "output_type": "stream",
     "text": [
      "[1, 2, 3, 4, 5]\n",
      "[1, 2, 3, 4, 5]\n"
     ]
    }
   ],
   "source": [
    "a=[1,2,3,4]\n",
    "b=a\n",
    "b.append(5)\n",
    "print(a)\n",
    "print(b)"
   ]
  },
  {
   "cell_type": "markdown",
   "id": "6bc9ebbb-5fa4-4f7d-b4ce-835a697835db",
   "metadata": {},
   "source": [
    "# @print the element in the list"
   ]
  },
  {
   "cell_type": "code",
   "execution_count": 14,
   "id": "6be08baf-b3bb-48b0-acd0-11fe0ec9aa2d",
   "metadata": {},
   "outputs": [
    {
     "name": "stdout",
     "output_type": "stream",
     "text": [
      "12\n",
      "45\n",
      "67\n",
      "89\n",
      "90\n"
     ]
    }
   ],
   "source": [
    "list=[12,45,67,89,90]\n",
    "for i in list:\n",
    "    print (i)"
   ]
  },
  {
   "cell_type": "markdown",
   "id": "be799fbe-3879-4d58-a62c-90a36318b88c",
   "metadata": {},
   "source": [
    "# @print length of list"
   ]
  },
  {
   "cell_type": "code",
   "execution_count": 17,
   "id": "3d187cf4-b426-4c3c-a0b4-c0a3f22bc645",
   "metadata": {},
   "outputs": [
    {
     "data": {
      "text/plain": [
       "6"
      ]
     },
     "execution_count": 17,
     "metadata": {},
     "output_type": "execute_result"
    }
   ],
   "source": [
    "list=[10,34,45,56,67,78]\n",
    "len(list)\n"
   ]
  },
  {
   "cell_type": "code",
   "execution_count": 19,
   "id": "12b47e9b-2ca4-421c-82d6-ee8dd6b3d6a8",
   "metadata": {},
   "outputs": [
    {
     "data": {
      "text/plain": [
       "5"
      ]
     },
     "execution_count": 19,
     "metadata": {},
     "output_type": "execute_result"
    }
   ],
   "source": [
    "list=[12,45,67,89,90]\n",
    "len(list)"
   ]
  },
  {
   "cell_type": "markdown",
   "id": "f78611a6-b402-4baa-8032-a350d84d288c",
   "metadata": {},
   "source": [
    "# @WAP to print the total element in list in both way"
   ]
  },
  {
   "cell_type": "markdown",
   "id": "39ee7811-102d-4f13-b3e8-b006e9e25972",
   "metadata": {},
   "source": [
    "## @Iterative"
   ]
  },
  {
   "cell_type": "code",
   "execution_count": 25,
   "id": "2f29efaf-48aa-4c6b-919a-e98a025a9e03",
   "metadata": {},
   "outputs": [
    {
     "name": "stdout",
     "output_type": "stream",
     "text": [
      "5\n"
     ]
    }
   ],
   "source": [
    "def list_count(list1):\n",
    "    count=0\n",
    "    for i in list1:\n",
    "        count+=1\n",
    "    return count\n",
    "    \n",
    "list1=[10, 25,30,78,90]\n",
    "print(list_count(list1))"
   ]
  },
  {
   "cell_type": "markdown",
   "id": "3571016c-90a5-48db-8d4f-4cc2a9d01547",
   "metadata": {},
   "source": [
    "## @Recursion"
   ]
  },
  {
   "cell_type": "code",
   "execution_count": 28,
   "id": "0affbcfe-e454-4262-ad7e-bd3a2deb4b59",
   "metadata": {},
   "outputs": [
    {
     "name": "stdout",
     "output_type": "stream",
     "text": [
      "5\n"
     ]
    }
   ],
   "source": [
    "def list_count(list1,count=0):\n",
    "    if count==len(list1):\n",
    "        return 0 \n",
    "    else:\n",
    "        return 1+ list_count(list1,count+1)    \n",
    "list1=[10, 25,30,78,90]\n",
    "print(list_count(list1))"
   ]
  },
  {
   "cell_type": "markdown",
   "id": "975a69c9-aec6-434b-b03a-ffe32f43d4a0",
   "metadata": {},
   "source": [
    "## @WAP to search the element in list"
   ]
  },
  {
   "cell_type": "markdown",
   "id": "d2fc6fe3-9d29-428a-8ac4-03c1bc1334e6",
   "metadata": {},
   "source": [
    "## @Iterative"
   ]
  },
  {
   "cell_type": "code",
   "execution_count": 32,
   "id": "9bd5fe29-dbfa-41cd-b413-e18483e5ccd0",
   "metadata": {},
   "outputs": [
    {
     "name": "stdin",
     "output_type": "stream",
     "text": [
      "Enter any number 65\n"
     ]
    },
    {
     "name": "stdout",
     "output_type": "stream",
     "text": [
      "True\n"
     ]
    }
   ],
   "source": [
    "def my_search(list,n):\n",
    "    d=False\n",
    "    for i in list:\n",
    "        if i==n:\n",
    "            return True    \n",
    "    return False\n",
    "list=[76,65,53,30,12]\n",
    "n=int(input(\"Enter any number\"))\n",
    "print(my_search(list,n))\n",
    "    "
   ]
  },
  {
   "cell_type": "code",
   "execution_count": 34,
   "id": "02fc3a6b-3371-4947-ad40-af4648eb593f",
   "metadata": {},
   "outputs": [],
   "source": [
    "list=[1,1,2,3,2,5,5,7,7,9,11,3,12,9,11]\n",
    "def oddnumber(list):\n",
    "    result=0\n",
    "    for i in list:\n",
    "        result^i\n",
    "    print(i)"
   ]
  },
  {
   "cell_type": "markdown",
   "id": "79d9bf06-79cb-4ae2-9886-21f0fabc46a2",
   "metadata": {},
   "source": [
    "## @Append"
   ]
  },
  {
   "cell_type": "code",
   "execution_count": 37,
   "id": "6ee0cd48-1653-43db-a929-9df02d7ab6fa",
   "metadata": {},
   "outputs": [
    {
     "name": "stdout",
     "output_type": "stream",
     "text": [
      "[23, 32, 45, 65, 80, 1000]\n"
     ]
    }
   ],
   "source": [
    "def my_append(list,item):\n",
    "    list+= [item]\n",
    "    return list\n",
    "list=[23,32,45,65,80]\n",
    "print(my_append(list,1000))"
   ]
  },
  {
   "cell_type": "code",
   "execution_count": 39,
   "id": "1bc6cb1c-c4ab-4761-aa68-30f5739f60ba",
   "metadata": {},
   "outputs": [
    {
     "name": "stdout",
     "output_type": "stream",
     "text": [
      "[76, 65, 53, 30, 12, [10, 25, 30, 78, 90]]\n"
     ]
    }
   ],
   "source": [
    "list1=[76,65,53,30,12]\n",
    "list2=[10, 25,30,78,90]\n",
    "list1.append(list2)\n",
    "print(list1)"
   ]
  },
  {
   "cell_type": "code",
   "execution_count": 41,
   "id": "d128b8c7-8b98-463c-b32f-57118c0c814f",
   "metadata": {},
   "outputs": [
    {
     "name": "stdout",
     "output_type": "stream",
     "text": [
      "[76, 65, 53, 30, 12, 10, 25, 30, 78, 90]\n"
     ]
    }
   ],
   "source": [
    "list1=[76,65,53,30,12]\n",
    "list2=[10, 25,30,78,90]\n",
    "list1.extend(list2)\n",
    "print(list1)"
   ]
  },
  {
   "cell_type": "markdown",
   "id": "b5da63f7-c44e-4132-bc51-577112bc090a",
   "metadata": {},
   "source": [
    "## @WAP to find the Maximum Number"
   ]
  },
  {
   "cell_type": "code",
   "execution_count": 54,
   "id": "bc80c03d-9ab9-4ed1-a0f1-5ea99be9b777",
   "metadata": {},
   "outputs": [
    {
     "name": "stdout",
     "output_type": "stream",
     "text": [
      "80\n"
     ]
    }
   ],
   "source": [
    "def maximum(list1,max):\n",
    "    for i in list1:\n",
    "        if max<=i:\n",
    "            max=i\n",
    "    return max\n",
    "list1=[12,23,43,44,50,80]\n",
    "max=list1[0]\n",
    "print(maximum(list1,max))"
   ]
  },
  {
   "cell_type": "markdown",
   "id": "5d94b704-1321-4f95-b153-119b7467f4be",
   "metadata": {},
   "source": [
    "## @WAP to find the Minimum Number"
   ]
  },
  {
   "cell_type": "code",
   "execution_count": 56,
   "id": "4404d02c-5a0b-4c3d-905c-0e559b85bd15",
   "metadata": {},
   "outputs": [
    {
     "name": "stdout",
     "output_type": "stream",
     "text": [
      "7\n"
     ]
    }
   ],
   "source": [
    "def minimum(list1,min):\n",
    "    for i in list1:\n",
    "        if min>i:\n",
    "            min=i\n",
    "    return min\n",
    "list1=[12,23,43,7,50,80]\n",
    "min=list1[0]\n",
    "print(minimum(list1,min))"
   ]
  },
  {
   "cell_type": "markdown",
   "id": "e20c9cb6-1504-4a5b-a458-e297f57f02ec",
   "metadata": {},
   "source": [
    "## @WAP to count the element is repeated in the list"
   ]
  },
  {
   "cell_type": "code",
   "execution_count": 60,
   "id": "ab676c87-5aca-46a5-b8f0-7a0109203f1d",
   "metadata": {},
   "outputs": [
    {
     "name": "stdin",
     "output_type": "stream",
     "text": [
      "Enter any number 7\n"
     ]
    },
    {
     "name": "stdout",
     "output_type": "stream",
     "text": [
      "2\n"
     ]
    }
   ],
   "source": [
    "def count(list,n):\n",
    "    count=0\n",
    "    for i in list:\n",
    "        if n==i:\n",
    "            count+=1\n",
    "    return count\n",
    "n=int(input(\"Enter any number\"))\n",
    "list=[2,3,4,2,5,6,7,7]\n",
    "print(count(list,n))"
   ]
  },
  {
   "cell_type": "raw",
   "id": "f04f691c-1dbf-474c-a2d4-72a15d1f50ee",
   "metadata": {},
   "source": [
    "*Q.List is optimal or not?\n",
    "    -Whenever we are creating the list for one item of a list for one item of a list two blocks of memory is created.\n",
    "    -So,the list is mutable not optimal.\n",
    "    -It is taking extra space inside memory.\n",
    "\n",
    "*Deletion Function\n",
    "  Del-deleting the list\n",
    "  Remove:Remove the items.\n",
    "      list.remove(x)\n",
    "      -It will remove x from the list\n",
    "  Pop: list.pop(index)-It is also delete the item\n",
    "     -It will remove the element from the list according to the index\n",
    "\n",
    "*membership operator (in,not in)\n",
    "*reverse=list.reverse()"
   ]
  },
  {
   "cell_type": "markdown",
   "id": "97579e3f-7eed-4bd9-91d2-d4f1fa6fe6b4",
   "metadata": {},
   "source": [
    "## @Deleting"
   ]
  },
  {
   "cell_type": "code",
   "execution_count": 64,
   "id": "d8e77431-570d-4bd1-ba2c-3b283c8286c3",
   "metadata": {},
   "outputs": [
    {
     "name": "stdout",
     "output_type": "stream",
     "text": [
      "<class 'list'>\n"
     ]
    }
   ],
   "source": [
    "list=[4,5,6,7,8,9,10]\n",
    "del list\n",
    "print(list)"
   ]
  },
  {
   "cell_type": "markdown",
   "id": "d612a63d-da1f-400d-957b-afab9a769249",
   "metadata": {},
   "source": [
    "## @Remove"
   ]
  },
  {
   "cell_type": "code",
   "execution_count": 68,
   "id": "387e2b6a-9eb9-4cad-875e-a9b75158f985",
   "metadata": {},
   "outputs": [
    {
     "name": "stdout",
     "output_type": "stream",
     "text": [
      "[5, 6, 7, 86, 92, 10]\n"
     ]
    }
   ],
   "source": [
    "list=[4,5,6,7,86,92,10]\n",
    "list.remove(4)\n",
    "print(list)"
   ]
  },
  {
   "cell_type": "code",
   "execution_count": 78,
   "id": "140a5cfe-7651-4b48-9df4-133143db9cea",
   "metadata": {},
   "outputs": [
    {
     "name": "stdin",
     "output_type": "stream",
     "text": [
      "Enter any number 4\n"
     ]
    },
    {
     "name": "stdout",
     "output_type": "stream",
     "text": [
      "[2, 4, 5, 6]\n"
     ]
    }
   ],
   "source": [
    "def delete(list,index=0):\n",
    "    for i in list:\n",
    "        if index==i:\n",
    "            list.pop(index)\n",
    "            continue\n",
    "        else:\n",
    "            index+1\n",
    "    return list\n",
    "index=int(input(\"Enter any number\"))\n",
    "list=[2,4,5,6,78]\n",
    "print(delete(list,index))"
   ]
  },
  {
   "cell_type": "code",
   "execution_count": 80,
   "id": "e7194fc8-1ef9-43d2-b7c2-6a99760d23c9",
   "metadata": {},
   "outputs": [],
   "source": [
    "list1=[2,4,3,6,68,72,80]\n",
    "list2=[]"
   ]
  },
  {
   "cell_type": "markdown",
   "id": "4a70d771-c4a3-48b5-8c19-39d0a4b54a95",
   "metadata": {},
   "source": [
    "# @Slicing"
   ]
  },
  {
   "cell_type": "raw",
   "id": "738bc097-d0fe-4afa-a80c-2ce8d49199cd",
   "metadata": {},
   "source": [
    "#Slicing:\n",
    "    -It is used to access the element in specific range\n",
    "    Syntax:\n",
    "        [start : End : Stepsize]\n",
    "    -Start value is optional\n",
    "    -If we are not define the start value by default it start from 0.\n",
    "    -Stepsize is also a optional, if it is not specifing by default it is 1.\n",
    "    -End is also a optional. if we don't specify the value it goes till the end of list.\n",
    "    -If stepsize is -1 it directly reversed the list.\n"
   ]
  },
  {
   "cell_type": "markdown",
   "id": "bef0a6d9-ef15-4fc0-bcd3-d6196a3386e4",
   "metadata": {},
   "source": [
    "# @Sorting"
   ]
  },
  {
   "cell_type": "raw",
   "id": "f36b2319-c5b1-48d6-aad3-5ee5a1bde041",
   "metadata": {},
   "source": [
    "*Sorting:\n",
    "    -Element are arrange in ascending or decending order.\n",
    "    There are 2 types of sorting:\n",
    "      1.Comparision based sorting:\n",
    "             We are comparing the element with each other and sorting\n",
    "      2.Non-comparision based sorting:\n",
    "             Without comparing the element with each other.\n",
    "\n",
    "   #Comparision Based Sort:\n",
    "      1.Bubble sort\n",
    "      2.Selection sort\n",
    "      3.Insertion sort\n",
    "      4.Merge sort\n",
    "      5.Quick sort\n",
    "      6.Swap sort\n",
    "\n",
    "    #Python internally used the time sort non-comparision based sort\n",
    "      1.Count sort\n",
    "      2.Radix sort\n",
    "\n",
    "    #Based on the memory the sorting are classified into 2 types:\n",
    "      1.In palace sort:\n",
    "           In case of in palace sorting we don't required any extra memory. space complexity is constant O(1)\n",
    "\n",
    "      2.Not in palace:\n",
    "            It is not happing in the main memory it will extra space from secondary memory"
   ]
  },
  {
   "cell_type": "markdown",
   "id": "b053404d-682a-4164-a8b8-2017d585deaf",
   "metadata": {},
   "source": [
    "## @WAP of Bubble Sort in iterative and recursive approach"
   ]
  },
  {
   "cell_type": "code",
   "execution_count": 83,
   "id": "d5ffa5ad-2f22-40da-b07d-937c936eed40",
   "metadata": {},
   "outputs": [
    {
     "name": "stdout",
     "output_type": "stream",
     "text": [
      "[12, 3, 4, 6, 8, 9, 2]\n",
      "[2, 3, 4, 6, 8, 9, 12]\n"
     ]
    }
   ],
   "source": [
    "def bubble_sort(list):\n",
    "    for i in range(0,len(list)-1):\n",
    "        for j in range(len(list)-1):\n",
    "            if list[j]>list[j+1]:\n",
    "                temp=list[j]\n",
    "                list[j]=list[j+1]\n",
    "                list[j+1]=temp\n",
    "                \n",
    "    return list       \n",
    "list=[12,3,4,6,8,9,2]\n",
    "print(list)\n",
    "sorted_list = bubble_sort(list)\n",
    "print(sorted_list)"
   ]
  },
  {
   "cell_type": "code",
   "execution_count": 85,
   "id": "cf614d56-5a92-480f-9448-557a60ec761f",
   "metadata": {},
   "outputs": [
    {
     "name": "stdout",
     "output_type": "stream",
     "text": [
      "[2, 5, 3, 0, 8, 9, 1, 6, 4, 7]\n",
      "[0, 1, 2, 3, 4, 5, 6, 7, 8, 9]\n"
     ]
    }
   ],
   "source": [
    "def recursion_bs (list,n):\n",
    "   if n==1:\n",
    "       return list\n",
    "   else:\n",
    "       for i in range(0,(n-1)):\n",
    "            if list[i]>list[i+1]:\n",
    "                temp=list[i]\n",
    "                list[i]=list[i+1]\n",
    "                list[i+1]=temp\n",
    "       return recursion_bs(list,(n-1))\n",
    "list=[2,5,3,0,8,9,1,6,4,7]\n",
    "print(list)\n",
    "n=len(list)\n",
    "sorted_list=recursion_bs(list,n)\n",
    "print(sorted_list)"
   ]
  },
  {
   "cell_type": "markdown",
   "id": "36d0c29e-865f-4e69-9100-945cf5514323",
   "metadata": {},
   "source": [
    "## @WAP of insertion and selection Sort in iterative and recursive approach"
   ]
  },
  {
   "cell_type": "code",
   "execution_count": 88,
   "id": "e2e81a53-e0e4-458d-b447-ccefd4b2bb8e",
   "metadata": {},
   "outputs": [
    {
     "name": "stdout",
     "output_type": "stream",
     "text": [
      "Original array: [12, 3, 4, 6, 8, 9, 2]\n",
      "Sorted array: [2, 3, 4, 6, 8, 9, 12]\n"
     ]
    }
   ],
   "source": [
    "def selection_sort(list):\n",
    "    for i in range(len(list)):\n",
    "        min_idx = i\n",
    "        for j in range(i+1, len(list)):\n",
    "            if list[j] < list[min_idx]:\n",
    "                min_idx = j\n",
    "        list[i], list[min_idx] = list[min_idx], list[i]\n",
    "\n",
    "\n",
    "list = [12,3,4,6,8,9,2]\n",
    "print(\"Original array:\", list)\n",
    "selection_sort(list)\n",
    "print(\"Sorted array:\", list)"
   ]
  },
  {
   "cell_type": "code",
   "execution_count": 90,
   "id": "f9faef9d-54ba-46cd-9a5d-98b4cab5c86d",
   "metadata": {},
   "outputs": [
    {
     "name": "stdout",
     "output_type": "stream",
     "text": [
      "Original array: [12, 3, 4, 6, 8, 9, 2]\n",
      "Sorted array: [2, 3, 4, 6, 8, 9, 12]\n"
     ]
    }
   ],
   "source": [
    "def selection_sort_recursive(list, index=0):\n",
    "    if index == len(list):\n",
    "        return\n",
    "    min_idx = index\n",
    "    for j in range(index + 1, len(list)):\n",
    "        if list[j] < list[min_idx]:\n",
    "            min_idx = j\n",
    "    list[index], list[min_idx] = list[min_idx], list[index]\n",
    "    selection_sort_recursive(list, index + 1)\n",
    "\n",
    "list = [12,3,4,6,8,9,2]\n",
    "print(\"Original array:\", list)\n",
    "selection_sort_recursive(list)\n",
    "print(\"Sorted array:\", list)"
   ]
  },
  {
   "cell_type": "markdown",
   "id": "3f15de78-afbe-4747-9d67-dd46370def3e",
   "metadata": {},
   "source": [
    "# @WAP of merge sort in iterative and recursive approach"
   ]
  },
  {
   "cell_type": "code",
   "execution_count": 3,
   "id": "e8d187ab-4193-4a85-9bad-0e422b1bb5a0",
   "metadata": {},
   "outputs": [
    {
     "name": "stdout",
     "output_type": "stream",
     "text": [
      "Original list: [38, 27, 43, 3, 9, 82, 10]\n",
      "Sorted list: [3, 9, 10, 27, 38, 43, 82]\n"
     ]
    }
   ],
   "source": [
    "def merge_sort_iterative(list):\n",
    "    n = len(list)\n",
    "    sublist_size = 1\n",
    "    while sublist_size < n:\n",
    "        for start in range(0, n, 2 * sublist_size):\n",
    "            mid = min(start + sublist_size - 1, n - 1)\n",
    "            end = min(start + 2 * sublist_size - 1, n - 1)\n",
    "            merge(list, start, mid, end)\n",
    "        sublist_size *= 2\n",
    "\n",
    "def merge(list, start, mid, end):\n",
    "    left = list[start:mid + 1]\n",
    "    right = list[mid + 1:end + 1]\n",
    "    i = 0 \n",
    "    j = 0\n",
    "    k = start \n",
    "    while i < len(left) and j < len(right):\n",
    "        if left[i] <= right[j]:\n",
    "            list[k] = left[i]\n",
    "            i += 1\n",
    "        else:\n",
    "            list[k] = right[j]\n",
    "            j += 1\n",
    "        k += 1\n",
    "    \n",
    "    while i < len(left):\n",
    "        list[k] = left[i]\n",
    "        i += 1\n",
    "        k += 1\n",
    "    while j < len(right):\n",
    "        list[k] = right[j]\n",
    "        j += 1\n",
    "        k += 1\n",
    "list= [38, 27, 43, 3, 9, 82, 10]\n",
    "print(\"Original list:\", list)\n",
    "merge_sort_iterative(list)\n",
    "print(\"Sorted list:\", list)\n"
   ]
  },
  {
   "cell_type": "markdown",
   "id": "77221f10-8c37-4d44-873c-3cdd8b8a2b7a",
   "metadata": {},
   "source": [
    "# Important question in interview"
   ]
  },
  {
   "cell_type": "markdown",
   "id": "594ad2b7-6bd6-41f8-b650-35a4caabee30",
   "metadata": {},
   "source": [
    "# @Find the median of list"
   ]
  },
  {
   "cell_type": "code",
   "execution_count": 13,
   "id": "233331fd-9885-433d-aaf6-3611ea8a399f",
   "metadata": {},
   "outputs": [
    {
     "name": "stdout",
     "output_type": "stream",
     "text": [
      "9.5\n"
     ]
    }
   ],
   "source": [
    "def median(list1, list2):\n",
    "    combined = sorted(list1 + list2)\n",
    "    n = len(combined)\n",
    "    if n % 2 == 0:\n",
    "        mid = (combined[n // 2 - 1] + combined[n // 2]) / 2\n",
    "    else:\n",
    "        mid = combined[n // 2]\n",
    "    return mid\n",
    "list1 = [2, 5, 7, 8, 9]\n",
    "list2 = [10, 12, 14, 20, 30]\n",
    "print(median(list1, list2))"
   ]
  },
  {
   "cell_type": "markdown",
   "id": "34d03139-b658-4c0f-b553-77189643ec5a",
   "metadata": {},
   "source": [
    "# @ Rotation the element in the list"
   ]
  },
  {
   "cell_type": "code",
   "execution_count": 9,
   "id": "41fb49de-ba99-4ce3-acc4-ff63ac135e27",
   "metadata": {},
   "outputs": [
    {
     "name": "stdin",
     "output_type": "stream",
     "text": [
      "Enter any number 2\n"
     ]
    },
    {
     "name": "stdout",
     "output_type": "stream",
     "text": [
      "[3, 4, 5, 6, 1, 2]\n"
     ]
    }
   ],
   "source": [
    "def rotate_left(list, k):\n",
    "    k %= len(list)\n",
    "    return list[k:] + list[:k]\n",
    "k=int(input(\"Enter any number\"))\n",
    "list=[1,2,3,4,5,6]\n",
    "print(rotate_left(list,k))"
   ]
  },
  {
   "cell_type": "code",
   "execution_count": 15,
   "id": "94cb2394-6a7f-478a-b438-a4539f21b882",
   "metadata": {},
   "outputs": [
    {
     "name": "stdout",
     "output_type": "stream",
     "text": [
      "duplicate element=  2\n",
      "False\n"
     ]
    }
   ],
   "source": [
    "def conjugate(list):\n",
    "    for i in list:\n",
    "        if list[i]==list[i]+1:\n",
    "            i+=1\n",
    "        else:\n",
    "            print(\"duplicate element= \",list[i])\n",
    "            return list[i]==list[i+1]\n",
    "            print(\"Missing element=\",list[i])\n",
    "\n",
    "list=[1,2,3,3,5,6]\n",
    "print(conjugate(list))"
   ]
  },
  {
   "cell_type": "code",
   "execution_count": 17,
   "id": "5870a839-1855-407b-b581-5450f4be722f",
   "metadata": {},
   "outputs": [],
   "source": [
    "def DuplicateAndMissing(list):\n",
    "    \n",
    "    duplicate = -1\n",
    "    missing = -1\n",
    "    \n",
    "    for i in list:\n",
    "        index = abs(i) - 1\n",
    "        \n",
    "        if list[index] < 0:\n",
    "            duplicate = abs(i)\n",
    "        else:\n",
    "            list[index] = -list[index]\n",
    "\n",
    "    for i in range(len(list)):\n",
    "        if list[i] > 0:\n",
    "            missing = i + 1\n",
    "            break\n",
    "    \n",
    "    return duplicate, missing"
   ]
  },
  {
   "cell_type": "code",
   "execution_count": 21,
   "id": "893bee8f-1816-4140-be51-e5c9e7ed9837",
   "metadata": {},
   "outputs": [
    {
     "name": "stdin",
     "output_type": "stream",
     "text": [
      "Enter any number 3\n"
     ]
    },
    {
     "name": "stdout",
     "output_type": "stream",
     "text": [
      "7\n"
     ]
    }
   ],
   "source": [
    "def kth_smallest_index(list, k):\n",
    "   \n",
    "    sorted_list = sorted(list)\n",
    "    return sorted_list[k]\n",
    "list = [10, 3, 5, 2, 8, 7]\n",
    "k = int(input(\"Enter any number\"))\n",
    "print(kth_smallest_index(list, k))"
   ]
  },
  {
   "cell_type": "markdown",
   "id": "a0c682ff-e9bd-4f17-9c61-a8512f6bfb43",
   "metadata": {},
   "source": [
    "# @WAP of Negative number multiplication"
   ]
  },
  {
   "cell_type": "code",
   "execution_count": 23,
   "id": "d612a885-4670-4a0d-b9b4-da099cfa2433",
   "metadata": {},
   "outputs": [
    {
     "name": "stdin",
     "output_type": "stream",
     "text": [
      "Enter first number -6\n",
      "Enter second number 4\n"
     ]
    },
    {
     "name": "stdout",
     "output_type": "stream",
     "text": [
      "-24\n"
     ]
    }
   ],
   "source": [
    "def multiplication(a,b):\n",
    "    if b==0:\n",
    "        return 0\n",
    "    elif b>0:\n",
    "        return a+multiplication(a,(b-1))\n",
    "    else:\n",
    "        return -multiplication(a,-b)\n",
    "a=int(input(\"Enter first number\"))\n",
    "b=int(input(\"Enter second number\"))\n",
    "print(multiplication(a,b))"
   ]
  },
  {
   "cell_type": "code",
   "execution_count": 28,
   "id": "43fe189e-6bd6-4c51-857b-fb41c2d32b35",
   "metadata": {},
   "outputs": [
    {
     "name": "stdout",
     "output_type": "stream",
     "text": [
      "[]\n"
     ]
    }
   ],
   "source": [
    "list=[]\n",
    "print(sorted(list))"
   ]
  },
  {
   "cell_type": "code",
   "execution_count": 30,
   "id": "107d489a-1ff3-44a1-937d-f5d452fd9dce",
   "metadata": {},
   "outputs": [
    {
     "name": "stdout",
     "output_type": "stream",
     "text": [
      "[]\n"
     ]
    }
   ],
   "source": [
    "print(sorted(list,reverse=True))"
   ]
  },
  {
   "cell_type": "code",
   "execution_count": 32,
   "id": "587354be-986c-4e79-9128-1b3cc1f2190c",
   "metadata": {},
   "outputs": [
    {
     "name": "stdout",
     "output_type": "stream",
     "text": [
      "[2, 13, 20, 40, 65]\n"
     ]
    }
   ],
   "source": [
    "list=[2,13,20,40,65]\n",
    "new_list=list.copy()\n",
    "print(new_list)"
   ]
  },
  {
   "cell_type": "code",
   "execution_count": 48,
   "id": "f91388d7-9571-4268-a760-e147aebe34d9",
   "metadata": {},
   "outputs": [
    {
     "name": "stdout",
     "output_type": "stream",
     "text": [
      "[]\n"
     ]
    }
   ],
   "source": [
    "def copyelement(list1,list2):\n",
    "    for i in list1: \n",
    "        list2.append(i)\n",
    "list1=[2,4,6,8,12]\n",
    "list2=[]\n",
    "print(list2)"
   ]
  },
  {
   "cell_type": "code",
   "execution_count": 40,
   "id": "df394319-2cc6-4f94-9881-9ef6db31aeb8",
   "metadata": {},
   "outputs": [
    {
     "name": "stdout",
     "output_type": "stream",
     "text": [
      "True\n"
     ]
    }
   ],
   "source": [
    "#it is returning True when any non zero element is present in the list\n",
    "list=[2,13,20,40,65,0]\n",
    "print(any(list))"
   ]
  },
  {
   "cell_type": "code",
   "execution_count": 42,
   "id": "abf4a955-b919-4471-a1ee-d5b044f606fc",
   "metadata": {},
   "outputs": [
    {
     "name": "stdout",
     "output_type": "stream",
     "text": [
      "False\n"
     ]
    }
   ],
   "source": [
    "def element(list,index=0):\n",
    "    d=False\n",
    "    for i in list:\n",
    "        if list[index]==0:\n",
    "            return True\n",
    "    return False\n",
    "    \n",
    "list=[2,13,20,40,65,0]\n",
    "print(element(list))"
   ]
  },
  {
   "cell_type": "code",
   "execution_count": 44,
   "id": "06e402ef-dc84-4117-bc5e-b5264e9040de",
   "metadata": {},
   "outputs": [
    {
     "name": "stdout",
     "output_type": "stream",
     "text": [
      "True\n"
     ]
    }
   ],
   "source": [
    "print(all(list1))"
   ]
  },
  {
   "cell_type": "code",
   "execution_count": 46,
   "id": "6df26586-5a0b-4412-a852-c8688850b889",
   "metadata": {},
   "outputs": [
    {
     "name": "stdout",
     "output_type": "stream",
     "text": [
      "[1, 4, 9, 16, 25]\n"
     ]
    }
   ],
   "source": [
    "list=[1,2,3,4,5]\n",
    "list2=[]\n",
    "for i in list:\n",
    "    list2.append(i**2)\n",
    "print(list2)"
   ]
  },
  {
   "cell_type": "code",
   "execution_count": 50,
   "id": "a9166f9a-b07e-4a54-a65c-2c3813668b46",
   "metadata": {},
   "outputs": [],
   "source": [
    "list=[1,2,3,4,5]"
   ]
  },
  {
   "cell_type": "code",
   "execution_count": 52,
   "id": "32c5eb67-b334-4d9e-b8e1-1ad864806981",
   "metadata": {},
   "outputs": [
    {
     "name": "stdout",
     "output_type": "stream",
     "text": [
      "[1, 4, 9, 16, 25]\n"
     ]
    }
   ],
   "source": [
    "list=[i**2 for i in list]\n",
    "print(list)"
   ]
  },
  {
   "cell_type": "code",
   "execution_count": 54,
   "id": "6a85a262-bf7e-4d2f-b7e6-bcbaf5c72636",
   "metadata": {},
   "outputs": [
    {
     "name": "stdout",
     "output_type": "stream",
     "text": [
      "[False, True, False, True, False, True, False, True, False, True]\n"
     ]
    }
   ],
   "source": [
    "list=[1,2,3,4,5,6,7,8,9,10]\n",
    "list=[i%2==0 for i in list]\n",
    "print(list)"
   ]
  },
  {
   "cell_type": "code",
   "execution_count": 56,
   "id": "d3526766-6da8-424b-9d80-683a8dcd52c7",
   "metadata": {},
   "outputs": [
    {
     "name": "stdout",
     "output_type": "stream",
     "text": [
      "The first ten even numbers are: [2, 4, 6, 8, 10, 12, 14, 16, 18, 20]\n"
     ]
    }
   ],
   "source": [
    "numbers = [1, 2, 3, 4, 5, 6, 7, 8, 9, 10, 11, 12, 13, 14, 15, 16, 17, 18, 19, 20]\n",
    "first_ten_evens = [num for num in numbers if num % 2 == 0][:10]\n",
    "print(\"The first ten even numbers are:\", first_ten_evens)"
   ]
  },
  {
   "cell_type": "code",
   "execution_count": 58,
   "id": "2a740581-f00e-4af3-9a17-eb8e192e6791",
   "metadata": {},
   "outputs": [
    {
     "name": "stdout",
     "output_type": "stream",
     "text": [
      "The first ten odd numbers are: [1, 3, 5, 7, 9, 11, 13, 15, 17, 19]\n"
     ]
    }
   ],
   "source": [
    "numbers = [1, 2, 3, 4, 5, 6, 7, 8, 9, 10, 11, 12, 13, 14, 15, 16, 17, 18, 19, 20]\n",
    "first_ten_odds = [num for num in numbers if num % 2 != 0][:10]\n",
    "print(\"The first ten odd numbers are:\", first_ten_odds)"
   ]
  },
  {
   "cell_type": "code",
   "execution_count": 60,
   "id": "f3f619e4-fe86-4488-b30c-26e200416740",
   "metadata": {},
   "outputs": [
    {
     "data": {
      "text/plain": [
       "[5, 7, 12, 66]"
      ]
     },
     "execution_count": 60,
     "metadata": {},
     "output_type": "execute_result"
    }
   ],
   "source": [
    "list=[3.4,5,6.5,7,12,66]\n",
    "ans=[i for i in list if i==int(i)]\n",
    "ans"
   ]
  },
  {
   "cell_type": "code",
   "execution_count": 62,
   "id": "08643919-2ca0-4350-b0c4-7b270cc04a30",
   "metadata": {},
   "outputs": [
    {
     "name": "stdout",
     "output_type": "stream",
     "text": [
      "Numbers divisible by 7 from 1 to 1000 are: [7, 14, 21, 28, 35, 42, 49, 56, 63, 70, 77, 84, 91, 98, 105, 112, 119, 126, 133, 140, 147, 154, 161, 168, 175, 182, 189, 196, 203, 210, 217, 224, 231, 238, 245, 252, 259, 266, 273, 280, 287, 294, 301, 308, 315, 322, 329, 336, 343, 350, 357, 364, 371, 378, 385, 392, 399, 406, 413, 420, 427, 434, 441, 448, 455, 462, 469, 476, 483, 490, 497, 504, 511, 518, 525, 532, 539, 546, 553, 560, 567, 574, 581, 588, 595, 602, 609, 616, 623, 630, 637, 644, 651, 658, 665, 672, 679, 686, 693, 700, 707, 714, 721, 728, 735, 742, 749, 756, 763, 770, 777, 784, 791, 798, 805, 812, 819, 826, 833, 840, 847, 854, 861, 868, 875, 882, 889, 896, 903, 910, 917, 924, 931, 938, 945, 952, 959, 966, 973, 980, 987, 994]\n"
     ]
    }
   ],
   "source": [
    "divisible_by_seven = [num for num in range(1, 1001) if num % 7 == 0]\n",
    "print(\"Numbers divisible by 7 from 1 to 1000 are:\", divisible_by_seven)"
   ]
  },
  {
   "cell_type": "markdown",
   "id": "f8193397-185f-4916-898b-c7062f03a632",
   "metadata": {},
   "source": [
    "# @Nested list"
   ]
  },
  {
   "cell_type": "code",
   "execution_count": 47,
   "id": "fc9e759f-e9af-4d05-af6e-7d9810e7c7f8",
   "metadata": {},
   "outputs": [
    {
     "name": "stdout",
     "output_type": "stream",
     "text": [
      "[[1, 2, 3], [4, 5], [6, 7, 8, 9, 10], [10, 11]]\n"
     ]
    }
   ],
   "source": [
    "# Nested list.\n",
    "list = [[1, 2, 3], [4, 5], [6, 7, 8, 9, 10], [10, 11]]\n",
    "print(list)"
   ]
  },
  {
   "cell_type": "code",
   "execution_count": 49,
   "id": "a1517816-f444-407d-92e4-2c8e41336fa1",
   "metadata": {},
   "outputs": [
    {
     "name": "stdout",
     "output_type": "stream",
     "text": [
      "1\n",
      "2\n",
      "3\n",
      "4\n",
      "5\n",
      "6\n",
      "7\n",
      "8\n",
      "9\n",
      "10\n",
      "10\n",
      "11\n"
     ]
    }
   ],
   "source": [
    "for inner_list in list:\n",
    "    for i in inner_list:\n",
    "        print(i)"
   ]
  },
  {
   "cell_type": "code",
   "execution_count": 51,
   "id": "9bfffafe-09c9-4abe-b3d2-48fe14e0e591",
   "metadata": {},
   "outputs": [
    {
     "name": "stdout",
     "output_type": "stream",
     "text": [
      "Combined dictionary: {31: 1, 45: 1, 67: 1, 89: 1, 90: 2, 100: 1, 12: 1, 34: 1, 56: 1, 78: 1, 101: 1, 102: 1, 103: 1}\n",
      "same element of the list is:  {90: 2}\n"
     ]
    }
   ],
   "source": [
    "#find the number of list repeated itself and common elements in both the list\n",
    "list1 = [31, 45, 67, 89, 90, 100]\n",
    "list2 = [12, 34, 56, 78, 90, 101, 102, 103]\n",
    "combined_dict = {}\n",
    "\n",
    "for item in list1 + list2:\n",
    "    combined_dict[item] = combined_dict.get(item, 0) + 1\n",
    "print(\"Combined dictionary:\", combined_dict)\n",
    "\n",
    "same_elements = {key: value for key, value in combined_dict.items() if value > 1}\n",
    "print(\"same element of the list is: \",same_elements)"
   ]
  },
  {
   "cell_type": "markdown",
   "id": "5aba33d5-044a-4773-9104-cda70e066ba2",
   "metadata": {},
   "source": [
    "# @Tuple"
   ]
  },
  {
   "cell_type": "raw",
   "id": "46940d68-c1e1-4d15-a734-d993f6e5f771",
   "metadata": {},
   "source": [
    "@ Tuple:\n",
    "   - inbuilt data structure in python\n",
    "   - It is also a linear data structure\n",
    "   - It is also a collection of heterogenous.\n",
    " \n",
    "  SYNTAX:\n",
    "     tuple_name=(item1,item2,------)\n",
    "       -each element is separated by comma(,)\n",
    "       - To access the tuple element we required a index\n",
    "       - we can access tuple elements on O(1) time\n",
    "       - we can not change the content of the tuple once it is created  because tuple are immutable\n",
    "       - tuple are fixed size while list are the variable size"
   ]
  },
  {
   "cell_type": "code",
   "execution_count": 66,
   "id": "eb820e0c-2856-4a96-8b40-cda811e6c7d4",
   "metadata": {},
   "outputs": [
    {
     "data": {
      "text/plain": [
       "()"
      ]
     },
     "execution_count": 66,
     "metadata": {},
     "output_type": "execute_result"
    }
   ],
   "source": [
    "#empty tuple\n",
    "t=()\n",
    "t"
   ]
  },
  {
   "cell_type": "code",
   "execution_count": 68,
   "id": "19adbc9b-5071-4aca-a230-17ad11626ea4",
   "metadata": {},
   "outputs": [
    {
     "data": {
      "text/plain": [
       "tuple"
      ]
     },
     "execution_count": 68,
     "metadata": {},
     "output_type": "execute_result"
    }
   ],
   "source": [
    "type(t)"
   ]
  },
  {
   "cell_type": "code",
   "execution_count": 70,
   "id": "2b57fc76-fdd5-4029-8b52-746e9e43f078",
   "metadata": {},
   "outputs": [
    {
     "data": {
      "text/plain": [
       "(1, 2, 3, 4, 5)"
      ]
     },
     "execution_count": 70,
     "metadata": {},
     "output_type": "execute_result"
    }
   ],
   "source": [
    "#Creating tuple for integer\n",
    "t1=(1,2,3,4,5)\n",
    "t1"
   ]
  },
  {
   "cell_type": "code",
   "execution_count": 72,
   "id": "86b5cc79-c6b5-4324-ab29-6ce80c0461a5",
   "metadata": {},
   "outputs": [
    {
     "data": {
      "text/plain": [
       "(1.2, 3.2, 5, 4, 6, 2)"
      ]
     },
     "execution_count": 72,
     "metadata": {},
     "output_type": "execute_result"
    }
   ],
   "source": [
    "#Creating tuple for float\n",
    "t2=(1.2,3.2,5,4,6,2)\n",
    "t2"
   ]
  },
  {
   "cell_type": "code",
   "execution_count": 74,
   "id": "1cfaff44-ff73-433f-a648-361fe38e2e2c",
   "metadata": {},
   "outputs": [
    {
     "data": {
      "text/plain": [
       "42"
      ]
     },
     "execution_count": 74,
     "metadata": {},
     "output_type": "execute_result"
    }
   ],
   "source": [
    "t=(34,42,56,76)\n",
    "t[1]"
   ]
  },
  {
   "cell_type": "code",
   "execution_count": 76,
   "id": "0bb61e6a-473d-4836-ada3-4c555793198e",
   "metadata": {},
   "outputs": [
    {
     "data": {
      "text/plain": [
       "76"
      ]
     },
     "execution_count": 76,
     "metadata": {},
     "output_type": "execute_result"
    }
   ],
   "source": [
    "t[-1]"
   ]
  },
  {
   "cell_type": "code",
   "execution_count": 78,
   "id": "fc679575-e7ac-4983-b652-d28f770fb7d6",
   "metadata": {},
   "outputs": [
    {
     "data": {
      "text/plain": [
       "2"
      ]
     },
     "execution_count": 78,
     "metadata": {},
     "output_type": "execute_result"
    }
   ],
   "source": [
    "t=(1,2,3,4,5,6)\n",
    "t[1]"
   ]
  },
  {
   "cell_type": "code",
   "execution_count": 80,
   "id": "f03b879a-ec97-42e3-bc0d-5208d8d25d76",
   "metadata": {},
   "outputs": [
    {
     "data": {
      "text/plain": [
       "'kiran'"
      ]
     },
     "execution_count": 80,
     "metadata": {},
     "output_type": "execute_result"
    }
   ],
   "source": [
    "t=(12,34,[23,35,67],(\"kiran\",\"magare\"))\n",
    "t[3][0]"
   ]
  },
  {
   "cell_type": "code",
   "execution_count": 82,
   "id": "63262d6a-f156-4cfa-9777-d04c6d841b13",
   "metadata": {},
   "outputs": [],
   "source": [
    "t[2][0]=2000"
   ]
  },
  {
   "cell_type": "code",
   "execution_count": 84,
   "id": "2708dce3-b712-4f54-b6b4-971bc57da2b8",
   "metadata": {},
   "outputs": [
    {
     "data": {
      "text/plain": [
       "(12, 34, [2000, 35, 67], ('kiran', 'magare'))"
      ]
     },
     "execution_count": 84,
     "metadata": {},
     "output_type": "execute_result"
    }
   ],
   "source": [
    "t"
   ]
  },
  {
   "cell_type": "code",
   "execution_count": 88,
   "id": "631790ff-3448-46d0-aacc-598b478f1a1a",
   "metadata": {},
   "outputs": [
    {
     "data": {
      "text/plain": [
       "(1, 2, 3, 4, 5, 6, 7, 8, 9, 10)"
      ]
     },
     "execution_count": 88,
     "metadata": {},
     "output_type": "execute_result"
    }
   ],
   "source": [
    "t1=(1,2,3,4,5)\n",
    "t2=(6,7,8,9,10)\n",
    "t1+t2"
   ]
  },
  {
   "cell_type": "code",
   "execution_count": 90,
   "id": "88adeb54-c6d4-4747-af43-706e3db7f511",
   "metadata": {},
   "outputs": [
    {
     "data": {
      "text/plain": [
       "('kiran', 'hi', 'how', 1, 2, 3, 4, 5)"
      ]
     },
     "execution_count": 90,
     "metadata": {},
     "output_type": "execute_result"
    }
   ],
   "source": [
    "t1=(\"kiran\",\"hi\",\"how\")\n",
    "t2=(1,2,3,4,5)\n",
    "t1+t2"
   ]
  },
  {
   "cell_type": "code",
   "execution_count": 92,
   "id": "bd0c17dd-0b3b-482e-883a-982866e4fd93",
   "metadata": {},
   "outputs": [
    {
     "data": {
      "text/plain": [
       "['kiran', 'hi', 'how', 1, 2, 3, 4, 5]"
      ]
     },
     "execution_count": 92,
     "metadata": {},
     "output_type": "execute_result"
    }
   ],
   "source": [
    "list1=[\"kiran\",\"hi\",\"how\"]\n",
    "list2=[1,2,3,4,5]\n",
    "list1+list2"
   ]
  },
  {
   "cell_type": "code",
   "execution_count": 96,
   "id": "dadcf5c0-f176-47b2-b366-a010460e1104",
   "metadata": {},
   "outputs": [
    {
     "data": {
      "text/plain": [
       "(1, 2, 3, 4, 5, 56, 78, 90, 23)"
      ]
     },
     "execution_count": 96,
     "metadata": {},
     "output_type": "execute_result"
    }
   ],
   "source": [
    "t1=(1,2,3,4,5)\n",
    "t2=(56,78,90,23)\n",
    "t3=t1+t2\n",
    "t3"
   ]
  },
  {
   "cell_type": "code",
   "execution_count": 98,
   "id": "f6f31a13-6990-4bdd-9ddd-7740a3cf3df3",
   "metadata": {},
   "outputs": [
    {
     "data": {
      "text/plain": [
       "('kiran', 'kiran', 'kiran', 'kiran', 'kiran')"
      ]
     },
     "execution_count": 98,
     "metadata": {},
     "output_type": "execute_result"
    }
   ],
   "source": [
    "t=((\"kiran\",)*5)\n",
    "t"
   ]
  },
  {
   "cell_type": "code",
   "execution_count": 100,
   "id": "548f221c-7c46-4083-b64e-90a30baa8050",
   "metadata": {},
   "outputs": [],
   "source": [
    "t=(1,2,3,4,5,5,6,7)"
   ]
  },
  {
   "cell_type": "code",
   "execution_count": 102,
   "id": "f027e98a-f89e-4dfa-95a9-5330c4445b70",
   "metadata": {},
   "outputs": [
    {
     "data": {
      "text/plain": [
       "2"
      ]
     },
     "execution_count": 102,
     "metadata": {},
     "output_type": "execute_result"
    }
   ],
   "source": [
    "t.count(5)"
   ]
  },
  {
   "cell_type": "code",
   "execution_count": 104,
   "id": "812878d8-b736-43b4-9cb8-095a6f0110d5",
   "metadata": {},
   "outputs": [
    {
     "data": {
      "text/plain": [
       "3"
      ]
     },
     "execution_count": 104,
     "metadata": {},
     "output_type": "execute_result"
    }
   ],
   "source": [
    "t.index(4)"
   ]
  },
  {
   "cell_type": "code",
   "execution_count": 106,
   "id": "dedd7d93-5c42-44ca-b02a-93f3aa3e2269",
   "metadata": {},
   "outputs": [
    {
     "name": "stdout",
     "output_type": "stream",
     "text": [
      "True\n"
     ]
    }
   ],
   "source": [
    "print(4 in t)"
   ]
  },
  {
   "cell_type": "code",
   "execution_count": 108,
   "id": "a7bf74db-49e4-4718-ab47-6fe5881d5d32",
   "metadata": {},
   "outputs": [
    {
     "data": {
      "text/plain": [
       "8"
      ]
     },
     "execution_count": 108,
     "metadata": {},
     "output_type": "execute_result"
    }
   ],
   "source": [
    "len(t)"
   ]
  },
  {
   "cell_type": "code",
   "execution_count": 110,
   "id": "2f45c8b1-6f68-4adf-aae8-857394bafb3c",
   "metadata": {},
   "outputs": [
    {
     "data": {
      "text/plain": [
       "[1, 2, 6, 9, 13, 23, 44, 45]"
      ]
     },
     "execution_count": 110,
     "metadata": {},
     "output_type": "execute_result"
    }
   ],
   "source": [
    "t=(2,45,1,9,23,13,44,6)\n",
    "new_t=sorted(t)\n",
    "new_t"
   ]
  },
  {
   "cell_type": "code",
   "execution_count": 112,
   "id": "7ca0e13a-9636-4dee-8eae-476de59c9fed",
   "metadata": {},
   "outputs": [
    {
     "data": {
      "text/plain": [
       "list"
      ]
     },
     "execution_count": 112,
     "metadata": {},
     "output_type": "execute_result"
    }
   ],
   "source": [
    "type(new_t)"
   ]
  },
  {
   "cell_type": "code",
   "execution_count": 114,
   "id": "85f0674b-3e6c-490b-a95e-bc8f4606d478",
   "metadata": {},
   "outputs": [],
   "source": [
    "t=(45,1,23,19,78,90)"
   ]
  },
  {
   "cell_type": "code",
   "execution_count": 116,
   "id": "f7bb31a5-bc81-4998-8311-a37def91fd16",
   "metadata": {},
   "outputs": [
    {
     "data": {
      "text/plain": [
       "1"
      ]
     },
     "execution_count": 116,
     "metadata": {},
     "output_type": "execute_result"
    }
   ],
   "source": [
    "min(t)"
   ]
  },
  {
   "cell_type": "code",
   "execution_count": 118,
   "id": "c336b219-d765-4857-a245-5fdca7287f72",
   "metadata": {},
   "outputs": [
    {
     "data": {
      "text/plain": [
       "90"
      ]
     },
     "execution_count": 118,
     "metadata": {},
     "output_type": "execute_result"
    }
   ],
   "source": [
    "max(t)"
   ]
  },
  {
   "cell_type": "code",
   "execution_count": 120,
   "id": "c642e590-ceb6-4a03-9ca5-eea90f6317b9",
   "metadata": {},
   "outputs": [
    {
     "data": {
      "text/plain": [
       "256"
      ]
     },
     "execution_count": 120,
     "metadata": {},
     "output_type": "execute_result"
    }
   ],
   "source": [
    "sum(t)"
   ]
  },
  {
   "cell_type": "code",
   "execution_count": 122,
   "id": "307d74ef-3d5d-4995-a035-27be49cdef25",
   "metadata": {},
   "outputs": [
    {
     "data": {
      "text/plain": [
       "True"
      ]
     },
     "execution_count": 122,
     "metadata": {},
     "output_type": "execute_result"
    }
   ],
   "source": [
    "any(t)"
   ]
  },
  {
   "cell_type": "code",
   "execution_count": 124,
   "id": "6ffd7a50-1b22-4a35-ba7d-53931c8d077d",
   "metadata": {},
   "outputs": [
    {
     "data": {
      "text/plain": [
       "True"
      ]
     },
     "execution_count": 124,
     "metadata": {},
     "output_type": "execute_result"
    }
   ],
   "source": [
    "all(t)"
   ]
  },
  {
   "cell_type": "code",
   "execution_count": 130,
   "id": "e727ce82-0b5a-4a22-bb92-65052b70bc08",
   "metadata": {},
   "outputs": [
    {
     "data": {
      "text/plain": [
       "(90, 78, 19, 23, 1, 45)"
      ]
     },
     "execution_count": 130,
     "metadata": {},
     "output_type": "execute_result"
    }
   ],
   "source": [
    "new_t=tuple(reversed(t))\n",
    "new_t"
   ]
  },
  {
   "cell_type": "markdown",
   "id": "b0f427a5-bf3b-41f7-9dfb-ebf037cd3f9f",
   "metadata": {},
   "source": [
    "# @Sets"
   ]
  },
  {
   "cell_type": "raw",
   "id": "19d6a103-5404-43cf-bf2c-46f06b616ea4",
   "metadata": {},
   "source": [
    "@ SETS:\n",
    "\n",
    "   - inbuilt data structure in python\n",
    "   - It is linear data structure\n",
    "   - set collection  of all well defined  object\n",
    "   - It is unordered(there is no order fixed for the elements)\n",
    "   - set will contains a unique values \n",
    "   - it wont allow the duplicate\n",
    "\n",
    "\n",
    "   syntax:\n",
    "       s={item1,item2,--------------}\n",
    "   - Each item is separated by comma(,)\n",
    "   - we can't access the set elements with the help of index because set is unordered\n",
    "   - sets are mutable we can change the content of set\n",
    "\n",
    "  * Sets Operations:\n",
    "    1. Union\n",
    "    2. intersection\n",
    "    3. sets difference\n",
    "    4. symmetric difference\n"
   ]
  },
  {
   "cell_type": "code",
   "execution_count": 133,
   "id": "63547437-6504-4d68-b72d-fd0822ff3285",
   "metadata": {},
   "outputs": [],
   "source": [
    "# creating a empty set\n",
    "s=set()"
   ]
  },
  {
   "cell_type": "code",
   "execution_count": 135,
   "id": "5cff42f1-f72a-4dfb-a8d5-43cd096fc084",
   "metadata": {},
   "outputs": [
    {
     "data": {
      "text/plain": [
       "set"
      ]
     },
     "execution_count": 135,
     "metadata": {},
     "output_type": "execute_result"
    }
   ],
   "source": [
    "type(s)"
   ]
  },
  {
   "cell_type": "code",
   "execution_count": 137,
   "id": "2c2f37a9-0879-4f81-b735-73e93798cce8",
   "metadata": {},
   "outputs": [
    {
     "data": {
      "text/plain": [
       "{1, 2, 3, 4, 5}"
      ]
     },
     "execution_count": 137,
     "metadata": {},
     "output_type": "execute_result"
    }
   ],
   "source": [
    "s={1,2,3,4,5}\n",
    "s"
   ]
  },
  {
   "cell_type": "code",
   "execution_count": 139,
   "id": "45dabd79-95d0-4217-b811-ecc34a3fcc06",
   "metadata": {},
   "outputs": [
    {
     "data": {
      "text/plain": [
       "{1, 2, 3, 4, 5, 100}"
      ]
     },
     "execution_count": 139,
     "metadata": {},
     "output_type": "execute_result"
    }
   ],
   "source": [
    "s={1,2,3,4,5}\n",
    "s.add(100)\n",
    "s"
   ]
  },
  {
   "cell_type": "code",
   "execution_count": 141,
   "id": "c0c88e1b-e046-437c-a447-57d487f40544",
   "metadata": {},
   "outputs": [
    {
     "data": {
      "text/plain": [
       "{1, 2, 3, 45, 100}"
      ]
     },
     "execution_count": 141,
     "metadata": {},
     "output_type": "execute_result"
    }
   ],
   "source": [
    "s={1,2,3,45,100,1,3}\n",
    "s"
   ]
  },
  {
   "cell_type": "code",
   "execution_count": 143,
   "id": "77352d2c-cddc-463b-95f9-6ca6a242b417",
   "metadata": {},
   "outputs": [
    {
     "data": {
      "text/plain": [
       "{1, 2, 3, 4, 5}"
      ]
     },
     "execution_count": 143,
     "metadata": {},
     "output_type": "execute_result"
    }
   ],
   "source": [
    "l=[1,2,3,4,5]\n",
    "s=set(l)\n",
    "s"
   ]
  },
  {
   "cell_type": "code",
   "execution_count": 145,
   "id": "84f6eef4-ecbf-4529-8f5b-f4ceff00f1ca",
   "metadata": {},
   "outputs": [
    {
     "data": {
      "text/plain": [
       "{1, 2, 3, 4, 5, 23, 45, 60}"
      ]
     },
     "execution_count": 145,
     "metadata": {},
     "output_type": "execute_result"
    }
   ],
   "source": [
    "s={1,2,3,4,5}\n",
    "s.update([23,45,60])\n",
    "s"
   ]
  },
  {
   "cell_type": "code",
   "execution_count": 147,
   "id": "2cba8d8a-e24c-4c23-b791-0377f8a00644",
   "metadata": {},
   "outputs": [],
   "source": [
    "set1={1,2,3,4,5}\n",
    "set2={6,7,8,9,10}"
   ]
  },
  {
   "cell_type": "code",
   "execution_count": 151,
   "id": "2cebf91f-65f4-4943-8681-0f7a902154de",
   "metadata": {},
   "outputs": [
    {
     "data": {
      "text/plain": [
       "{2, 3, 4, 6, 7}"
      ]
     },
     "execution_count": 151,
     "metadata": {},
     "output_type": "execute_result"
    }
   ],
   "source": [
    "s={2,3,4,5,6,7}\n",
    "s.discard(5)\n",
    "s"
   ]
  },
  {
   "cell_type": "code",
   "execution_count": 153,
   "id": "0bcd4729-d75d-4d07-8640-431bb66cf099",
   "metadata": {},
   "outputs": [
    {
     "data": {
      "text/plain": [
       "True"
      ]
     },
     "execution_count": 153,
     "metadata": {},
     "output_type": "execute_result"
    }
   ],
   "source": [
    "any(s)"
   ]
  },
  {
   "cell_type": "code",
   "execution_count": 155,
   "id": "10a0c0da-2ee1-4f8b-a3ca-7047c4a6a836",
   "metadata": {},
   "outputs": [
    {
     "data": {
      "text/plain": [
       "True"
      ]
     },
     "execution_count": 155,
     "metadata": {},
     "output_type": "execute_result"
    }
   ],
   "source": [
    "all(s)"
   ]
  },
  {
   "cell_type": "code",
   "execution_count": 157,
   "id": "8604752c-dcdc-49f6-b767-54bfcb81793c",
   "metadata": {},
   "outputs": [
    {
     "data": {
      "text/plain": [
       "5"
      ]
     },
     "execution_count": 157,
     "metadata": {},
     "output_type": "execute_result"
    }
   ],
   "source": [
    "len(s)"
   ]
  },
  {
   "cell_type": "code",
   "execution_count": 159,
   "id": "9ff865f0-7738-4644-8ac0-f79cff7d3b9d",
   "metadata": {},
   "outputs": [
    {
     "data": {
      "text/plain": [
       "22"
      ]
     },
     "execution_count": 159,
     "metadata": {},
     "output_type": "execute_result"
    }
   ],
   "source": [
    "sum(s)"
   ]
  },
  {
   "cell_type": "code",
   "execution_count": 161,
   "id": "2be0e505-a3a8-4d50-9131-272cd17bade9",
   "metadata": {},
   "outputs": [
    {
     "data": {
      "text/plain": [
       "7"
      ]
     },
     "execution_count": 161,
     "metadata": {},
     "output_type": "execute_result"
    }
   ],
   "source": [
    "max(s)"
   ]
  },
  {
   "cell_type": "code",
   "execution_count": 163,
   "id": "beb8a66d-9a4d-45ed-8d79-205e92b5f878",
   "metadata": {},
   "outputs": [
    {
     "data": {
      "text/plain": [
       "2"
      ]
     },
     "execution_count": 163,
     "metadata": {},
     "output_type": "execute_result"
    }
   ],
   "source": [
    "min(s)"
   ]
  },
  {
   "cell_type": "code",
   "execution_count": 165,
   "id": "0241ccb6-03d2-4115-954c-af08d8ace1a4",
   "metadata": {},
   "outputs": [
    {
     "data": {
      "text/plain": [
       "False"
      ]
     },
     "execution_count": 165,
     "metadata": {},
     "output_type": "execute_result"
    }
   ],
   "source": [
    "s={1,2,3,4,0}\n",
    "all(s)"
   ]
  },
  {
   "cell_type": "code",
   "execution_count": 167,
   "id": "4672f9ec-ce9d-46da-a491-47dda666eb15",
   "metadata": {},
   "outputs": [
    {
     "name": "stdout",
     "output_type": "stream",
     "text": [
      "2\n",
      "3\n",
      "4\n",
      "5\n",
      "6\n"
     ]
    }
   ],
   "source": [
    "s={2,3,4,5,6}\n",
    "for i in s:\n",
    "    print(i)"
   ]
  },
  {
   "cell_type": "code",
   "execution_count": 169,
   "id": "14918351-dd2a-4783-9e68-2cdece8ab5ca",
   "metadata": {},
   "outputs": [
    {
     "name": "stdout",
     "output_type": "stream",
     "text": [
      "{2, 3, 4, 5, 6}\n",
      "{2, 3, 4, 5, 6}\n",
      "{2, 3, 4, 5, 6}\n",
      "{2, 3, 4, 5, 6}\n",
      "{2, 3, 4, 5, 6}\n"
     ]
    }
   ],
   "source": [
    "s={2,3,4,5,6}\n",
    "for i in s:\n",
    "    print(s)"
   ]
  },
  {
   "cell_type": "code",
   "execution_count": 171,
   "id": "f7650338-dbc8-4f68-8331-89e616b1120a",
   "metadata": {},
   "outputs": [
    {
     "name": "stdout",
     "output_type": "stream",
     "text": [
      "{1, 2, 3, 4, 5, 6, 9, 11, 87, 56}\n"
     ]
    }
   ],
   "source": [
    "s1={1,2,3,4,5,6}\n",
    "s2={56,87,9,11}\n",
    "print(s1.union(s2))"
   ]
  },
  {
   "cell_type": "code",
   "execution_count": 173,
   "id": "5877235b-639f-4f29-a342-c2c7f11f63fc",
   "metadata": {},
   "outputs": [
    {
     "name": "stdout",
     "output_type": "stream",
     "text": [
      "{1, 2, 3, 4, 5, 6, 9, 11, 87, 56}\n"
     ]
    }
   ],
   "source": [
    "print(s2.union(s1))"
   ]
  },
  {
   "cell_type": "code",
   "execution_count": 175,
   "id": "054cec1d-d657-444a-8c5c-b55aae6d9f25",
   "metadata": {},
   "outputs": [
    {
     "data": {
      "text/plain": [
       "[{1, 2, 3, 4, 5, 6}]"
      ]
     },
     "execution_count": 175,
     "metadata": {},
     "output_type": "execute_result"
    }
   ],
   "source": [
    "l=[s1]\n",
    "l"
   ]
  },
  {
   "cell_type": "code",
   "execution_count": 179,
   "id": "ceb084ce-73b5-4798-b629-00020e0dc5c1",
   "metadata": {},
   "outputs": [
    {
     "data": {
      "text/plain": [
       "{1, 2, 3, 4, 5, 6, 9, 11, 56, 87}"
      ]
     },
     "execution_count": 179,
     "metadata": {},
     "output_type": "execute_result"
    }
   ],
   "source": [
    "s3=(s1.union(s2))\n",
    "s3"
   ]
  },
  {
   "cell_type": "code",
   "execution_count": 181,
   "id": "54278a97-508e-4953-9600-7aaf75f878ca",
   "metadata": {},
   "outputs": [
    {
     "name": "stdout",
     "output_type": "stream",
     "text": [
      "{1, 4, 6}\n"
     ]
    }
   ],
   "source": [
    "s1={1,2,3,4,5,6}\n",
    "s2={56,87,9,11,6,4,1}\n",
    "print(s1.intersection(s2))"
   ]
  },
  {
   "cell_type": "code",
   "execution_count": 183,
   "id": "89f582c8-d060-4b8a-a5fc-66b9facef503",
   "metadata": {},
   "outputs": [
    {
     "name": "stdout",
     "output_type": "stream",
     "text": [
      "{1, 4, 6}\n"
     ]
    }
   ],
   "source": [
    "print(s1&s2)"
   ]
  },
  {
   "cell_type": "code",
   "execution_count": 185,
   "id": "0e3f3f7b-5a61-4bb4-ac4a-f88681b8564a",
   "metadata": {},
   "outputs": [
    {
     "name": "stdout",
     "output_type": "stream",
     "text": [
      "{2, 3, 5, 9, 11, 87, 56}\n"
     ]
    }
   ],
   "source": [
    "print(s1^s2)"
   ]
  },
  {
   "cell_type": "code",
   "execution_count": 187,
   "id": "1f862353-812c-40f9-a886-05df5658d050",
   "metadata": {},
   "outputs": [
    {
     "data": {
      "text/plain": [
       "{3, 4, 5, 6}"
      ]
     },
     "execution_count": 187,
     "metadata": {},
     "output_type": "execute_result"
    }
   ],
   "source": [
    "l1=[1,2,3,4,5,6]\n",
    "l2=[3,4,5,6,9,8]\n",
    "s1=set(l1)\n",
    "s2=set(l2)\n",
    "s3=(s1.intersection(s2))\n",
    "s3"
   ]
  },
  {
   "cell_type": "code",
   "execution_count": 189,
   "id": "134b4960-4dbc-45cf-ae8a-6054e123c22a",
   "metadata": {},
   "outputs": [
    {
     "name": "stdout",
     "output_type": "stream",
     "text": [
      "{1, 2}\n"
     ]
    }
   ],
   "source": [
    "print(s1.difference(s2))"
   ]
  },
  {
   "cell_type": "code",
   "execution_count": 191,
   "id": "04c312a9-ff57-4959-a994-28d7982358fc",
   "metadata": {},
   "outputs": [
    {
     "data": {
      "text/plain": [
       "{4, 5}"
      ]
     },
     "execution_count": 191,
     "metadata": {},
     "output_type": "execute_result"
    }
   ],
   "source": [
    "l1=[1,2,3,4,5,6]\n",
    "l2=[1,2,3,6,7,8]\n",
    "s1=set(l1)\n",
    "s2=set(l2)\n",
    "s3=(s1.difference(s2))\n",
    "s3"
   ]
  },
  {
   "cell_type": "code",
   "execution_count": 193,
   "id": "611644be-623f-4b81-a85b-f193bfa8710c",
   "metadata": {},
   "outputs": [
    {
     "data": {
      "text/plain": [
       "{8, 9}"
      ]
     },
     "execution_count": 193,
     "metadata": {},
     "output_type": "execute_result"
    }
   ],
   "source": [
    "l1=[1,2,3,4,5,6]\n",
    "l2=[3,4,5,6,9,8]\n",
    "s1=set(l1)\n",
    "s2=set(l2)\n",
    "s3=(s2.difference(s1))\n",
    "s3"
   ]
  },
  {
   "cell_type": "code",
   "execution_count": 195,
   "id": "5da0ebcd-4805-49e8-86a7-3a950054c527",
   "metadata": {},
   "outputs": [
    {
     "name": "stdout",
     "output_type": "stream",
     "text": [
      "{8, 9}\n"
     ]
    }
   ],
   "source": [
    "print(s2-s1)"
   ]
  },
  {
   "cell_type": "code",
   "execution_count": 197,
   "id": "0119dc7b-d2a8-4ed1-ba91-bb351fbe208f",
   "metadata": {},
   "outputs": [
    {
     "name": "stdout",
     "output_type": "stream",
     "text": [
      "{1, 2, 8, 9}\n"
     ]
    }
   ],
   "source": [
    "print(s1.symmetric_difference(s2))"
   ]
  },
  {
   "cell_type": "code",
   "execution_count": 199,
   "id": "88e7521f-5ac0-4ac7-a2fa-5d26414799db",
   "metadata": {},
   "outputs": [
    {
     "name": "stdout",
     "output_type": "stream",
     "text": [
      "False\n"
     ]
    }
   ],
   "source": [
    "print(s1.isdisjoint(s2))"
   ]
  },
  {
   "cell_type": "code",
   "execution_count": 201,
   "id": "bb1091e3-a83a-414c-9b92-75d4e144f0b1",
   "metadata": {},
   "outputs": [
    {
     "name": "stdout",
     "output_type": "stream",
     "text": [
      "True\n"
     ]
    }
   ],
   "source": [
    "s1={1,2,3,4,5}\n",
    "s2={6,7,8,9,11}\n",
    "print(s1.isdisjoint(s2))"
   ]
  },
  {
   "cell_type": "code",
   "execution_count": 203,
   "id": "63333e3b-83d1-476a-af52-fa21a8b140a1",
   "metadata": {},
   "outputs": [
    {
     "name": "stdout",
     "output_type": "stream",
     "text": [
      "True\n"
     ]
    }
   ],
   "source": [
    "s1={1,2}\n",
    "s2={1,2,3,4,5}\n",
    "print(s1.issubset(s2))"
   ]
  },
  {
   "cell_type": "code",
   "execution_count": 205,
   "id": "d95cd340-f974-4ff7-a09e-7e9aa34d0eb5",
   "metadata": {},
   "outputs": [
    {
     "name": "stdout",
     "output_type": "stream",
     "text": [
      "True\n"
     ]
    }
   ],
   "source": [
    "print(s2.issuperset(s1))"
   ]
  },
  {
   "cell_type": "code",
   "execution_count": 207,
   "id": "e7a62995-9883-4127-8d69-a887e8273a25",
   "metadata": {},
   "outputs": [
    {
     "data": {
      "text/plain": [
       "set()"
      ]
     },
     "execution_count": 207,
     "metadata": {},
     "output_type": "execute_result"
    }
   ],
   "source": [
    "s={3,4,5,6,7,9,10}\n",
    "s.clear()\n",
    "s"
   ]
  },
  {
   "cell_type": "code",
   "execution_count": 209,
   "id": "baf0d67e-17a3-4be2-a46c-8b50d9d72ba2",
   "metadata": {},
   "outputs": [],
   "source": [
    "def set(s1,s2):\n",
    "    for i in s1:\n",
    "        for j in s2:\n",
    "            if i!=j:\n",
    "                print(i)\n",
    "            else :\n",
    "                print(j)\n",
    "s1={1,2,3,4,5,6}\n",
    "s2={3,4,5,6,7,8}"
   ]
  },
  {
   "cell_type": "code",
   "execution_count": 211,
   "id": "dc91b0b8-b4b0-49f6-93cf-27577339efca",
   "metadata": {},
   "outputs": [
    {
     "data": {
      "text/plain": [
       "3"
      ]
     },
     "execution_count": 211,
     "metadata": {},
     "output_type": "execute_result"
    }
   ],
   "source": [
    "s={3,4,5,6,7,9,10}\n",
    "s.pop()"
   ]
  },
  {
   "cell_type": "code",
   "execution_count": 213,
   "id": "98322bc4-fb74-4993-ba24-dd43bea3a493",
   "metadata": {},
   "outputs": [
    {
     "data": {
      "text/plain": [
       "{4, 5, 6, 7, 9, 10, 45}"
      ]
     },
     "execution_count": 213,
     "metadata": {},
     "output_type": "execute_result"
    }
   ],
   "source": [
    "s.add(45)\n",
    "s"
   ]
  },
  {
   "cell_type": "raw",
   "id": "89706e41-bd0c-49fc-857b-6fb47afe9a82",
   "metadata": {},
   "source": [
    "# Frozenset:\n",
    "  syntax:\n",
    "    set_name=frozen set([arg1,arg2,----])\n",
    "\n",
    "   -sets are mutable\n",
    "   - frozen set are immutable\n",
    "   -we cannot perform add , update function on set\n",
    "   -we can perform the set operations on the frozen set\n"
   ]
  },
  {
   "cell_type": "code",
   "execution_count": 215,
   "id": "090f86f0-97ac-4990-a2be-d4a6d08ec69e",
   "metadata": {},
   "outputs": [],
   "source": [
    "# frozen set are immutable\n",
    "s1=frozenset([1,2,3,4])\n",
    "s2=frozenset([])"
   ]
  },
  {
   "cell_type": "markdown",
   "id": "2cd460f3-2c85-4dfb-8b09-26ccd7876a09",
   "metadata": {},
   "source": [
    "# @Hashing"
   ]
  },
  {
   "cell_type": "raw",
   "id": "4a69b8aa-fc55-4ae7-a2c7-e06015572e81",
   "metadata": {},
   "source": [
    "# Hashing:\n",
    "   -Dictionary is called as hash table\n",
    "   -whenever we are creating a dictionary in the memory hash table in created \n",
    "   - it is widely used data structure in all the language\n",
    "   -almost all the language have the hash table implementation \n",
    "        #java------HashMap\n",
    "        #python----dictionary\n",
    "        #JavaScript-----object\n",
    "        #c++----map()\n",
    "        #golang-----map()\n",
    "   -It is basic constructs of pl class and its member function mapping\n",
    "   -variable lookup table\n",
    "   - symbol table is also called  hash table\n",
    "   - hashing is technique for mapping\n",
    "   -Insertion, deletion , lookups all will take O(1) time\n",
    "   - which block of main memory has to be placed where in cache \n",
    "   -kth block main memory =k%N -----hash function\n",
    "    hash function=(__hash__) for custom key(own calling fuction)\n",
    "    N= no. of block in cache memory\n",
    "    if collision is occur hashing has own technique for that."
   ]
  },
  {
   "cell_type": "markdown",
   "id": "74b41aa0-ba41-432c-a186-8a3cefdf2203",
   "metadata": {},
   "source": [
    "## @ Dictionary"
   ]
  },
  {
   "cell_type": "raw",
   "id": "bc0b6e30-ff8f-4658-b2da-193144cdc4d8",
   "metadata": {},
   "source": [
    " -inbuilt data structure in python\n",
    "   -whenever we are creating a dictionary inside the memory has table is created\n",
    "   - dictionary is collection of unordered data items\n",
    "   -dictionary will stored a data in key: value pair\n",
    "   syntax:\n",
    "     dict_name={\n",
    "            \"key1\":value1,\n",
    "            \"key2\":value2,\n",
    "            \"key3\":value3,\n",
    "            \"key14\":value4,\n",
    "            }\n",
    "   -if key is string the double quote \n",
    "   -Key is not hasheble\n",
    "   -the object which not hasheble that means it doesn't change\n",
    "   - It should not be change\n",
    "   -key is always unique\n",
    "   -set and list as a key is not hasheble means we cannot make these as dictionary key\n",
    "   - tuple, string, integer, float as a key is hasheble we can make it dictionary key\n",
    "   - we can make the changes in the contents of dictionary because it is mutable.\n"
   ]
  },
  {
   "cell_type": "code",
   "execution_count": 17,
   "id": "f45dbcc9-de1e-4223-ad31-1cba5f5e7250",
   "metadata": {},
   "outputs": [
    {
     "data": {
      "text/plain": [
       "{}"
      ]
     },
     "execution_count": 17,
     "metadata": {},
     "output_type": "execute_result"
    }
   ],
   "source": [
    "dist={}\n",
    "dist"
   ]
  },
  {
   "cell_type": "code",
   "execution_count": 19,
   "id": "b51ac10c-c4fa-4448-a3aa-d4863b3f07de",
   "metadata": {},
   "outputs": [
    {
     "data": {
      "text/plain": [
       "dict"
      ]
     },
     "execution_count": 19,
     "metadata": {},
     "output_type": "execute_result"
    }
   ],
   "source": [
    "type(dist)"
   ]
  },
  {
   "cell_type": "code",
   "execution_count": 4,
   "id": "a8f44f75-fbaa-4b95-b8ec-11f70431b8c0",
   "metadata": {},
   "outputs": [
    {
     "data": {
      "text/plain": [
       "{'kiran': 1, 'pqr': 2, 'abc': 3}"
      ]
     },
     "execution_count": 4,
     "metadata": {},
     "output_type": "execute_result"
    }
   ],
   "source": [
    "my_dict=dict(kiran=1,pqr=2,abc=3)\n",
    "my_dict"
   ]
  },
  {
   "cell_type": "code",
   "execution_count": 5,
   "id": "b4f0349a-d91c-4c87-8ca4-41a1088b383b",
   "metadata": {},
   "outputs": [
    {
     "data": {
      "text/plain": [
       "{1: 'kiran', 2: 'magare'}"
      ]
     },
     "execution_count": 5,
     "metadata": {},
     "output_type": "execute_result"
    }
   ],
   "source": [
    "#Creating the dictionary with integer key\n",
    "dict1={1:'kiran',2:\"magare\"}\n",
    "dict1"
   ]
  },
  {
   "cell_type": "code",
   "execution_count": 7,
   "id": "4b02193b-f254-4b69-affd-0f28088cc42f",
   "metadata": {},
   "outputs": [
    {
     "data": {
      "text/plain": [
       "{'hello': 1, 'how': 2, 'are': 3, 'you': 4}"
      ]
     },
     "execution_count": 7,
     "metadata": {},
     "output_type": "execute_result"
    }
   ],
   "source": [
    "dict3={\"hello\":1,\"how\":2,\"are\":3,\"you\":4}\n",
    "dict3"
   ]
  },
  {
   "cell_type": "code",
   "execution_count": 2,
   "id": "e8b5af62-d5a9-43e7-a87a-55aa76932523",
   "metadata": {},
   "outputs": [
    {
     "name": "stdout",
     "output_type": "stream",
     "text": [
      "[4, 5, 6, 10]\n",
      "[4, 5, 6, 10]\n",
      "20\n",
      "10\n"
     ]
    }
   ],
   "source": [
    "def modify_list(lst,var):\n",
    "    lst.append(10)\n",
    "    list=[1,2,3]\n",
    "    var=20\n",
    "    return(lst,var)\n",
    "my_list=[4,5,6]\n",
    "var=10\n",
    "result,num=modify_list(my_list,var)\n",
    "print(my_list)\n",
    "print(result)\n",
    "print(num)\n",
    "print(var)"
   ]
  },
  {
   "cell_type": "code",
   "execution_count": 8,
   "id": "dbffbe10-79c3-4dab-b906-c9de8df3472c",
   "metadata": {},
   "outputs": [
    {
     "name": "stdout",
     "output_type": "stream",
     "text": [
      "[4, 5, 6, 10]\n",
      "[1, 2, 3]\n"
     ]
    }
   ],
   "source": [
    "def modify_list(lst):\n",
    "    lst.append(10)\n",
    "    lst=[1,2,3]\n",
    "    return lst\n",
    "my_list=[4,5,6]\n",
    "result=modify_list(my_list)\n",
    "print(my_list)\n",
    "print(result)"
   ]
  },
  {
   "cell_type": "code",
   "execution_count": 10,
   "id": "a1b239c9-f87b-4e00-9727-ed8f29ac1d8f",
   "metadata": {},
   "outputs": [
    {
     "name": "stdout",
     "output_type": "stream",
     "text": [
      "{5}\n"
     ]
    }
   ],
   "source": [
    "def fun(s):\n",
    "    if len(s)==0:\n",
    "        return []\n",
    "    x=s.pop()\n",
    "    return fun(s)+[5]\n",
    "s={5}\n",
    "print(s)"
   ]
  },
  {
   "cell_type": "code",
   "execution_count": 23,
   "id": "80f2f9a3-7278-4d1d-ad58-b42dc499f4d9",
   "metadata": {},
   "outputs": [
    {
     "data": {
      "text/plain": [
       "{(1, 2, 3): 't1', (2, 3, 4): 't2'}"
      ]
     },
     "execution_count": 23,
     "metadata": {},
     "output_type": "execute_result"
    }
   ],
   "source": [
    "dict1={\n",
    "    (1,2,3):\"t1\",\n",
    "    (2,3,4):\"t2\"}\n",
    "dict1"
   ]
  },
  {
   "cell_type": "code",
   "execution_count": 25,
   "id": "3af29b9b-b951-4605-9ab1-3521c6b0ff61",
   "metadata": {},
   "outputs": [
    {
     "data": {
      "text/plain": [
       "{'abc': 1, 'pqr': 2}"
      ]
     },
     "execution_count": 25,
     "metadata": {},
     "output_type": "execute_result"
    }
   ],
   "source": [
    "dict2={\n",
    "    \"abc\":1,\n",
    "    \"pqr\":2\n",
    "}\n",
    "dict2"
   ]
  },
  {
   "cell_type": "code",
   "execution_count": 33,
   "id": "51069b79-2308-47da-957f-77a94e3e7dfe",
   "metadata": {},
   "outputs": [
    {
     "data": {
      "text/plain": [
       "'kiran'"
      ]
     },
     "execution_count": 33,
     "metadata": {},
     "output_type": "execute_result"
    }
   ],
   "source": [
    "dict={\n",
    "    1:\"kiran\",\n",
    "    2:\"magare\",\n",
    "    3:\"abc\"\n",
    "}\n",
    "dict[1]"
   ]
  },
  {
   "cell_type": "code",
   "execution_count": 37,
   "id": "bbfcd97b-ccf4-47bc-bf3d-6f674a0cb1c9",
   "metadata": {},
   "outputs": [
    {
     "data": {
      "text/plain": [
       "{1: {1: 'kiran', 2: 'magare'}, 2: {'a': 1, 'b': 2}}"
      ]
     },
     "execution_count": 37,
     "metadata": {},
     "output_type": "execute_result"
    }
   ],
   "source": [
    "dict={\n",
    "    1:{1:\"kiran\",2:\"magare\"},\n",
    "    2:{\"a\":1,\"b\":2}\n",
    "}\n",
    "dict"
   ]
  },
  {
   "cell_type": "code",
   "execution_count": 39,
   "id": "7a25e967-b112-4d8a-ac8b-9dcd7a40dbf8",
   "metadata": {},
   "outputs": [
    {
     "data": {
      "text/plain": [
       "'magare'"
      ]
     },
     "execution_count": 39,
     "metadata": {},
     "output_type": "execute_result"
    }
   ],
   "source": [
    "dict[1][2]"
   ]
  },
  {
   "cell_type": "code",
   "execution_count": 45,
   "id": "ef6e96e4-d513-43b2-ad66-afa39c0b044c",
   "metadata": {},
   "outputs": [],
   "source": [
    "dict={\n",
    "    1:{1:\"kiran\",2:\"magare\"},\n",
    "    2:{\"a\":1,\"b\":2}\n",
    "}\n"
   ]
  },
  {
   "cell_type": "code",
   "execution_count": 49,
   "id": "0b45b5e7-149f-4814-a2bf-de8e13ed9543",
   "metadata": {},
   "outputs": [
    {
     "data": {
      "text/plain": [
       "{1: 'kiran', 2: 'magare'}"
      ]
     },
     "execution_count": 49,
     "metadata": {},
     "output_type": "execute_result"
    }
   ],
   "source": [
    "dict.get(1)"
   ]
  },
  {
   "cell_type": "code",
   "execution_count": 51,
   "id": "7aaea366-fe5f-4068-b3c5-0118f5ed4df4",
   "metadata": {},
   "outputs": [],
   "source": [
    "dict={\n",
    "    \"rollno\":31,\n",
    "    \"Name\":\"Kiran\",\n",
    "    \"city\":\"Hyderabad\"\n",
    "}"
   ]
  },
  {
   "cell_type": "code",
   "execution_count": 53,
   "id": "2cb71ec2-5918-4314-8a5b-473a704b481d",
   "metadata": {},
   "outputs": [],
   "source": [
    "dict[\"Degree\"]=\"Btech\""
   ]
  },
  {
   "cell_type": "code",
   "execution_count": 55,
   "id": "dd323ee9-7f6e-4bd0-aefd-312a377c2788",
   "metadata": {},
   "outputs": [
    {
     "data": {
      "text/plain": [
       "{'rollno': 31, 'Name': 'Kiran', 'city': 'Hyderabad', 'Degree': 'Btech'}"
      ]
     },
     "execution_count": 55,
     "metadata": {},
     "output_type": "execute_result"
    }
   ],
   "source": [
    "dict"
   ]
  },
  {
   "cell_type": "code",
   "execution_count": 57,
   "id": "441318a8-fe84-47c5-a26b-c63fbe925bdb",
   "metadata": {},
   "outputs": [
    {
     "data": {
      "text/plain": [
       "'Kiran'"
      ]
     },
     "execution_count": 57,
     "metadata": {},
     "output_type": "execute_result"
    }
   ],
   "source": [
    "dict.pop(\"Name\")"
   ]
  },
  {
   "cell_type": "code",
   "execution_count": 59,
   "id": "b2f794fc-4428-492c-a877-b883ec16c0eb",
   "metadata": {},
   "outputs": [
    {
     "data": {
      "text/plain": [
       "{'rollno': 31, 'city': 'Hyderabad', 'Degree': 'Btech'}"
      ]
     },
     "execution_count": 59,
     "metadata": {},
     "output_type": "execute_result"
    }
   ],
   "source": [
    "dict"
   ]
  },
  {
   "cell_type": "code",
   "execution_count": 61,
   "id": "9aaec70d-3aff-4f8e-95c4-57278e7e4384",
   "metadata": {},
   "outputs": [
    {
     "data": {
      "text/plain": [
       "{'rollno': 31, 'city': 'Hyderabad'}"
      ]
     },
     "execution_count": 61,
     "metadata": {},
     "output_type": "execute_result"
    }
   ],
   "source": [
    "dict.popitem()\n",
    "dict"
   ]
  },
  {
   "cell_type": "code",
   "execution_count": 63,
   "id": "76d62e4b-e421-4549-a208-19050c0529bb",
   "metadata": {},
   "outputs": [],
   "source": [
    "dict={\n",
    "    1:{1:\"kiran\",2:\"magare\"},\n",
    "    2:{\"a\":1,\"b\":2}\n",
    "}\n"
   ]
  },
  {
   "cell_type": "code",
   "execution_count": 65,
   "id": "089d4d61-58c5-4e3a-9d90-3e3703936a22",
   "metadata": {},
   "outputs": [
    {
     "name": "stdout",
     "output_type": "stream",
     "text": [
      "{1: 'kiran', 2: 'magare'}\n",
      "{'a': 1, 'b': 2}\n"
     ]
    }
   ],
   "source": [
    "for key in dict:\n",
    "    print(dict[key])"
   ]
  },
  {
   "cell_type": "code",
   "execution_count": 69,
   "id": "52a47cca-cea8-487e-8700-d3230cc8ec04",
   "metadata": {},
   "outputs": [
    {
     "name": "stdout",
     "output_type": "stream",
     "text": [
      "1\n",
      "2\n"
     ]
    }
   ],
   "source": [
    "for key in dict:\n",
    "    print(key)"
   ]
  },
  {
   "cell_type": "code",
   "execution_count": 71,
   "id": "d4189c03-74be-4337-8a39-8ec9f55ed2d7",
   "metadata": {},
   "outputs": [
    {
     "data": {
      "text/plain": [
       "2"
      ]
     },
     "execution_count": 71,
     "metadata": {},
     "output_type": "execute_result"
    }
   ],
   "source": [
    "len(dict)"
   ]
  },
  {
   "cell_type": "code",
   "execution_count": 85,
   "id": "2fa8bcd7-a232-4ca8-bec5-0643a73eb8ec",
   "metadata": {},
   "outputs": [
    {
     "name": "stdout",
     "output_type": "stream",
     "text": [
      "2\n"
     ]
    },
    {
     "data": {
      "text/plain": [
       "{1: {1: 'kiran', 2: 'magare'}, 2: {'a': 1, 'b': 2}}"
      ]
     },
     "execution_count": 85,
     "metadata": {},
     "output_type": "execute_result"
    }
   ],
   "source": [
    "for key in dict:\n",
    "    if key==len(dict):\n",
    "        print(key)\n",
    "        del dict\n",
    "               \n",
    "    "
   ]
  },
  {
   "cell_type": "code",
   "execution_count": 99,
   "id": "777c6d43-4b69-4b77-95e6-4b3b55fa71be",
   "metadata": {},
   "outputs": [
    {
     "name": "stdout",
     "output_type": "stream",
     "text": [
      "\n",
      "\n",
      "{'a': 1, 'b': 2}\n"
     ]
    }
   ],
   "source": [
    "def my_popitem(dict):\n",
    "    for key in dict:\n",
    "        print()\n",
    "    return dict[key]\n",
    "dict={\n",
    "     1:{1:\"kiran\",2:\"magare\"},\n",
    "     2:{\"a\":1,\"b\":2}\n",
    "}\n",
    "print(my_popitem(dict))"
   ]
  },
  {
   "cell_type": "code",
   "execution_count": 8,
   "id": "205ae0e6-a0ec-4d6d-9a62-bff3d045838d",
   "metadata": {},
   "outputs": [
    {
     "name": "stdout",
     "output_type": "stream",
     "text": [
      "(1, {1: 'kiran', 2: 'magare'})\n",
      "{1: {1: 'kiran', 2: 'magare'}, 2: {'a': 1, 'b': 2}}\n"
     ]
    }
   ],
   "source": [
    "def my_popitem(dict):\n",
    "    for key in dict:\n",
    "        value=dict[key]\n",
    "        return key,value\n",
    "\n",
    "dict={\n",
    "     1:{1:\"kiran\",2:\"magare\"},\n",
    "     2:{\"a\":1,\"b\":2}\n",
    "}\n",
    "print(my_popitem(dict))\n",
    "\n",
    "print(dict)\n"
   ]
  },
  {
   "cell_type": "code",
   "execution_count": 217,
   "id": "6f2b4648-19d3-4d30-a376-bcde1af83079",
   "metadata": {},
   "outputs": [
    {
     "name": "stdout",
     "output_type": "stream",
     "text": [
      "(1, {1: 'kiran', 2: 'magare'})\n",
      "{2: {'a': 1, 'b': 2}}\n"
     ]
    }
   ],
   "source": [
    "def my_popitem(my_dict):\n",
    "    for key in my_dict:\n",
    "        value = my_dict[key]\n",
    "        del my_dict[key] \n",
    "        return key, value  \n",
    "    raise KeyError(\"popitem(): dictionary is empty\")  \n",
    "\n",
    "my_dict = {\n",
    "     1: {1: \"kiran\", 2: \"magare\"},\n",
    "     2: {\"a\": 1, \"b\": 2}\n",
    "}\n",
    "print(my_popitem(my_dict))\n",
    "print(my_dict)\n"
   ]
  },
  {
   "cell_type": "code",
   "execution_count": 10,
   "id": "556912d3-e2d8-4a7e-91f7-9c21fc3a7f3d",
   "metadata": {},
   "outputs": [],
   "source": [
    "dict={\n",
    "    1:\"abc\",\n",
    "    2:\"pqr\",\n",
    "    3:\"xyz\"\n",
    "}"
   ]
  },
  {
   "cell_type": "code",
   "execution_count": 12,
   "id": "ad7c5e15-a2d8-41bc-8094-9120de5e9247",
   "metadata": {},
   "outputs": [
    {
     "data": {
      "text/plain": [
       "dict_items([(1, 'abc'), (2, 'pqr'), (3, 'xyz')])"
      ]
     },
     "execution_count": 12,
     "metadata": {},
     "output_type": "execute_result"
    }
   ],
   "source": [
    "dict.items()"
   ]
  },
  {
   "cell_type": "code",
   "execution_count": 14,
   "id": "9a44deec-0c53-4186-b9b8-ca9d477e3ce9",
   "metadata": {},
   "outputs": [
    {
     "data": {
      "text/plain": [
       "dict_values(['abc', 'pqr', 'xyz'])"
      ]
     },
     "execution_count": 14,
     "metadata": {},
     "output_type": "execute_result"
    }
   ],
   "source": [
    "dict.values()"
   ]
  },
  {
   "cell_type": "code",
   "execution_count": 26,
   "id": "228e737b-e27a-4a93-9e8a-92a398745d30",
   "metadata": {},
   "outputs": [
    {
     "data": {
      "text/plain": [
       "{34: 0, 45: 1, 67: 2, 88: 3, 90: 4}"
      ]
     },
     "execution_count": 26,
     "metadata": {},
     "output_type": "execute_result"
    }
   ],
   "source": [
    "#Creating list to dictionary\n",
    "list=[34,45,67,88,90]\n",
    "dict={}\n",
    "for ele in range(0,len(list)):\n",
    "    dict[list[ele]]=ele\n",
    "dict"
   ]
  },
  {
   "cell_type": "code",
   "execution_count": null,
   "id": "38d0f643-7cb9-41c4-85c5-2f3766351661",
   "metadata": {},
   "outputs": [],
   "source": [
    "list1=[34,45,67,89,90,100]\n",
    "list2=[12,34,56,78,90,101,102,103]\n"
   ]
  },
  {
   "cell_type": "code",
   "execution_count": null,
   "id": "88ac7295-f1f4-480d-bca1-58afc91cdd68",
   "metadata": {},
   "outputs": [],
   "source": [
    "def common_elements(list1,list2)"
   ]
  },
  {
   "cell_type": "code",
   "execution_count": 44,
   "id": "54b11d76-da4e-4257-9b33-109a942db7aa",
   "metadata": {},
   "outputs": [
    {
     "name": "stdout",
     "output_type": "stream",
     "text": [
      "the sum of total values 332\n"
     ]
    },
    {
     "data": {
      "text/plain": [
       "'abc'"
      ]
     },
     "execution_count": 44,
     "metadata": {},
     "output_type": "execute_result"
    }
   ],
   "source": [
    "dict={\n",
    "    \"abc\":100,\n",
    "    \"pqr\":120,\n",
    "    \"xyz\":34,\n",
    "    \"ijk\":78\n",
    "}\n",
    "total=0\n",
    "for value in dict.values():\n",
    "    total+=value\n",
    "print(\"the sum of total values\",total)\n",
    "max(dict)\n",
    "min(dict)"
   ]
  },
  {
   "cell_type": "code",
   "execution_count": 52,
   "id": "31b4f939-192a-4a51-bfd7-1eb7492748cb",
   "metadata": {},
   "outputs": [
    {
     "name": "stdout",
     "output_type": "stream",
     "text": [
      "maximum value: 120\n",
      "Minimum value: 34\n"
     ]
    }
   ],
   "source": [
    "dict = {\n",
    "    \"abc\": 100,\n",
    "    \"pqr\": 120,\n",
    "    \"xyz\": 34,\n",
    "    \"ijk\": 78\n",
    "}\n",
    "max_value = max(dict.values())\n",
    "min_value = min(dict.values())\n",
    "\n",
    "print(\"maximum value:\",max_value)\n",
    "print(\"Minimum value:\",min_value)"
   ]
  },
  {
   "cell_type": "code",
   "execution_count": 54,
   "id": "0b7290b2-a531-4d37-9e9e-2f5ea655cfa4",
   "metadata": {},
   "outputs": [],
   "source": [
    "def maxmin(dict):\n",
    "    for items in dict:\n",
    "        dict[1]<items\n",
    "        return items\n",
    "    return dict[1]\n",
    "dict = {\n",
    "    \"abc\": 100,\n",
    "    \"pqr\": 120,\n",
    "    \"xyz\": 34,\n",
    "    \"ijk\": 78\n",
    "}"
   ]
  },
  {
   "cell_type": "code",
   "execution_count": 58,
   "id": "6614b27e-9a0d-4fff-a247-b5bc3c94da62",
   "metadata": {},
   "outputs": [
    {
     "data": {
      "text/plain": [
       "{'abc': 100, 'pqr': 120, 'xyz': 34, 'ijk': 78}"
      ]
     },
     "execution_count": 58,
     "metadata": {},
     "output_type": "execute_result"
    }
   ],
   "source": [
    "dict={\n",
    "    \"abc\": 100,\n",
    "    \"pqr\": 120,\n",
    "    \"xyz\": 34,\n",
    "    \"ijk\": 78\n",
    "}\n",
    "my_dict=dict.copy()\n",
    "my_dict"
   ]
  },
  {
   "cell_type": "code",
   "execution_count": 60,
   "id": "a013a88e-c48e-4212-91f2-bc96f033715e",
   "metadata": {},
   "outputs": [
    {
     "data": {
      "text/plain": [
       "{}"
      ]
     },
     "execution_count": 60,
     "metadata": {},
     "output_type": "execute_result"
    }
   ],
   "source": [
    "dict.clear()\n",
    "dict"
   ]
  },
  {
   "cell_type": "code",
   "execution_count": 66,
   "id": "fe1f0083-2af8-4606-b7b0-68ab1b96ce07",
   "metadata": {},
   "outputs": [
    {
     "name": "stdout",
     "output_type": "stream",
     "text": [
      "Maximum value: 120\n",
      "Minimum value: 34\n"
     ]
    }
   ],
   "source": [
    "dict = {\n",
    "    \"abc\": 100,\n",
    "    \"pqr\": 120,\n",
    "    \"xyz\": 34,\n",
    "    \"ijk\": 78\n",
    "}\n",
    "max_value = float('-inf')  \n",
    "min_value = float('inf')   \n",
    "for value in dict.values():\n",
    "    if value > max_value:\n",
    "        max_value = value\n",
    "    if value < min_value:\n",
    "        min_value = value\n",
    "print(\"Maximum value:\", max_value)\n",
    "print(\"Minimum value:\",min_value)"
   ]
  },
  {
   "cell_type": "code",
   "execution_count": 68,
   "id": "f5ddd3f8-b8c1-4176-a9ba-aabdffeb341f",
   "metadata": {},
   "outputs": [
    {
     "data": {
      "text/plain": [
       "{'abc': 100, 'pqr': 120, 'xyz': 34, 'ijk': 78, 'e': 400}"
      ]
     },
     "execution_count": 68,
     "metadata": {},
     "output_type": "execute_result"
    }
   ],
   "source": [
    "dict={\n",
    "    \"abc\": 100,\n",
    "    \"pqr\": 120,\n",
    "    \"xyz\": 34,\n",
    "    \"ijk\": 78\n",
    "}\n",
    "dict[\"e\"]=400\n",
    "dict"
   ]
  },
  {
   "cell_type": "code",
   "execution_count": null,
   "id": "b44b43ef-2194-47cc-ae2d-c6cc8bb324fd",
   "metadata": {},
   "outputs": [],
   "source": [
    "list1=[2,3,4,5,6,6,2,4]\n",
    "list2=[1,2,3,4,4,6,3,9]\n",
    "for i in list1:\n",
    "    for j in "
   ]
  },
  {
   "cell_type": "code",
   "execution_count": 2,
   "id": "149bb620-f6b4-4ca7-b38d-3780848a2252",
   "metadata": {},
   "outputs": [
    {
     "data": {
      "text/plain": [
       "dict"
      ]
     },
     "execution_count": 2,
     "metadata": {},
     "output_type": "execute_result"
    }
   ],
   "source": [
    "#list,dictionary and string---interview question\n",
    "list1=[2,3,4,5,6,6,2,4]\n",
    "list2=[1,2,3,4,4,6,3,9]\n",
    "count_dict={}\n",
    "for ele in range(0,len(list1)):\n",
    "    for item in range(0,len(list2)):\n",
    "        count_dict\n",
    "dict\n"
   ]
  },
  {
   "cell_type": "code",
   "execution_count": 92,
   "id": "77fbf13b-b468-428e-89d7-4d3304f6fd22",
   "metadata": {},
   "outputs": [
    {
     "name": "stdout",
     "output_type": "stream",
     "text": [
      "[1, 2]\n"
     ]
    }
   ],
   "source": [
    "#In the given list return the element which comes in odd time\n",
    "list=[1,2,4,5,5,4,6,7,6,7]\n",
    "count_dict = {}\n",
    "for num in list:\n",
    "    count_dict[num] = count_dict.get(num, 0) + 1\n",
    "result = [key for key, value in count_dict.items() if value == 1 or value == 3]\n",
    "print(result)"
   ]
  },
  {
   "cell_type": "code",
   "execution_count": 10,
   "id": "1c239324-e092-463d-9f87-c2431f15f17f",
   "metadata": {},
   "outputs": [
    {
     "name": "stdin",
     "output_type": "stream",
     "text": [
      "Enter any number 5\n",
      "Enter any number -6\n"
     ]
    },
    {
     "name": "stdout",
     "output_type": "stream",
     "text": [
      "False\n"
     ]
    }
   ],
   "source": [
    "a=int(input(\"Enter any number\"))\n",
    "b=int(input(\"Enter any number\"))\n",
    "if (a^b)<0:\n",
    "    print(\"False\")\n",
    "else:\n",
    "    print(\"True\")\n"
   ]
  },
  {
   "cell_type": "code",
   "execution_count": 4,
   "id": "2c47082c-c909-47ed-bc43-d2c93fcd44af",
   "metadata": {},
   "outputs": [
    {
     "data": {
      "text/plain": [
       "-1"
      ]
     },
     "execution_count": 4,
     "metadata": {},
     "output_type": "execute_result"
    }
   ],
   "source": [
    "5^-6"
   ]
  },
  {
   "cell_type": "markdown",
   "id": "e9ab5109-3c12-476a-b5e3-c012774586b0",
   "metadata": {},
   "source": [
    "## Tuple slicing"
   ]
  },
  {
   "cell_type": "raw",
   "id": "35124b0b-3eb4-45d5-9ead-2ca183ec08b9",
   "metadata": {},
   "source": [
    "@Tuple Slicing:\n",
    "   -It will print the values within the specific range\n",
    "   Syntax:\n",
    "      tuple_name[start:end:stepsize]\n",
    "   stepsize\n",
    "   +ve--------traverse towards right\n",
    "   -ve--------traverse towards start"
   ]
  },
  {
   "cell_type": "code",
   "execution_count": 219,
   "id": "2fd5513f-3453-4abf-be86-19c3fdb1f084",
   "metadata": {},
   "outputs": [
    {
     "data": {
      "text/plain": [
       "[80, 70, 60, 50, 40, 30, 20, 10]"
      ]
     },
     "execution_count": 219,
     "metadata": {},
     "output_type": "execute_result"
    }
   ],
   "source": [
    "t=[10,20,30,40,50,60,70,80]\n",
    "t[::-1]"
   ]
  },
  {
   "cell_type": "code",
   "execution_count": 221,
   "id": "9f8dea09-70c0-44f8-a743-805f501d92f9",
   "metadata": {},
   "outputs": [
    {
     "data": {
      "text/plain": [
       "[10, 20, 30, 40, 50, 60, 70]"
      ]
     },
     "execution_count": 221,
     "metadata": {},
     "output_type": "execute_result"
    }
   ],
   "source": [
    "t[:-1:]"
   ]
  },
  {
   "cell_type": "code",
   "execution_count": 223,
   "id": "c7908e64-2b85-43a1-afe2-1fc8cdd59132",
   "metadata": {},
   "outputs": [
    {
     "data": {
      "text/plain": [
       "[]"
      ]
     },
     "execution_count": 223,
     "metadata": {},
     "output_type": "execute_result"
    }
   ],
   "source": [
    "t[-1:-1:1]"
   ]
  },
  {
   "cell_type": "markdown",
   "id": "92c920af-0117-4c45-b29c-ea0800c16175",
   "metadata": {},
   "source": [
    "## String"
   ]
  },
  {
   "cell_type": "raw",
   "id": "7e501c6e-d7d0-42d0-ac48-fa3aa42fa86e",
   "metadata": {},
   "source": [
    "@String:\n",
    "   - Sequence of character is a string\n",
    "    Syntax:\n",
    "      string_name=\" \" or ''or ''''''\n",
    "   -How to store string inside the memory\n",
    "       string =\"m\"--1byte\n",
    "      ASCII-code-decimal codes for the characters\n",
    "   - strings are immutable\n",
    "   -we cant change the contents of string\n",
    "   -through indexing we access the string"
   ]
  },
  {
   "cell_type": "code",
   "execution_count": 13,
   "id": "7b5536f6-11b2-4dbf-8490-a5fb2dc18e33",
   "metadata": {},
   "outputs": [
    {
     "data": {
      "text/plain": [
       "str"
      ]
     },
     "execution_count": 13,
     "metadata": {},
     "output_type": "execute_result"
    }
   ],
   "source": [
    "str1=\"kiran\"\n",
    "type(str1)"
   ]
  },
  {
   "cell_type": "code",
   "execution_count": 15,
   "id": "8bf9ec75-37bf-419c-9190-9b622b4dc593",
   "metadata": {},
   "outputs": [],
   "source": [
    "#accessing the string element\n",
    "str1=\"Hello how are you\"\n"
   ]
  },
  {
   "cell_type": "code",
   "execution_count": 19,
   "id": "9a3de0e3-c5c8-4a9f-9be1-274c0ccb61fc",
   "metadata": {},
   "outputs": [
    {
     "data": {
      "text/plain": [
       "'H'"
      ]
     },
     "execution_count": 19,
     "metadata": {},
     "output_type": "execute_result"
    }
   ],
   "source": [
    "str1[0]"
   ]
  },
  {
   "cell_type": "code",
   "execution_count": 25,
   "id": "d122dcd1-8cbd-4f2c-880f-e2194628bc9e",
   "metadata": {},
   "outputs": [
    {
     "data": {
      "text/plain": [
       "'w'"
      ]
     },
     "execution_count": 25,
     "metadata": {},
     "output_type": "execute_result"
    }
   ],
   "source": [
    "str1[8]"
   ]
  },
  {
   "cell_type": "code",
   "execution_count": 27,
   "id": "8fbad2dd-1a4d-44d0-bb7d-3a3107158a1b",
   "metadata": {},
   "outputs": [
    {
     "name": "stdout",
     "output_type": "stream",
     "text": [
      "H\n",
      "i\n",
      " \n",
      "h\n",
      "o\n",
      "w\n",
      " \n",
      "a\n",
      "r\n",
      "e\n",
      " \n",
      "y\n",
      "o\n",
      "u\n"
     ]
    }
   ],
   "source": [
    "str1=\"Hi how are you\"\n",
    "for i in str1:\n",
    "    print(i)"
   ]
  },
  {
   "cell_type": "code",
   "execution_count": 35,
   "id": "51657406-56fe-404c-a119-cf171cfd47b8",
   "metadata": {},
   "outputs": [
    {
     "data": {
      "text/plain": [
       "15"
      ]
     },
     "execution_count": 35,
     "metadata": {},
     "output_type": "execute_result"
    }
   ],
   "source": [
    "len(str)"
   ]
  },
  {
   "cell_type": "code",
   "execution_count": 45,
   "id": "0420b044-b300-4760-917a-4ef5cb784422",
   "metadata": {},
   "outputs": [
    {
     "name": "stdout",
     "output_type": "stream",
     "text": [
      "True\n"
     ]
    }
   ],
   "source": [
    "str=\"aababaaabbaabbb\"\n",
    "p=\"aabb\"\n",
    "for i in str:\n",
    "    for j in p:\n",
    "        if i==j:\n",
    "           break\n",
    "print(True)\n",
    "    \n",
    "        \n",
    "        \n",
    "        "
   ]
  },
  {
   "cell_type": "code",
   "execution_count": 70,
   "id": "fd108438-7d59-49c4-85ef-246c81fe8c45",
   "metadata": {},
   "outputs": [
    {
     "name": "stdout",
     "output_type": "stream",
     "text": [
      "6\n"
     ]
    }
   ],
   "source": [
    "str=\"aababaaabbaabbb\"\n",
    "print(str.find(\"aabb\"))"
   ]
  },
  {
   "cell_type": "code",
   "execution_count": 47,
   "id": "539d762f-10bf-4e6f-8c47-de0e6304d019",
   "metadata": {},
   "outputs": [
    {
     "name": "stdout",
     "output_type": "stream",
     "text": [
      "False\n"
     ]
    }
   ],
   "source": [
    "str1=\"hi how are you\"\n",
    "str2=\"hi! how are you\"\n",
    "print(str1==str2)"
   ]
  },
  {
   "cell_type": "code",
   "execution_count": 49,
   "id": "5d0cf708-c2ad-454e-ab55-aa9da9ca6c30",
   "metadata": {},
   "outputs": [
    {
     "name": "stdout",
     "output_type": "stream",
     "text": [
      "True\n"
     ]
    }
   ],
   "source": [
    "print(\"hi\" in str1)"
   ]
  },
  {
   "cell_type": "code",
   "execution_count": 51,
   "id": "f35f76a0-593a-41ef-8139-05728d82fc66",
   "metadata": {},
   "outputs": [
    {
     "name": "stdout",
     "output_type": "stream",
     "text": [
      "goodnight\n"
     ]
    }
   ],
   "source": [
    "#concatenation of string\n",
    "s1=\"good\"\n",
    "s2=\"night\"\n",
    "print(s1+s2)"
   ]
  },
  {
   "cell_type": "code",
   "execution_count": 53,
   "id": "3a62e43e-9fbc-4975-b6e9-59bb81b2743c",
   "metadata": {},
   "outputs": [
    {
     "data": {
      "text/plain": [
       "'a'"
      ]
     },
     "execution_count": 53,
     "metadata": {},
     "output_type": "execute_result"
    }
   ],
   "source": [
    "s=\"kiran\"\n",
    "s[-2]"
   ]
  },
  {
   "cell_type": "code",
   "execution_count": 55,
   "id": "06314b7d-fda8-4cc3-a3a4-853954f41aad",
   "metadata": {},
   "outputs": [],
   "source": [
    "s=\"Hello guys\""
   ]
  },
  {
   "cell_type": "code",
   "execution_count": 57,
   "id": "a4061b7f-3009-4d61-b3cb-a8d9386d95cb",
   "metadata": {},
   "outputs": [
    {
     "data": {
      "text/plain": [
       "'lo '"
      ]
     },
     "execution_count": 57,
     "metadata": {},
     "output_type": "execute_result"
    }
   ],
   "source": [
    "s[3:6:]"
   ]
  },
  {
   "cell_type": "code",
   "execution_count": 59,
   "id": "1492da79-9bd6-45f8-b337-df18939761d9",
   "metadata": {},
   "outputs": [
    {
     "data": {
      "text/plain": [
       "'syug olleH'"
      ]
     },
     "execution_count": 59,
     "metadata": {},
     "output_type": "execute_result"
    }
   ],
   "source": [
    "s[::-1]"
   ]
  },
  {
   "cell_type": "code",
   "execution_count": 61,
   "id": "362e704e-e243-4294-ba4f-36cbb966e200",
   "metadata": {},
   "outputs": [
    {
     "data": {
      "text/plain": [
       "'ran'"
      ]
     },
     "execution_count": 61,
     "metadata": {},
     "output_type": "execute_result"
    }
   ],
   "source": [
    "str1=\"kiran\"\n",
    "str1.replace(\"ki\",\"\")"
   ]
  },
  {
   "cell_type": "code",
   "execution_count": 65,
   "id": "92b82187-ba6e-4643-b215-325a7f7c4fdd",
   "metadata": {},
   "outputs": [
    {
     "data": {
      "text/plain": [
       "'12'"
      ]
     },
     "execution_count": 65,
     "metadata": {},
     "output_type": "execute_result"
    }
   ],
   "source": [
    "a=\"12GB\"\n",
    "a.replace(\"GB\",\"\")"
   ]
  },
  {
   "cell_type": "code",
   "execution_count": 67,
   "id": "1360d54d-7bb5-46aa-87ba-1312807563d7",
   "metadata": {},
   "outputs": [
    {
     "data": {
      "text/plain": [
       "str"
      ]
     },
     "execution_count": 67,
     "metadata": {},
     "output_type": "execute_result"
    }
   ],
   "source": [
    "type(a)"
   ]
  },
  {
   "cell_type": "code",
   "execution_count": 69,
   "id": "bdd4a4e4-a899-4ccb-b1ae-f08c81953e0a",
   "metadata": {},
   "outputs": [
    {
     "name": "stdout",
     "output_type": "stream",
     "text": [
      "KIRAN\n"
     ]
    }
   ],
   "source": [
    "str1=\"kiran\"\n",
    "print(str1.upper())"
   ]
  },
  {
   "cell_type": "code",
   "execution_count": 73,
   "id": "0c99391b-bed1-4143-96bf-c46a06b37229",
   "metadata": {},
   "outputs": [
    {
     "name": "stdout",
     "output_type": "stream",
     "text": [
      "kiran\n"
     ]
    }
   ],
   "source": [
    "str2=\"KIRAN\"\n",
    "print(str2.lower())"
   ]
  },
  {
   "cell_type": "code",
   "execution_count": 75,
   "id": "371436e5-f184-499d-a121-1565d244d74a",
   "metadata": {},
   "outputs": [
    {
     "data": {
      "text/plain": [
       "'aba'"
      ]
     },
     "execution_count": 75,
     "metadata": {},
     "output_type": "execute_result"
    }
   ],
   "source": [
    "a=\"aba\"\n",
    "a[::-1]"
   ]
  },
  {
   "cell_type": "code",
   "execution_count": 85,
   "id": "2c1a087e-7a92-49b6-aacd-cd7e9a837e2b",
   "metadata": {},
   "outputs": [
    {
     "name": "stdin",
     "output_type": "stream",
     "text": [
      "Enter any string aba\n"
     ]
    },
    {
     "name": "stdout",
     "output_type": "stream",
     "text": [
      "pallindrom\n"
     ]
    }
   ],
   "source": [
    "a=input(\"Enter any string\")\n",
    "if a==a[::-1]:\n",
    "    print(\"pallindrom\")\n",
    "else:\n",
    "    print(\"not pallindrom\")\n",
    "    "
   ]
  },
  {
   "cell_type": "markdown",
   "id": "f671a261-6450-40ce-80c4-17700caa5b4c",
   "metadata": {},
   "source": [
    "## @ reversed the string "
   ]
  },
  {
   "cell_type": "code",
   "execution_count": 14,
   "id": "158117d1-a9dd-4d16-8954-d0c77b32a85e",
   "metadata": {},
   "outputs": [
    {
     "name": "stdout",
     "output_type": "stream",
     "text": [
      "Given String:  kiran\n",
      "Reversed String:  \n"
     ]
    }
   ],
   "source": [
    "def reversed(str):\n",
    "    s=\"\"\n",
    "    for ch in s:\n",
    "        s=ch+s\n",
    "    return s\n",
    "str=\"kiran\"\n",
    "print(\"Given String: \",str)\n",
    "print(\"Reversed String: \",reversed(str))\n",
    "        \n"
   ]
  },
  {
   "cell_type": "code",
   "execution_count": 22,
   "id": "a1907481-1918-4120-8c83-06bec4e60325",
   "metadata": {},
   "outputs": [
    {
     "name": "stdin",
     "output_type": "stream",
     "text": [
      "Enter a string:  google.com\n"
     ]
    },
    {
     "name": "stdout",
     "output_type": "stream",
     "text": [
      "Character counts: {'g': 2, 'o': 3, 'l': 1, 'e': 1, '.': 1, 'c': 1, 'm': 1}\n"
     ]
    }
   ],
   "source": [
    "input_string = input(\"Enter a string: \")\n",
    "char_count = {}\n",
    "for char in input_string:\n",
    "    char_count[char] = char_count.get(char, 0) + 1\n",
    "print(\"Character counts:\",char_count)"
   ]
  },
  {
   "cell_type": "code",
   "execution_count": 64,
   "id": "e7d5bddc-5a30-492c-ac02-26b199fb29df",
   "metadata": {},
   "outputs": [
    {
     "name": "stdout",
     "output_type": "stream",
     "text": [
      "First two string: go\n",
      "Last two string: om\n"
     ]
    }
   ],
   "source": [
    "s=\"google.com\"\n",
    "print(\"First two string:\",s[:2:])\n",
    "print(\"Last two string:\",s[-2::1])"
   ]
  },
  {
   "cell_type": "code",
   "execution_count": 68,
   "id": "8a4a3f2d-8190-464c-b927-71526a38737d",
   "metadata": {},
   "outputs": [
    {
     "data": {
      "text/plain": [
       "'goom'"
      ]
     },
     "execution_count": 68,
     "metadata": {},
     "output_type": "execute_result"
    }
   ],
   "source": [
    "s[:2:]+s[-2::1]"
   ]
  },
  {
   "cell_type": "code",
   "execution_count": 66,
   "id": "885b7ab5-49c1-4ce7-97aa-bb90753b88cb",
   "metadata": {},
   "outputs": [
    {
     "name": "stdout",
     "output_type": "stream",
     "text": [
      "goom\n"
     ]
    }
   ],
   "source": [
    "def firstandlast(string):\n",
    "      if len(string)<2:\n",
    "          return \"\"\n",
    "      else :\n",
    "          return string[:2:]+string[len(string)-2::]\n",
    "print(firstandlast(\"google.com\"))"
   ]
  },
  {
   "cell_type": "code",
   "execution_count": 72,
   "id": "87137812-03b8-4213-b385-778a1ebddb87",
   "metadata": {},
   "outputs": [
    {
     "name": "stdout",
     "output_type": "stream",
     "text": [
      "('Hello how ', 'are ', 'you')\n"
     ]
    }
   ],
   "source": [
    "s=\"Hello how are you\"\n",
    "print(s.partition(\"are \"))"
   ]
  },
  {
   "cell_type": "code",
   "execution_count": 74,
   "id": "03572708-cbbf-43db-b110-5413d4d45425",
   "metadata": {},
   "outputs": [
    {
     "name": "stdout",
     "output_type": "stream",
     "text": [
      "('hello world', '', '')\n"
     ]
    }
   ],
   "source": [
    "s=\"hello world\"\n",
    "print(s.partition(\"world \"))"
   ]
  },
  {
   "cell_type": "code",
   "execution_count": 106,
   "id": "87042fc6-81bf-4038-aae8-f59140910a5d",
   "metadata": {},
   "outputs": [
    {
     "name": "stdout",
     "output_type": "stream",
     "text": [
      "The largest word is: hello\n"
     ]
    }
   ],
   "source": [
    "input_string = \"hello how are you guys?\"\n",
    "words = input_string.split()\n",
    "largest_word = max(words, key=len)\n",
    "print(\"The largest word is:\",largest_word)"
   ]
  },
  {
   "cell_type": "code",
   "execution_count": 114,
   "id": "d2c899c3-bb52-4fba-92cd-48a2f557b219",
   "metadata": {},
   "outputs": [
    {
     "name": "stdout",
     "output_type": "stream",
     "text": [
      "List of words: ['hello', 'how', 'are', 'you', 'guys?']\n"
     ]
    }
   ],
   "source": [
    "input_string = \"hello how are you guys?\"\n",
    "word_list = []\n",
    "current_word = \"\"\n",
    "for char in input_string:\n",
    "    if char == \" \":  \n",
    "        if current_word:  \n",
    "            word_list.append(current_word)\n",
    "            current_word = \"\"  \n",
    "    else:\n",
    "        current_word += char  \n",
    "if current_word:\n",
    "    word_list.append(current_word)\n",
    "print(\"List of words:\",word_list)"
   ]
  },
  {
   "cell_type": "code",
   "execution_count": 4,
   "id": "bef05860-7307-428e-9e3b-cd5c441e8952",
   "metadata": {},
   "outputs": [
    {
     "name": "stdout",
     "output_type": "stream",
     "text": [
      "['hello', 'how', 'are', 'you', 'guys']\n"
     ]
    }
   ],
   "source": [
    "#find the largest word in string\n",
    "def largerword(string_list):\n",
    "    list=[]\n",
    "    for i in string_list:\n",
    "        list.append(i)\n",
    "    return list\n",
    "               \n",
    "print(largerword([\"hello\",\"how\",\"are\",\"you\",\"guys\"]))"
   ]
  },
  {
   "cell_type": "code",
   "execution_count": 110,
   "id": "3ab8d53c-05b4-459c-9eb3-88a509b2bb4f",
   "metadata": {},
   "outputs": [
    {
     "name": "stdout",
     "output_type": "stream",
     "text": [
      "['hello', 'how', 'are', 'you', 'guys?']\n"
     ]
    }
   ],
   "source": [
    "s=\"hello how are you guys?\"\n",
    "print(s.split())"
   ]
  },
  {
   "cell_type": "code",
   "execution_count": 120,
   "id": "d10f1345-2a2d-4048-8de2-f4896b2d8a4b",
   "metadata": {},
   "outputs": [
    {
     "name": "stdout",
     "output_type": "stream",
     "text": [
      "['hello', ' how', ' are', ' you', ' guys']\n"
     ]
    }
   ],
   "source": [
    "s=\"hello, how, are, you, guys\"\n",
    "print(s.split(\",\"))"
   ]
  },
  {
   "cell_type": "code",
   "execution_count": 116,
   "id": "5b9a6722-0f1c-49bc-baca-14ae309af312",
   "metadata": {},
   "outputs": [],
   "source": [
    "#first and last word has to be swapp\n",
    "def swapping(s):\n",
    "    s\n",
    "        \n",
    "s=\"how are you?\"\n"
   ]
  },
  {
   "cell_type": "code",
   "execution_count": 132,
   "id": "b49209bd-6802-48fb-b777-3a284a9b3662",
   "metadata": {},
   "outputs": [
    {
     "data": {
      "text/plain": [
       "'?uoy era'"
      ]
     },
     "execution_count": 132,
     "metadata": {},
     "output_type": "execute_result"
    }
   ],
   "source": [
    "s=\"how are you?\"\n",
    "s[:3:-1]"
   ]
  },
  {
   "cell_type": "code",
   "execution_count": 124,
   "id": "de68fbc4-3715-493f-be67-7ef5dd01e88e",
   "metadata": {},
   "outputs": [
    {
     "name": "stdout",
     "output_type": "stream",
     "text": [
      "String after swapping: you how are Hello\n"
     ]
    }
   ],
   "source": [
    "input_string = \"Hello how are you\"\n",
    "word_list = []\n",
    "current_word = \"\"\n",
    "for char in input_string:\n",
    "    if char == \" \":  \n",
    "        if current_word:\n",
    "            word_list.append(current_word)\n",
    "            current_word = \"\"\n",
    "    else:\n",
    "        current_word += char\n",
    "if current_word:\n",
    "    word_list.append(current_word)\n",
    "if len(word_list) > 1:  \n",
    "    word_list[0], word_list[-1] = word_list[-1], word_list[0]\n",
    "swapped_string = \" \".join(word_list)\n",
    "print(\"String after swapping:\",swapped_string)"
   ]
  },
  {
   "cell_type": "code",
   "execution_count": 122,
   "id": "4700f0fd-2df7-4654-95a2-d4a22e5c952d",
   "metadata": {},
   "outputs": [
    {
     "name": "stdout",
     "output_type": "stream",
     "text": [
      "False\n"
     ]
    }
   ],
   "source": [
    "s=\"how are you?\"\n",
    "print(s.startswith(\"Bye\"))"
   ]
  },
  {
   "cell_type": "code",
   "execution_count": 126,
   "id": "1d57b0a3-a4c4-4eef-b3cc-190808c50d5e",
   "metadata": {},
   "outputs": [
    {
     "name": "stdout",
     "output_type": "stream",
     "text": [
      "True\n"
     ]
    }
   ],
   "source": [
    "s=\"444001\"\n",
    "print(s.isnumeric())"
   ]
  },
  {
   "cell_type": "code",
   "execution_count": 134,
   "id": "e7382b40-ff4b-4910-8b9a-e5f62bd55a69",
   "metadata": {},
   "outputs": [
    {
     "name": "stdout",
     "output_type": "stream",
     "text": [
      "4\n"
     ]
    }
   ],
   "source": [
    "s=\"how are you?\"\n",
    "print(s.index(\"are\"))"
   ]
  },
  {
   "cell_type": "code",
   "execution_count": 26,
   "id": "704175b7-27b9-43ca-ae51-533a7e106bfb",
   "metadata": {},
   "outputs": [
    {
     "name": "stdout",
     "output_type": "stream",
     "text": [
      "a\n",
      "ab\n",
      "abc\n",
      "abcb\n",
      "abcba\n",
      "abcbab\n",
      "abcbaba\n",
      "abcbabab\n",
      "b\n",
      "bc\n",
      "bcb\n",
      "bcba\n",
      "bcbab\n",
      "bcbaba\n",
      "bcbabab\n",
      "c\n",
      "cb\n",
      "cba\n",
      "cbab\n",
      "cbaba\n",
      "cbabab\n",
      "b\n",
      "ba\n",
      "bab\n",
      "baba\n",
      "babab\n",
      "a\n",
      "ab\n",
      "aba\n",
      "abab\n",
      "b\n",
      "ba\n",
      "bab\n",
      "a\n",
      "ab\n",
      "b\n",
      "None\n"
     ]
    }
   ],
   "source": [
    "def substring(s):\n",
    "    for i in range(0,len(s)):\n",
    "        for j in range(i+1,len(s)+1):\n",
    "            s1=s[i:j]\n",
    "            print(s1)\n",
    "s=\"abcbabab\"\n",
    "print(substring(s))\n",
    " "
   ]
  },
  {
   "cell_type": "code",
   "execution_count": 8,
   "id": "7fe2adef-ca78-475b-8df9-de5f747afe21",
   "metadata": {},
   "outputs": [
    {
     "name": "stdout",
     "output_type": "stream",
     "text": [
      "a\n",
      "ab\n",
      "abc\n",
      "abcc\n",
      "abccb\n",
      "abccba\n",
      "abccb\n",
      "abcc\n",
      "abc\n",
      "ab\n",
      "a\n"
     ]
    }
   ],
   "source": [
    "s = \"abccba\"\n",
    "for i in range(1, len(s) + 1):\n",
    "    print(s[:i]) \n",
    "for i in range(len(s) - 1, 0, -1):\n",
    "    print(s[:i])"
   ]
  },
  {
   "cell_type": "code",
   "execution_count": 24,
   "id": "de3e9266-2ec9-4683-8548-9b7f5e920daf",
   "metadata": {},
   "outputs": [
    {
     "name": "stdout",
     "output_type": "stream",
     "text": [
      "abc\n"
     ]
    }
   ],
   "source": [
    "def compress(s):\n",
    "    s1=s[0]\n",
    "    for i in range(1,len(s)): \n",
    "        prev=s[i-1]\n",
    "        curr=s[i]\n",
    "        if prev!=curr:\n",
    "            s1+=curr\n",
    "    return s1\n",
    "s=\"aaaabbbbcccccc\"\n",
    "print(compress(s))\n",
    "            "
   ]
  },
  {
   "cell_type": "code",
   "execution_count": 22,
   "id": "9a241725-4ffb-4adf-80d2-e912ecc769fb",
   "metadata": {},
   "outputs": [
    {
     "name": "stdout",
     "output_type": "stream",
     "text": [
      "Compressed string: a4b4c6\n"
     ]
    }
   ],
   "source": [
    "def compress_string(s):\n",
    "    compressed = []\n",
    "    count = 1\n",
    "    for i in range(1, len(s)):\n",
    "        if s[i] == s[i - 1]:\n",
    "            count += 1\n",
    "        else:\n",
    "            compressed.append(s[i - 1] + str(count))\n",
    "            count = 1\n",
    "\n",
    "    compressed.append(s[-1] + str(count))\n",
    "\n",
    "    return \"\".join(compressed)\n",
    "compressed = compress_string(s)\n",
    "print(\"Compressed string:\",compressed)"
   ]
  },
  {
   "cell_type": "code",
   "execution_count": 28,
   "id": "66766fe6-48a7-4373-afec-bd7e076fe838",
   "metadata": {},
   "outputs": [
    {
     "name": "stdout",
     "output_type": "stream",
     "text": [
      "Toggled string: MAyur\n"
     ]
    }
   ],
   "source": [
    "s= \"maYUR\"\n",
    "toggled = \"\"\n",
    "for char in s:\n",
    "    if 'a' <= char <= 'z':  \n",
    "        toggled += chr(ord(char) - 32)  \n",
    "    elif 'A' <= char <= 'Z':  \n",
    "        toggled += chr(ord(char) + 32) \n",
    "    else:\n",
    "        toggled += char  \n",
    "print(\"Toggled string:\",toggled)\n",
    "    "
   ]
  },
  {
   "cell_type": "code",
   "execution_count": 225,
   "id": "20b1f6f1-33a3-40d5-a1c6-51424628c9d5",
   "metadata": {},
   "outputs": [
    {
     "name": "stdout",
     "output_type": "stream",
     "text": [
      "MAyur\n"
     ]
    }
   ],
   "source": [
    "def asciivalue(s):\n",
    "    result = \"\"\n",
    "    for i in s:\n",
    "        if 'A' <= i <= 'Z':\n",
    "            result += chr(ord(i) + ord('a') - ord('A'))  \n",
    "        elif 'a' <= i <= 'z':  \n",
    "            result += chr(ord(i) - ord('a') + ord('A'))  \n",
    "        else:\n",
    "            return None  \n",
    "    return result\n",
    "s = \"maYUR\"\n",
    "print(asciivalue(s)) \n"
   ]
  },
  {
   "cell_type": "code",
   "execution_count": 38,
   "id": "c3f680a9-9d07-4adb-9b64-2125ccc3cc6b",
   "metadata": {},
   "outputs": [
    {
     "name": "stdout",
     "output_type": "stream",
     "text": [
      "Sorted words: one two three five seven\n"
     ]
    }
   ],
   "source": [
    "#sorting the string \n",
    "s = \"seven five one two three\"\n",
    "word_to_number = {\n",
    "    \"one\": 1,\n",
    "    \"two\": 2,\n",
    "    \"three\": 3,\n",
    "    \"four\": 4,\n",
    "    \"five\": 5,\n",
    "    \"six\": 6,\n",
    "    \"seven\": 7,\n",
    "    \"eight\": 8,\n",
    "    \"nine\": 9,\n",
    "    \"zero\": 0\n",
    "}\n",
    "words = s.split()\n",
    "sorted_words = sorted(words, key=lambda word: word_to_number[word])\n",
    "\n",
    "result = \" \".join(sorted_words)\n",
    "print(\"Sorted words:\",result)"
   ]
  },
  {
   "cell_type": "code",
   "execution_count": null,
   "id": "1c9437ba-4a7d-4518-afa2-52c1fad53fc5",
   "metadata": {},
   "outputs": [],
   "source": [
    "def sorting(s):\n",
    "    "
   ]
  },
  {
   "cell_type": "code",
   "execution_count": 46,
   "id": "0249efb8-ffa4-428f-8ba7-0321a2aab621",
   "metadata": {},
   "outputs": [
    {
     "data": {
      "text/plain": [
       "'Howareyou'"
      ]
     },
     "execution_count": 46,
     "metadata": {},
     "output_type": "execute_result"
    }
   ],
   "source": [
    "s=\"@@@@@@@@@@@@@@Howareyou@@@@@@@@@@@@@@@@\"\n",
    "s.strip('@')"
   ]
  },
  {
   "cell_type": "code",
   "execution_count": 48,
   "id": "844b307c-b739-4c67-96ef-9ad78ed3f62e",
   "metadata": {},
   "outputs": [
    {
     "data": {
      "text/plain": [
       "'Howareyou@@@@@@@@@@@@@@@@'"
      ]
     },
     "execution_count": 48,
     "metadata": {},
     "output_type": "execute_result"
    }
   ],
   "source": [
    "s.lstrip(\"@\")"
   ]
  },
  {
   "cell_type": "code",
   "execution_count": 50,
   "id": "5b96bc5d-3ed7-48cc-b93d-d724c9fc9c2c",
   "metadata": {},
   "outputs": [
    {
     "data": {
      "text/plain": [
       "'@@@@@@@@@@@@@@Howareyou'"
      ]
     },
     "execution_count": 50,
     "metadata": {},
     "output_type": "execute_result"
    }
   ],
   "source": [
    "s.rstrip('@')"
   ]
  }
 ],
 "metadata": {
  "kernelspec": {
   "display_name": "Python 3 (ipykernel)",
   "language": "python",
   "name": "python3"
  },
  "language_info": {
   "codemirror_mode": {
    "name": "ipython",
    "version": 3
   },
   "file_extension": ".py",
   "mimetype": "text/x-python",
   "name": "python",
   "nbconvert_exporter": "python",
   "pygments_lexer": "ipython3",
   "version": "3.12.7"
  }
 },
 "nbformat": 4,
 "nbformat_minor": 5
}
