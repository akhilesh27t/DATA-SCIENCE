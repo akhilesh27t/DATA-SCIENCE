{
 "cells": [
  {
   "cell_type": "markdown",
   "id": "137de0f9-9987-483c-bca9-f17cbd70e25d",
   "metadata": {},
   "source": [
    "# @ Numpy"
   ]
  },
  {
   "cell_type": "markdown",
   "id": "cbf16c1f-fd62-45bc-a598-48523aa8ab40",
   "metadata": {},
   "source": [
    " @ Numpy : Numerical python \n",
    " \n",
    "          - It is an array.\n",
    "          - It is a core python library\n",
    "          - We are using numpy to perform the complex operation\n",
    "          - Ex : 3+5=8\n",
    "          - Ex : 345678*678\n",
    "          - Ex : 500!\n",
    "          - It is a open source and freeware\n",
    "           @ Open source - code is available for everyone\n",
    "           @ Freeware - no cost\n",
    "         - numpy is a fixed length\n",
    "         \n",
    " @ Complex operations we are performing with the help of numpy :\n",
    " \n",
    "  - Numpy is extensionsion to the multi - dimensional array\n",
    "  - Array is a collection of homogeneous/similar kind of data\n",
    "\n",
    " 1. Performing the operations on higher dimensional arrays ----complex operation\n",
    "  - In a machine leaningeach feature as a dimension\n",
    "  - Scalar : only magnitude\n",
    "  - Ex - displacement\n",
    "  - Vector : magnitude as well as dimension\n",
    "  - Data visualization : \n",
    "  - Dimensionality reduction : PCA ,tSNE\n",
    "\n",
    " 2. Complex matrix oprations :\n",
    "\n",
    "    - 1D : vector\n",
    "    - 2D : matrix \n",
    "    - 3D : cube\n",
    "    - nD : tensors \n",
    "      \n",
    " a. Matrix multiplication : costly / complex  \n",
    "  - Becoz of the vectorzation numpy perform the multiplication in a faster way.\n",
    "\n",
    " b. inverse \n",
    " \n",
    " c. rank\n",
    " \n",
    " d. transpose\n",
    " \n",
    " e. eigen values and eigen vectors\n",
    " \n",
    " f. determinant\n",
    "\n",
    " @ Linear equation : \n",
    " \n",
    "                    a1x+b1y+c=0\n",
    "                    a2x+b2y+c=0\n",
    "                     \n",
    "                   1. Simltaneous equation\n",
    "                   2. Inversion,reduction -- matrix \n",
    "                   3. LPP : Simple method\n",
    "\n",
    "\n",
    " 3. Numerical method and optimization :\n",
    "    - In a mathematics we two kinds of method :\n",
    "\n",
    "   1. Analytical method : (algorithm)\n",
    "     - If we have a formulation, method, theorom or axionms to solve a particular problem then we called it as analytical method\n",
    "\n",
    "   2. Numerical method (procedure) :\n",
    "      - Approximation \n",
    "      - Ex : newton raphson\n",
    "\n",
    "   3. Numerial integration : \n",
    "\n",
    "   4. Scientic computing :\n",
    "\n",
    "   5. Vector computing :\n",
    "\n",
    "   6. Statistical operation :\n",
    "     - Statistic : it is a way of solving the problem with the help of data.\n",
    "\n",
    "\n",
    " @ Numpy is written in python and c\n",
    "   - For using the numpy we need to import it \n",
    "\n",
    " @ Syntax : import numpy as np\n",
    " \n",
    " - impoRt ---- keyword\n",
    " - numpy ---- library name\n",
    " - np---- alias \n",
    "\n",
    " Q Why we are using alias ?\n",
    " - It will increase the readability\n",
    "\n",
    " @ Installing numpy : pip install numpy"
   ]
  },
  {
   "cell_type": "markdown",
   "id": "a4c4728f-2f71-4e81-b714-31122ae0b658",
   "metadata": {},
   "source": [
    " 1. Creating numpy arrays :\n",
    "\n",
    "    1. np.array() : We are creating the numpy array manually with the help of np,array()\n",
    "    2. It will always takes list as a argument\n",
    "    - syntax : ideatifier/ variable = np.array([e1,e2-----])\n",
    "    - Mumpy is a fixed size\n",
    "\n",
    "    - ex : array1=np.array([23,34,56,89,99]) ------- vector--- 1D\n",
    " \n",
    "    - numer of subscript operators will decide th ,[]dimension of the numpy array\n",
    "    - [] 1D\n",
    "    -  [[]] 2D\n",
    "    - [[[]]] 3D\n",
    "\n",
    " - ndim : will gives the dimension of the numpy array\n",
    " - syntax : array_name.ndim\n",
    "\n",
    " - ex :\n",
    "        array([[1, 2, 3, 4],\n",
    "        [5, 6, 7, 8]])---matrix--2D(rows and columns)\n",
    "\n",
    " - ex :\n",
    "        array([[[1, 2],\n",
    "        [3, 4]],\n",
    "\n",
    "         [[5, 6],\n",
    "        [7, 8]]])----cube--3D(length,height,width)\n"
   ]
  },
  {
   "cell_type": "code",
   "execution_count": 1,
   "id": "f46f3dd6-ceaa-49ce-8b00-d9213acb5857",
   "metadata": {},
   "outputs": [],
   "source": [
    "import numpy as np"
   ]
  },
  {
   "cell_type": "code",
   "execution_count": 2,
   "id": "78993048-e8c3-4e1a-a811-591e1c2a3398",
   "metadata": {},
   "outputs": [],
   "source": [
    "array1=np.array([23,34,56,89,99])"
   ]
  },
  {
   "cell_type": "code",
   "execution_count": 11,
   "id": "3613c778-aaa5-46ae-ae31-d77a5293d3ee",
   "metadata": {},
   "outputs": [
    {
     "data": {
      "text/plain": [
       "array([23, 34, 56, 89, 99])"
      ]
     },
     "execution_count": 11,
     "metadata": {},
     "output_type": "execute_result"
    }
   ],
   "source": [
    "array1"
   ]
  },
  {
   "cell_type": "code",
   "execution_count": 12,
   "id": "0ced8fc5-55f9-4f7d-9628-57676b68cc72",
   "metadata": {},
   "outputs": [
    {
     "data": {
      "text/plain": [
       "1"
      ]
     },
     "execution_count": 12,
     "metadata": {},
     "output_type": "execute_result"
    }
   ],
   "source": [
    "array1.ndim"
   ]
  },
  {
   "cell_type": "code",
   "execution_count": 5,
   "id": "a66b71f7-bbf7-4e4c-838d-9b0f6fc20efe",
   "metadata": {},
   "outputs": [
    {
     "data": {
      "text/plain": [
       "array([[1, 2, 3, 4],\n",
       "       [5, 6, 7, 8]])"
      ]
     },
     "execution_count": 5,
     "metadata": {},
     "output_type": "execute_result"
    }
   ],
   "source": [
    "array2=np.array([[1,2,3,4],[5,6,7,8]])\n",
    "array2"
   ]
  },
  {
   "cell_type": "code",
   "execution_count": 6,
   "id": "7a62084d-32ca-4bfc-8b7e-673c8f4b35ca",
   "metadata": {},
   "outputs": [
    {
     "data": {
      "text/plain": [
       "2"
      ]
     },
     "execution_count": 6,
     "metadata": {},
     "output_type": "execute_result"
    }
   ],
   "source": [
    "array2.ndim"
   ]
  },
  {
   "cell_type": "code",
   "execution_count": 7,
   "id": "e66fc140-43db-4a60-af82-fa8b5b0dcde6",
   "metadata": {},
   "outputs": [
    {
     "data": {
      "text/plain": [
       "array([[[1, 2],\n",
       "        [3, 4],\n",
       "        [5, 6],\n",
       "        [7, 8]]])"
      ]
     },
     "execution_count": 7,
     "metadata": {},
     "output_type": "execute_result"
    }
   ],
   "source": [
    "array3=np.array([[[1,2],[3,4],[5,6],[7,8]]])\n",
    "array3"
   ]
  },
  {
   "cell_type": "code",
   "execution_count": 8,
   "id": "a82e6843-4236-4e36-9543-ae472c4110ce",
   "metadata": {},
   "outputs": [
    {
     "data": {
      "text/plain": [
       "3"
      ]
     },
     "execution_count": 8,
     "metadata": {},
     "output_type": "execute_result"
    }
   ],
   "source": [
    "array3.ndim"
   ]
  },
  {
   "cell_type": "markdown",
   "id": "94e971ff-aab4-467b-9a48-a0ff7afbc0c9",
   "metadata": {},
   "source": [
    " 2. Creating numpy array using arrange() :\n",
    "    - We are crating the numpy array by specifying the values in the arguments\n",
    "    - np.arange(start,end,step_size)\n",
    "    - By default it is starting from 0\n",
    "    - array4=np.arange(10)\n",
    "    - array5=np.arange(10,30)\n",
    "    - By default step size is 1\n",
    "    - array6=np.arange(10,20,3)"
   ]
  },
  {
   "cell_type": "code",
   "execution_count": 11,
   "id": "61e02f52-d472-4454-ae2d-19be73b38a39",
   "metadata": {},
   "outputs": [],
   "source": [
    "import numpy as np"
   ]
  },
  {
   "cell_type": "code",
   "execution_count": 12,
   "id": "daba2e89-8e33-481a-b058-070cbf6c8a32",
   "metadata": {},
   "outputs": [
    {
     "data": {
      "text/plain": [
       "array([0, 1, 2, 3, 4, 5, 6, 7, 8, 9])"
      ]
     },
     "execution_count": 12,
     "metadata": {},
     "output_type": "execute_result"
    }
   ],
   "source": [
    "array4=np.arange(10)\n",
    "array4"
   ]
  },
  {
   "cell_type": "code",
   "execution_count": 13,
   "id": "5bcdcc97-d690-4c4b-81c1-95fb9bd8f33e",
   "metadata": {},
   "outputs": [
    {
     "data": {
      "text/plain": [
       "array([10, 11, 12, 13, 14, 15, 16, 17, 18, 19, 20, 21, 22, 23, 24, 25, 26,\n",
       "       27, 28, 29])"
      ]
     },
     "execution_count": 13,
     "metadata": {},
     "output_type": "execute_result"
    }
   ],
   "source": [
    "array5=np.arange(10,30)\n",
    "array5"
   ]
  },
  {
   "cell_type": "code",
   "execution_count": 14,
   "id": "f72dedac-1732-42da-add6-82ca64939dad",
   "metadata": {},
   "outputs": [
    {
     "data": {
      "text/plain": [
       "array([10, 13, 16, 19])"
      ]
     },
     "execution_count": 14,
     "metadata": {},
     "output_type": "execute_result"
    }
   ],
   "source": [
    "array6=np.arange(10,20,3)\n",
    "array6"
   ]
  },
  {
   "cell_type": "code",
   "execution_count": 15,
   "id": "fc29c6b3-5cc6-422d-bc64-869902c63921",
   "metadata": {},
   "outputs": [
    {
     "name": "stdout",
     "output_type": "stream",
     "text": [
      "[[4, 6], [8, 10]]\n"
     ]
    }
   ],
   "source": [
    "a=[[1,2],[3,4]]\n",
    "b=[[3,4],[5,6]]\n",
    "c=[[0,0],[0,0]]\n",
    "for i in range(len(a)):\n",
    "    for j in range(len(b)): \n",
    "        c[i][j]=a[i][j]+b[i][j]\n",
    "print(c)        "
   ]
  },
  {
   "cell_type": "code",
   "execution_count": 16,
   "id": "a4323e15-a5cc-47be-b76f-1b74b3588681",
   "metadata": {},
   "outputs": [],
   "source": [
    "a1=np.array([[1,2],[3,4]])\n",
    "a2=np.array([[3,4],[5,6]])"
   ]
  },
  {
   "cell_type": "code",
   "execution_count": 17,
   "id": "29d9e602-e282-4d73-b266-95a520cbaef8",
   "metadata": {},
   "outputs": [
    {
     "data": {
      "text/plain": [
       "array([[ 4,  6],\n",
       "       [ 8, 10]])"
      ]
     },
     "execution_count": 17,
     "metadata": {},
     "output_type": "execute_result"
    }
   ],
   "source": [
    "a1+a2"
   ]
  },
  {
   "cell_type": "code",
   "execution_count": 18,
   "id": "c2272bc9-5304-4660-a960-9a0ef07eb5a0",
   "metadata": {},
   "outputs": [
    {
     "name": "stdout",
     "output_type": "stream",
     "text": [
      "[[13, 16], [29, 36]]\n"
     ]
    }
   ],
   "source": [
    "a=[[1,2],[3,4]]\n",
    "b=[[3,4],[5,6]]\n",
    "c=[[0,0],[0,0]]\n",
    "for i in range(len(a)):\n",
    "    for j in range(len(b)):\n",
    "        for k in range(len(b)):\n",
    "            c[i][j]+=a[i][k]*b[k][j]\n",
    "print(c)"
   ]
  },
  {
   "cell_type": "code",
   "execution_count": 19,
   "id": "b79d24d7-d4da-40eb-b228-c113a79da7f4",
   "metadata": {},
   "outputs": [],
   "source": [
    "a1=np.array([[1,2],[3,4]])\n",
    "a2=np.array([[3,4],[5,6]])\n"
   ]
  },
  {
   "cell_type": "code",
   "execution_count": 20,
   "id": "1c6e170f-895d-45bc-9b83-b2b9d8f11b04",
   "metadata": {},
   "outputs": [
    {
     "data": {
      "text/plain": [
       "array([[ 3,  8],\n",
       "       [15, 24]])"
      ]
     },
     "execution_count": 20,
     "metadata": {},
     "output_type": "execute_result"
    }
   ],
   "source": [
    "a1*a2"
   ]
  },
  {
   "cell_type": "code",
   "execution_count": 21,
   "id": "12383145-2331-4857-a9b4-2f0232dd205d",
   "metadata": {},
   "outputs": [
    {
     "data": {
      "text/plain": [
       "array([[13, 16],\n",
       "       [29, 36]])"
      ]
     },
     "execution_count": 21,
     "metadata": {},
     "output_type": "execute_result"
    }
   ],
   "source": [
    "a1.dot(a2)"
   ]
  },
  {
   "cell_type": "markdown",
   "id": "eb996991-93bb-48ea-8a5b-4bbb43108b87",
   "metadata": {},
   "source": [
    " @ Difference between list and numpy array :\n",
    "\n",
    " @ List :\n",
    " \n",
    "        - Collection of heterogeneous items\n",
    "        - List is a variable size\n",
    "        - List is not memory efficient because for one item it is creating two blocks of memory\n",
    "        - So we required every time one block extra memeory for each item\n",
    "        - Whenever we are storing the list in the memory ,the item will be stored whereever the space is available in the memory.\n",
    "        - Matrix operations are slow in list\n",
    "        - To perform the matrix operation in list we have to iterate it becoz of that time and space both are getting increase\n",
    "\n",
    "\n",
    " @ Numpy :\n",
    " \n",
    "         - Collection of similar kind of data items\n",
    "         - It is of fixed size\n",
    "         - Numpy array will be stored inside the memory in a consecutive manner\n",
    "         - So it is memory efficient\n",
    "         - Numpy is more closer to the hardware \n",
    "         - Numpy is faster than list becoz it will follows the spatial or temporal aspect of cache\n",
    "         - It is possible because of consecutive storing behaviour of numpy\n",
    "\n",
    " @ Aspects of cache :\n",
    " \n",
    "   - Spatial : Instead of loading one block load the consecutive block also\n",
    "   - temporal aspect : Instead of loading consecutive block load the entire array\n",
    "   - Matrix operations are faster in numpy because of vectorization.\n",
    "   - In case of numpy array we don't need to iterate the matrix so it efficient\n",
    "   - Numpy will provide matrix multiplication in two ways\n",
    "\n",
    "    1. Element wise multiplication\n",
    "    2. Dot product\n",
    "\n",
    " @ Scalar : Magnetude\n",
    " \n",
    " @ Vector : Magnetude as well as direction"
   ]
  },
  {
   "cell_type": "markdown",
   "id": "5e03ab92-edf1-4196-b711-1fe4a63ddebe",
   "metadata": {},
   "source": [
    " 3. Creating numpy array using np.zeros() :\n",
    " - It will create the numpy array with all elements zeros\n",
    " - If we are giving the order of a matrix as a argument then we have to give it in the form of tuple\n",
    " - arr1=np.zeros(5)\n",
    " - arr2=np.zeros((3,3))\n",
    " - Zero matrix we called it as initialization matrix"
   ]
  },
  {
   "cell_type": "code",
   "execution_count": 22,
   "id": "490cb575-2a7b-4a59-94f2-4498f88acf1d",
   "metadata": {},
   "outputs": [
    {
     "data": {
      "text/plain": [
       "array([0., 0., 0., 0., 0.])"
      ]
     },
     "execution_count": 22,
     "metadata": {},
     "output_type": "execute_result"
    }
   ],
   "source": [
    "arr1=np.zeros(5)\n",
    "arr1"
   ]
  },
  {
   "cell_type": "code",
   "execution_count": 23,
   "id": "05722dbe-b169-45ef-9873-3b9a64b49971",
   "metadata": {},
   "outputs": [
    {
     "data": {
      "text/plain": [
       "array([[0., 0., 0.],\n",
       "       [0., 0., 0.],\n",
       "       [0., 0., 0.]])"
      ]
     },
     "execution_count": 23,
     "metadata": {},
     "output_type": "execute_result"
    }
   ],
   "source": [
    "arr2=np.zeros((3,3))\n",
    "arr2"
   ]
  },
  {
   "cell_type": "markdown",
   "id": "c9bcd036-68e3-4f96-b91c-d3161e491a7f",
   "metadata": {},
   "source": [
    " 4. Creating numpy array using np.ones() :\n",
    "   - It will create numpy array with all elemnets one\n",
    "   - If we are giving the order of a matrix as a argument then we have to give it in the form of tuple\n",
    "   - Ex : arr3=np.ones(5)\n",
    "   - arr4=np.ones((3,3))"
   ]
  },
  {
   "cell_type": "code",
   "execution_count": 24,
   "id": "3375d736-6075-4d88-8622-03e21dc9db01",
   "metadata": {},
   "outputs": [
    {
     "data": {
      "text/plain": [
       "array([1., 1., 1., 1., 1.])"
      ]
     },
     "execution_count": 24,
     "metadata": {},
     "output_type": "execute_result"
    }
   ],
   "source": [
    "arr3=np.ones(5)\n",
    "arr3"
   ]
  },
  {
   "cell_type": "code",
   "execution_count": 25,
   "id": "34576c9f-2e4d-409a-b88d-9153eced09a3",
   "metadata": {},
   "outputs": [
    {
     "data": {
      "text/plain": [
       "array([[1., 1., 1.],\n",
       "       [1., 1., 1.],\n",
       "       [1., 1., 1.]])"
      ]
     },
     "execution_count": 25,
     "metadata": {},
     "output_type": "execute_result"
    }
   ],
   "source": [
    "arr4=np.ones((3,3))\n",
    "arr4"
   ]
  },
  {
   "cell_type": "markdown",
   "id": "01936fd6-ab9a-4a1e-9fc7-576d7f5d8c7d",
   "metadata": {},
   "source": [
    " 5. Creating numpy array using np.eye() :\n",
    "\n",
    "   - It will make all the principal diagonal elements 1 \n",
    "   - arr7=np.eye(2,3)\n",
    "   - arr5=np.eye(3,3)\n",
    "   - arr6=np.eye(4)"
   ]
  },
  {
   "cell_type": "code",
   "execution_count": 1,
   "id": "f6e1ee41-ffd8-4141-af38-afb9f6191584",
   "metadata": {},
   "outputs": [],
   "source": [
    "import numpy as np"
   ]
  },
  {
   "cell_type": "code",
   "execution_count": 2,
   "id": "6aff32c7-6ac4-4a25-93bd-943fd687fe58",
   "metadata": {},
   "outputs": [
    {
     "data": {
      "text/plain": [
       "array([[1., 0., 0.],\n",
       "       [0., 1., 0.],\n",
       "       [0., 0., 1.]])"
      ]
     },
     "execution_count": 2,
     "metadata": {},
     "output_type": "execute_result"
    }
   ],
   "source": [
    "arr5=np.eye(3,3)\n",
    "arr5"
   ]
  },
  {
   "cell_type": "code",
   "execution_count": 3,
   "id": "f69599ea-d64b-4470-832f-52ebcab7df46",
   "metadata": {},
   "outputs": [
    {
     "data": {
      "text/plain": [
       "array([[1., 0., 0., 0.],\n",
       "       [0., 1., 0., 0.],\n",
       "       [0., 0., 1., 0.],\n",
       "       [0., 0., 0., 1.]])"
      ]
     },
     "execution_count": 3,
     "metadata": {},
     "output_type": "execute_result"
    }
   ],
   "source": [
    "arr6=np.eye(4)\n",
    "arr6"
   ]
  },
  {
   "cell_type": "code",
   "execution_count": 4,
   "id": "807da8ae-6876-4851-840f-612e52880b53",
   "metadata": {},
   "outputs": [
    {
     "data": {
      "text/plain": [
       "array([[1., 0., 0.],\n",
       "       [0., 1., 0.]])"
      ]
     },
     "execution_count": 4,
     "metadata": {},
     "output_type": "execute_result"
    }
   ],
   "source": [
    "arr7=np.eye(2,3)\n",
    "arr7"
   ]
  },
  {
   "cell_type": "markdown",
   "id": "f9509f44-9e04-4fd2-8684-803dc57cb871",
   "metadata": {},
   "source": [
    " 6. Creating numpy array using np.diag() :\n",
    "   - It will create the diagonal matrix\n",
    "   - It will always takes the argument in the form of list\n",
    "   - d1=np.diag([1,2,3])\n",
    "   - For creating the matrix of the combinations of zeros and ones ,we have to create it manually"
   ]
  },
  {
   "cell_type": "code",
   "execution_count": 5,
   "id": "2a210b7a-8ff7-4069-b3ac-2eeebbab3fe4",
   "metadata": {},
   "outputs": [
    {
     "data": {
      "text/plain": [
       "array([[1, 0, 0],\n",
       "       [0, 2, 0],\n",
       "       [0, 0, 3]])"
      ]
     },
     "execution_count": 5,
     "metadata": {},
     "output_type": "execute_result"
    }
   ],
   "source": [
    "d1=np.diag([1,2,3])\n",
    "d1"
   ]
  },
  {
   "cell_type": "code",
   "execution_count": 6,
   "id": "46c90a28-e3ad-4ae9-ae73-7e6da140d781",
   "metadata": {},
   "outputs": [
    {
     "data": {
      "text/plain": [
       "array([[2., 2., 2.],\n",
       "       [2., 2., 2.],\n",
       "       [2., 2., 2.]])"
      ]
     },
     "execution_count": 6,
     "metadata": {},
     "output_type": "execute_result"
    }
   ],
   "source": [
    "d2=2*np.ones((3,3))\n",
    "d2"
   ]
  },
  {
   "cell_type": "code",
   "execution_count": 7,
   "id": "74f2eb4d-8705-4d7c-a248-251b847bdbed",
   "metadata": {},
   "outputs": [
    {
     "data": {
      "text/plain": [
       "array([[ 3,  0,  0,  0,  0],\n",
       "       [ 0,  8,  0,  0,  0],\n",
       "       [ 0,  0, 15,  0,  0],\n",
       "       [ 0,  0,  0, 24,  0],\n",
       "       [ 0,  0,  0,  0, 35]])"
      ]
     },
     "execution_count": 7,
     "metadata": {},
     "output_type": "execute_result"
    }
   ],
   "source": [
    "a=np.diag([1,2,3,4,5])\n",
    "b=np.diag([3,4,5,6,7])\n",
    "a*b"
   ]
  },
  {
   "cell_type": "code",
   "execution_count": 8,
   "id": "c3b4c5fe-478e-469f-aacd-b70f0cf0b810",
   "metadata": {},
   "outputs": [
    {
     "data": {
      "text/plain": [
       "array([[ 3,  0,  0,  0,  0],\n",
       "       [ 0,  8,  0,  0,  0],\n",
       "       [ 0,  0, 15,  0,  0],\n",
       "       [ 0,  0,  0, 24,  0],\n",
       "       [ 0,  0,  0,  0, 35]])"
      ]
     },
     "execution_count": 8,
     "metadata": {},
     "output_type": "execute_result"
    }
   ],
   "source": [
    "a.dot(b)"
   ]
  },
  {
   "cell_type": "markdown",
   "id": "9cc6fd9c-ea88-4b56-a33f-b4ad28c32f3b",
   "metadata": {},
   "source": [
    " 7. Creating numpy array using np.linspace() :\n",
    "   - It is used to create 1D numpy array (vector)\n",
    "   - It will create the values as per the limit\n",
    "   - And if we are not specifying the equidistant points by default it will take 50 points  \n",
    "   - Syntax : np.linspace(start,end,no_equi_points)\n",
    "   - For samplings (when we don't have the proper sampling points)"
   ]
  },
  {
   "cell_type": "code",
   "execution_count": 9,
   "id": "06a06d26-c16c-40b6-9b78-72b2d06e2510",
   "metadata": {},
   "outputs": [
    {
     "data": {
      "text/plain": [
       "array([10.        , 11.11111111, 12.22222222, 13.33333333, 14.44444444,\n",
       "       15.55555556, 16.66666667, 17.77777778, 18.88888889, 20.        ])"
      ]
     },
     "execution_count": 9,
     "metadata": {},
     "output_type": "execute_result"
    }
   ],
   "source": [
    "x=np.linspace(10,20,10)\n",
    "x"
   ]
  },
  {
   "cell_type": "code",
   "execution_count": 10,
   "id": "6050676e-3e57-4dc4-a6b5-32871c046e7a",
   "metadata": {},
   "outputs": [
    {
     "data": {
      "text/plain": [
       "array([0.        , 0.02040816, 0.04081633, 0.06122449, 0.08163265,\n",
       "       0.10204082, 0.12244898, 0.14285714, 0.16326531, 0.18367347,\n",
       "       0.20408163, 0.2244898 , 0.24489796, 0.26530612, 0.28571429,\n",
       "       0.30612245, 0.32653061, 0.34693878, 0.36734694, 0.3877551 ,\n",
       "       0.40816327, 0.42857143, 0.44897959, 0.46938776, 0.48979592,\n",
       "       0.51020408, 0.53061224, 0.55102041, 0.57142857, 0.59183673,\n",
       "       0.6122449 , 0.63265306, 0.65306122, 0.67346939, 0.69387755,\n",
       "       0.71428571, 0.73469388, 0.75510204, 0.7755102 , 0.79591837,\n",
       "       0.81632653, 0.83673469, 0.85714286, 0.87755102, 0.89795918,\n",
       "       0.91836735, 0.93877551, 0.95918367, 0.97959184, 1.        ])"
      ]
     },
     "execution_count": 10,
     "metadata": {},
     "output_type": "execute_result"
    }
   ],
   "source": [
    "y=np.linspace(0,1)\n",
    "y"
   ]
  },
  {
   "cell_type": "markdown",
   "id": "4f6f2b94-912e-4dcc-bd07-e2426144a64e",
   "metadata": {},
   "source": [
    " 8. np.random.rand() :\n",
    " - It will create the random values array as per the limit according to the uniform distribution\n",
    " - Uniform distribution : each value as qrally likely chance of getting selected\n",
    " - It will take all the value less than or equals to zero becoz probability should not be greater than 1\n",
    " - r1=np.random.rand(3,3)"
   ]
  },
  {
   "cell_type": "code",
   "execution_count": null,
   "id": "54e9e78f-5ae0-4c35-beac-d1ba61e03390",
   "metadata": {},
   "outputs": [],
   "source": [
    "import numpy as np"
   ]
  },
  {
   "cell_type": "code",
   "execution_count": 11,
   "id": "fdec23bd-566c-4c65-aef2-4917c06d33e5",
   "metadata": {},
   "outputs": [
    {
     "data": {
      "text/plain": [
       "array([0.17814247, 0.4174395 , 0.77239142, 0.04641605, 0.95904727])"
      ]
     },
     "execution_count": 11,
     "metadata": {},
     "output_type": "execute_result"
    }
   ],
   "source": [
    "r=np.random.rand(5)\n",
    "r"
   ]
  },
  {
   "cell_type": "code",
   "execution_count": 12,
   "id": "0041dfdb-e58b-487b-9a94-4c19f9601429",
   "metadata": {},
   "outputs": [
    {
     "data": {
      "text/plain": [
       "array([[0.43421098, 0.92510224, 0.03408966],\n",
       "       [0.06088275, 0.24573545, 0.25504379],\n",
       "       [0.39210036, 0.42792691, 0.69639352]])"
      ]
     },
     "execution_count": 12,
     "metadata": {},
     "output_type": "execute_result"
    }
   ],
   "source": [
    "r1=np.random.rand(3,3)\n",
    "r1"
   ]
  },
  {
   "cell_type": "markdown",
   "id": "52f5e96d-ebc1-4c8d-8d9f-325c8a341fd8",
   "metadata": {},
   "source": [
    " 9. np.random.randn() :\n",
    "  - It will also gives the random values as per the standard normal variate(standard normal distribution)\n",
    "  - r2=np.random.randn(5)"
   ]
  },
  {
   "cell_type": "code",
   "execution_count": 13,
   "id": "71ab459f-c706-4214-87ca-ab450ce06504",
   "metadata": {},
   "outputs": [
    {
     "data": {
      "text/plain": [
       "array([-2.07221991, -1.76845711,  0.01984189, -0.89087509, -0.31774945])"
      ]
     },
     "execution_count": 13,
     "metadata": {},
     "output_type": "execute_result"
    }
   ],
   "source": [
    "r2=np.random.randn(5)\n",
    "r2"
   ]
  },
  {
   "cell_type": "markdown",
   "id": "73d85970-2613-44fc-a216-aa58118bfc81",
   "metadata": {},
   "source": [
    " 10. np.randon.randint() :\n",
    " - It will genrate the numpy array with any random values as per the range\n",
    " - r3=np.random.randint(10,20,(3,3))\n",
    " - np.random.randint(start,end,no_of_elememts)"
   ]
  },
  {
   "cell_type": "code",
   "execution_count": 14,
   "id": "4943a344-61f2-4a21-8fbf-ebffc9014739",
   "metadata": {},
   "outputs": [
    {
     "data": {
      "text/plain": [
       "array([16, 16, 10, 15, 12], dtype=int32)"
      ]
     },
     "execution_count": 14,
     "metadata": {},
     "output_type": "execute_result"
    }
   ],
   "source": [
    "r3=np.random.randint(10,20,5)\n",
    "r3"
   ]
  },
  {
   "cell_type": "code",
   "execution_count": 15,
   "id": "6c305157-67d6-4682-ad91-4deadca1a887",
   "metadata": {},
   "outputs": [
    {
     "data": {
      "text/plain": [
       "array([[10, 18, 19],\n",
       "       [15, 19, 11],\n",
       "       [17, 19, 12]], dtype=int32)"
      ]
     },
     "execution_count": 15,
     "metadata": {},
     "output_type": "execute_result"
    }
   ],
   "source": [
    "r4=np.random.randint(10,20,(3,3))\n",
    "r4"
   ]
  },
  {
   "cell_type": "markdown",
   "id": "8622e007-0ef7-4844-92f7-e146d6d50c76",
   "metadata": {},
   "source": [
    " 11. copy() :\n",
    " - It will copy the elements from one array to another array"
   ]
  },
  {
   "cell_type": "code",
   "execution_count": null,
   "id": "972293ae-054e-414f-a543-7ed2ce1d0010",
   "metadata": {},
   "outputs": [],
   "source": [
    "import numpy as np"
   ]
  },
  {
   "cell_type": "code",
   "execution_count": 16,
   "id": "2e401312-1646-42ed-a34d-00aa683524a5",
   "metadata": {},
   "outputs": [
    {
     "data": {
      "text/plain": [
       "array([1, 2, 3, 4, 5])"
      ]
     },
     "execution_count": 16,
     "metadata": {},
     "output_type": "execute_result"
    }
   ],
   "source": [
    "a1=np.array([1,2,3,4,5])\n",
    "a2=a1.copy()\n",
    "a2"
   ]
  },
  {
   "cell_type": "markdown",
   "id": "22f231aa-c85d-494c-8b52-f092999411f5",
   "metadata": {},
   "source": [
    " @ Numpy class are having the attribute :\n",
    " 1. ndim : It will gives the dimension of the numpy array\n",
    " 2. shape :It will gives the order of the array\n",
    " 3. size : No of element present in the array\n",
    " 4. iteamsize : How much memory each element of the array is occupying\n",
    " 5. dtype : It will gives the data type of the array\n",
    " 6. astype() : It is use for typecasting"
   ]
  },
  {
   "cell_type": "code",
   "execution_count": 20,
   "id": "10c34f6b-b61d-4bce-8b8b-addaf7379eda",
   "metadata": {},
   "outputs": [],
   "source": [
    "z=np.array([1,2,3,4,5])"
   ]
  },
  {
   "cell_type": "code",
   "execution_count": 22,
   "id": "73700ca8-fc6e-4779-ba78-c4e8b6cd214a",
   "metadata": {},
   "outputs": [
    {
     "data": {
      "text/plain": [
       "1"
      ]
     },
     "execution_count": 22,
     "metadata": {},
     "output_type": "execute_result"
    }
   ],
   "source": [
    "z.ndim"
   ]
  },
  {
   "cell_type": "code",
   "execution_count": 21,
   "id": "067b7034-087f-4fdd-8f2b-b51b56ad9bf0",
   "metadata": {},
   "outputs": [
    {
     "data": {
      "text/plain": [
       "(5,)"
      ]
     },
     "execution_count": 21,
     "metadata": {},
     "output_type": "execute_result"
    }
   ],
   "source": [
    "z.shape"
   ]
  },
  {
   "cell_type": "code",
   "execution_count": 24,
   "id": "43b108c3-6af5-41b3-9cde-528ca14a76d2",
   "metadata": {},
   "outputs": [
    {
     "data": {
      "text/plain": [
       "(2, 4)"
      ]
     },
     "execution_count": 24,
     "metadata": {},
     "output_type": "execute_result"
    }
   ],
   "source": [
    "z1=np.array([[1,2,3,4],[3,4,5,6]])\n",
    "z1.shape"
   ]
  },
  {
   "cell_type": "code",
   "execution_count": 25,
   "id": "fc2348b8-978d-4409-92d8-69f0e8768bda",
   "metadata": {},
   "outputs": [
    {
     "data": {
      "text/plain": [
       "5"
      ]
     },
     "execution_count": 25,
     "metadata": {},
     "output_type": "execute_result"
    }
   ],
   "source": [
    "z.size"
   ]
  },
  {
   "cell_type": "code",
   "execution_count": 26,
   "id": "645da671-8248-49c8-b5e0-bb0632b2487c",
   "metadata": {},
   "outputs": [
    {
     "data": {
      "text/plain": [
       "8"
      ]
     },
     "execution_count": 26,
     "metadata": {},
     "output_type": "execute_result"
    }
   ],
   "source": [
    "z1.size"
   ]
  },
  {
   "cell_type": "code",
   "execution_count": 27,
   "id": "5f95cf1c-fa36-4d1c-87dc-41c4acdf97b8",
   "metadata": {},
   "outputs": [
    {
     "data": {
      "text/plain": [
       "8"
      ]
     },
     "execution_count": 27,
     "metadata": {},
     "output_type": "execute_result"
    }
   ],
   "source": [
    "z.itemsize"
   ]
  },
  {
   "cell_type": "code",
   "execution_count": 29,
   "id": "423710f3-5f01-4b34-96b6-7625b0dec469",
   "metadata": {},
   "outputs": [
    {
     "data": {
      "text/plain": [
       "8"
      ]
     },
     "execution_count": 29,
     "metadata": {},
     "output_type": "execute_result"
    }
   ],
   "source": [
    "z1.itemsize"
   ]
  },
  {
   "cell_type": "code",
   "execution_count": 30,
   "id": "d2c6a53b-af29-41f9-8fd3-58f16f8817c5",
   "metadata": {},
   "outputs": [
    {
     "data": {
      "text/plain": [
       "dtype('int64')"
      ]
     },
     "execution_count": 30,
     "metadata": {},
     "output_type": "execute_result"
    }
   ],
   "source": [
    "z.dtype"
   ]
  },
  {
   "cell_type": "code",
   "execution_count": 31,
   "id": "482f3cb4-9bd8-4074-981b-035794dc9a3e",
   "metadata": {},
   "outputs": [
    {
     "data": {
      "text/plain": [
       "dtype('int64')"
      ]
     },
     "execution_count": 31,
     "metadata": {},
     "output_type": "execute_result"
    }
   ],
   "source": [
    "z1.dtype"
   ]
  },
  {
   "cell_type": "code",
   "execution_count": 34,
   "id": "20b96ba1-8664-4257-ba75-f3de855f0879",
   "metadata": {},
   "outputs": [
    {
     "data": {
      "text/plain": [
       "dtype('float64')"
      ]
     },
     "execution_count": 34,
     "metadata": {},
     "output_type": "execute_result"
    }
   ],
   "source": [
    "z=z.astype('float')\n",
    "z.dtype"
   ]
  },
  {
   "cell_type": "code",
   "execution_count": 35,
   "id": "7444ba85-0e86-4dae-8a57-84d5ce1a3846",
   "metadata": {},
   "outputs": [
    {
     "data": {
      "text/plain": [
       "8"
      ]
     },
     "execution_count": 35,
     "metadata": {},
     "output_type": "execute_result"
    }
   ],
   "source": [
    "z.itemsize"
   ]
  },
  {
   "cell_type": "markdown",
   "id": "a3c2288c-ffd4-4383-87d8-de0f251eb970",
   "metadata": {},
   "source": [
    " 1.Matrix operations:\n",
    " \n",
    "  1. Addition\n",
    "  2. Subtraction\n",
    "  3. Mutiplication : a. Elementwise  b. Dotproduct\n",
    "  4. Transpose\n",
    "  5. Determinant\n",
    "  6. Inverse\n",
    "  7. Rank"
   ]
  },
  {
   "cell_type": "markdown",
   "id": "90c4a1ed-fabd-4a8f-8fcb-93a7e761dd61",
   "metadata": {},
   "source": [
    " 1. Trace : Sum of the diagonal elements of the array\n",
    " - Syntax:np.trace(array_name)\n"
   ]
  },
  {
   "cell_type": "code",
   "execution_count": 19,
   "id": "239f1c52-59ba-4d8c-86c3-ddab073a5b68",
   "metadata": {},
   "outputs": [
    {
     "name": "stdout",
     "output_type": "stream",
     "text": [
      "6\n"
     ]
    }
   ],
   "source": [
    "list1=[[1,2],[4,5]]\n",
    "trace=0\n",
    "for i in range(len(list1)):\n",
    "    for j in range(len(list1)):\n",
    "        if i==j:\n",
    "            trace+=list1[i][j]\n",
    "print(trace)"
   ]
  },
  {
   "cell_type": "markdown",
   "id": "17e33fe9-ab6b-4a4e-a543-3b3269af1da6",
   "metadata": {},
   "source": [
    " 2.Transpose of a matrix:\n",
    " - Converting the rows of matrix into columns and columns into rows\n",
    " - syntax: array_name.T"
   ]
  },
  {
   "cell_type": "code",
   "execution_count": null,
   "id": "1937c535-e301-4eda-9492-5808b962a668",
   "metadata": {},
   "outputs": [],
   "source": [
    "import numpy as np"
   ]
  },
  {
   "cell_type": "code",
   "execution_count": 37,
   "id": "afab54f2-7bca-46c8-949c-86eb4851a140",
   "metadata": {},
   "outputs": [
    {
     "data": {
      "text/plain": [
       "np.int64(5)"
      ]
     },
     "execution_count": 37,
     "metadata": {},
     "output_type": "execute_result"
    }
   ],
   "source": [
    "p=np.array([[1,2],[3,4]])\n",
    "np.trace(p)"
   ]
  },
  {
   "cell_type": "code",
   "execution_count": 38,
   "id": "f875d901-1211-45d8-adfd-4141ff5b0d96",
   "metadata": {},
   "outputs": [
    {
     "data": {
      "text/plain": [
       "array([[1, 2],\n",
       "       [3, 4]])"
      ]
     },
     "execution_count": 38,
     "metadata": {},
     "output_type": "execute_result"
    }
   ],
   "source": [
    "p"
   ]
  },
  {
   "cell_type": "code",
   "execution_count": 39,
   "id": "e982dd61-1dfe-48a5-8661-674a111c5201",
   "metadata": {},
   "outputs": [
    {
     "data": {
      "text/plain": [
       "array([[1, 3],\n",
       "       [2, 4]])"
      ]
     },
     "execution_count": 39,
     "metadata": {},
     "output_type": "execute_result"
    }
   ],
   "source": [
    "p=p.T\n",
    "p"
   ]
  },
  {
   "cell_type": "code",
   "execution_count": 40,
   "id": "e8ada358-6454-4a6d-8023-ec2fd0bba69d",
   "metadata": {},
   "outputs": [
    {
     "data": {
      "text/plain": [
       "array([[1, 3],\n",
       "       [2, 4]])"
      ]
     },
     "execution_count": 40,
     "metadata": {},
     "output_type": "execute_result"
    }
   ],
   "source": [
    "p"
   ]
  },
  {
   "cell_type": "markdown",
   "id": "bbfd0258-5e65-4c80-a2ed-7f1b19af3478",
   "metadata": {},
   "source": [
    " 3.Inverse of matrix:\n",
    " - It will give the inverse of the matrix\n",
    " - np.linalg.inv(p)\n"
   ]
  },
  {
   "cell_type": "code",
   "execution_count": null,
   "id": "33522dbc-1a0e-4807-a037-98849e90f528",
   "metadata": {},
   "outputs": [],
   "source": [
    "import numpy as np "
   ]
  },
  {
   "cell_type": "code",
   "execution_count": 41,
   "id": "79b0c5a5-970a-4adc-b96f-39db9ab1f3d2",
   "metadata": {},
   "outputs": [
    {
     "data": {
      "text/plain": [
       "array([[-2. ,  1.5],\n",
       "       [ 1. , -0.5]])"
      ]
     },
     "execution_count": 41,
     "metadata": {},
     "output_type": "execute_result"
    }
   ],
   "source": [
    "np.linalg.inv(p)"
   ]
  },
  {
   "cell_type": "markdown",
   "id": "418cf7eb-a7dc-479e-9680-6468f1bca81f",
   "metadata": {},
   "source": [
    " 4. Determinant :\n",
    "   - np.linalg.det(a)"
   ]
  },
  {
   "cell_type": "code",
   "execution_count": 43,
   "id": "10c4c9b5-d284-4499-b82e-2469e30215f7",
   "metadata": {},
   "outputs": [
    {
     "data": {
      "text/plain": [
       "np.int64(2)"
      ]
     },
     "execution_count": 43,
     "metadata": {},
     "output_type": "execute_result"
    }
   ],
   "source": [
    "a=np.array([[1,2],[3,4]])\n",
    "np.linalg.matrix_rank(a)"
   ]
  },
  {
   "cell_type": "code",
   "execution_count": 44,
   "id": "bdff68d9-a265-4140-b2d8-0c72efe35381",
   "metadata": {},
   "outputs": [
    {
     "data": {
      "text/plain": [
       "np.int64(2)"
      ]
     },
     "execution_count": 44,
     "metadata": {},
     "output_type": "execute_result"
    }
   ],
   "source": [
    "a=np.array([[1,2,3,4,5],[3,4,5,6,7],[4,5,6,7,8]])\n",
    "np.linalg.matrix_rank(a)"
   ]
  },
  {
   "cell_type": "markdown",
   "id": "c3ebf3c4-3dbf-451f-a334-ba24d39d59bf",
   "metadata": {},
   "source": [
    " 5. Rank :\n",
    "  - It will gives the rank of matrix \n",
    "  - On of linearly independent rows and columns in the matrix \n",
    "  - np.linalg.matrix_rank(a)"
   ]
  },
  {
   "cell_type": "code",
   "execution_count": 45,
   "id": "d2780f5d-74a1-495f-95c4-af0e982d132c",
   "metadata": {},
   "outputs": [
    {
     "data": {
      "text/plain": [
       "array([2, 3, 4, 5, 6])"
      ]
     },
     "execution_count": 45,
     "metadata": {},
     "output_type": "execute_result"
    }
   ],
   "source": [
    "a = np.array ([1,2,3,4,5])\n",
    "a+1"
   ]
  },
  {
   "cell_type": "code",
   "execution_count": 46,
   "id": "0ba076d1-3161-4cbe-bc3b-b58f2ee28fa0",
   "metadata": {},
   "outputs": [
    {
     "data": {
      "text/plain": [
       "array([0, 1, 2, 3, 4])"
      ]
     },
     "execution_count": 46,
     "metadata": {},
     "output_type": "execute_result"
    }
   ],
   "source": [
    "a-1"
   ]
  },
  {
   "cell_type": "code",
   "execution_count": 47,
   "id": "58f654c1-4a90-4e80-898a-57da38ddb6ba",
   "metadata": {},
   "outputs": [
    {
     "data": {
      "text/plain": [
       "array([ 2,  4,  6,  8, 10])"
      ]
     },
     "execution_count": 47,
     "metadata": {},
     "output_type": "execute_result"
    }
   ],
   "source": [
    "a*2"
   ]
  },
  {
   "cell_type": "code",
   "execution_count": 49,
   "id": "1645f1c7-9ca3-4742-bce3-fc9790b0f541",
   "metadata": {},
   "outputs": [
    {
     "data": {
      "text/plain": [
       "array([ 1,  4,  9, 16, 25])"
      ]
     },
     "execution_count": 49,
     "metadata": {},
     "output_type": "execute_result"
    }
   ],
   "source": [
    "a**2"
   ]
  },
  {
   "cell_type": "markdown",
   "id": "23d790ba-b510-4b65-90fe-9587d26e8979",
   "metadata": {},
   "source": [
    " 2. Arithmatic operations on numpy :\n",
    "\n",
    "\n",
    "               1.Addition(+)\n",
    "               2.Subtraction(-)\n",
    "               3.Mutiplication(*)\n",
    "               4.Division(/)\n",
    "               5.Floor Division(//)\n",
    "               6.Power(**)\n",
    "               7.Modulus(%)\n",
    "    \n",
    " -  All the arithmetic operations are done elementwise"
   ]
  },
  {
   "cell_type": "code",
   "execution_count": 54,
   "id": "b2377dfb-15a0-45f0-86f1-3dbf33dd4f53",
   "metadata": {},
   "outputs": [],
   "source": [
    "import numpy as np"
   ]
  },
  {
   "cell_type": "code",
   "execution_count": 55,
   "id": "1ca95059-183b-4629-b802-cd42c1cb364f",
   "metadata": {},
   "outputs": [],
   "source": [
    "a=np.array([1,2,3,4])\n",
    "b=np.array([5,6,7,8])"
   ]
  },
  {
   "cell_type": "code",
   "execution_count": 56,
   "id": "d083f3a7-64f2-47cd-9fef-09d1e2678ba6",
   "metadata": {},
   "outputs": [
    {
     "data": {
      "text/plain": [
       "array([ 6,  8, 10, 12])"
      ]
     },
     "execution_count": 56,
     "metadata": {},
     "output_type": "execute_result"
    }
   ],
   "source": [
    "a+b"
   ]
  },
  {
   "cell_type": "code",
   "execution_count": 57,
   "id": "afe66e8e-8353-4aff-967f-6901679e4aa4",
   "metadata": {},
   "outputs": [
    {
     "data": {
      "text/plain": [
       "array([-4, -4, -4, -4])"
      ]
     },
     "execution_count": 57,
     "metadata": {},
     "output_type": "execute_result"
    }
   ],
   "source": [
    "a-b"
   ]
  },
  {
   "cell_type": "code",
   "execution_count": 58,
   "id": "c7bf9aeb-cfa9-4c7e-a7fc-a95470449544",
   "metadata": {},
   "outputs": [
    {
     "data": {
      "text/plain": [
       "array([ 5, 12, 21, 32])"
      ]
     },
     "execution_count": 58,
     "metadata": {},
     "output_type": "execute_result"
    }
   ],
   "source": [
    "a*b"
   ]
  },
  {
   "cell_type": "code",
   "execution_count": 59,
   "id": "76d440bb-cc11-4ac2-9efe-5b10ec4e2e98",
   "metadata": {},
   "outputs": [
    {
     "data": {
      "text/plain": [
       "array([0.2       , 0.33333333, 0.42857143, 0.5       ])"
      ]
     },
     "execution_count": 59,
     "metadata": {},
     "output_type": "execute_result"
    }
   ],
   "source": [
    "a/b"
   ]
  },
  {
   "cell_type": "code",
   "execution_count": 51,
   "id": "44726aa8-8f1b-4267-96f9-ae535ec9947d",
   "metadata": {},
   "outputs": [
    {
     "name": "stderr",
     "output_type": "stream",
     "text": [
      "C:\\Users\\Komal prakash mali\\AppData\\Local\\Temp\\ipykernel_15232\\2860853455.py:1: RuntimeWarning: divide by zero encountered in floor_divide\n",
      "  a//b\n"
     ]
    },
    {
     "data": {
      "text/plain": [
       "array([[0, 0, 0, 0, 0],\n",
       "       [0, 0, 0, 0, 0],\n",
       "       [0, 0, 0, 0, 0],\n",
       "       [0, 0, 0, 0, 0],\n",
       "       [0, 0, 0, 0, 0]])"
      ]
     },
     "execution_count": 51,
     "metadata": {},
     "output_type": "execute_result"
    }
   ],
   "source": [
    "a//b"
   ]
  },
  {
   "cell_type": "code",
   "execution_count": 50,
   "id": "d4d31583-db20-428e-a6ee-9208ea229afe",
   "metadata": {},
   "outputs": [
    {
     "name": "stderr",
     "output_type": "stream",
     "text": [
      "C:\\Users\\Komal prakash mali\\AppData\\Local\\Temp\\ipykernel_15232\\1820107994.py:1: RuntimeWarning: divide by zero encountered in remainder\n",
      "  a%b\n"
     ]
    },
    {
     "data": {
      "text/plain": [
       "array([[1, 0, 0, 0, 0],\n",
       "       [0, 2, 0, 0, 0],\n",
       "       [0, 0, 3, 0, 0],\n",
       "       [0, 0, 0, 4, 0],\n",
       "       [0, 0, 0, 0, 5]])"
      ]
     },
     "execution_count": 50,
     "metadata": {},
     "output_type": "execute_result"
    }
   ],
   "source": [
    "a%b"
   ]
  },
  {
   "cell_type": "code",
   "execution_count": 62,
   "id": "2c5aa299-6542-4952-9db8-367d6916914c",
   "metadata": {},
   "outputs": [
    {
     "data": {
      "text/plain": [
       "array([4, 5, 6, 7, 8])"
      ]
     },
     "execution_count": 62,
     "metadata": {},
     "output_type": "execute_result"
    }
   ],
   "source": [
    "x=np.array([3,4,5,6,7])\n",
    "x=x+1\n",
    "x"
   ]
  },
  {
   "cell_type": "code",
   "execution_count": 63,
   "id": "7e24b395-ccf3-440e-989d-d44e4a0d903f",
   "metadata": {},
   "outputs": [
    {
     "data": {
      "text/plain": [
       "array([3, 4, 5, 6, 7])"
      ]
     },
     "execution_count": 63,
     "metadata": {},
     "output_type": "execute_result"
    }
   ],
   "source": [
    "x-1"
   ]
  },
  {
   "cell_type": "code",
   "execution_count": 64,
   "id": "a5ce800d-8728-4eed-9542-14d07d9a8b4d",
   "metadata": {},
   "outputs": [
    {
     "data": {
      "text/plain": [
       "array([ 8, 10, 12, 14, 16])"
      ]
     },
     "execution_count": 64,
     "metadata": {},
     "output_type": "execute_result"
    }
   ],
   "source": [
    "x*2"
   ]
  },
  {
   "cell_type": "code",
   "execution_count": 67,
   "id": "62e75962-36a8-4c09-9314-1a65a6c5f172",
   "metadata": {},
   "outputs": [
    {
     "data": {
      "text/plain": [
       "array([16, 25, 36, 49, 64])"
      ]
     },
     "execution_count": 67,
     "metadata": {},
     "output_type": "execute_result"
    }
   ],
   "source": [
    "x**2"
   ]
  },
  {
   "cell_type": "markdown",
   "id": "37ab89b9-46af-4e82-b60d-5c2fcfed389c",
   "metadata": {},
   "source": [
    " 3. Scalar operation  on numpy array :\n",
    "   - We are performing the operation  with the help of scalar"
   ]
  },
  {
   "cell_type": "code",
   "execution_count": 72,
   "id": "e4bcf983-791e-4ccb-ba95-5bc8d022430b",
   "metadata": {},
   "outputs": [
    {
     "data": {
      "text/plain": [
       "array([[2., 2., 2.],\n",
       "       [2., 2., 2.],\n",
       "       [2., 2., 2.]])"
      ]
     },
     "execution_count": 72,
     "metadata": {},
     "output_type": "execute_result"
    }
   ],
   "source": [
    "a=np.ones((3,3))+1\n",
    "a"
   ]
  },
  {
   "cell_type": "markdown",
   "id": "c530b251-15cd-4c57-b08d-dc62e6efdb4c",
   "metadata": {},
   "source": [
    " 4. Relational Operations :\n",
    " - It is used to find the relation between the elements of the numpy array\n",
    " - >,<,==,!=,>=,<=---It will compare elementwise\n",
    " - np.array_equal(p1,p2)---It will compare arraywise\n"
   ]
  },
  {
   "cell_type": "code",
   "execution_count": 73,
   "id": "a0fa8887-515b-4f81-bb2a-cef968c5934a",
   "metadata": {},
   "outputs": [],
   "source": [
    "a1=np.array([4,5,6,7,8])\n",
    "a2=np.array([2,3,4,5,8])"
   ]
  },
  {
   "cell_type": "code",
   "execution_count": 74,
   "id": "a27fc284-8345-4478-9c09-1095fef86901",
   "metadata": {},
   "outputs": [
    {
     "data": {
      "text/plain": [
       "array([ True,  True,  True,  True, False])"
      ]
     },
     "execution_count": 74,
     "metadata": {},
     "output_type": "execute_result"
    }
   ],
   "source": [
    "a1>a2"
   ]
  },
  {
   "cell_type": "code",
   "execution_count": 75,
   "id": "e1620a5b-c7d6-459d-a001-3c4a5e83d6ce",
   "metadata": {},
   "outputs": [
    {
     "data": {
      "text/plain": [
       "array([False, False, False, False, False])"
      ]
     },
     "execution_count": 75,
     "metadata": {},
     "output_type": "execute_result"
    }
   ],
   "source": [
    "a1<a2"
   ]
  },
  {
   "cell_type": "code",
   "execution_count": 76,
   "id": "96f28ce6-b9e3-4af2-8ae0-6a2e97f0caa9",
   "metadata": {},
   "outputs": [
    {
     "data": {
      "text/plain": [
       "array([False, False, False, False,  True])"
      ]
     },
     "execution_count": 76,
     "metadata": {},
     "output_type": "execute_result"
    }
   ],
   "source": [
    "a1==a2"
   ]
  },
  {
   "cell_type": "code",
   "execution_count": 77,
   "id": "abf3442e-9f7e-4440-bee0-97b753d05d43",
   "metadata": {},
   "outputs": [
    {
     "data": {
      "text/plain": [
       "array([ True,  True,  True,  True, False])"
      ]
     },
     "execution_count": 77,
     "metadata": {},
     "output_type": "execute_result"
    }
   ],
   "source": [
    "a1!=a2"
   ]
  },
  {
   "cell_type": "code",
   "execution_count": 79,
   "id": "5592cbe7-56a0-45d2-abb6-1cc7b3ace289",
   "metadata": {},
   "outputs": [
    {
     "data": {
      "text/plain": [
       "False"
      ]
     },
     "execution_count": 79,
     "metadata": {},
     "output_type": "execute_result"
    }
   ],
   "source": [
    "p1=np.array([1,2,45,67])\n",
    "p2=np.array([1,2,45,98])\n",
    "p3=np.array([1,2,45,67])\n",
    "np.array_equal(p1,p2)"
   ]
  },
  {
   "cell_type": "code",
   "execution_count": 80,
   "id": "9c3be006-4d13-48fc-9e07-7a99a428722d",
   "metadata": {},
   "outputs": [
    {
     "data": {
      "text/plain": [
       "True"
      ]
     },
     "execution_count": 80,
     "metadata": {},
     "output_type": "execute_result"
    }
   ],
   "source": [
    "np.array_equal(p1,p3)"
   ]
  },
  {
   "cell_type": "markdown",
   "id": "22d6abee-8d24-4d07-8c39-a00196541a71",
   "metadata": {},
   "source": [
    " 5. Logical operations on numpy :\n",
    "\n",
    " - all() : - It will return true value when all the elements in the array are true \n",
    "           - Every non zero is considered as true otherwise false\n",
    " - any() : - It will return true if atleast one value true otherwise false\n",
    " - logical_or\n",
    " - logical_and"
   ]
  },
  {
   "cell_type": "code",
   "execution_count": 81,
   "id": "1f73aded-e699-4d9d-ae22-b8ffcebfdd2a",
   "metadata": {},
   "outputs": [
    {
     "data": {
      "text/plain": [
       "np.False_"
      ]
     },
     "execution_count": 81,
     "metadata": {},
     "output_type": "execute_result"
    }
   ],
   "source": [
    "s=np.array([1,0,3,4,5])\n",
    "np.all(s)"
   ]
  },
  {
   "cell_type": "code",
   "execution_count": 82,
   "id": "9b188a56-0f33-4d3f-b41f-51ab81aca042",
   "metadata": {},
   "outputs": [
    {
     "data": {
      "text/plain": [
       "np.True_"
      ]
     },
     "execution_count": 82,
     "metadata": {},
     "output_type": "execute_result"
    }
   ],
   "source": [
    "s=np.array([1,0,3,4,5])\n",
    "np.any(s)"
   ]
  },
  {
   "cell_type": "code",
   "execution_count": 83,
   "id": "307c40f6-47cb-442c-907c-aa177008a052",
   "metadata": {},
   "outputs": [
    {
     "data": {
      "text/plain": [
       "array([ True,  True, False,  True,  True])"
      ]
     },
     "execution_count": 83,
     "metadata": {},
     "output_type": "execute_result"
    }
   ],
   "source": [
    "a=np.array([2,0,0,1,3])\n",
    "b=np.array([4,5,0,0,56])\n",
    "np.logical_or(a,b)"
   ]
  },
  {
   "cell_type": "code",
   "execution_count": 84,
   "id": "43aaa47c-1b1a-4705-b835-70b815d452fa",
   "metadata": {},
   "outputs": [
    {
     "data": {
      "text/plain": [
       "array([ True, False, False, False,  True])"
      ]
     },
     "execution_count": 84,
     "metadata": {},
     "output_type": "execute_result"
    }
   ],
   "source": [
    "a=np.array([2,0,0,1,3])\n",
    "b=np.array([4,5,0,0,56])\n",
    "np.logical_and(a,b)"
   ]
  },
  {
   "cell_type": "markdown",
   "id": "6a6f9b1e-7b93-47b8-ab6d-0f983187cc7c",
   "metadata": {},
   "source": [
    " 6. Transcendental Operations :\n",
    "   - When we have a log,exp(e),trigonometry------\n",
    "   - np.log() : it will give the log of each value present in numpy array\n",
    "   - np.exp() : it is giving the exponential value of each element of numpy array\n",
    "   - np.sin()\n",
    "   - np.cos()"
   ]
  },
  {
   "cell_type": "code",
   "execution_count": 85,
   "id": "6c68bd0c-275e-499b-85fb-452d67085923",
   "metadata": {},
   "outputs": [
    {
     "data": {
      "text/plain": [
       "array([0.69314718, 1.09861229, 1.38629436, 1.60943791, 1.79175947])"
      ]
     },
     "execution_count": 85,
     "metadata": {},
     "output_type": "execute_result"
    }
   ],
   "source": [
    "a=np.array([2,3,4,5,6])\n",
    "np.log(a)"
   ]
  },
  {
   "cell_type": "code",
   "execution_count": 86,
   "id": "22208a7b-198a-49c8-837a-0d0881aa9304",
   "metadata": {},
   "outputs": [
    {
     "data": {
      "text/plain": [
       "array([  7.3890561 ,  20.08553692,  54.59815003, 148.4131591 ,\n",
       "       403.42879349])"
      ]
     },
     "execution_count": 86,
     "metadata": {},
     "output_type": "execute_result"
    }
   ],
   "source": [
    "np.exp(a)"
   ]
  },
  {
   "cell_type": "code",
   "execution_count": 87,
   "id": "f76987a7-c929-49fa-970b-29889210e3bd",
   "metadata": {},
   "outputs": [
    {
     "data": {
      "text/plain": [
       "array([ 0.14112001, -0.7568025 , -0.95892427, -0.2794155 , -0.98803162])"
      ]
     },
     "execution_count": 87,
     "metadata": {},
     "output_type": "execute_result"
    }
   ],
   "source": [
    "a=np.array([3,4,5,6,30])\n",
    "np.sin(a)"
   ]
  },
  {
   "cell_type": "code",
   "execution_count": 88,
   "id": "9f9e40d5-8b8a-4b2e-85d6-b595b442d2d7",
   "metadata": {},
   "outputs": [
    {
     "data": {
      "text/plain": [
       "array([-0.9899925 , -0.65364362,  0.28366219,  0.96017029,  0.15425145])"
      ]
     },
     "execution_count": 88,
     "metadata": {},
     "output_type": "execute_result"
    }
   ],
   "source": [
    "np.cos(a)"
   ]
  },
  {
   "cell_type": "markdown",
   "id": "df57642c-fec3-4fda-9f21-a0449c90812e",
   "metadata": {},
   "source": [
    " 7. Sorting :\n",
    "    - np.sort() - it will sort in ascending order\n",
    "                  - it is not in-place sort\n",
    "    - numpy_array.sort() - it will perform inplace sorting\n",
    "    - np.argsort() - it will perform the sorting on the basis of index of the numpy array\n",
    "\n",
    " @ Row wise sorting : axis =1\n",
    " \n",
    " @ ColumN wise sorting : axis 0\n",
    "      "
   ]
  },
  {
   "cell_type": "code",
   "execution_count": 89,
   "id": "9cc9b9c1-0b86-4d2e-b188-e86ad31fc4ab",
   "metadata": {},
   "outputs": [
    {
     "data": {
      "text/plain": [
       "[3, 4, -5, -67, 2, 1]"
      ]
     },
     "execution_count": 89,
     "metadata": {},
     "output_type": "execute_result"
    }
   ],
   "source": [
    "a=([3,4,-5,-67,2,1])\n",
    "b=np.sort(a)\n",
    "a"
   ]
  },
  {
   "cell_type": "code",
   "execution_count": 90,
   "id": "dec49f1b-1db2-420f-9c8f-ad85a0aad57c",
   "metadata": {},
   "outputs": [
    {
     "data": {
      "text/plain": [
       "array([-67,  -5,   1,   2,   3,   4])"
      ]
     },
     "execution_count": 90,
     "metadata": {},
     "output_type": "execute_result"
    }
   ],
   "source": [
    "b"
   ]
  },
  {
   "cell_type": "code",
   "execution_count": 91,
   "id": "4537a333-0570-4962-8fde-1d1a3cde5f49",
   "metadata": {},
   "outputs": [
    {
     "data": {
      "text/plain": [
       "array([3, 2, 5, 4, 0, 1])"
      ]
     },
     "execution_count": 91,
     "metadata": {},
     "output_type": "execute_result"
    }
   ],
   "source": [
    "c=np.argsort(a)\n",
    "c"
   ]
  },
  {
   "cell_type": "code",
   "execution_count": 92,
   "id": "7995ebe8-b770-408e-82a1-638e7f46334e",
   "metadata": {},
   "outputs": [
    {
     "data": {
      "text/plain": [
       "array([-24,  -3,  -1,   0,   5,   7])"
      ]
     },
     "execution_count": 92,
     "metadata": {},
     "output_type": "execute_result"
    }
   ],
   "source": [
    "d=np.array([5,0,-1,-3,7,-24])\n",
    "d.sort()\n",
    "d"
   ]
  },
  {
   "cell_type": "code",
   "execution_count": null,
   "id": "f68146cc-e9e3-4a25-8258-0d17b19f2b79",
   "metadata": {},
   "outputs": [],
   "source": [
    "import numpy as np"
   ]
  },
  {
   "cell_type": "code",
   "execution_count": 93,
   "id": "896f9fc4-034f-4158-b87a-5b272c6ef4fc",
   "metadata": {},
   "outputs": [
    {
     "data": {
      "text/plain": [
       "array([[-3,  1,  2],\n",
       "       [-5,  4,  6],\n",
       "       [-7,  8,  9]])"
      ]
     },
     "execution_count": 93,
     "metadata": {},
     "output_type": "execute_result"
    }
   ],
   "source": [
    "mat1=np.array([[1,2,-3],[4,-5,6],[-7,8,9]])\n",
    "mat2=np.sort(mat1)\n",
    "mat2"
   ]
  },
  {
   "cell_type": "code",
   "execution_count": 94,
   "id": "2a937877-6d27-47d4-9886-c295f981ce5b",
   "metadata": {},
   "outputs": [
    {
     "data": {
      "text/plain": [
       "array([[2, 0, 1],\n",
       "       [1, 0, 2],\n",
       "       [0, 1, 2]])"
      ]
     },
     "execution_count": 94,
     "metadata": {},
     "output_type": "execute_result"
    }
   ],
   "source": [
    "mat3=np.argsort(mat1)\n",
    "mat3"
   ]
  },
  {
   "cell_type": "code",
   "execution_count": 95,
   "id": "ef422ae5-0f09-4ddd-908e-fc60716c4f5e",
   "metadata": {},
   "outputs": [
    {
     "data": {
      "text/plain": [
       "array([[-3,  1,  2],\n",
       "       [-5,  4,  6],\n",
       "       [-7,  8,  9]])"
      ]
     },
     "execution_count": 95,
     "metadata": {},
     "output_type": "execute_result"
    }
   ],
   "source": [
    "mat1.sort()\n",
    "mat1"
   ]
  },
  {
   "cell_type": "code",
   "execution_count": 96,
   "id": "3067fde4-4884-4c66-9e96-0b1063275500",
   "metadata": {},
   "outputs": [
    {
     "data": {
      "text/plain": [
       "array([[ 1,  2, -3],\n",
       "       [ 4, -5,  6],\n",
       "       [-7,  8,  9]])"
      ]
     },
     "execution_count": 96,
     "metadata": {},
     "output_type": "execute_result"
    }
   ],
   "source": [
    "m=np.array([[1,2,-3],[4,-5,6],[-7,8,9]])\n",
    "m"
   ]
  },
  {
   "cell_type": "code",
   "execution_count": 98,
   "id": "794760ad-3f8d-4a3e-aaf7-c073d6d39899",
   "metadata": {},
   "outputs": [
    {
     "data": {
      "text/plain": [
       "array([[-7, -5, -3],\n",
       "       [ 1,  2,  6],\n",
       "       [ 4,  8,  9]])"
      ]
     },
     "execution_count": 98,
     "metadata": {},
     "output_type": "execute_result"
    }
   ],
   "source": [
    "m=np.sort(m,axis=0)\n",
    "m"
   ]
  },
  {
   "cell_type": "code",
   "execution_count": 97,
   "id": "bb0da8a7-08fd-4704-997f-26c67cf85f13",
   "metadata": {},
   "outputs": [
    {
     "data": {
      "text/plain": [
       "array([[2, 1, 0],\n",
       "       [0, 0, 1],\n",
       "       [1, 2, 2]])"
      ]
     },
     "execution_count": 97,
     "metadata": {},
     "output_type": "execute_result"
    }
   ],
   "source": [
    "o=np.argsort(m,axis=0)\n",
    "o"
   ]
  },
  {
   "cell_type": "code",
   "execution_count": 99,
   "id": "58026f6c-ac7d-4565-8c1a-7288abf7b0d8",
   "metadata": {},
   "outputs": [
    {
     "data": {
      "text/plain": [
       "array([[-7, -5, -3],\n",
       "       [ 1,  2,  6],\n",
       "       [ 4,  8,  9]])"
      ]
     },
     "execution_count": 99,
     "metadata": {},
     "output_type": "execute_result"
    }
   ],
   "source": [
    "m.sort(axis=0)\n",
    "m"
   ]
  },
  {
   "cell_type": "code",
   "execution_count": 100,
   "id": "3e405a50-d082-48f7-be17-891f4cc0b945",
   "metadata": {},
   "outputs": [
    {
     "data": {
      "text/plain": [
       "array([  90,   79,   34,   17,  -11,  -22, -100])"
      ]
     },
     "execution_count": 100,
     "metadata": {},
     "output_type": "execute_result"
    }
   ],
   "source": [
    "a=np.array([34,-11,-22,17,79,90,-100])\n",
    "rev_sorted=np.sort(a)[::-1]\n",
    "rev_sorted"
   ]
  },
  {
   "cell_type": "markdown",
   "id": "d1e43c4c-94b3-4cb9-a7e6-39ab1b696750",
   "metadata": {},
   "source": [
    " 8. Aggregation Operations :\n",
    " - sum() :\n",
    " - max():\n",
    " - min() :\n",
    " - argmax() :\n",
    " - argmin() :"
   ]
  },
  {
   "cell_type": "code",
   "execution_count": 101,
   "id": "e4335e5c-e729-4993-93f1-5653086a787a",
   "metadata": {},
   "outputs": [],
   "source": [
    "ab=np.array([3,4,5,6,7,8])"
   ]
  },
  {
   "cell_type": "code",
   "execution_count": 102,
   "id": "a603b5d6-30f6-48ab-93e5-8dec272c06ae",
   "metadata": {},
   "outputs": [
    {
     "data": {
      "text/plain": [
       "np.int64(33)"
      ]
     },
     "execution_count": 102,
     "metadata": {},
     "output_type": "execute_result"
    }
   ],
   "source": [
    "np.sum(ab)"
   ]
  },
  {
   "cell_type": "code",
   "execution_count": 103,
   "id": "7c201d31-836b-4d57-84ec-0a3049268616",
   "metadata": {},
   "outputs": [
    {
     "data": {
      "text/plain": [
       "np.int64(8)"
      ]
     },
     "execution_count": 103,
     "metadata": {},
     "output_type": "execute_result"
    }
   ],
   "source": [
    "np.max(ab)"
   ]
  },
  {
   "cell_type": "code",
   "execution_count": 104,
   "id": "7f31d333-96b1-48d9-8801-a7a8c6a6b982",
   "metadata": {},
   "outputs": [
    {
     "data": {
      "text/plain": [
       "np.int64(3)"
      ]
     },
     "execution_count": 104,
     "metadata": {},
     "output_type": "execute_result"
    }
   ],
   "source": [
    "np.min(ab)"
   ]
  },
  {
   "cell_type": "code",
   "execution_count": 105,
   "id": "abbaa3a7-b0ba-47ce-b72c-0f5d1541af43",
   "metadata": {},
   "outputs": [
    {
     "data": {
      "text/plain": [
       "np.int64(5)"
      ]
     },
     "execution_count": 105,
     "metadata": {},
     "output_type": "execute_result"
    }
   ],
   "source": [
    "np.argmax(ab)"
   ]
  },
  {
   "cell_type": "code",
   "execution_count": 107,
   "id": "baf4b5a1-ced2-4769-b41e-3a1c6a223fb3",
   "metadata": {},
   "outputs": [
    {
     "data": {
      "text/plain": [
       "np.int64(0)"
      ]
     },
     "execution_count": 107,
     "metadata": {},
     "output_type": "execute_result"
    }
   ],
   "source": [
    "np.argmin(ab)"
   ]
  },
  {
   "cell_type": "markdown",
   "id": "5fa69c7e-0b35-4b83-9dd7-0e3f8f1eb54d",
   "metadata": {},
   "source": [
    " 9. searching in numpy array :\n",
    "    1. np.where (condition): it will retrun the index of the elements where the condition is true\n",
    "    2. np.nonzero() : it will return the index of the nonzero elements in the array\n",
    "    - syntax : np.nonzero(array_name)\n",
    "    3. np extract() : it will return the element based on the conditions\n",
    "    - syntax:np.extract(condition,array_name)"
   ]
  },
  {
   "cell_type": "code",
   "execution_count": 3,
   "id": "7c66e802-b16f-4883-9f62-137e97b532de",
   "metadata": {},
   "outputs": [],
   "source": [
    "import numpy as np"
   ]
  },
  {
   "cell_type": "code",
   "execution_count": 9,
   "id": "983954f1-3c2c-459f-9310-49d2dca6224a",
   "metadata": {},
   "outputs": [],
   "source": [
    "a=np.array([2,3,4,5])\n",
    "b=np.array([1,2,3,4])\n",
    "c=np.array([2,3,4,5])"
   ]
  },
  {
   "cell_type": "code",
   "execution_count": 10,
   "id": "0e69cf80-3e35-4f29-8343-ab6ea632f817",
   "metadata": {},
   "outputs": [
    {
     "data": {
      "text/plain": [
       "False"
      ]
     },
     "execution_count": 10,
     "metadata": {},
     "output_type": "execute_result"
    }
   ],
   "source": [
    "np.array_equal(a,b)"
   ]
  },
  {
   "cell_type": "code",
   "execution_count": 11,
   "id": "0027221d-820c-4aaf-bc69-8c23e64cf247",
   "metadata": {},
   "outputs": [
    {
     "data": {
      "text/plain": [
       "True"
      ]
     },
     "execution_count": 11,
     "metadata": {},
     "output_type": "execute_result"
    }
   ],
   "source": [
    "np.array_equal(a,c)"
   ]
  },
  {
   "cell_type": "code",
   "execution_count": 4,
   "id": "ff444a34-2548-4b54-9d30-1a655d640eab",
   "metadata": {},
   "outputs": [
    {
     "data": {
      "text/plain": [
       "(array([0, 1, 2, 4]),)"
      ]
     },
     "execution_count": 4,
     "metadata": {},
     "output_type": "execute_result"
    }
   ],
   "source": [
    "a=np.array([3,4,5,1,7])\n",
    "np.where(a>2)"
   ]
  },
  {
   "cell_type": "code",
   "execution_count": 5,
   "id": "2185a20a-821f-48f8-964c-fd4f7f32ae4d",
   "metadata": {},
   "outputs": [
    {
     "data": {
      "text/plain": [
       "(array([], dtype=int64),)"
      ]
     },
     "execution_count": 5,
     "metadata": {},
     "output_type": "execute_result"
    }
   ],
   "source": [
    "np.where(a==2)"
   ]
  },
  {
   "cell_type": "code",
   "execution_count": 6,
   "id": "245dc381-6935-45bb-b478-04b482ecda4f",
   "metadata": {},
   "outputs": [
    {
     "data": {
      "text/plain": [
       "(array([0]),)"
      ]
     },
     "execution_count": 6,
     "metadata": {},
     "output_type": "execute_result"
    }
   ],
   "source": [
    "np.where(a==3)"
   ]
  },
  {
   "cell_type": "code",
   "execution_count": 12,
   "id": "a7fad605-4d15-4f05-bc1e-2574b4773925",
   "metadata": {},
   "outputs": [
    {
     "data": {
      "text/plain": [
       "(array([], dtype=int64),)"
      ]
     },
     "execution_count": 12,
     "metadata": {},
     "output_type": "execute_result"
    }
   ],
   "source": [
    "np.where(a==0)"
   ]
  },
  {
   "cell_type": "code",
   "execution_count": 13,
   "id": "2d6991cb-e472-4518-83f2-3c59f72e3a7c",
   "metadata": {},
   "outputs": [
    {
     "data": {
      "text/plain": [
       "(array([0, 1, 2, 4, 5]),)"
      ]
     },
     "execution_count": 13,
     "metadata": {},
     "output_type": "execute_result"
    }
   ],
   "source": [
    "b=np.array([2,3,4,0,5,6,0,0])\n",
    "np.nonzero(b)"
   ]
  },
  {
   "cell_type": "code",
   "execution_count": 14,
   "id": "3845171a-44ea-4ab8-911e-e366ddc88bda",
   "metadata": {},
   "outputs": [
    {
     "data": {
      "text/plain": [
       "array([ 6, 11, 19, 20])"
      ]
     },
     "execution_count": 14,
     "metadata": {},
     "output_type": "execute_result"
    }
   ],
   "source": [
    "c=np.array([4,5,6,11,19,20])\n",
    "np.extract(c>5,c)"
   ]
  },
  {
   "cell_type": "markdown",
   "id": "910d5744-84be-4efc-981c-a4f5fdaf97cd",
   "metadata": {},
   "source": [
    " 10. Numpy is a fixed length :\n",
    " \n",
    " @ np.append() :\n",
    " \n",
    "               - It is used to add the element in the numpy array \n",
    "               - It will not make changes directly in exixting array,we have to create a new array to see the changes\n",
    "               - It is taking extra array for append\n",
    "               - Syntax : np.append(array,element)\n",
    "\n",
    " @ np.insert() : \n",
    " \n",
    "               - It will insert the element into numpay array at the particular position\n",
    "               - But to see the changes we have create another numpy array\n",
    "               - Syntax: np.insert(array_name,index,item)"
   ]
  },
  {
   "cell_type": "code",
   "execution_count": 18,
   "id": "d8a241ae-28ef-47ac-9fc5-5899b9b3883a",
   "metadata": {},
   "outputs": [
    {
     "data": {
      "text/plain": [
       "array([ 3,  4,  5,  6,  7, 45])"
      ]
     },
     "execution_count": 18,
     "metadata": {},
     "output_type": "execute_result"
    }
   ],
   "source": [
    "p=np.array([3,4,5,6,7])\n",
    "np.append(p,45)\n"
   ]
  },
  {
   "cell_type": "code",
   "execution_count": 19,
   "id": "00b1afca-fddd-44ec-a96e-434457bc6f7f",
   "metadata": {},
   "outputs": [
    {
     "data": {
      "text/plain": [
       "array([3, 4, 5, 6, 7])"
      ]
     },
     "execution_count": 19,
     "metadata": {},
     "output_type": "execute_result"
    }
   ],
   "source": [
    "p"
   ]
  },
  {
   "cell_type": "code",
   "execution_count": 37,
   "id": "d9361045-2ab4-4159-9f3b-dd2682e89766",
   "metadata": {},
   "outputs": [],
   "source": [
    "q=np.array([3,4,5,6,7,8,9])"
   ]
  },
  {
   "cell_type": "code",
   "execution_count": 36,
   "id": "28bacbb2-9b61-4ec7-9fe0-bbb5c8e3e5b8",
   "metadata": {},
   "outputs": [
    {
     "data": {
      "text/plain": [
       "array([ 3,  4,  5,  6, 10,  7,  8,  9])"
      ]
     },
     "execution_count": 36,
     "metadata": {},
     "output_type": "execute_result"
    }
   ],
   "source": [
    "q"
   ]
  },
  {
   "cell_type": "markdown",
   "id": "be9a34d1-5cf0-44b7-8e91-21904c0dfd8f",
   "metadata": {},
   "source": [
    " np.concatenate():\n",
    " \n",
    "     - It is used to concatenate the numpy array to another numpy array\n",
    "     - It will create a numpy array\n",
    "     - Syntax : np.concatenate(array_name,([i1,i2---]))"
   ]
  },
  {
   "cell_type": "code",
   "execution_count": 27,
   "id": "7540fc90-fd63-40f8-ac53-93f790cffb11",
   "metadata": {},
   "outputs": [
    {
     "data": {
      "text/plain": [
       "array([ 45,  67,  89,  90, 100,   1,   2,   3,   4])"
      ]
     },
     "execution_count": 27,
     "metadata": {},
     "output_type": "execute_result"
    }
   ],
   "source": [
    "array3=np.array([45,67,89,90,100])\n",
    "array4=np.concatenate((array3,np.array([1,2,3,4])))\n",
    "array4"
   ]
  },
  {
   "cell_type": "markdown",
   "id": "91213345-c194-49c1-be64-9bd55cab2d20",
   "metadata": {},
   "source": [
    " @ Reshaping : \n",
    "  \n",
    "     - It convert the one numpy array into another dimensions\n",
    "\n",
    " @ Syntax :\n",
    " \n",
    "      1.array_name=np.array([]).reshape(x_dim,y_dim)\n",
    "      2.array_name.reshape()\n",
    "\n",
    " @ Number of elements before reshaping and after reshaping must be equal\n",
    " \n",
    " @ If only one row present in a matrix:row vector:(1*n)\n",
    " \n",
    " @ If only one column present in a matrix:column vector:(n*1)\n",
    " \n",
    " @ 12 :  3*4,4*3,6*2,2*6,(2*2*3)"
   ]
  },
  {
   "cell_type": "code",
   "execution_count": 28,
   "id": "b434361e-552e-4365-89bc-c0b74873f55d",
   "metadata": {},
   "outputs": [
    {
     "data": {
      "text/plain": [
       "(12,)"
      ]
     },
     "execution_count": 28,
     "metadata": {},
     "output_type": "execute_result"
    }
   ],
   "source": [
    "a1=np.array([0,0,0,0,0,0,0,0,0,0,1,0])\n",
    "a1.shape"
   ]
  },
  {
   "cell_type": "code",
   "execution_count": 29,
   "id": "170578ef-358d-48fc-bff4-4f6a8082aa1d",
   "metadata": {},
   "outputs": [
    {
     "data": {
      "text/plain": [
       "array([[0],\n",
       "       [0],\n",
       "       [0],\n",
       "       [0],\n",
       "       [0],\n",
       "       [0],\n",
       "       [0],\n",
       "       [0],\n",
       "       [0],\n",
       "       [0],\n",
       "       [1],\n",
       "       [0]])"
      ]
     },
     "execution_count": 29,
     "metadata": {},
     "output_type": "execute_result"
    }
   ],
   "source": [
    "a1.reshape(12,1)"
   ]
  },
  {
   "cell_type": "code",
   "execution_count": 30,
   "id": "2fe010c9-bb42-4c68-8404-167b603cf273",
   "metadata": {},
   "outputs": [
    {
     "data": {
      "text/plain": [
       "array([[0, 0, 0, 0],\n",
       "       [0, 0, 0, 0],\n",
       "       [0, 0, 1, 0]])"
      ]
     },
     "execution_count": 30,
     "metadata": {},
     "output_type": "execute_result"
    }
   ],
   "source": [
    "a1.reshape(3,4)"
   ]
  },
  {
   "cell_type": "code",
   "execution_count": 31,
   "id": "d1498e2e-020b-41e0-b48f-12460217631c",
   "metadata": {},
   "outputs": [
    {
     "data": {
      "text/plain": [
       "array([[0, 0, 0],\n",
       "       [0, 0, 0],\n",
       "       [0, 0, 0],\n",
       "       [0, 1, 0]])"
      ]
     },
     "execution_count": 31,
     "metadata": {},
     "output_type": "execute_result"
    }
   ],
   "source": [
    "a1.reshape(4,3)"
   ]
  },
  {
   "cell_type": "code",
   "execution_count": 32,
   "id": "7600edc1-7216-4025-81fe-a6a2a1e9983b",
   "metadata": {},
   "outputs": [
    {
     "data": {
      "text/plain": [
       "array([[0, 0],\n",
       "       [0, 0],\n",
       "       [0, 0],\n",
       "       [0, 0],\n",
       "       [0, 0],\n",
       "       [1, 0]])"
      ]
     },
     "execution_count": 32,
     "metadata": {},
     "output_type": "execute_result"
    }
   ],
   "source": [
    "a1.reshape(6,2)"
   ]
  },
  {
   "cell_type": "code",
   "execution_count": 33,
   "id": "5caea7f0-4560-4408-a2b7-3372a9b37fac",
   "metadata": {},
   "outputs": [
    {
     "data": {
      "text/plain": [
       "array([[0, 0, 0, 0, 0, 0],\n",
       "       [0, 0, 0, 0, 1, 0]])"
      ]
     },
     "execution_count": 33,
     "metadata": {},
     "output_type": "execute_result"
    }
   ],
   "source": [
    "a1.reshape(2,6)"
   ]
  },
  {
   "cell_type": "code",
   "execution_count": 34,
   "id": "4d5a3ead-c16b-4891-9dcd-fa3a671e2077",
   "metadata": {},
   "outputs": [
    {
     "data": {
      "text/plain": [
       "array([[[0, 0, 0],\n",
       "        [0, 0, 0]],\n",
       "\n",
       "       [[0, 0, 0],\n",
       "        [0, 1, 0]]])"
      ]
     },
     "execution_count": 34,
     "metadata": {},
     "output_type": "execute_result"
    }
   ],
   "source": [
    "a1.reshape(2,2,3)"
   ]
  },
  {
   "cell_type": "code",
   "execution_count": null,
   "id": "28f80fa6-ddb1-4972-8769-63d4dde7c4cd",
   "metadata": {},
   "outputs": [],
   "source": [
    "import numpy as np"
   ]
  },
  {
   "cell_type": "markdown",
   "id": "0125b618-1238-4a3f-b0a0-bbd2578a19bc",
   "metadata": {},
   "source": [
    " @ Accessing the elements of numpy arrays :  "
   ]
  },
  {
   "cell_type": "code",
   "execution_count": 38,
   "id": "ab5c7382-ef46-49c1-a653-e31b8db7ffa3",
   "metadata": {},
   "outputs": [
    {
     "data": {
      "text/plain": [
       "np.int64(3)"
      ]
     },
     "execution_count": 38,
     "metadata": {},
     "output_type": "execute_result"
    }
   ],
   "source": [
    "a=np.array([1,2,3,4,5,6,7])\n",
    "a[2]"
   ]
  },
  {
   "cell_type": "code",
   "execution_count": 39,
   "id": "5f58ad72-efcd-4a9a-b1ee-37f109753602",
   "metadata": {},
   "outputs": [
    {
     "data": {
      "text/plain": [
       "np.int64(4)"
      ]
     },
     "execution_count": 39,
     "metadata": {},
     "output_type": "execute_result"
    }
   ],
   "source": [
    "b=np.array([[1,2],[4,5]])\n",
    "b[1][0]"
   ]
  },
  {
   "cell_type": "code",
   "execution_count": 65,
   "id": "1cc50f81-ad4f-46ea-9db0-c82dcfbd10f9",
   "metadata": {},
   "outputs": [
    {
     "data": {
      "text/plain": [
       "array([0, 1, 2, 3, 4, 5, 6, 7, 8, 9])"
      ]
     },
     "execution_count": 65,
     "metadata": {},
     "output_type": "execute_result"
    }
   ],
   "source": [
    "c=np.arange(10)\n",
    "c"
   ]
  },
  {
   "cell_type": "code",
   "execution_count": 66,
   "id": "a46d0016-71bc-49c3-aef1-200abeec8959",
   "metadata": {},
   "outputs": [
    {
     "data": {
      "text/plain": [
       "array([2, 3, 4, 5])"
      ]
     },
     "execution_count": 66,
     "metadata": {},
     "output_type": "execute_result"
    }
   ],
   "source": [
    "c[2:6]"
   ]
  },
  {
   "cell_type": "code",
   "execution_count": 68,
   "id": "13b199d1-48cd-46cb-859a-6ed60c468204",
   "metadata": {},
   "outputs": [
    {
     "data": {
      "text/plain": [
       "array([ 0,  1,  2,  3,  4, 10, 10, 10, 10, 10])"
      ]
     },
     "execution_count": 68,
     "metadata": {},
     "output_type": "execute_result"
    }
   ],
   "source": [
    "c[5:]=10\n",
    "c"
   ]
  },
  {
   "cell_type": "code",
   "execution_count": 69,
   "id": "71c8eba5-d47f-44a6-87b0-67b6c206eedd",
   "metadata": {},
   "outputs": [],
   "source": [
    "a1=np.arange(10)\n",
    "a2=np.arange(5)"
   ]
  },
  {
   "cell_type": "code",
   "execution_count": 71,
   "id": "a0a26582-c00f-43a9-b6b9-f6e7db7061b4",
   "metadata": {},
   "outputs": [
    {
     "data": {
      "text/plain": [
       "array([0, 1, 2, 3, 4, 4, 3, 2, 1, 0])"
      ]
     },
     "execution_count": 71,
     "metadata": {},
     "output_type": "execute_result"
    }
   ],
   "source": [
    "a1[5:]=a2[::-1]\n",
    "a1"
   ]
  },
  {
   "cell_type": "code",
   "execution_count": 73,
   "id": "27b6c732-17e1-4b17-a1c0-022e5c348e02",
   "metadata": {},
   "outputs": [
    {
     "data": {
      "text/plain": [
       "np.False_"
      ]
     },
     "execution_count": 73,
     "metadata": {},
     "output_type": "execute_result"
    }
   ],
   "source": [
    "b1=np.array([2,3,4,5])\n",
    "b2=np.array([1,2,3,4])\n",
    "b3=np.array([2,3,4,5])\n",
    "d=((b1<=b2) & (b1<=b3)).all()\n",
    "d"
   ]
  },
  {
   "cell_type": "markdown",
   "id": "51675077-6616-4864-ad5d-f58f7b1711f4",
   "metadata": {},
   "source": [
    " @ Statistical operations on numpy array :\n",
    "    \n",
    " @ Statistics : Way of solving a problem with the help of data\n",
    " 1. descriptive statistics :\n",
    "    - Describing the data\n",
    "    - We have different techniques and measures in descriptive stats to describe the data\n",
    "    - We want to explore the data\n",
    "\n",
    " @ Statistics measures:\n",
    "\n",
    " @ First moment business decision (measures of central tendencies)\n",
    "\n",
    " 1.Mean :\n",
    " \n",
    "        - Average of the data pointer\n",
    "        - Mean=(sum of all observations)/total number of observation\n",
    "        - Base pizza : Hyderabd\n",
    "          s1:110\n",
    "          s2:120\n",
    "          s3:100\n",
    "          s4:110\n",
    "          s5:100\n",
    "        - Avg(pizza_price)=108\n",
    "        - Mean is influenced by outliers\n",
    "        - Outliers means a datapoint which is not in a range (out of context value)\n",
    "        - Whenever we have outliers in the dataset better not to use mean\n",
    "        - Syntax : np.mean(array_name)\n",
    "\n",
    " 2.Median : Average\n",
    " \n",
    "         s1:110\n",
    "         s2:120\n",
    "         s3:100\n",
    "         s4:110\n",
    "         s5:900----avg(pizza_price)=268--mean---outliers:\n",
    "       - Median(pizza_price)=120\n",
    "       - Whenever we have outliers in datset we have to use median\n",
    "       - Median is not influenced by outliers\n",
    "       \n",
    " @ Method to find median :\n",
    " \n",
    "       - Sort the data points in ascending order\n",
    "       - If there is odd no of datapoints:median=middle number \n",
    "       - If there is even number of datapoints then\n",
    "       - Median=(middle_element+(middle_element+1))//2\n",
    "       - Syntax : np.median(array_name)\n",
    "\n",
    " \n",
    " 3.Mode--(scipy) : There are two type of data in a statistics\n",
    " \n",
    "                1. Numrical data or continuous :\n",
    "                \n",
    "                                                - It will contains the numerical value\n",
    "                                                - Numrical data again classify into two data : \n",
    "                                                  a. Continuous data : \n",
    "                                                                     - It is having continuous real value\n",
    "                                                                     - Ex : weight,height etc\n",
    "                                                  b. Discete data :\n",
    "                                                                  - It will not contain fractional value\n",
    "                                                                  - Ex : count of students etc\n",
    " @ mean and median will works on numerical data only\n",
    "\n",
    "                 2. Catagorial data : \n",
    "                                     - It will specify the ctagory\n",
    "                                     - We cannot find out the mean and median for catagorical data\n",
    "                                     \n",
    " 3.Mode :\n",
    "  \n",
    "        - It will work on the categorical data\n",
    "        - Mode means maximum occurrence of the data pointers\n",
    "        - There can be multiple modes in the dataset we called it as multimodal dataset \n",
    "        - If we unwanted to select any one or two its completely depens upon problem statement\n",
    "        \n",
    "                                     \n",
    " @ Second moment business decision : (measures of the dispersion) \n",
    "   \n",
    "   -  Dispersion means how the data point are varying\n",
    "\n",
    " 1.Range :\n",
    " \n",
    "         - Max of array and min of array\n",
    "         - Max(array)\n",
    "         - Min(Array)\n",
    "      \n",
    " 2.Standard Deviation : \n",
    "           \n",
    "          -  It is a square root of variance\n",
    "          - np.std(array_name)\n",
    "                     \n",
    " 3.Variance :\n",
    " \n",
    "            - How for each data point from the average\n",
    "            - syntax:np.var(Array_name)\n",
    "\n",
    " @ Cumsum :\n",
    " \n",
    "          - [1,2,3,4,5]:[1,3,6,,10,]\n",
    "          - np.cumsum(array_name)\n",
    "\n",
    " @ Percentile :[12-----------n]\n",
    "\n",
    "             - 50 percentile:how many data points are there which is less that 50% percent value\n",
    "             - 90 percentile \n",
    "             - np.percentile(array_name,value)\n",
    "\n",
    " 2.Inferential Statistics :\n",
    " -  We are making some concusion based on the sample and infering about the population \n",
    "\n",
    " @ Corelation : Relationship between two feature\n",
    " \n",
    "       rho :  1------- strong relation\n",
    "             -1-------- weak relation\n",
    "              0 -------- no relation \n",
    "              syntax : corrcoef(a1,a1)\n",
    " "
   ]
  },
  {
   "cell_type": "code",
   "execution_count": 40,
   "id": "4b22dd0f-fea4-4d07-9a1a-23c8c27c8ac4",
   "metadata": {},
   "outputs": [],
   "source": [
    "import numpy as np"
   ]
  },
  {
   "cell_type": "code",
   "execution_count": 41,
   "id": "5d46abac-2efb-46fd-a6ed-b51140493307",
   "metadata": {},
   "outputs": [
    {
     "name": "stdout",
     "output_type": "stream",
     "text": [
      "3\n",
      "4\n",
      "5\n",
      "6\n",
      "7\n",
      "8\n"
     ]
    }
   ],
   "source": [
    "a=np.array([3,4,5,6,7,8])\n",
    "for i in a:\n",
    "    print(i)"
   ]
  },
  {
   "cell_type": "code",
   "execution_count": 62,
   "id": "c3f4a4d6-1753-4979-ad2a-05367c634a00",
   "metadata": {},
   "outputs": [
    {
     "data": {
      "text/plain": [
       "array([[11, 16, 27, 21],\n",
       "       [20, 29, 15, 18],\n",
       "       [13, 12, 20, 14],\n",
       "       [16, 24, 17, 20],\n",
       "       [13, 17, 15, 11]], dtype=int32)"
      ]
     },
     "execution_count": 62,
     "metadata": {},
     "output_type": "execute_result"
    }
   ],
   "source": [
    "b=np.random.randint(10,30,(4,5)).reshape(5,4)\n",
    "b"
   ]
  },
  {
   "cell_type": "code",
   "execution_count": 64,
   "id": "0a2961c0-b73c-46ea-b59a-28ff212b9cef",
   "metadata": {},
   "outputs": [
    {
     "name": "stdout",
     "output_type": "stream",
     "text": [
      "11\n",
      "16\n",
      "27\n",
      "21\n",
      "20\n",
      "29\n",
      "15\n",
      "18\n",
      "13\n",
      "12\n",
      "20\n",
      "14\n",
      "16\n",
      "24\n",
      "17\n",
      "20\n",
      "13\n",
      "17\n",
      "15\n",
      "11\n"
     ]
    }
   ],
   "source": [
    "for i in range(len(b)):\n",
    "    for j in range(len(b[0])):\n",
    "        print(b[i][j])"
   ]
  },
  {
   "cell_type": "code",
   "execution_count": 63,
   "id": "9abb0da1-35d0-4e2a-bc21-204c592b7823",
   "metadata": {},
   "outputs": [
    {
     "data": {
      "text/plain": [
       "array([[11, 16, 27, 21],\n",
       "       [20, 29, 15, 18],\n",
       "       [13, 12, 20, 14],\n",
       "       [16, 24, 17, 20],\n",
       "       [13, 17, 15, 11]], dtype=int32)"
      ]
     },
     "execution_count": 63,
     "metadata": {},
     "output_type": "execute_result"
    }
   ],
   "source": [
    "b"
   ]
  },
  {
   "cell_type": "code",
   "execution_count": 6,
   "id": "56415639-bcc4-406d-b28d-6280f55adeb4",
   "metadata": {},
   "outputs": [
    {
     "data": {
      "text/plain": [
       "np.int32(24)"
      ]
     },
     "execution_count": 6,
     "metadata": {},
     "output_type": "execute_result"
    }
   ],
   "source": [
    "b[1,3]"
   ]
  },
  {
   "cell_type": "code",
   "execution_count": 7,
   "id": "fe503581-0af3-498c-abe6-7313afaa3eb5",
   "metadata": {},
   "outputs": [
    {
     "data": {
      "text/plain": [
       "array([[24, 25, 25, 17],\n",
       "       [10, 22, 29, 24],\n",
       "       [14, 11, 25, 27],\n",
       "       [20, 24, 25, 24],\n",
       "       [26, 18, 14, 19]], dtype=int32)"
      ]
     },
     "execution_count": 7,
     "metadata": {},
     "output_type": "execute_result"
    }
   ],
   "source": [
    "b"
   ]
  },
  {
   "cell_type": "code",
   "execution_count": 8,
   "id": "13159fab-0e2c-4f4e-854b-dfca8a396be3",
   "metadata": {},
   "outputs": [
    {
     "data": {
      "text/plain": [
       "array([[ True,  True,  True,  True],\n",
       "       [False,  True,  True,  True],\n",
       "       [False, False,  True,  True],\n",
       "       [ True,  True,  True,  True],\n",
       "       [ True,  True, False,  True]])"
      ]
     },
     "execution_count": 8,
     "metadata": {},
     "output_type": "execute_result"
    }
   ],
   "source": [
    "b>15"
   ]
  },
  {
   "cell_type": "code",
   "execution_count": 58,
   "id": "7e6a0d76-d9e4-4bbd-9cfe-c8735e98cffd",
   "metadata": {},
   "outputs": [
    {
     "data": {
      "text/plain": [
       "array([[False, False, False],\n",
       "       [False, False, False],\n",
       "       [False, False, False]])"
      ]
     },
     "execution_count": 58,
     "metadata": {},
     "output_type": "execute_result"
    }
   ],
   "source": [
    "mask=b>15\n",
    "mask"
   ]
  },
  {
   "cell_type": "code",
   "execution_count": 59,
   "id": "3e5272f6-7831-49f3-9e17-22f1b597b147",
   "metadata": {},
   "outputs": [
    {
     "data": {
      "text/plain": [
       "array([], dtype=int64)"
      ]
     },
     "execution_count": 59,
     "metadata": {},
     "output_type": "execute_result"
    }
   ],
   "source": [
    "a[a>15]"
   ]
  },
  {
   "cell_type": "code",
   "execution_count": 10,
   "id": "1a30cc7e-3a04-495d-a95a-a66bcc9fc7bb",
   "metadata": {},
   "outputs": [
    {
     "data": {
      "text/plain": [
       "array([[ True, False, False, False],\n",
       "       [False,  True, False,  True],\n",
       "       [False, False, False, False],\n",
       "       [ True,  True, False,  True],\n",
       "       [ True,  True, False, False]])"
      ]
     },
     "execution_count": 10,
     "metadata": {},
     "output_type": "execute_result"
    }
   ],
   "source": [
    "f11=(b>15) & (b%2==0)\n",
    "f11"
   ]
  },
  {
   "cell_type": "markdown",
   "id": "0bb0b6c1-edcc-4654-ad4e-8939fb7fb21e",
   "metadata": {},
   "source": [
    " @ Broadcasting :\n",
    "\n",
    "                   - Its ability to exapand the array to perform the operations with the larger array\n",
    "                   - Broadcasting is a process to perform the operation of small matrices and large matrix\n",
    "                   - With the help of this concept different size matrix operation can perform"
   ]
  },
  {
   "cell_type": "code",
   "execution_count": 11,
   "id": "9421452a-27a2-43db-b6dc-7317a4ad18f9",
   "metadata": {},
   "outputs": [
    {
     "data": {
      "text/plain": [
       "array([[5., 5., 5.],\n",
       "       [5., 5., 5.],\n",
       "       [5., 5., 5.]])"
      ]
     },
     "execution_count": 11,
     "metadata": {},
     "output_type": "execute_result"
    }
   ],
   "source": [
    "a=np.ones((3,3))+4                 \n",
    "a"
   ]
  },
  {
   "cell_type": "code",
   "execution_count": 12,
   "id": "e94d5d27-346a-44cf-8b43-7b76a2e85068",
   "metadata": {},
   "outputs": [
    {
     "data": {
      "text/plain": [
       "array([1, 2])"
      ]
     },
     "execution_count": 12,
     "metadata": {},
     "output_type": "execute_result"
    }
   ],
   "source": [
    "a1=np.array([[1,2],[3,4]])\n",
    "a2=np.array([1,2])\n",
    "a2"
   ]
  },
  {
   "cell_type": "code",
   "execution_count": 13,
   "id": "c94cc452-91b8-42cd-aac5-c84b2b8a2ed9",
   "metadata": {},
   "outputs": [
    {
     "data": {
      "text/plain": [
       "array([[1, 2],\n",
       "       [3, 4]])"
      ]
     },
     "execution_count": 13,
     "metadata": {},
     "output_type": "execute_result"
    }
   ],
   "source": [
    "a1"
   ]
  },
  {
   "cell_type": "code",
   "execution_count": 14,
   "id": "6e74b404-c3cc-4bd1-a859-ab6b6e94628d",
   "metadata": {},
   "outputs": [
    {
     "data": {
      "text/plain": [
       "array([[2, 4],\n",
       "       [4, 6]])"
      ]
     },
     "execution_count": 14,
     "metadata": {},
     "output_type": "execute_result"
    }
   ],
   "source": [
    "a1+a2"
   ]
  },
  {
   "cell_type": "code",
   "execution_count": 19,
   "id": "d7e4997e-29e6-45ca-8092-db10e88b85d2",
   "metadata": {},
   "outputs": [],
   "source": [
    "aa1=np.arange(9).reshape(3,3)\n",
    "aa2=np.arange(3).reshape(3,1)"
   ]
  },
  {
   "cell_type": "code",
   "execution_count": 18,
   "id": "2d6c4e0a-907a-4927-aa00-c5cf38896f60",
   "metadata": {},
   "outputs": [
    {
     "data": {
      "text/plain": [
       "array([[0, 1, 2],\n",
       "       [3, 4, 5],\n",
       "       [6, 7, 8]])"
      ]
     },
     "execution_count": 18,
     "metadata": {},
     "output_type": "execute_result"
    }
   ],
   "source": [
    "aa1"
   ]
  },
  {
   "cell_type": "code",
   "execution_count": 20,
   "id": "29e1e840-701c-481c-ab61-cf341ed72af1",
   "metadata": {},
   "outputs": [
    {
     "data": {
      "text/plain": [
       "array([[0],\n",
       "       [1],\n",
       "       [2]])"
      ]
     },
     "execution_count": 20,
     "metadata": {},
     "output_type": "execute_result"
    }
   ],
   "source": [
    "aa2"
   ]
  },
  {
   "cell_type": "code",
   "execution_count": 21,
   "id": "6fa1a95b-7fa5-4dc0-a69a-42e862951342",
   "metadata": {},
   "outputs": [
    {
     "data": {
      "text/plain": [
       "array([[ 0,  1,  2],\n",
       "       [ 4,  5,  6],\n",
       "       [ 8,  9, 10]])"
      ]
     },
     "execution_count": 21,
     "metadata": {},
     "output_type": "execute_result"
    }
   ],
   "source": [
    "aa1+aa2"
   ]
  },
  {
   "cell_type": "code",
   "execution_count": 55,
   "id": "97ec79a0-121a-4a37-be2f-7346461cd908",
   "metadata": {},
   "outputs": [
    {
     "data": {
      "text/plain": [
       "array([[0, 1, 2, 3, 4],\n",
       "       [5, 6, 7, 8, 9]])"
      ]
     },
     "execution_count": 55,
     "metadata": {},
     "output_type": "execute_result"
    }
   ],
   "source": [
    "aa4=np.arange(10).reshape(2,5)\n",
    "aa5=np.arange(9).reshape(3,3)\n",
    "aa4"
   ]
  },
  {
   "cell_type": "code",
   "execution_count": 56,
   "id": "400faad2-a424-4247-8d6b-1e35841840e9",
   "metadata": {},
   "outputs": [
    {
     "data": {
      "text/plain": [
       "array([[0, 1, 2],\n",
       "       [3, 4, 5],\n",
       "       [6, 7, 8]])"
      ]
     },
     "execution_count": 56,
     "metadata": {},
     "output_type": "execute_result"
    }
   ],
   "source": [
    "aa5"
   ]
  },
  {
   "cell_type": "code",
   "execution_count": 31,
   "id": "84f539c2-83b3-458c-b9c3-e637b52c93b4",
   "metadata": {},
   "outputs": [
    {
     "data": {
      "text/plain": [
       "array([[ 0,  1,  2,  3,  4,  5],\n",
       "       [ 7,  8,  9, 10, 11, 12],\n",
       "       [14, 15, 16, 17, 18, 19]])"
      ]
     },
     "execution_count": 31,
     "metadata": {},
     "output_type": "execute_result"
    }
   ],
   "source": [
    "aa8=np.arange(18).reshape(3,6)\n",
    "aa9=np.arange(3).reshape(3,1)\n",
    "aa8+aa9"
   ]
  },
  {
   "cell_type": "markdown",
   "id": "64004e97-b730-4c13-b662-b54ef3e476eb",
   "metadata": {},
   "source": [
    " Q We have 3D numpy array with random we need to add there array using loop "
   ]
  },
  {
   "cell_type": "markdown",
   "id": "b40d456b-6a1c-4222-80a0-ccde2df4433c",
   "metadata": {},
   "source": [
    " RMO : Row major order\n",
    " \n",
    "     - np.reshape(array_name,dimension,'c')\n",
    "     - C :PL will follows the Row major order\n",
    "\n",
    " CMO : \n",
    " \n",
    "     - np.reshape(array_name,dimension,'F')\n",
    "     - FORTRAN PL will follows CMO\n",
    "\n",
    " @ Concatenate two matrixces :\n",
    " - np.concatenate ([])\n",
    " - np.hstack ([]): it will concatenate two matrix \n",
    " - Horizontally\n",
    " - np.vstack ([]): it will concatenate two matrix \n",
    " - Vertically"
   ]
  },
  {
   "cell_type": "code",
   "execution_count": 1,
   "id": "36dc1bc7-1433-49e1-8e6e-d0f6991dc008",
   "metadata": {},
   "outputs": [],
   "source": [
    "import numpy as np"
   ]
  },
  {
   "cell_type": "code",
   "execution_count": 3,
   "id": "db74d3b0-7f72-4f15-9f23-ff652e5058a7",
   "metadata": {},
   "outputs": [
    {
     "data": {
      "text/plain": [
       "array([[0, 1, 2],\n",
       "       [3, 4, 5],\n",
       "       [6, 7, 8]])"
      ]
     },
     "execution_count": 3,
     "metadata": {},
     "output_type": "execute_result"
    }
   ],
   "source": [
    "a=np.arange(9).reshape(3,3)\n",
    "a"
   ]
  },
  {
   "cell_type": "code",
   "execution_count": 4,
   "id": "611f26c5-1d63-4100-a138-5b22dd0dd123",
   "metadata": {},
   "outputs": [
    {
     "data": {
      "text/plain": [
       "array([[0, 1, 2, 3, 4, 5, 6, 7, 8]])"
      ]
     },
     "execution_count": 4,
     "metadata": {},
     "output_type": "execute_result"
    }
   ],
   "source": [
    "np.reshape(a,(1,9),'c')"
   ]
  },
  {
   "cell_type": "code",
   "execution_count": 5,
   "id": "e43f27fb-2b6e-4709-8383-d5613036e527",
   "metadata": {},
   "outputs": [
    {
     "data": {
      "text/plain": [
       "array([[0, 3, 6, 1, 4, 7, 2, 5, 8]])"
      ]
     },
     "execution_count": 5,
     "metadata": {},
     "output_type": "execute_result"
    }
   ],
   "source": [
    "np.reshape(a,(1,9),'F')"
   ]
  },
  {
   "cell_type": "code",
   "execution_count": 6,
   "id": "e1012d41-6e5b-41c0-bb80-bd9b8638dc23",
   "metadata": {},
   "outputs": [
    {
     "data": {
      "text/plain": [
       "array([[1, 2],\n",
       "       [3, 4],\n",
       "       [5, 6],\n",
       "       [7, 8]])"
      ]
     },
     "execution_count": 6,
     "metadata": {},
     "output_type": "execute_result"
    }
   ],
   "source": [
    "a1=np.array ([[1,2],[3,4]])\n",
    "a2=np.array ([[5,6],[7,8]])\n",
    "np.concatenate([a1,a2])"
   ]
  },
  {
   "cell_type": "code",
   "execution_count": 7,
   "id": "5538e79e-3c92-41d3-840e-9040a8127184",
   "metadata": {},
   "outputs": [
    {
     "data": {
      "text/plain": [
       "array([[1, 2, 5, 6],\n",
       "       [3, 4, 7, 8]])"
      ]
     },
     "execution_count": 7,
     "metadata": {},
     "output_type": "execute_result"
    }
   ],
   "source": [
    "np.hstack([a1,a2])"
   ]
  },
  {
   "cell_type": "code",
   "execution_count": 8,
   "id": "34491e0a-f768-4384-a251-68b7d82a798d",
   "metadata": {},
   "outputs": [
    {
     "data": {
      "text/plain": [
       "array([[1, 2],\n",
       "       [3, 4],\n",
       "       [5, 6],\n",
       "       [7, 8]])"
      ]
     },
     "execution_count": 8,
     "metadata": {},
     "output_type": "execute_result"
    }
   ],
   "source": [
    "np.vstack([a1,a2])"
   ]
  },
  {
   "cell_type": "markdown",
   "id": "cd9a14e9-fbc6-4642-8f72-b8154ed80edd",
   "metadata": {},
   "source": [
    " @ Copy and views ---------- Importance Q for interview\n",
    " \n",
    " @ copy () :\n",
    " \n",
    "           - When we use the copy (),it will create duplicate array with different buffer. \n",
    "           - The changes made in copied array will not affect the original array and vice versa.\n",
    "           - When we are using copy we required extra memory buffer so it is not memory effieciecient.\n",
    "           - When we are using copy () we have to stored the data as well as meta data.\n",
    "\n",
    " @ view () :\n",
    " \n",
    "           - Whenvwe use view () t will not create the copy it will create view.\n",
    "           - Both original array and view are at the same place.\n",
    "           - so we dont required extra buffer to stored data.\n",
    "           - But we required to stored the metadata to differentiate two array.\n",
    "           - So view () is memory efficient. \n",
    "           - By using the view () numpy will do the memory optimization.\n",
    "           - To check the both array at same space.\n",
    "           - np.shares_memory(arr1,arr2)"
   ]
  },
  {
   "cell_type": "code",
   "execution_count": 12,
   "id": "c33b324c-8512-4a56-865e-0b63fa6b7cce",
   "metadata": {},
   "outputs": [
    {
     "name": "stdout",
     "output_type": "stream",
     "text": [
      "[1 2 3 4 5]\n",
      "[   1 1000    3    4    5]\n"
     ]
    }
   ],
   "source": [
    "aa1=np.array([1,2,3,4,5])\n",
    "aa2=aa1.copy()\n",
    "aa2[1]=1000\n",
    "print(aa1)\n",
    "print(aa2)\n"
   ]
  },
  {
   "cell_type": "code",
   "execution_count": 14,
   "id": "4cf716f8-004d-4df3-a362-3086c488eece",
   "metadata": {},
   "outputs": [
    {
     "name": "stdout",
     "output_type": "stream",
     "text": [
      "[2000    6    7    8    9]\n",
      "[2000    6    7    8    9]\n"
     ]
    }
   ],
   "source": [
    "aa1=np.array([5,6,7,8,9])\n",
    "aa2=aa1.view()\n",
    "aa2[0]=2000\n",
    "print(aa1)\n",
    "print(aa2)\n"
   ]
  },
  {
   "cell_type": "code",
   "execution_count": 17,
   "id": "083579e2-ee81-48fb-abbe-e5310bbde4f6",
   "metadata": {},
   "outputs": [
    {
     "data": {
      "text/plain": [
       "True"
      ]
     },
     "execution_count": 17,
     "metadata": {},
     "output_type": "execute_result"
    }
   ],
   "source": [
    " np.shares_memory(aa1,aa2)"
   ]
  },
  {
   "cell_type": "markdown",
   "id": "930d95d8-0bbb-450c-ba0a-e4cb291c2f5f",
   "metadata": {},
   "source": [
    " @ Flattening :\n",
    " \n",
    "              - Converting multidimensional array into single dimension.\n",
    "              - array_name.flatten()----copy()-----it is not memory efficient\n",
    "\n",
    " @ Ravel () :\n",
    " \n",
    "            - Converting multidimensional array into single dimension.\n",
    "            - array_name.ravel()------ view\n",
    "\n",
    " @ Reshaping is also copying so it is not memory efficient operation."
   ]
  },
  {
   "cell_type": "code",
   "execution_count": 47,
   "id": "78ad018d-7f08-421b-bc3d-d4bcbe969b79",
   "metadata": {},
   "outputs": [
    {
     "data": {
      "text/plain": [
       "array([[0, 1, 2],\n",
       "       [3, 4, 5],\n",
       "       [6, 7, 8]])"
      ]
     },
     "execution_count": 47,
     "metadata": {},
     "output_type": "execute_result"
    }
   ],
   "source": [
    "b=np.arange(9).reshape(3,3)\n",
    "b"
   ]
  },
  {
   "cell_type": "code",
   "execution_count": 48,
   "id": "1fd78403-741d-4810-bc15-f46a81bd9fe6",
   "metadata": {},
   "outputs": [
    {
     "data": {
      "text/plain": [
       "array([0, 1, 2, 3, 4, 5, 6, 7, 8])"
      ]
     },
     "execution_count": 48,
     "metadata": {},
     "output_type": "execute_result"
    }
   ],
   "source": [
    "c=b.flatten()\n",
    "c"
   ]
  },
  {
   "cell_type": "code",
   "execution_count": 49,
   "id": "8d2b11c0-c908-442a-b55a-25b0d2e182af",
   "metadata": {},
   "outputs": [
    {
     "data": {
      "text/plain": [
       "array([[0, 1, 2],\n",
       "       [3, 4, 5],\n",
       "       [6, 7, 8]])"
      ]
     },
     "execution_count": 49,
     "metadata": {},
     "output_type": "execute_result"
    }
   ],
   "source": [
    "b"
   ]
  },
  {
   "cell_type": "code",
   "execution_count": 50,
   "id": "cdd435c5-3ef0-4bbd-9574-00b556d4b651",
   "metadata": {},
   "outputs": [
    {
     "data": {
      "text/plain": [
       "array([0, 1, 2, 3, 4, 5, 6, 7, 8])"
      ]
     },
     "execution_count": 50,
     "metadata": {},
     "output_type": "execute_result"
    }
   ],
   "source": [
    "d=b.ravel()\n",
    "d"
   ]
  },
  {
   "cell_type": "code",
   "execution_count": 51,
   "id": "0f735854-cca1-4f0c-a6a8-4059170cc597",
   "metadata": {},
   "outputs": [
    {
     "data": {
      "text/plain": [
       "array([0, 1, 2, 3, 4, 5, 6, 7, 8])"
      ]
     },
     "execution_count": 51,
     "metadata": {},
     "output_type": "execute_result"
    }
   ],
   "source": [
    "c"
   ]
  },
  {
   "cell_type": "code",
   "execution_count": 52,
   "id": "fbc5ea9e-00d2-493c-a29b-1a7b96f14ab8",
   "metadata": {},
   "outputs": [
    {
     "data": {
      "text/plain": [
       "array([200,   1,   2,   3,   4,   5,   6,   7,   8])"
      ]
     },
     "execution_count": 52,
     "metadata": {},
     "output_type": "execute_result"
    }
   ],
   "source": [
    "c[0]=200\n",
    "c"
   ]
  },
  {
   "cell_type": "code",
   "execution_count": 53,
   "id": "39148d88-2a25-4949-9900-5e6d13f16219",
   "metadata": {},
   "outputs": [
    {
     "data": {
      "text/plain": [
       "array([[0, 1, 2],\n",
       "       [3, 4, 5],\n",
       "       [6, 7, 8]])"
      ]
     },
     "execution_count": 53,
     "metadata": {},
     "output_type": "execute_result"
    }
   ],
   "source": [
    "b"
   ]
  },
  {
   "cell_type": "code",
   "execution_count": 42,
   "id": "50afcc5b-35e2-4f5e-b363-aa8ddd383005",
   "metadata": {},
   "outputs": [],
   "source": [
    "e=np.zeros((3,2))\n",
    "f=e.T.reshape(3,2)\n",
    "f[0]=500"
   ]
  },
  {
   "cell_type": "code",
   "execution_count": 43,
   "id": "d1061def-a6f3-47ae-9bdb-642d5b4e33f3",
   "metadata": {},
   "outputs": [
    {
     "data": {
      "text/plain": [
       "array([[0., 0.],\n",
       "       [0., 0.],\n",
       "       [0., 0.]])"
      ]
     },
     "execution_count": 43,
     "metadata": {},
     "output_type": "execute_result"
    }
   ],
   "source": [
    "e"
   ]
  },
  {
   "cell_type": "code",
   "execution_count": 44,
   "id": "0cc9da82-b915-441d-b399-09c0bc79b87a",
   "metadata": {},
   "outputs": [
    {
     "data": {
      "text/plain": [
       "array([[500., 500.],\n",
       "       [  0.,   0.],\n",
       "       [  0.,   0.]])"
      ]
     },
     "execution_count": 44,
     "metadata": {},
     "output_type": "execute_result"
    }
   ],
   "source": [
    "f"
   ]
  },
  {
   "cell_type": "code",
   "execution_count": 22,
   "id": "e4e5578c-e33e-4f5e-acf8-c6c4c25e434a",
   "metadata": {},
   "outputs": [
    {
     "data": {
      "text/plain": [
       "array([0, 1, 2, 3, 4, 5, 6, 7, 8, 9])"
      ]
     },
     "execution_count": 22,
     "metadata": {},
     "output_type": "execute_result"
    }
   ],
   "source": [
    "s=np.arange(10)\n",
    "s"
   ]
  },
  {
   "cell_type": "code",
   "execution_count": 23,
   "id": "f9969964-461d-4df2-a62e-868998ab948f",
   "metadata": {},
   "outputs": [
    {
     "data": {
      "text/plain": [
       "array([0, 2, 4, 6, 8])"
      ]
     },
     "execution_count": 23,
     "metadata": {},
     "output_type": "execute_result"
    }
   ],
   "source": [
    "p=s[::2]\n",
    "p"
   ]
  },
  {
   "cell_type": "code",
   "execution_count": 24,
   "id": "4adc42c9-1258-405c-82c5-6cf871af70d7",
   "metadata": {},
   "outputs": [
    {
     "data": {
      "text/plain": [
       "True"
      ]
     },
     "execution_count": 24,
     "metadata": {},
     "output_type": "execute_result"
    }
   ],
   "source": [
    "np.shares_memory(s,p)"
   ]
  },
  {
   "cell_type": "code",
   "execution_count": 26,
   "id": "de71b03c-7a3b-40ec-a1ce-45241ab3eb77",
   "metadata": {},
   "outputs": [
    {
     "data": {
      "text/plain": [
       "array([0, 2, 4, 6, 8])"
      ]
     },
     "execution_count": 26,
     "metadata": {},
     "output_type": "execute_result"
    }
   ],
   "source": [
    "Q=s[::2].copy()\n",
    "Q"
   ]
  },
  {
   "cell_type": "code",
   "execution_count": 28,
   "id": "79677d23-77fd-4249-a1f4-da625088069b",
   "metadata": {},
   "outputs": [
    {
     "data": {
      "text/plain": [
       "False"
      ]
     },
     "execution_count": 28,
     "metadata": {},
     "output_type": "execute_result"
    }
   ],
   "source": [
    "np.shares_memory(s,Q)"
   ]
  }
 ],
 "metadata": {
  "kernelspec": {
   "display_name": "Python 3 (ipykernel)",
   "language": "python",
   "name": "python3"
  },
  "language_info": {
   "codemirror_mode": {
    "name": "ipython",
    "version": 3
   },
   "file_extension": ".py",
   "mimetype": "text/x-python",
   "name": "python",
   "nbconvert_exporter": "python",
   "pygments_lexer": "ipython3",
   "version": "3.13.0"
  }
 },
 "nbformat": 4,
 "nbformat_minor": 5
}
