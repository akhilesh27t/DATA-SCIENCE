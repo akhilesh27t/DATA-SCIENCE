{
 "cells": [
  {
   "cell_type": "code",
   "execution_count": 6,
   "id": "f45248c0-e56e-497d-aa24-acfd6d4e825b",
   "metadata": {},
   "outputs": [
    {
     "name": "stdout",
     "output_type": "stream",
     "text": [
      "match sucessful\n"
     ]
    }
   ],
   "source": [
    "import re\n",
    "test_string=\"abc\"\n",
    "pattern='[a]'\n",
    "result=re.match(pattern,test_string)\n",
    "if result:\n",
    "    print(\"match sucessful\")\n",
    "else:\n",
    "    print(\"match unsuccessful\")"
   ]
  },
  {
   "cell_type": "code",
   "execution_count": 7,
   "id": "f654132d-bc0a-4271-b2cf-ee220933ddeb",
   "metadata": {},
   "outputs": [
    {
     "name": "stdout",
     "output_type": "stream",
     "text": [
      "match sucessful\n"
     ]
    }
   ],
   "source": [
    "import re\n",
    "test_string=\"Baac1\"\n",
    "pattern='[a-zA-Z0-9]'\n",
    "result=re.match(pattern,test_string)\n",
    "if result:\n",
    "    print(\"match sucessful\")\n",
    "else:\n",
    "    print(\"match unsuccessful\")"
   ]
  },
  {
   "cell_type": "code",
   "execution_count": 4,
   "id": "f9ed26cc-791b-41bd-ba8d-99ff8595a814",
   "metadata": {},
   "outputs": [
    {
     "name": "stdout",
     "output_type": "stream",
     "text": [
      "match sucessful\n"
     ]
    }
   ],
   "source": [
    "import re\n",
    "test_string=\"abc\"\n",
    "pattern='[ab]'\n",
    "result=re.match(pattern,test_string)\n",
    "if result:\n",
    "    print(\"match sucessful\")\n",
    "else:\n",
    "    print(\"match unsuccessful\")"
   ]
  },
  {
   "cell_type": "code",
   "execution_count": 9,
   "id": "d5b3ff96-4753-4a55-a8bb-f9bd47800bdb",
   "metadata": {},
   "outputs": [
    {
     "name": "stdout",
     "output_type": "stream",
     "text": [
      "match unsuccessful\n"
     ]
    }
   ],
   "source": [
    "import re\n",
    "test_string=\"abc\"\n",
    "pattern='[^abc]'\n",
    "result=re.match(pattern,test_string)\n",
    "if result:\n",
    "    print(\"match sucessful\")\n",
    "else:\n",
    "    print(\"match unsuccessful\")"
   ]
  },
  {
   "cell_type": "code",
   "execution_count": 11,
   "id": "2d7154c4-7321-4ae9-b11d-0de2e19d778b",
   "metadata": {},
   "outputs": [
    {
     "name": "stdout",
     "output_type": "stream",
     "text": [
      "match sucessful\n"
     ]
    }
   ],
   "source": [
    "import re\n",
    "test_string=\"dba\"\n",
    "pattern='[^abc]'\n",
    "result=re.match(pattern,test_string)\n",
    "if result:\n",
    "    print(\"match sucessful\")\n",
    "else:\n",
    "    print(\"match unsuccessful\")"
   ]
  },
  {
   "cell_type": "code",
   "execution_count": 42,
   "id": "754e834f-c84f-4e58-94ff-6ffb8288d5ba",
   "metadata": {},
   "outputs": [
    {
     "name": "stdout",
     "output_type": "stream",
     "text": [
      "match sucessful\n"
     ]
    }
   ],
   "source": [
    "import re\n",
    "test_string=\"b1\"\n",
    "pattern='[0-9]'\n",
    "result=re.findall(pattern,test_string)\n",
    "if result:\n",
    "    print(\"match sucessful\")\n",
    "else:\n",
    "    print(\"match unsuccessful\")"
   ]
  },
  {
   "cell_type": "code",
   "execution_count": 22,
   "id": "73d0822a-ef73-4c62-bb2b-3c0d554adddc",
   "metadata": {},
   "outputs": [
    {
     "name": "stdout",
     "output_type": "stream",
     "text": [
      "match unsuccessful\n"
     ]
    }
   ],
   "source": [
    "import re\n",
    "test_string=\"abc\"\n",
    "pattern='[1]'\n",
    "result=re.match(pattern,test_string)\n",
    "if result:\n",
    "    print(\"match sucessful\")\n",
    "else:\n",
    "    print(\"match unsuccessful\")"
   ]
  },
  {
   "cell_type": "code",
   "execution_count": 16,
   "id": "41908fc1-b7f4-4092-b139-522d006cd579",
   "metadata": {},
   "outputs": [
    {
     "name": "stdout",
     "output_type": "stream",
     "text": [
      "match sucessful\n"
     ]
    }
   ],
   "source": [
    "import re\n",
    "test_string=\"abyyc\"\n",
    "pattern='^a...c'\n",
    "result=re.match(pattern,test_string)\n",
    "if result:\n",
    "    print(\"match sucessful\")\n",
    "else:\n",
    "    print(\"match unsuccessful\")"
   ]
  },
  {
   "cell_type": "code",
   "execution_count": 24,
   "id": "7d846b20-ce41-414c-826b-46ab2cb57cba",
   "metadata": {},
   "outputs": [
    {
     "name": "stdout",
     "output_type": "stream",
     "text": [
      "match sucessful\n"
     ]
    }
   ],
   "source": [
    "import re\n",
    "test_string=\"byyccba\"\n",
    "pattern='^b....ba'\n",
    "result=re.match(pattern,test_string)\n",
    "if result:\n",
    "    print(\"match sucessful\")\n",
    "else:\n",
    "    print(\"match unsuccessful\")"
   ]
  },
  {
   "cell_type": "code",
   "execution_count": 75,
   "id": "f1dc3908-12f2-415f-956f-f912b15e87da",
   "metadata": {},
   "outputs": [
    {
     "name": "stdout",
     "output_type": "stream",
     "text": [
      "match unsuccessful\n"
     ]
    }
   ],
   "source": [
    "import re\n",
    "test_string=\"aabbbaa\"\n",
    "pattern='aa$'\n",
    "result=re.match(pattern,test_string)\n",
    "if result:\n",
    "    print(\"match sucessful\")\n",
    "else:\n",
    "    print(\"match unsuccessful\")"
   ]
  },
  {
   "cell_type": "code",
   "execution_count": 70,
   "id": "7fc9a194-f11a-4254-a377-6b6e3d6ef36e",
   "metadata": {},
   "outputs": [
    {
     "name": "stdout",
     "output_type": "stream",
     "text": [
      "match sucessful\n"
     ]
    }
   ],
   "source": [
    "import re\n",
    "test_string=\"bn\"\n",
    "pattern='ba*n'\n",
    "result=re.match(pattern,test_string)\n",
    "if result:\n",
    "    print(\"match sucessful\")\n",
    "else:\n",
    "    print(\"match unsuccessful\")"
   ]
  },
  {
   "cell_type": "code",
   "execution_count": 25,
   "id": "02f8556e-f510-41d8-8752-9e671fe75687",
   "metadata": {},
   "outputs": [
    {
     "name": "stdout",
     "output_type": "stream",
     "text": [
      "match sucessful\n"
     ]
    }
   ],
   "source": [
    "import re\n",
    "test_string=\"ban\"\n",
    "pattern='^ba+n$'\n",
    "result=re.match(pattern,test_string)\n",
    "if result:\n",
    "    print(\"match sucessful\")\n",
    "else:\n",
    "    print(\"match unsuccessful\")"
   ]
  },
  {
   "cell_type": "code",
   "execution_count": 60,
   "id": "ee3091ee-992c-49e8-927c-62cc1547e06e",
   "metadata": {},
   "outputs": [
    {
     "name": "stdout",
     "output_type": "stream",
     "text": [
      "match sucessful\n"
     ]
    }
   ],
   "source": [
    "import re\n",
    "test_string=\"baaaaaabbaaaaaaa\"\n",
    "pattern='abba*'\n",
    "result=re.findall(pattern,test_string)\n",
    "if result:\n",
    "    print(\"match sucessful\")\n",
    "else:\n",
    "    print(\"match unsuccessful\")"
   ]
  },
  {
   "cell_type": "code",
   "execution_count": 4,
   "id": "16c5d6ee-673e-4476-98dc-5ed884cbf776",
   "metadata": {},
   "outputs": [
    {
     "name": "stdout",
     "output_type": "stream",
     "text": [
      "match unsuccessful\n"
     ]
    }
   ],
   "source": [
    "import re\n",
    "test_string=\"baaaaaabbaaaaaaa\"\n",
    "pattern='abba*'\n",
    "result=re.match(pattern,test_string)\n",
    "if result:\n",
    "    print(\"match sucessful\")\n",
    "else:\n",
    "    print(\"match unsuccessful\")"
   ]
  },
  {
   "cell_type": "code",
   "execution_count": 15,
   "id": "bd9eb696-c3d4-4de9-a7d8-cc5b76fcd092",
   "metadata": {},
   "outputs": [
    {
     "name": "stdout",
     "output_type": "stream",
     "text": [
      "match sucessful\n"
     ]
    }
   ],
   "source": [
    "import re\n",
    "test_string=\"baaaaba\"\n",
    "pattern='^ba....a$'\n",
    "result=re.match(pattern,test_string)\n",
    "if result:\n",
    "    print(\"match sucessful\")\n",
    "else:\n",
    "    print(\"match unsuccessful\")"
   ]
  },
  {
   "cell_type": "code",
   "execution_count": 17,
   "id": "f04b291a-d6e5-4ca6-8d6d-34ba459e50d3",
   "metadata": {},
   "outputs": [
    {
     "name": "stdout",
     "output_type": "stream",
     "text": [
      "match sucessful\n"
     ]
    }
   ],
   "source": [
    "import re\n",
    "test_string=\"abaaa\"\n",
    "pattern='^ab|ba|ca'\n",
    "result=re.match(pattern,test_string)\n",
    "if result:\n",
    "    print(\"match sucessful\")\n",
    "else:\n",
    "    print(\"match unsuccessful\")"
   ]
  },
  {
   "cell_type": "code",
   "execution_count": 29,
   "id": "7d311ada-9652-4a37-856d-0230e5d90e3f",
   "metadata": {},
   "outputs": [
    {
     "name": "stdout",
     "output_type": "stream",
     "text": [
      "match sucessful\n"
     ]
    }
   ],
   "source": [
    "import re\n",
    "test_string=\"assD\"\n",
    "pattern='^a..D$'\n",
    "result=re.match(pattern,test_string)\n",
    "if result:\n",
    "    print(\"match sucessful\")\n",
    "else:\n",
    "    print(\"match unsuccessful\")"
   ]
  },
  {
   "cell_type": "code",
   "execution_count": 31,
   "id": "47523330-c621-46e1-9b95-e82e6be2586d",
   "metadata": {},
   "outputs": [
    {
     "name": "stdout",
     "output_type": "stream",
     "text": [
      "match sucessful\n"
     ]
    }
   ],
   "source": [
    "import re\n",
    "test_string=\"acccda\"\n",
    "pattern='^a'\n",
    "result=re.match(pattern,test_string)\n",
    "if result:\n",
    "    print(\"match sucessful\")\n",
    "else:\n",
    "    print(\"match unsuccessful\")"
   ]
  },
  {
   "cell_type": "code",
   "execution_count": null,
   "id": "1be9a2e9-771a-46b3-9936-023c56a3022c",
   "metadata": {},
   "outputs": [],
   "source": [
    "len(test_)"
   ]
  },
  {
   "cell_type": "code",
   "execution_count": 33,
   "id": "a384ea97-73ee-4d32-a89c-0eaf3975e863",
   "metadata": {},
   "outputs": [
    {
     "name": "stdout",
     "output_type": "stream",
     "text": [
      "match sucessful\n"
     ]
    }
   ],
   "source": [
    "import re\n",
    "test_string=\"ab\"\n",
    "pattern='a?b'\n",
    "result=re.match(pattern,test_string)\n",
    "if result:\n",
    "    print(\"match sucessful\")\n",
    "else:\n",
    "    print(\"match unsuccessful\")"
   ]
  },
  {
   "cell_type": "code",
   "execution_count": 35,
   "id": "4d86d2d0-f934-48be-bb7b-7b74117a4b1b",
   "metadata": {},
   "outputs": [
    {
     "name": "stdout",
     "output_type": "stream",
     "text": [
      "match unsuccessful\n"
     ]
    }
   ],
   "source": [
    "import re\n",
    "test_string=\"aab\"\n",
    "pattern='a?b'\n",
    "result=re.match(pattern,test_string)\n",
    "if result:\n",
    "    print(\"match sucessful\")\n",
    "else:\n",
    "    print(\"match unsuccessful\")"
   ]
  },
  {
   "cell_type": "code",
   "execution_count": 45,
   "id": "3d56005a-5395-4df3-8bf3-df78c5d5e838",
   "metadata": {},
   "outputs": [
    {
     "name": "stdout",
     "output_type": "stream",
     "text": [
      "match sucessful\n"
     ]
    }
   ],
   "source": [
    "import re\n",
    "test_string=\"aaaaaaaaaaaaab\"\n",
    "pattern='a{3,}'\n",
    "result=re.match(pattern,test_string)\n",
    "if result:\n",
    "    print(\"match sucessful\")\n",
    "else:\n",
    "    print(\"match unsuccessful\")"
   ]
  },
  {
   "cell_type": "code",
   "execution_count": 51,
   "id": "9b621713-4d3d-4cc5-9ae5-863b4173f8b8",
   "metadata": {},
   "outputs": [
    {
     "name": "stdout",
     "output_type": "stream",
     "text": [
      "match sucessful\n"
     ]
    }
   ],
   "source": [
    "import re\n",
    "test_string=\"aabbbb\"\n",
    "pattern='a{2}b{4}'\n",
    "result=re.match(pattern,test_string)\n",
    "if result:\n",
    "    print(\"match sucessful\")\n",
    "else:\n",
    "    print(\"match unsuccessful\")"
   ]
  },
  {
   "cell_type": "code",
   "execution_count": 53,
   "id": "85e277c1-0921-4f0b-8ca6-634416b5787c",
   "metadata": {},
   "outputs": [
    {
     "name": "stdout",
     "output_type": "stream",
     "text": [
      "match sucessful\n"
     ]
    }
   ],
   "source": [
    "import re\n",
    "test_string=\"axzbc\"\n",
    "pattern='(a|b|c)xz'\n",
    "result=re.match(pattern,test_string)\n",
    "if result:\n",
    "    print(\"match sucessful\")\n",
    "else:\n",
    "    print(\"match unsuccessful\")"
   ]
  },
  {
   "cell_type": "code",
   "execution_count": 55,
   "id": "1d8dedad-f9b6-430a-9f27-bc38116c6ebf",
   "metadata": {},
   "outputs": [
    {
     "name": "stdout",
     "output_type": "stream",
     "text": [
      "match sucessful\n"
     ]
    }
   ],
   "source": [
    "import re\n",
    "test_string=\"abbc\"\n",
    "pattern='a(bb)'\n",
    "result=re.match(pattern,test_string)\n",
    "if result:\n",
    "    print(\"match sucessful\")\n",
    "else:\n",
    "    print(\"match unsuccessful\")"
   ]
  },
  {
   "cell_type": "code",
   "execution_count": 57,
   "id": "e2a725d0-1154-4e78-a2c9-2c5d0b4caef5",
   "metadata": {},
   "outputs": [
    {
     "name": "stdout",
     "output_type": "stream",
     "text": [
      "match sucessful\n"
     ]
    }
   ],
   "source": [
    "import re\n",
    "test_string=\"abca\"\n",
    "pattern='(ab|ba)ca'\n",
    "result=re.match(pattern,test_string)\n",
    "if result:\n",
    "    print(\"match sucessful\")\n",
    "else:\n",
    "    print(\"match unsuccessful\")"
   ]
  },
  {
   "cell_type": "code",
   "execution_count": 59,
   "id": "d0680fb3-77f5-45ea-b48a-6353d387d1bc",
   "metadata": {},
   "outputs": [
    {
     "name": "stdout",
     "output_type": "stream",
     "text": [
      "match unsuccessful\n"
     ]
    }
   ],
   "source": [
    "import re\n",
    "test_string=\"abzzc\"\n",
    "pattern='(^ab*c$)zz'\n",
    "result=re.match(pattern,test_string)\n",
    "if result:\n",
    "    print(\"match sucessful\")\n",
    "else:\n",
    "    print(\"match unsuccessful\")"
   ]
  },
  {
   "cell_type": "code",
   "execution_count": 71,
   "id": "b5566c06-d386-4126-911e-51a19a12393d",
   "metadata": {},
   "outputs": [
    {
     "name": "stdout",
     "output_type": "stream",
     "text": [
      "match sucessful\n"
     ]
    }
   ],
   "source": [
    "import re\n",
    "test_string=\"filefile1file2.......file10\"\n",
    "pattern='file(1|2|3|4|5|6|7|8|9|10)?'\n",
    "result=re.match(pattern,test_string)\n",
    "if result:\n",
    "    print(\"match sucessful\")\n",
    "else:\n",
    "    print(\"match unsuccessful\")"
   ]
  },
  {
   "cell_type": "code",
   "execution_count": 95,
   "id": "e493a677-d00b-454e-9f56-5b6bf0497d48",
   "metadata": {},
   "outputs": [
    {
     "name": "stdout",
     "output_type": "stream",
     "text": [
      "<re.Match object; span=(0, 3), match='The'>\n"
     ]
    },
    {
     "name": "stderr",
     "output_type": "stream",
     "text": [
      "<>:3: SyntaxWarning: invalid escape sequence '\\A'\n",
      "<>:3: SyntaxWarning: invalid escape sequence '\\A'\n",
      "C:\\Users\\magar\\AppData\\Local\\Temp\\ipykernel_31068\\48494334.py:3: SyntaxWarning: invalid escape sequence '\\A'\n",
      "  pattern='\\AThe'\n"
     ]
    }
   ],
   "source": [
    "import re\n",
    "test_string=\"The earth is round\"\n",
    "pattern='\\AThe'\n",
    "print(re.match(pattern,test_string))\n"
   ]
  },
  {
   "cell_type": "code",
   "execution_count": 91,
   "id": "d1f2757d-bb9d-43cf-8eb3-158c1cc3a685",
   "metadata": {},
   "outputs": [
    {
     "name": "stdout",
     "output_type": "stream",
     "text": [
      "['28', '11', '1996']\n"
     ]
    },
    {
     "name": "stderr",
     "output_type": "stream",
     "text": [
      "<>:2: SyntaxWarning: invalid escape sequence '\\d'\n",
      "<>:2: SyntaxWarning: invalid escape sequence '\\d'\n",
      "C:\\Users\\magar\\AppData\\Local\\Temp\\ipykernel_31068\\54358802.py:2: SyntaxWarning: invalid escape sequence '\\d'\n",
      "  pattern=\"\\d{2,4}\"\n"
     ]
    }
   ],
   "source": [
    " import re\n",
    "pattern=\"\\d{2,4}\"\n",
    "string=\"I am born in 28 day 11 month 1996year\"\n",
    "print(re.findall(pattern,string))"
   ]
  },
  {
   "cell_type": "code",
   "execution_count": 121,
   "id": "66945364-f439-459e-9623-eece5f9bb17f",
   "metadata": {},
   "outputs": [
    {
     "name": "stdout",
     "output_type": "stream",
     "text": [
      "<re.Match object; span=(0, 6), match='tokiyo'>\n",
      "['1667']\n"
     ]
    },
    {
     "name": "stderr",
     "output_type": "stream",
     "text": [
      "<>:3: SyntaxWarning: invalid escape sequence '\\A'\n",
      "<>:4: SyntaxWarning: invalid escape sequence '\\d'\n",
      "<>:3: SyntaxWarning: invalid escape sequence '\\A'\n",
      "<>:4: SyntaxWarning: invalid escape sequence '\\d'\n",
      "C:\\Users\\magar\\AppData\\Local\\Temp\\ipykernel_31068\\242325419.py:3: SyntaxWarning: invalid escape sequence '\\A'\n",
      "  pattern1='\\Atokiyo'\n",
      "C:\\Users\\magar\\AppData\\Local\\Temp\\ipykernel_31068\\242325419.py:4: SyntaxWarning: invalid escape sequence '\\d'\n",
      "  pattern2='\\d{4}'\n"
     ]
    }
   ],
   "source": [
    "import re\n",
    "test_string=\"tokiyo is the capital city of japan and its found in 1667\"\n",
    "pattern1='\\Atokiyo'\n",
    "pattern2='\\d{4}'\n",
    "print(re.match(pattern1,test_string))\n",
    "print(re.findall(pattern2,test_string))"
   ]
  },
  {
   "cell_type": "code",
   "execution_count": null,
   "id": "b0f7714b-9ed2-4b24-881b-bbf38f631933",
   "metadata": {},
   "outputs": [],
   "source": [
    "import re\n",
    "pattern='(\\d(9){3}*\\d(2){4})xyz'\n",
    "string=\"\""
   ]
  },
  {
   "cell_type": "code",
   "execution_count": null,
   "id": "ec4b3c43-2a72-44d4-a09c-27d8190830dc",
   "metadata": {},
   "outputs": [],
   "source": [
    "import re\n",
    "string=\"\\d{4}-\\d{2}-\\d{2}\""
   ]
  },
  {
   "cell_type": "code",
   "execution_count": 2,
   "id": "77262f15-5350-4596-91ee-f08b46fe0eb9",
   "metadata": {},
   "outputs": [
    {
     "name": "stdout",
     "output_type": "stream",
     "text": [
      "<re.Match object; span=(0, 9), match='kiran.com'>\n"
     ]
    },
    {
     "name": "stderr",
     "output_type": "stream",
     "text": [
      "<>:3: SyntaxWarning: invalid escape sequence '\\.'\n",
      "<>:3: SyntaxWarning: invalid escape sequence '\\.'\n",
      "C:\\Users\\magar\\AppData\\Local\\Temp\\ipykernel_33584\\2076587650.py:3: SyntaxWarning: invalid escape sequence '\\.'\n",
      "  p=\"kiran\\.com\"\n"
     ]
    }
   ],
   "source": [
    "import re\n",
    "s=\"kiran.com\"\n",
    "p=\"kiran\\.com\"\n",
    "print(re.match(p,s))"
   ]
  },
  {
   "cell_type": "code",
   "execution_count": 4,
   "id": "933d544d-9f67-4ac5-8ac5-f686c2a184c0",
   "metadata": {},
   "outputs": [
    {
     "data": {
      "text/plain": [
       "'kiran.com'"
      ]
     },
     "execution_count": 4,
     "metadata": {},
     "output_type": "execute_result"
    }
   ],
   "source": [
    "s[0:9]"
   ]
  },
  {
   "cell_type": "code",
   "execution_count": 8,
   "id": "81f84203-9336-4bca-b644-dcda2b462838",
   "metadata": {},
   "outputs": [
    {
     "name": "stdout",
     "output_type": "stream",
     "text": [
      "<re.Match object; span=(0, 9), match='text1.txt'>\n"
     ]
    },
    {
     "name": "stderr",
     "output_type": "stream",
     "text": [
      "<>:3: SyntaxWarning: invalid escape sequence '\\.'\n",
      "<>:3: SyntaxWarning: invalid escape sequence '\\.'\n",
      "C:\\Users\\magar\\AppData\\Local\\Temp\\ipykernel_33584\\690284980.py:3: SyntaxWarning: invalid escape sequence '\\.'\n",
      "  p=\"text1\\.txt\"\n"
     ]
    }
   ],
   "source": [
    "import re\n",
    "s=\"text1.txt\"\n",
    "p=\"text1\\.txt\"\n",
    "print(re.match(p,s))"
   ]
  },
  {
   "cell_type": "code",
   "execution_count": 12,
   "id": "e9b15f20-2689-4fa4-b361-e46e9bf45105",
   "metadata": {},
   "outputs": [
    {
     "name": "stdout",
     "output_type": "stream",
     "text": [
      "\n",
      "kiran\n"
     ]
    }
   ],
   "source": [
    "print(\"\\nkiran\")"
   ]
  },
  {
   "cell_type": "code",
   "execution_count": 14,
   "id": "06e467ab-d5c5-4ffa-8bca-876d60eb32e4",
   "metadata": {},
   "outputs": [
    {
     "name": "stdout",
     "output_type": "stream",
     "text": [
      "\tkiran\n"
     ]
    }
   ],
   "source": [
    "print(\"\\tkiran\")"
   ]
  },
  {
   "cell_type": "code",
   "execution_count": 18,
   "id": "a61a1332-02ab-4a10-8147-31438d8322e8",
   "metadata": {},
   "outputs": [
    {
     "name": "stdout",
     "output_type": "stream",
     "text": [
      "<re.Match object; span=(0, 9), match='kiran.com'>\n"
     ]
    },
    {
     "name": "stderr",
     "output_type": "stream",
     "text": [
      "<>:2: SyntaxWarning: invalid escape sequence '\\w'\n",
      "<>:2: SyntaxWarning: invalid escape sequence '\\w'\n",
      "C:\\Users\\magar\\AppData\\Local\\Temp\\ipykernel_33584\\4025094841.py:2: SyntaxWarning: invalid escape sequence '\\w'\n",
      "  p=\"\\w+\\.com\"\n"
     ]
    }
   ],
   "source": [
    "s=\"kiran.com\"\n",
    "p=\"\\w+\\.com\"\n",
    "print(re.match(p,s))"
   ]
  },
  {
   "cell_type": "code",
   "execution_count": 44,
   "id": "40f0d60a-1b79-45ed-bf95-91a327be0a99",
   "metadata": {},
   "outputs": [
    {
     "name": "stdout",
     "output_type": "stream",
     "text": [
      "<re.Match object; span=(0, 25), match='kiranmagare1107@gmail.com'>\n"
     ]
    },
    {
     "name": "stderr",
     "output_type": "stream",
     "text": [
      "<>:4: SyntaxWarning: invalid escape sequence '\\w'\n",
      "<>:4: SyntaxWarning: invalid escape sequence '\\w'\n",
      "C:\\Users\\magar\\AppData\\Local\\Temp\\ipykernel_33584\\2902805414.py:4: SyntaxWarning: invalid escape sequence '\\w'\n",
      "  p=\"\\w+\\@\\w+\\.\\w+\"\n"
     ]
    }
   ],
   "source": [
    "import re\n",
    "s='''kiranmagare1107@gmail.com ,\n",
    "     kiranm2002@gmail.com'''\n",
    "p=\"\\w+\\@\\w+\\.\\w+\"\n",
    "print(re.match(p,s))"
   ]
  },
  {
   "cell_type": "code",
   "execution_count": 52,
   "id": "5f909b2c-bfa5-4950-aa4d-366e99ffea2e",
   "metadata": {},
   "outputs": [
    {
     "name": "stdout",
     "output_type": "stream",
     "text": [
      "['kiranmagare1107@gmail.com', 'kiranm2002@gmail.com']\n"
     ]
    },
    {
     "name": "stderr",
     "output_type": "stream",
     "text": [
      "<>:3: SyntaxWarning: invalid escape sequence '\\w'\n",
      "<>:3: SyntaxWarning: invalid escape sequence '\\w'\n",
      "C:\\Users\\magar\\AppData\\Local\\Temp\\ipykernel_33584\\3586556163.py:3: SyntaxWarning: invalid escape sequence '\\w'\n",
      "  p='\\w+[0-9]@\\w+\\.com'\n"
     ]
    }
   ],
   "source": [
    "s='''kiranmagare1107@gmail.com ,\n",
    "     kiranm2002@gmail.com'''\n",
    "p='\\w+[0-9]@\\w+\\.com'\n",
    "print(re.findall(p,s))"
   ]
  },
  {
   "cell_type": "code",
   "execution_count": 90,
   "id": "f9419968-1414-4cd0-b9a9-44c67cbd6cbe",
   "metadata": {},
   "outputs": [
    {
     "name": "stdout",
     "output_type": "stream",
     "text": [
      "<re.Match object; span=(0, 19), match='C:\\\\Windows\\\\System32'>\n"
     ]
    },
    {
     "name": "stderr",
     "output_type": "stream",
     "text": [
      "<>:1: SyntaxWarning: invalid escape sequence '\\W'\n",
      "<>:2: SyntaxWarning: invalid escape sequence '\\W'\n",
      "<>:1: SyntaxWarning: invalid escape sequence '\\W'\n",
      "<>:2: SyntaxWarning: invalid escape sequence '\\W'\n",
      "C:\\Users\\magar\\AppData\\Local\\Temp\\ipykernel_33584\\3352627230.py:1: SyntaxWarning: invalid escape sequence '\\W'\n",
      "  s='C:\\Windows\\System32'\n",
      "C:\\Users\\magar\\AppData\\Local\\Temp\\ipykernel_33584\\3352627230.py:2: SyntaxWarning: invalid escape sequence '\\W'\n",
      "  p=re.escape(\"C:\\Windows\\System32\")\n"
     ]
    }
   ],
   "source": [
    "s='C:\\Windows\\System32'\n",
    "p=re.escape(\"C:\\Windows\\System32\")\n",
    "print(re.match(p,s))"
   ]
  },
  {
   "cell_type": "code",
   "execution_count": 92,
   "id": "0728aa21-a596-46fd-a2a1-2ad7774439c1",
   "metadata": {},
   "outputs": [
    {
     "name": "stdout",
     "output_type": "stream",
     "text": [
      "<re.Match object; span=(0, 42), match='\\nc:\\\\Windows\\nc:\\\\Python\\nc:\\\\Windows\\\\system32\\>\n"
     ]
    },
    {
     "name": "stderr",
     "output_type": "stream",
     "text": [
      "<>:1: SyntaxWarning: invalid escape sequence '\\W'\n",
      "<>:6: SyntaxWarning: invalid escape sequence '\\W'\n",
      "<>:1: SyntaxWarning: invalid escape sequence '\\W'\n",
      "<>:6: SyntaxWarning: invalid escape sequence '\\W'\n",
      "C:\\Users\\magar\\AppData\\Local\\Temp\\ipykernel_33584\\834016411.py:1: SyntaxWarning: invalid escape sequence '\\W'\n",
      "  s=\"\"\"\n",
      "C:\\Users\\magar\\AppData\\Local\\Temp\\ipykernel_33584\\834016411.py:6: SyntaxWarning: invalid escape sequence '\\W'\n",
      "  p=re.escape(\"\"\"\n"
     ]
    }
   ],
   "source": [
    "s=\"\"\"\n",
    "c:\\Windows\n",
    "c:\\Python\n",
    "c:\\Windows\\system32\n",
    "\"\"\"\n",
    "p=re.escape(\"\"\"\n",
    "c:\\Windows\n",
    "c:\\Python\n",
    "c:\\Windows\\system32\n",
    "\"\"\")\n",
    "print(re.match(p,s))"
   ]
  },
  {
   "cell_type": "code",
   "execution_count": 108,
   "id": "613c3bba-72d1-488f-8a1f-cf3a8ae5bbec",
   "metadata": {},
   "outputs": [
    {
     "name": "stdout",
     "output_type": "stream",
     "text": [
      "['license', 'license', 'licence']\n"
     ]
    }
   ],
   "source": [
    "#consider an example below where we have messed up between license and licence spellings and want to find all occurances of lincese /lincence in \n",
    "#the text\n",
    "s=\"\"\"Yesterday I was driving my car without a driving licence. The traffic police stropped ask me for my license.I told them that i forget my licence \n",
    "at home.\"\"\"\n",
    "p='licen[a-z]e'\n",
    "print(re.findall(p,s))"
   ]
  },
  {
   "cell_type": "code",
   "execution_count": 112,
   "id": "c7ba18d5-51de-4612-9839-2b404ceff902",
   "metadata": {},
   "outputs": [
    {
     "name": "stdout",
     "output_type": "stream",
     "text": [
      "['Y', 's', 't', 'r', 'd', 'y', ' ', 'I', ' ', 'w', 's', ' ', 'd', 'r', 'v', 'n', 'g', ' ', 'm', 'y', ' ', 'c', 'r', ' ', 'w', 't', 'h', 't', ' ', ' ', 'd', 'r', 'v', 'n', 'g', ' ', 'l', 'c', 'n', 'c', ' ', 'T', 'h', ' ', 't', 'r', 'f', 'f', 'c', ' ', 'p', 'l', 'c', ' ', 's', 't', 'r', 'p', 'p', 'd', ' ', 's', 'k', ' ', 'm', ' ', 'f', 'r', ' ', 'm', 'y', ' ', 'l', 'c', 'n', 's', 'I', ' ', 't', 'l', 'd', ' ', 't', 'h', 'm', ' ', 't', 'h', 't', ' ', ' ', 'f', 'r', 'g', 't', ' ', 'm', 'y', ' ', 'l', 'c', 'n', 'c', ' ', '\\n', 't', ' ', 'h', 'm']\n"
     ]
    }
   ],
   "source": [
    "s=\"\"\"Yesterday I was driving my car without a driving licence. The traffic police stropped ask me for my license.I told them that i forget my licence \n",
    "at home.\"\"\"\n",
    "p='[^(a,e.i,o,u)]'\n",
    "print(re.findall(p,s))"
   ]
  },
  {
   "cell_type": "code",
   "execution_count": 120,
   "id": "a732dc63-f042-4fda-845a-681c36771b34",
   "metadata": {},
   "outputs": [
    {
     "name": "stdout",
     "output_type": "stream",
     "text": [
      "['dogs', 'dogs']\n"
     ]
    }
   ],
   "source": [
    "#find all the matches for dog and dogs in the given text\n",
    "s=\"\"\"I have 2 dogs. One dog is 1 year old and other is 2 years old.Both dogs are very cute \"\"\"\n",
    "p='dog[a-z]'\n",
    "print(re.findall(p,s))"
   ]
  },
  {
   "cell_type": "code",
   "execution_count": 10,
   "id": "c41c2024-6e39-41e4-ae62-46f64579073d",
   "metadata": {},
   "outputs": [
    {
     "name": "stdout",
     "output_type": "stream",
     "text": [
      "['file1.txt', 'file_one.txt', 'file.txt', 'fil.txt', 'file-1.txt']\n"
     ]
    },
    {
     "name": "stderr",
     "output_type": "stream",
     "text": [
      "<>:11: SyntaxWarning: invalid escape sequence '\\w'\n",
      "<>:11: SyntaxWarning: invalid escape sequence '\\w'\n",
      "C:\\Users\\magar\\AppData\\Local\\Temp\\ipykernel_3756\\1131979912.py:11: SyntaxWarning: invalid escape sequence '\\w'\n",
      "  pattern='\\w+[0-9a-z\\-\\_]+\\.txt'\n"
     ]
    }
   ],
   "source": [
    "#find all filenames strating with file and ending with .txt in given text.\n",
    "import re\n",
    "txt=\"\"\"\n",
    "file1.txt\n",
    "file_one.txt\n",
    "file.txt\n",
    "fil.txt\n",
    "file.xml\n",
    "file-1.txt\n",
    "\"\"\"\n",
    "pattern='\\w+[0-9a-z\\-\\_]+\\.txt'\n",
    "print(re.findall(pattern,txt))"
   ]
  },
  {
   "cell_type": "code",
   "execution_count": 34,
   "id": "9344d0ec-833c-4cf9-b8a8-e2888a87bfbd",
   "metadata": {},
   "outputs": [
    {
     "name": "stdout",
     "output_type": "stream",
     "text": [
      "['abc123@gmail.com', 'xyz447@my_work.edu', 'pqrx999@outlook.in']\n"
     ]
    },
    {
     "name": "stderr",
     "output_type": "stream",
     "text": [
      "<>:6: SyntaxWarning: invalid escape sequence '\\w'\n",
      "<>:6: SyntaxWarning: invalid escape sequence '\\w'\n",
      "C:\\Users\\magar\\AppData\\Local\\Temp\\ipykernel_3756\\2172144011.py:6: SyntaxWarning: invalid escape sequence '\\w'\n",
      "  pattern='\\w+[0-9\\\\@_a-z.]+'\n"
     ]
    }
   ],
   "source": [
    "txt=\"\"\"\n",
    "abc123@gmail.com\n",
    "xyz447@my_work.edu\n",
    "pqrx999@outlook.in\n",
    "\"\"\"\n",
    "pattern='\\w+[0-9\\\\@_a-z.]+'\n",
    "print(re.findall(pattern,txt))"
   ]
  },
  {
   "cell_type": "code",
   "execution_count": null,
   "id": "b223f44d-4152-4750-85b0-e39e71cd80d1",
   "metadata": {},
   "outputs": [],
   "source": [
    "txt=\"\"\"\n",
    "abc123@gmail.com\n",
    "xyz447@my_work.edu\n",
    "pqrx999@outlook.in\n",
    "\"\"\"\n",
    "pattern='\\w+\\@\\w+\\.'\n",
    "print(re.findall(pattern,txt))"
   ]
  },
  {
   "cell_type": "code",
   "execution_count": 38,
   "id": "14056d3e-d20f-42ea-b903-be7770d98006",
   "metadata": {},
   "outputs": [
    {
     "name": "stdout",
     "output_type": "stream",
     "text": [
      "['file1.txt', 'file09.txt']\n"
     ]
    },
    {
     "name": "stderr",
     "output_type": "stream",
     "text": [
      "<>:10: SyntaxWarning: invalid escape sequence '\\w'\n",
      "<>:10: SyntaxWarning: invalid escape sequence '\\w'\n",
      "C:\\Users\\magar\\AppData\\Local\\Temp\\ipykernel_3756\\1189710132.py:10: SyntaxWarning: invalid escape sequence '\\w'\n",
      "  pattern='\\w+[0-9]+.txt'\n"
     ]
    }
   ],
   "source": [
    "#Find all filenames starting with file followed by 1 or more digit and ending with .txt in the given text.\n",
    "txt=\"\"\"\n",
    "file1.txt\n",
    "file_one.txt\n",
    "file09.txt\n",
    "fil.txt\n",
    "file23.xml\n",
    "file.txt\"\"\"\n",
    "\n",
    "pattern='\\w+[0-9].txt'\n",
    "print(re.findall(pattern,txt))\n"
   ]
  },
  {
   "cell_type": "code",
   "execution_count": 44,
   "id": "70579065-7b1d-4117-8021-62246f981860",
   "metadata": {},
   "outputs": [
    {
     "name": "stdout",
     "output_type": "stream",
     "text": [
      "['123143', '5657', '4435', '65111']\n"
     ]
    },
    {
     "name": "stderr",
     "output_type": "stream",
     "text": [
      "<>:10: SyntaxWarning: invalid escape sequence '\\d'\n",
      "<>:10: SyntaxWarning: invalid escape sequence '\\d'\n",
      "C:\\Users\\magar\\AppData\\Local\\Temp\\ipykernel_3756\\97809682.py:10: SyntaxWarning: invalid escape sequence '\\d'\n",
      "  pattern='\\d{4,}'\n"
     ]
    }
   ],
   "source": [
    "#In the given text, filter out all 4 or more digit numbers.\n",
    "txt=\"\"\"\n",
    "123143\n",
    "432\n",
    "5657\n",
    "54\n",
    "4435\n",
    "65111\n",
    "\"\"\"\n",
    "pattern='\\d{4,}'\n",
    "print(re.findall(pattern,txt))"
   ]
  },
  {
   "cell_type": "code",
   "execution_count": 48,
   "id": "56144c08-6921-4f69-a367-a9cda5a86bb0",
   "metadata": {},
   "outputs": [
    {
     "name": "stdout",
     "output_type": "stream",
     "text": [
      "['google.com', 'nasa.gov.in', 'facebook.in']\n"
     ]
    },
    {
     "name": "stderr",
     "output_type": "stream",
     "text": [
      "<>:5: SyntaxWarning: invalid escape sequence '\\w'\n",
      "<>:5: SyntaxWarning: invalid escape sequence '\\w'\n",
      "C:\\Users\\magar\\AppData\\Local\\Temp\\ipykernel_3756\\151442817.py:5: SyntaxWarning: invalid escape sequence '\\w'\n",
      "  pattern='\\w+[\\.a-z]+'\n"
     ]
    }
   ],
   "source": [
    "txt=\"\"\"\n",
    "google.com\n",
    "nasa.gov.in\n",
    "facebook.in\"\"\"\n",
    "pattern='\\w+[\\.a-z]+'\n",
    "print(re.findall(pattern,txt))"
   ]
  },
  {
   "cell_type": "code",
   "execution_count": 50,
   "id": "b0585319-c641-46f5-af66-e47c3abf5a0c",
   "metadata": {},
   "outputs": [],
   "source": [
    "txt=\"\"\"Apple and banana \"\"\"\n",
    "pattern='[apple|banana]'"
   ]
  },
  {
   "cell_type": "code",
   "execution_count": 54,
   "id": "517a5119-561c-4737-afb4-671062cbba2c",
   "metadata": {},
   "outputs": [
    {
     "name": "stdout",
     "output_type": "stream",
     "text": [
      "['Python', 'python']\n"
     ]
    }
   ],
   "source": [
    "txt='''Python is the most beautiful language that a human being has ever created.I recommend python for a first programming language'''\n",
    "pattern='python'\n",
    "print(re.findall(pattern,txt,re.I))"
   ]
  },
  {
   "cell_type": "code",
   "execution_count": 58,
   "id": "78c91a94-ad90-450a-9b7b-e3a93c93edfa",
   "metadata": {},
   "outputs": [
    {
     "name": "stdout",
     "output_type": "stream",
     "text": [
      "['Python', 'python']\n"
     ]
    }
   ],
   "source": [
    "txt=print(re.findall(pattern,txt))\n",
    "pattern='[a-zA-Z]ython'\n",
    "print(re.findall(pattern,txt))"
   ]
  },
  {
   "cell_type": "code",
   "execution_count": 66,
   "id": "d02016e5-b3f0-440e-9772-0fcf9c4fc97b",
   "metadata": {},
   "outputs": [
    {
     "name": "stdout",
     "output_type": "stream",
     "text": [
      "['I am teacher and I love teaching.', 'There is nothing as rewarding as educating and empowering people. ', 'I found teaching more interesting then any other jobs.']\n"
     ]
    }
   ],
   "source": [
    "txt='''I am teacher and I love teaching.\n",
    "There is nothing as rewarding as educating and empowering people. \n",
    "I found teaching more interesting then any other jobs.'''  \n",
    "print(re.split('\\n',txt))"
   ]
  },
  {
   "cell_type": "code",
   "execution_count": 70,
   "id": "bbcd5b6c-2d7c-446e-a59f-e4e496afcd5a",
   "metadata": {},
   "outputs": [
    {
     "name": "stdout",
     "output_type": "stream",
     "text": [
      "['supoort_@submit.com', 'assistance1_2_3@subnet.com']\n"
     ]
    },
    {
     "name": "stderr",
     "output_type": "stream",
     "text": [
      "<>:2: SyntaxWarning: invalid escape sequence '\\w'\n",
      "<>:2: SyntaxWarning: invalid escape sequence '\\w'\n",
      "C:\\Users\\magar\\AppData\\Local\\Temp\\ipykernel_3756\\73766629.py:2: SyntaxWarning: invalid escape sequence '\\w'\n",
      "  pattern='\\w+@\\w+.com'\n"
     ]
    }
   ],
   "source": [
    "string=\"\"\"for enquiry contact supoort_@submit.com and for assistance assistance1_2_3@subnet.com\"\"\"\n",
    "pattern='\\w+@\\w+.com'\n",
    "print(re.findall(pattern,string))"
   ]
  },
  {
   "cell_type": "code",
   "execution_count": 72,
   "id": "2b433a33-c6da-4e9a-a3ed-4409e87330e5",
   "metadata": {},
   "outputs": [
    {
     "name": "stdout",
     "output_type": "stream",
     "text": [
      "['Python', 'python']\n"
     ]
    }
   ],
   "source": [
    "txt='''Python is the most beautiful language that a human being has ever created.I recommend python for a first programming language'''\n",
    "pattern=re.compile('python',re.I)\n",
    "print(re.findall(pattern,txt))\n"
   ]
  },
  {
   "cell_type": "code",
   "execution_count": 80,
   "id": "f7bb4dd8-5abb-4b5e-b150-62c5c0084bfd",
   "metadata": {},
   "outputs": [
    {
     "name": "stdout",
     "output_type": "stream",
     "text": [
      "#\n"
     ]
    },
    {
     "name": "stderr",
     "output_type": "stream",
     "text": [
      "<>:2: SyntaxWarning: invalid escape sequence '\\w'\n",
      "<>:2: SyntaxWarning: invalid escape sequence '\\w'\n",
      "C:\\Users\\magar\\AppData\\Local\\Temp\\ipykernel_3756\\602695505.py:2: SyntaxWarning: invalid escape sequence '\\w'\n",
      "  pattern=re.compile('\\w+@\\w+.com')\n"
     ]
    }
   ],
   "source": [
    "txt=\"kiranmagare1107@gmail.com\"\n",
    "pattern=re.compile('\\w+@\\w+.com')\n",
    "print(re.sub(pattern,'#',txt))"
   ]
  },
  {
   "cell_type": "code",
   "execution_count": 112,
   "id": "fe10920e-e44c-41a5-8e7e-b677f0a2752e",
   "metadata": {},
   "outputs": [
    {
     "name": "stdout",
     "output_type": "stream",
     "text": [
      "###########1107@#####.###\n"
     ]
    },
    {
     "name": "stderr",
     "output_type": "stream",
     "text": [
      "<>:2: SyntaxWarning: invalid escape sequence '\\@'\n",
      "<>:2: SyntaxWarning: invalid escape sequence '\\@'\n",
      "C:\\Users\\magar\\AppData\\Local\\Temp\\ipykernel_3756\\2028956544.py:2: SyntaxWarning: invalid escape sequence '\\@'\n",
      "  pattern=re.compile('[[a-z]\\@\\w+.com')\n"
     ]
    }
   ],
   "source": [
    "txt=\"kiranmagare1107@gmail.com\"\n",
    "pattern=re.compile('[[a-z]\\@\\w+.com')\n",
    "print(re.sub('[a-z]','#',txt))"
   ]
  },
  {
   "cell_type": "code",
   "execution_count": 120,
   "id": "c89311c6-e1e5-4c0e-b21c-faa934f6f8c6",
   "metadata": {},
   "outputs": [
    {
     "name": "stdout",
     "output_type": "stream",
     "text": [
      "#####m###########m####com\n"
     ]
    },
    {
     "name": "stderr",
     "output_type": "stream",
     "text": [
      "<>:2: SyntaxWarning: invalid escape sequence '\\@'\n",
      "<>:2: SyntaxWarning: invalid escape sequence '\\@'\n",
      "C:\\Users\\magar\\AppData\\Local\\Temp\\ipykernel_3756\\2800991796.py:2: SyntaxWarning: invalid escape sequence '\\@'\n",
      "  pattern=re.compile('[[a-z]\\@\\w+.com')\n"
     ]
    }
   ],
   "source": [
    "txt=\"kiranmagare1107@gmail.com\"\n",
    "pattern=re.compile('[[a-z]\\@\\w+.com')\n",
    "print(re.sub('[^com]','#',txt))"
   ]
  },
  {
   "cell_type": "code",
   "execution_count": 122,
   "id": "ec3b2e58-3675-4b70-9bc9-23a4af48a391",
   "metadata": {},
   "outputs": [
    {
     "name": "stdout",
     "output_type": "stream",
     "text": [
      "I have # apple # oranges and # bananas\n"
     ]
    },
    {
     "name": "stderr",
     "output_type": "stream",
     "text": [
      "<>:2: SyntaxWarning: invalid escape sequence '\\d'\n",
      "<>:2: SyntaxWarning: invalid escape sequence '\\d'\n",
      "C:\\Users\\magar\\AppData\\Local\\Temp\\ipykernel_3756\\2745360003.py:2: SyntaxWarning: invalid escape sequence '\\d'\n",
      "  pattern='\\d+'\n"
     ]
    }
   ],
   "source": [
    "txt=\"I have 2 apple 4 oranges and 10 bananas\"\n",
    "pattern='\\d+'\n",
    "print(re.sub(pattern,'#',txt))"
   ]
  },
  {
   "cell_type": "code",
   "execution_count": 9,
   "id": "8bc81fae-2a14-45e9-a7de-18e9a3a040c8",
   "metadata": {},
   "outputs": [
    {
     "name": "stdout",
     "output_type": "stream",
     "text": [
      "The difference is:2\n"
     ]
    }
   ],
   "source": [
    "str='aabacc'\n",
    "char_counts = {}\n",
    "for char in str:\n",
    "    if char in char_counts:\n",
    "        char_counts[char] += 1\n",
    "    else:\n",
    "        char_counts[char] = 1\n",
    "max_count = max(char_counts.values())\n",
    "min_count = min(char_counts.values())\n",
    "difference = max_count - min_count\n",
    "print(f\"The difference is:{difference}\")\n"
   ]
  },
  {
   "cell_type": "code",
   "execution_count": 23,
   "id": "93c7a29a-89cb-444d-994d-b36e778b2d46",
   "metadata": {},
   "outputs": [
    {
     "name": "stdout",
     "output_type": "stream",
     "text": [
      "a\n",
      "b\n",
      "None\n"
     ]
    }
   ],
   "source": [
    "def common_substring(s1,s2):\n",
    "    dict1={}\n",
    "    dict2={}\n",
    "    for i in range(len(s1)):\n",
    "        dict1[s1[i]]=0\n",
    "        for j in range(i+1,len(s1)):\n",
    "            dict1[s1[j]]=0\n",
    "    for i in range(len(s2)):\n",
    "        dict2[s2[i]]=0\n",
    "        for j in range(i+1,len(s2)):\n",
    "            dict2[s2[j]]=0\n",
    "    for key1 in dict1:\n",
    "        for key2 in dict2:\n",
    "            if key1==key2:\n",
    "                print (key1)\n",
    "            \n",
    "s1=\"aabbabababb\"\n",
    "s2=\"aabbbbbabab\"\n",
    "print(common_substring(s1,s2))"
   ]
  },
  {
   "cell_type": "code",
   "execution_count": 21,
   "id": "64cf4039-bac5-4e1b-b79e-a2f0d5a2eb40",
   "metadata": {},
   "outputs": [
    {
     "name": "stdout",
     "output_type": "stream",
     "text": [
      "['b', 'a', 'ab', 'ba', 'aa', 'bb', 'aba', 'bab', 'bba', 'abb', 'aab', 'bbb', 'abab', 'baba', 'babb', 'aabb', 'bbab', 'bbba', 'abbb', 'ababb', 'aabbb', 'bbaba', 'babab', 'bbbab', 'bababb', 'bbbaba', 'bbabab', 'bbbabab']\n"
     ]
    }
   ],
   "source": [
    "def find_common_substrings(s1, s2):\n",
    "    substrings_dict = {}\n",
    "    common_substrings = set()\n",
    "    len1, len2 = len(s1), len(s2)\n",
    "    for i in range(len1):\n",
    "        for j in range(i + 1, len1 + 1):\n",
    "            substring = s1[i:j]\n",
    "            substrings_dict[substring] = True\n",
    "    for i in range(len2):\n",
    "        for j in range(i + 1, len2 + 1):\n",
    "            substring = s2[i:j]\n",
    "            if substring in substrings_dict:\n",
    "                common_substrings.add(substring)\n",
    "    return sorted(common_substrings, key=len)\n",
    "s1 = \"aabbbabababb\"\n",
    "s2 = \"aabbbbbababb\"\n",
    "result = find_common_substrings(s1, s2)\n",
    "print(result)"
   ]
  },
  {
   "cell_type": "code",
   "execution_count": 25,
   "id": "92cc04ab-eb62-4780-b0d4-3581345b2559",
   "metadata": {},
   "outputs": [
    {
     "name": "stdout",
     "output_type": "stream",
     "text": [
      "Year: 2016, Month: 9, Day: 2\n"
     ]
    }
   ],
   "source": [
    "import re\n",
    "def extract_date_from_url(url):\n",
    "    pattern = r'/(\\d{4})/(\\d{2})/(\\d{2})/'\n",
    "    match = re.search(pattern, url)\n",
    "    \n",
    "    if match:\n",
    "        year, month, day = match.groups()\n",
    "        return int(year), int(month), int(day)\n",
    "    else:\n",
    "        return None\n",
    "\n",
    "url1=\"https://www.washingtonpost.com/news/football-insider/wp/2016/09/02/odell-beckhams-fame-rests-on-one-stupid-little-ball-josh-norman-tells-author/\"\n",
    "result = extract_date_from_url(url1)\n",
    "if result:\n",
    "    print(f\"Year: {result[0]}, Month: {result[1]}, Day: {result[2]}\")\n",
    "else:\n",
    "    print(\"No date found in the URL.\")\n"
   ]
  },
  {
   "cell_type": "code",
   "execution_count": 33,
   "id": "0ae858d4-a0be-478b-9ff9-54e497d00310",
   "metadata": {},
   "outputs": [
    {
     "name": "stdout",
     "output_type": "stream",
     "text": [
      "192.255.86.11\n"
     ]
    },
    {
     "name": "stderr",
     "output_type": "stream",
     "text": [
      "<>:3: SyntaxWarning: invalid escape sequence '\\.'\n",
      "<>:3: SyntaxWarning: invalid escape sequence '\\.'\n",
      "C:\\Users\\magar\\AppData\\Local\\Temp\\ipykernel_9428\\3294991989.py:3: SyntaxWarning: invalid escape sequence '\\.'\n",
      "  pattern='[0-9\\.]+'\n"
     ]
    }
   ],
   "source": [
    "import re\n",
    "string=\"192.0255.086.11\"\n",
    "pattern='[0-9\\.]+'\n",
    "print(re.sub('0','',string))"
   ]
  },
  {
   "cell_type": "code",
   "execution_count": 45,
   "id": "84f44a21-f255-4830-bb09-4c33f13fb807",
   "metadata": {},
   "outputs": [
    {
     "name": "stdout",
     "output_type": "stream",
     "text": [
      "['The', 'quick', 'brown', 'fox', 'jumps', 'over', 'the', 'lazy', 'dog']\n"
     ]
    },
    {
     "name": "stderr",
     "output_type": "stream",
     "text": [
      "<>:2: SyntaxWarning: invalid escape sequence '\\w'\n",
      "<>:2: SyntaxWarning: invalid escape sequence '\\w'\n",
      "C:\\Users\\magar\\AppData\\Local\\Temp\\ipykernel_9428\\1055775538.py:2: SyntaxWarning: invalid escape sequence '\\w'\n",
      "  pattern='\\w{3,5}'\n"
     ]
    }
   ],
   "source": [
    "text='The quick brown fox jumps over the lazy dog'\n",
    "pattern='\\w{3,5}'\n",
    "print(re.findall(pattern,text))"
   ]
  },
  {
   "cell_type": "code",
   "execution_count": 39,
   "id": "d53fbe84-c7c6-4908-aadc-194d599c1db7",
   "metadata": {},
   "outputs": [
    {
     "name": "stdout",
     "output_type": "stream",
     "text": [
      "['The', 'quick', 'brown', 'fox', 'jumps', 'over', 'the', 'lazy', 'dog']\n"
     ]
    }
   ],
   "source": [
    "def find_words(text):\n",
    "    pattern = r'\\b\\w{3,5}\\b'\n",
    "    words = re.findall(pattern, text)\n",
    "    return words\n",
    "\n",
    "text = 'The quick brown fox jumps over the lazy dog.'\n",
    "result = find_words(text)\n",
    "print(result)"
   ]
  },
  {
   "cell_type": "code",
   "execution_count": null,
   "id": "57b53bde-87fd-4439-af7b-7ab9ef27db95",
   "metadata": {},
   "outputs": [],
   "source": [
    "#check the email address is valid or not\n",
    "def valid_email(email):\n",
    "    \n",
    "    "
   ]
  },
  {
   "cell_type": "code",
   "execution_count": 63,
   "id": "2c90b77f-24da-4464-be11-6e218d411c11",
   "metadata": {},
   "outputs": [
    {
     "name": "stdout",
     "output_type": "stream",
     "text": [
      "True\n"
     ]
    },
    {
     "name": "stderr",
     "output_type": "stream",
     "text": [
      "<>:2: SyntaxWarning: invalid escape sequence '\\w'\n",
      "<>:2: SyntaxWarning: invalid escape sequence '\\w'\n",
      "C:\\Users\\magar\\AppData\\Local\\Temp\\ipykernel_9428\\2162998462.py:2: SyntaxWarning: invalid escape sequence '\\w'\n",
      "  pattern = \"\\w+@\\w+\\.\\w+\"\n"
     ]
    }
   ],
   "source": [
    "def valid_email(email):\n",
    "    pattern = \"\\w+@\\w+\\.\\w+\"\n",
    "    if re.match(pattern, email):\n",
    "        return True\n",
    "    else:\n",
    "        return False\n",
    "\n",
    "print(valid_email(\"kiranmagare1107@gmail.com\"))"
   ]
  },
  {
   "cell_type": "code",
   "execution_count": 133,
   "id": "1e59c4b6-3789-4882-8a5f-11ad46c53b61",
   "metadata": {},
   "outputs": [
    {
     "name": "stdout",
     "output_type": "stream",
     "text": [
      "True\n"
     ]
    }
   ],
   "source": [
    "def true_string(string):\n",
    "    pattern='(.)*b$'\n",
    "    if re.match(pattern,string):\n",
    "        return True\n",
    "    else:\n",
    "        return False\n",
    "\n",
    "print(true_string('aab'))"
   ]
  },
  {
   "cell_type": "code",
   "execution_count": 105,
   "id": "c9f618e3-0b3f-4f12-8a6b-49e5c2096903",
   "metadata": {},
   "outputs": [
    {
     "name": "stdout",
     "output_type": "stream",
     "text": [
      "[('k', 'iranmagare1107', '@', 'gmail.com')]\n"
     ]
    },
    {
     "name": "stderr",
     "output_type": "stream",
     "text": [
      "<>:3: SyntaxWarning: invalid escape sequence '\\@'\n",
      "<>:3: SyntaxWarning: invalid escape sequence '\\@'\n",
      "C:\\Users\\magar\\AppData\\Local\\Temp\\ipykernel_9428\\679632368.py:3: SyntaxWarning: invalid escape sequence '\\@'\n",
      "  pattern='(^[a-zA-Z0-9])([a-zA-z0-9]*)(\\@)([a-zA-Z0-9]{2,}\\.\\w+)'\n"
     ]
    }
   ],
   "source": [
    "#grouping\n",
    "string=\"kiranmagare1107@gmail.com\"\n",
    "pattern='(^[a-zA-Z0-9])([a-zA-z0-9]*)(\\@)([a-zA-Z0-9]{2,}\\.\\w+)'\n",
    "print(re.findall(pattern,string))"
   ]
  },
  {
   "cell_type": "code",
   "execution_count": 107,
   "id": "26a42d65-fe41-40cb-8d85-c7c99ac6c32e",
   "metadata": {},
   "outputs": [
    {
     "name": "stderr",
     "output_type": "stream",
     "text": [
      "<>:2: SyntaxWarning: invalid escape sequence '\\@'\n",
      "<>:2: SyntaxWarning: invalid escape sequence '\\@'\n",
      "C:\\Users\\magar\\AppData\\Local\\Temp\\ipykernel_9428\\3346872084.py:2: SyntaxWarning: invalid escape sequence '\\@'\n",
      "  pattern='(^[a-zA-Z0-9])([a-zA-z0-9]*)(\\@)([a-zA-Z0-9]{2,}\\.\\w+)'\n"
     ]
    }
   ],
   "source": [
    "string=\"kiranmagare1107@gmail.com\"\n",
    "pattern='(^[a-zA-Z0-9])([a-zA-z0-9]*)(\\@)([a-zA-Z0-9]{2,}\\.\\w+)'\n",
    "match=re.search(pattern,string)"
   ]
  },
  {
   "cell_type": "code",
   "execution_count": 103,
   "id": "b0cfc8b0-4e86-420c-84d7-18d5cd4e2b21",
   "metadata": {},
   "outputs": [
    {
     "data": {
      "text/plain": [
       "'k'"
      ]
     },
     "execution_count": 103,
     "metadata": {},
     "output_type": "execute_result"
    }
   ],
   "source": [
    "match.group(1)"
   ]
  },
  {
   "cell_type": "code",
   "execution_count": 109,
   "id": "6cc06523-2d24-47cd-806a-dca09d0aaef3",
   "metadata": {},
   "outputs": [
    {
     "data": {
      "text/plain": [
       "'@'"
      ]
     },
     "execution_count": 109,
     "metadata": {},
     "output_type": "execute_result"
    }
   ],
   "source": [
    "match.group(3)"
   ]
  },
  {
   "cell_type": "code",
   "execution_count": 119,
   "id": "d2a8d62d-e4a4-410e-b1ee-6dadf20a646b",
   "metadata": {},
   "outputs": [
    {
     "data": {
      "text/plain": [
       "'k##############'"
      ]
     },
     "execution_count": 119,
     "metadata": {},
     "output_type": "execute_result"
    }
   ],
   "source": [
    "x=match.group(1)+'#'*len(match.group(2))\n",
    "x"
   ]
  },
  {
   "cell_type": "code",
   "execution_count": 113,
   "id": "3eaa01d5-650d-4e4d-8233-c54437d82769",
   "metadata": {},
   "outputs": [
    {
     "data": {
      "text/plain": [
       "'@gmail.com'"
      ]
     },
     "execution_count": 113,
     "metadata": {},
     "output_type": "execute_result"
    }
   ],
   "source": [
    "y=match.group(3)+match.group(4)\n",
    "y"
   ]
  },
  {
   "cell_type": "code",
   "execution_count": 115,
   "id": "824572a4-72f2-48e2-b778-408f7abd616a",
   "metadata": {},
   "outputs": [
    {
     "data": {
      "text/plain": [
       "'k##############@gmail.com'"
      ]
     },
     "execution_count": 115,
     "metadata": {},
     "output_type": "execute_result"
    }
   ],
   "source": [
    "x+y"
   ]
  },
  {
   "cell_type": "code",
   "execution_count": 6,
   "id": "5173cdeb-0ab9-455e-80cd-8ce1803c1be3",
   "metadata": {},
   "outputs": [
    {
     "name": "stdin",
     "output_type": "stream",
     "text": [
      "enter a number 30\n"
     ]
    },
    {
     "name": "stdout",
     "output_type": "stream",
     "text": [
      "[2, 3, 5, 7, 11, 13, 17, 19, 23, 29]\n"
     ]
    }
   ],
   "source": []
  },
  {
   "cell_type": "code",
   "execution_count": 8,
   "id": "0e03014e-55e8-473b-ad2e-5dffc41c5ed3",
   "metadata": {},
   "outputs": [
    {
     "name": "stderr",
     "output_type": "stream",
     "text": [
      "<>:2: SyntaxWarning: invalid escape sequence '\\w'\n",
      "<>:2: SyntaxWarning: invalid escape sequence '\\w'\n",
      "C:\\Users\\magar\\AppData\\Local\\Temp\\ipykernel_35356\\3072540703.py:2: SyntaxWarning: invalid escape sequence '\\w'\n",
      "  pattern='(\\w{2})(\\w*)(\\w{3}@)(\\w+).(\\w+)'\n"
     ]
    }
   ],
   "source": [
    "def masking(email):\n",
    "    \n",
    "    pattern='(\\w{2})(\\w*)(\\w{3}@)(\\w+).(\\w+)'\n",
    "    "
   ]
  },
  {
   "cell_type": "code",
   "execution_count": 20,
   "id": "f2ddbf8d-2b05-4fc3-ade8-913b7dd5c2b2",
   "metadata": {},
   "outputs": [
    {
     "name": "stdout",
     "output_type": "stream",
     "text": [
      "[('ki', 'ranmagare1', '107@', 'gmail', '.com')]\n"
     ]
    },
    {
     "name": "stderr",
     "output_type": "stream",
     "text": [
      "<>:3: SyntaxWarning: invalid escape sequence '\\w'\n",
      "<>:3: SyntaxWarning: invalid escape sequence '\\w'\n",
      "C:\\Users\\magar\\AppData\\Local\\Temp\\ipykernel_35356\\2866742823.py:3: SyntaxWarning: invalid escape sequence '\\w'\n",
      "  pattern='(\\w{2})(\\w*)(\\w{3}@)(\\w+)(\\.\\w+)'\n"
     ]
    }
   ],
   "source": [
    "import re\n",
    "def masking(email):\n",
    "string='kiranmagare1107@gmail.com'\n",
    "pattern='(\\w{2})(\\w*)(\\w{3}@)(\\w+)(\\.\\w+)'\n",
    "print(re.findall(pattern,string))"
   ]
  },
  {
   "cell_type": "code",
   "execution_count": 30,
   "id": "6df41d53-be1b-47cd-8380-7c2815d0351a",
   "metadata": {},
   "outputs": [
    {
     "name": "stdout",
     "output_type": "stream",
     "text": [
      "ki##########107@#####com\n"
     ]
    },
    {
     "name": "stderr",
     "output_type": "stream",
     "text": [
      "<>:3: SyntaxWarning: invalid escape sequence '\\w'\n",
      "<>:3: SyntaxWarning: invalid escape sequence '\\w'\n",
      "C:\\Users\\magar\\AppData\\Local\\Temp\\ipykernel_35356\\3573762494.py:3: SyntaxWarning: invalid escape sequence '\\w'\n",
      "  pattern='(\\w{2})(\\w*)(\\w{3}@)(\\w+).(\\w+)'\n"
     ]
    }
   ],
   "source": [
    "import re\n",
    "def masking(email):\n",
    "    pattern='(\\w{2})(\\w*)(\\w{3}@)(\\w+).(\\w+)'\n",
    "    match=re.search(pattern,string)\n",
    "    x=match.group(1)+'#'*(len(match.group(2)))+match.group(3)+'#'*(len(match.group(4)))+match.group(5)\n",
    "    return x\n",
    "print(masking('kiranmagare1107@gmail.com'))"
   ]
  },
  {
   "cell_type": "code",
   "execution_count": 16,
   "id": "36b7dab8-6d8e-41fb-a77c-a5516370c558",
   "metadata": {},
   "outputs": [
    {
     "data": {
      "text/plain": [
       "'ki'"
      ]
     },
     "execution_count": 16,
     "metadata": {},
     "output_type": "execute_result"
    }
   ],
   "source": [
    "match.group(1)"
   ]
  },
  {
   "cell_type": "code",
   "execution_count": 28,
   "id": "11179d4b-e9c7-486d-b0ca-4ac50cc3f32b",
   "metadata": {},
   "outputs": [
    {
     "data": {
      "text/plain": [
       "'ki##########107@#####com'"
      ]
     },
     "execution_count": 28,
     "metadata": {},
     "output_type": "execute_result"
    }
   ],
   "source": [
    "x=match.group(1)+'#'*(len(match.group(2)))+match.group(3)+'#'*(len(match.group(4)))+match.group(5)\n",
    "x"
   ]
  },
  {
   "cell_type": "code",
   "execution_count": 52,
   "id": "11da9c08-91d4-4631-bfa1-1c8de3f175fd",
   "metadata": {},
   "outputs": [
    {
     "name": "stderr",
     "output_type": "stream",
     "text": [
      "C:\\Users\\magar\\AppData\\Local\\Temp\\ipykernel_35356\\3573762494.py:3: SyntaxWarning: invalid escape sequence '\\w'\n",
      "  pattern='(\\w{2})(\\w*)(\\w{3}@)(\\w+).(\\w+)'\n"
     ]
    },
    {
     "ename": "AttributeError",
     "evalue": "'NoneType' object has no attribute 'group'",
     "output_type": "error",
     "traceback": [
      "\u001b[1;31m---------------------------------------------------------------------------\u001b[0m",
      "\u001b[1;31mAttributeError\u001b[0m                            Traceback (most recent call last)",
      "Cell \u001b[1;32mIn[52], line 5\u001b[0m\n\u001b[0;32m      3\u001b[0m     pattern\u001b[38;5;241m=\u001b[39mre\u001b[38;5;241m.\u001b[39msub(\u001b[38;5;124mr\u001b[39m\u001b[38;5;124m'\u001b[39m\u001b[38;5;124m(?<=\u001b[39m\u001b[38;5;124m\\\u001b[39m\u001b[38;5;124md)(\u001b[39m\u001b[38;5;124m\\\u001b[39m\u001b[38;5;124md)(?=\u001b[39m\u001b[38;5;124m\\\u001b[39m\u001b[38;5;124md)\u001b[39m\u001b[38;5;124m'\u001b[39m, \u001b[38;5;124m'\u001b[39m\u001b[38;5;124m#\u001b[39m\u001b[38;5;124m'\u001b[39m,string)\n\u001b[0;32m      4\u001b[0m     match\u001b[38;5;241m=\u001b[39mre\u001b[38;5;241m.\u001b[39msearch(pattern,string)\n\u001b[1;32m----> 5\u001b[0m \u001b[38;5;28mprint\u001b[39m(masking(\u001b[38;5;124m'\u001b[39m\u001b[38;5;124m1(345)-456-789\u001b[39m\u001b[38;5;124m'\u001b[39m))\n",
      "Cell \u001b[1;32mIn[30], line 5\u001b[0m, in \u001b[0;36mmasking\u001b[1;34m(email)\u001b[0m\n\u001b[0;32m      3\u001b[0m pattern\u001b[38;5;241m=\u001b[39m\u001b[38;5;124m'\u001b[39m\u001b[38;5;124m(\u001b[39m\u001b[38;5;124m\\\u001b[39m\u001b[38;5;124mw\u001b[39m\u001b[38;5;132;01m{2}\u001b[39;00m\u001b[38;5;124m)(\u001b[39m\u001b[38;5;124m\\\u001b[39m\u001b[38;5;124mw*)(\u001b[39m\u001b[38;5;124m\\\u001b[39m\u001b[38;5;124mw\u001b[39m\u001b[38;5;132;01m{3}\u001b[39;00m\u001b[38;5;124m@)(\u001b[39m\u001b[38;5;124m\\\u001b[39m\u001b[38;5;124mw+).(\u001b[39m\u001b[38;5;124m\\\u001b[39m\u001b[38;5;124mw+)\u001b[39m\u001b[38;5;124m'\u001b[39m\n\u001b[0;32m      4\u001b[0m match\u001b[38;5;241m=\u001b[39mre\u001b[38;5;241m.\u001b[39msearch(pattern,string)\n\u001b[1;32m----> 5\u001b[0m x\u001b[38;5;241m=\u001b[39mmatch\u001b[38;5;241m.\u001b[39mgroup(\u001b[38;5;241m1\u001b[39m)\u001b[38;5;241m+\u001b[39m\u001b[38;5;124m'\u001b[39m\u001b[38;5;124m#\u001b[39m\u001b[38;5;124m'\u001b[39m\u001b[38;5;241m*\u001b[39m(\u001b[38;5;28mlen\u001b[39m(match\u001b[38;5;241m.\u001b[39mgroup(\u001b[38;5;241m2\u001b[39m)))\u001b[38;5;241m+\u001b[39mmatch\u001b[38;5;241m.\u001b[39mgroup(\u001b[38;5;241m3\u001b[39m)\u001b[38;5;241m+\u001b[39m\u001b[38;5;124m'\u001b[39m\u001b[38;5;124m#\u001b[39m\u001b[38;5;124m'\u001b[39m\u001b[38;5;241m*\u001b[39m(\u001b[38;5;28mlen\u001b[39m(match\u001b[38;5;241m.\u001b[39mgroup(\u001b[38;5;241m4\u001b[39m)))\u001b[38;5;241m+\u001b[39mmatch\u001b[38;5;241m.\u001b[39mgroup(\u001b[38;5;241m5\u001b[39m)\n\u001b[0;32m      6\u001b[0m \u001b[38;5;28;01mreturn\u001b[39;00m x\n",
      "\u001b[1;31mAttributeError\u001b[0m: 'NoneType' object has no attribute 'group'"
     ]
    }
   ],
   "source": [
    "import re\n",
    "def phone_masking(string):\n",
    "    pattern=re.sub(r'(?<=\\d)(\\d)(?=\\d)', '#',string)\n",
    "    match=re.search(pattern,string)\n",
    "print(masking('1(345)-456-789'))"
   ]
  },
  {
   "cell_type": "code",
   "execution_count": 50,
   "id": "0d7a4e68-3493-4e00-9e33-8444d34b55c6",
   "metadata": {},
   "outputs": [
    {
     "name": "stdout",
     "output_type": "stream",
     "text": [
      "1(3#5)-4#6-7#9\n"
     ]
    }
   ],
   "source": [
    "def mask_phone_number(phone_number):\n",
    "    masked_number = re.sub(r'(?<=\\d)(\\d)(?=\\d)', '#', phone_number)\n",
    "    return masked_number\n",
    "phone_number = '1(345)-456-789'\n",
    "masked = mask_phone_number(phone_number)\n",
    "print(masked)"
   ]
  },
  {
   "cell_type": "code",
   "execution_count": 66,
   "id": "61268490-ed41-4931-958c-508d57f7395a",
   "metadata": {},
   "outputs": [
    {
     "name": "stdout",
     "output_type": "stream",
     "text": [
      "True\n"
     ]
    }
   ],
   "source": [
    "#number in end or not\n",
    "def true_string(string):\n",
    "    pattern='(.)*[0-9]$'\n",
    "    if re.match(pattern,string):\n",
    "        return True\n",
    "    else:\n",
    "        return False\n",
    "\n",
    "print(true_string('kiran11'))"
   ]
  },
  {
   "cell_type": "code",
   "execution_count": 44,
   "id": "99d9e351-56af-45a4-a49f-3bd2320ffefc",
   "metadata": {},
   "outputs": [
    {
     "name": "stdout",
     "output_type": "stream",
     "text": [
      "1433892455022788821362411127495946012403668933039287545215115199337602964773818145784151672759549608273740254970462797495535765682446304005511052113773441032759676641852067662811956951892586273667930878481302729284836360617897032589330798322033527247289237625529359545172932939147289667431707397062656000000000000000000000000000000000000000000000\n"
     ]
    }
   ],
   "source": [
    "def fact(n):\n",
    "    if n==0 or n==1:\n",
    "        return 1\n",
    "    else:\n",
    "        return n*fact(n-1)\n",
    "print(fact(187))"
   ]
  },
  {
   "cell_type": "code",
   "execution_count": 68,
   "id": "c8884e28-27f6-421d-9914-fe1bbb6009e8",
   "metadata": {},
   "outputs": [],
   "source": [
    "list1=[\"a\",\"bc\"]\n",
    "list2=[\"a\",\"b\",\"c\"]\n"
   ]
  },
  {
   "cell_type": "code",
   "execution_count": 82,
   "id": "f462c31c-1eec-4a95-8773-5edfb87a8e8f",
   "metadata": {},
   "outputs": [
    {
     "name": "stdout",
     "output_type": "stream",
     "text": [
      "['52']\n",
      "['679']\n",
      "['4520']\n",
      "['4620']\n"
     ]
    },
    {
     "data": {
      "text/plain": [
       "['52', '679', '4520', '4620']"
      ]
     },
     "execution_count": 82,
     "metadata": {},
     "output_type": "execute_result"
    }
   ],
   "source": [
    "str1=\"52\"\n",
    "str2=\"679\"\n",
    "str3=\"4520\"\n",
    "str4=\"4620\"\n",
    "list1=[str1]\n",
    "list2=[str2]\n",
    "list3=[str3]\n",
    "list4=[str4]\n",
    "print(list1)\n",
    "print(list2)\n",
    "print(list3)\n",
    "print(list4)\n",
    "list=list1+list2+list3+list4\n",
    "list"
   ]
  },
  {
   "cell_type": "code",
   "execution_count": 1,
   "id": "508c946e-b983-42b7-92a4-14a087615baa",
   "metadata": {},
   "outputs": [
    {
     "data": {
      "text/plain": [
       "['52', '679', '4520', '4620']"
      ]
     },
     "execution_count": 1,
     "metadata": {},
     "output_type": "execute_result"
    }
   ],
   "source": [
    "str1=\"52\"\n",
    "str2=\"679\"\n",
    "str3=\"4520\"\n",
    "str4=\"4620\"\n",
    "list1=[str1]+[str2]+[str3]+[str4]\n",
    "list1"
   ]
  },
  {
   "cell_type": "code",
   "execution_count": 106,
   "id": "5360b101-9c56-48c2-b00b-37f881835449",
   "metadata": {},
   "outputs": [
    {
     "data": {
      "text/plain": [
       "5"
      ]
     },
     "execution_count": 106,
     "metadata": {},
     "output_type": "execute_result"
    }
   ],
   "source": [
    "s = \"4520\"\n",
    "largest_odd = None\n",
    "\n",
    "for char in s:\n",
    "    if char.isdigit() and int(char) % 2 != 0: \n",
    "        if largest_odd is None or int(char) > largest_odd:\n",
    "            largest_odd = int(char)\n",
    "\n",
    "largest_odd\n"
   ]
  },
  {
   "cell_type": "code",
   "execution_count": 98,
   "id": "175920bf-f99e-4cb3-8650-32f3d99b0095",
   "metadata": {},
   "outputs": [
    {
     "data": {
      "text/plain": [
       "10"
      ]
     },
     "execution_count": 98,
     "metadata": {},
     "output_type": "execute_result"
    }
   ],
   "source": [
    "# max peak among list\n",
    "lst = [2, 3, 5, 6, 7, 5, 1, 8, 10, 7, 6]\n",
    "max_peak = None\n",
    "\n",
    "for i in range(1, len(lst) - 1):  # Ignore the first and last elements\n",
    "    if lst[i] > lst[i - 1] and lst[i] > lst[i + 1]:\n",
    "        if max_peak is None or lst[i] > max_peak:\n",
    "            max_peak = lst[i]\n",
    "\n",
    "max_peak\n"
   ]
  },
  {
   "cell_type": "code",
   "execution_count": 10,
   "id": "1dc14c1c-bdc6-4ae8-902c-e120f22de7be",
   "metadata": {},
   "outputs": [
    {
     "name": "stdin",
     "output_type": "stream",
     "text": [
      "enter first naame: kiran\n",
      "enter last naame: magare\n"
     ]
    }
   ],
   "source": [
    "first_name=input(\"enter first naame:\")\n",
    "last_name=input(\"enter last naame:\")\n",
    "f=open(\"info.txt\",'w')\n",
    "f.write(first_name)\n",
    "f.write(last_name)\n",
    "f.close()"
   ]
  },
  {
   "cell_type": "code",
   "execution_count": 12,
   "id": "b0453abf-b243-4d24-8628-cf4255478862",
   "metadata": {},
   "outputs": [
    {
     "name": "stdout",
     "output_type": "stream",
     "text": [
      "kiranmagare\n"
     ]
    }
   ],
   "source": [
    "f=open(\"info.txt\",\"r\")\n",
    "print(f.read())\n",
    "f.close()"
   ]
  },
  {
   "cell_type": "markdown",
   "id": "9bf5901c-1101-4891-be39-6119f19b82b1",
   "metadata": {},
   "source": [
    "# @ File Handling"
   ]
  },
  {
   "cell_type": "code",
   "execution_count": 19,
   "id": "c4c94b64-0223-4831-9702-4003d645e151",
   "metadata": {},
   "outputs": [],
   "source": [
    "f=open(\"test.txt\",'w')\n",
    "f.write(\"This is file handling \")\n",
    "f.write(\"It is way of storing the data inside the file \")\n",
    "f.close()"
   ]
  },
  {
   "cell_type": "code",
   "execution_count": 35,
   "id": "dc98a3d3-2e7d-47a3-8cbf-fcc50233a3cf",
   "metadata": {},
   "outputs": [],
   "source": [
    "f=open(\"test.txt\",'a')\n",
    "f.write (\"This is last line\")\n",
    "f.close()"
   ]
  },
  {
   "cell_type": "code",
   "execution_count": 37,
   "id": "3a894537-8089-4a61-bd05-d1edef4a3cef",
   "metadata": {},
   "outputs": [
    {
     "name": "stdout",
     "output_type": "stream",
     "text": [
      "This is file handling It is way of storing the data inside the file This is last lineThis is last lineThis is last line\n"
     ]
    }
   ],
   "source": [
    "f=open(\"test.txt\",\"r\")\n",
    "print(f.read())\n",
    "f.close()"
   ]
  },
  {
   "cell_type": "code",
   "execution_count": 65,
   "id": "bd358c27-da02-4dbf-8112-e9df19ebd22f",
   "metadata": {},
   "outputs": [
    {
     "name": "stdout",
     "output_type": "stream",
     "text": [
      "\n"
     ]
    }
   ],
   "source": [
    "f=open(\"test.txt\",'r+')\n",
    "f.write('python')\n",
    "print(f.read())\n",
    "f.close()"
   ]
  },
  {
   "cell_type": "code",
   "execution_count": 69,
   "id": "ab2c7052-b93f-42b2-9801-6bd1437003d9",
   "metadata": {},
   "outputs": [],
   "source": [
    "f=open(\"new.txt\",'w')\n",
    "f.write('This is first line\\n')\n",
    "f.write('this is second line\\n')\n",
    "f.write('this is third line\\n')\n",
    "f.close()"
   ]
  },
  {
   "cell_type": "code",
   "execution_count": 71,
   "id": "33771a12-5b3b-401f-941a-cfafd7903bd2",
   "metadata": {},
   "outputs": [
    {
     "name": "stdout",
     "output_type": "stream",
     "text": [
      "This is first line\n",
      "\n",
      "this is second line\n",
      "\n",
      "this is third line\n",
      "\n"
     ]
    }
   ],
   "source": [
    "f=open('new.txt','r')\n",
    "for line in f:\n",
    "    print(line)\n",
    "f.close()"
   ]
  },
  {
   "cell_type": "code",
   "execution_count": 73,
   "id": "72659167-0c0c-4cb7-8d77-aa2a090fe55b",
   "metadata": {},
   "outputs": [],
   "source": [
    "f=open('new.txt','r')"
   ]
  },
  {
   "cell_type": "code",
   "execution_count": 75,
   "id": "0405f82a-2168-4243-9e49-5f5050153e98",
   "metadata": {},
   "outputs": [
    {
     "data": {
      "text/plain": [
       "'This '"
      ]
     },
     "execution_count": 75,
     "metadata": {},
     "output_type": "execute_result"
    }
   ],
   "source": [
    "f.read(5)"
   ]
  },
  {
   "cell_type": "code",
   "execution_count": 77,
   "id": "0eedd9e0-939d-4fd1-b3e3-d05e9c14dbab",
   "metadata": {},
   "outputs": [
    {
     "data": {
      "text/plain": [
       "'is first l'"
      ]
     },
     "execution_count": 77,
     "metadata": {},
     "output_type": "execute_result"
    }
   ],
   "source": [
    "f.read(10)"
   ]
  },
  {
   "cell_type": "code",
   "execution_count": 79,
   "id": "9e167e1c-e5c1-4c91-9b6e-d972f1d39aec",
   "metadata": {},
   "outputs": [
    {
     "data": {
      "text/plain": [
       "15"
      ]
     },
     "execution_count": 79,
     "metadata": {},
     "output_type": "execute_result"
    }
   ],
   "source": [
    "f.tell()"
   ]
  },
  {
   "cell_type": "code",
   "execution_count": 81,
   "id": "345d619d-3823-41b1-8ca6-3962c33dc82e",
   "metadata": {},
   "outputs": [
    {
     "data": {
      "text/plain": [
       "0"
      ]
     },
     "execution_count": 81,
     "metadata": {},
     "output_type": "execute_result"
    }
   ],
   "source": [
    "f.seek(0)"
   ]
  },
  {
   "cell_type": "code",
   "execution_count": 83,
   "id": "e758acf0-836a-451d-8a6c-713cefb412bf",
   "metadata": {},
   "outputs": [
    {
     "data": {
      "text/plain": [
       "'This '"
      ]
     },
     "execution_count": 83,
     "metadata": {},
     "output_type": "execute_result"
    }
   ],
   "source": [
    "f.read(5)"
   ]
  },
  {
   "cell_type": "code",
   "execution_count": 4,
   "id": "1c43efa4-1b34-45aa-8cdc-862f0041cdda",
   "metadata": {},
   "outputs": [],
   "source": [
    "list=['line1','line2','line3']\n",
    "f=open('list.txt','w')\n",
    "f.write('line1\\n')\n",
    "f.write('line2\\n')\n",
    "f.write('line3\\n ')\n",
    "f.close()"
   ]
  },
  {
   "cell_type": "code",
   "execution_count": 6,
   "id": "b8644134-06a9-4ef6-8459-7297a99962b2",
   "metadata": {},
   "outputs": [
    {
     "name": "stdout",
     "output_type": "stream",
     "text": [
      "line1\n",
      "line2\n",
      "line3\n",
      " \n"
     ]
    }
   ],
   "source": [
    "f=open('list.txt','r')\n",
    "print(f.read())\n",
    "f.close()"
   ]
  },
  {
   "cell_type": "code",
   "execution_count": 8,
   "id": "439251c4-2aed-4532-a384-0bff46953fa0",
   "metadata": {},
   "outputs": [
    {
     "name": "stdout",
     "output_type": "stream",
     "text": [
      "line1\n",
      "\n",
      "line2\n",
      "\n",
      "line3\n",
      "\n",
      " \n"
     ]
    }
   ],
   "source": [
    "f=open('list.txt','r')\n",
    "for line in f:\n",
    "    print(line)\n",
    "f.close()"
   ]
  },
  {
   "cell_type": "code",
   "execution_count": 109,
   "id": "fb91d3eb-0953-4786-b84e-4be3b23c71e3",
   "metadata": {},
   "outputs": [
    {
     "name": "stdout",
     "output_type": "stream",
     "text": [
      "['This', 'is', 'a', 'file']\n"
     ]
    }
   ],
   "source": [
    "# write a string in list\n",
    "string='This is a file'\n",
    "words_list = string.split()\n",
    "print(words_list)"
   ]
  },
  {
   "cell_type": "code",
   "execution_count": 10,
   "id": "6a6adf70-6b41-4821-9ddd-9f370d22bec6",
   "metadata": {},
   "outputs": [],
   "source": [
    "f=open('abc.txt','w+')\n",
    "f.write(\"welcome to python programming\\n\")\n",
    "f.write(\"it is simple coding language\\n\")\n",
    "f.write(\"It is very slow as compare to other language\\n\")\n",
    "f.write(\"It is learning for data science\\n\")\n",
    "f.write(\"7821840239\\n\")\n",
    "f.write(\"@$%^&\")\n",
    "f.close()"
   ]
  },
  {
   "cell_type": "code",
   "execution_count": 12,
   "id": "bc4a91d3-0b2d-47aa-8602-c124a830040e",
   "metadata": {},
   "outputs": [
    {
     "name": "stdout",
     "output_type": "stream",
     "text": [
      "welcome to python programming\n",
      "it is simple coding language\n",
      "It is very slow as compare to other language\n",
      "It is learning for data science\n",
      "7821840239\n",
      "@$%^&\n"
     ]
    }
   ],
   "source": [
    "f=open('abc.txt','r+')\n",
    "print(f.read())\n",
    "f.close()"
   ]
  },
  {
   "cell_type": "code",
   "execution_count": 16,
   "id": "f2f3e467-5302-425b-b41c-1f7ceea96734",
   "metadata": {},
   "outputs": [
    {
     "data": {
      "text/plain": [
       "'welcome to python programming\\n'"
      ]
     },
     "execution_count": 16,
     "metadata": {},
     "output_type": "execute_result"
    }
   ],
   "source": [
    "f=open('abc.txt','r+')\n",
    "f.readline()"
   ]
  },
  {
   "cell_type": "code",
   "execution_count": 18,
   "id": "9c8a85bc-49e3-46ea-a703-db59402a93e9",
   "metadata": {},
   "outputs": [
    {
     "data": {
      "text/plain": [
       "'it is'"
      ]
     },
     "execution_count": 18,
     "metadata": {},
     "output_type": "execute_result"
    }
   ],
   "source": [
    "f.readline(5)"
   ]
  },
  {
   "cell_type": "code",
   "execution_count": 20,
   "id": "42267097-65d9-4674-9b1b-7b2eb80a4cd9",
   "metadata": {},
   "outputs": [
    {
     "data": {
      "text/plain": [
       "0"
      ]
     },
     "execution_count": 20,
     "metadata": {},
     "output_type": "execute_result"
    }
   ],
   "source": [
    "f.seek(0)"
   ]
  },
  {
   "cell_type": "code",
   "execution_count": 22,
   "id": "19e8ea5e-6e39-420c-8cb9-0413faf859ef",
   "metadata": {},
   "outputs": [],
   "source": [
    "f.close()"
   ]
  },
  {
   "cell_type": "code",
   "execution_count": 24,
   "id": "68387d3e-a7b3-4979-a29e-eaaa5a974d1a",
   "metadata": {},
   "outputs": [
    {
     "name": "stdout",
     "output_type": "stream",
     "text": [
      "['welcome to python programming\\n', 'it is simple coding language\\n', 'It is very slow as compare to other language\\n', 'It is learning for data science\\n', '7821840239\\n', '@$%^&']\n",
      "6\n"
     ]
    }
   ],
   "source": [
    "f=open('abc.txt','r+')\n",
    "list=f.readlines()\n",
    "print(list)\n",
    "print(len(list))\n",
    "f.close()"
   ]
  },
  {
   "cell_type": "code",
   "execution_count": 36,
   "id": "905d908c-befa-422e-98e1-f5f973cbf93d",
   "metadata": {},
   "outputs": [
    {
     "name": "stdout",
     "output_type": "stream",
     "text": [
      "152\n"
     ]
    }
   ],
   "source": [
    "#count the number of character present in the text file\n",
    "f=open('abc.txt','r+')\n",
    "string=f.read()\n",
    "print(len(string))\n",
    "f.close()\n",
    "\n",
    "    "
   ]
  },
  {
   "cell_type": "code",
   "execution_count": 50,
   "id": "0acab8dc-7000-4b4d-86ab-aa7fd25e4562",
   "metadata": {},
   "outputs": [
    {
     "name": "stdout",
     "output_type": "stream",
     "text": [
      "21\n",
      "['welcome', 'to', 'python', 'programming\\nit', 'is', 'simple', 'coding', 'language\\nIt', 'is', 'very', 'slow', 'as', 'compare', 'to', 'other', 'language\\nIt', 'is', 'learning', 'for', 'data', 'science\\n7821840239\\n@$%^&']\n"
     ]
    }
   ],
   "source": [
    "f=open('abc.txt','r+')\n",
    "string=f.read()\n",
    "new=string.split(' ')\n",
    "print(len(new))\n",
    "print(new)\n",
    "f.close()"
   ]
  },
  {
   "cell_type": "code",
   "execution_count": 82,
   "id": "7ebf55ea-cd16-4ef6-9274-48506645f200",
   "metadata": {},
   "outputs": [
    {
     "name": "stdout",
     "output_type": "stream",
     "text": [
      "['it', 'is', 'simple', 'coding', 'language\\n']\n",
      "5\n",
      "['It', 'is', 'learning', 'for', 'data', 'science\\n']\n",
      "6\n",
      "['@$%^&']\n",
      "1\n"
     ]
    }
   ],
   "source": [
    "f=open('abc.txt','r+')\n",
    "for i in f:\n",
    "    list1=f.readline()\n",
    "    new=list1.split(' ')\n",
    "    print(new)\n",
    "    print(len(new))\n",
    "f.close()"
   ]
  },
  {
   "cell_type": "code",
   "execution_count": 76,
   "id": "67bd2410-ef19-44d8-932c-3296d08dec09",
   "metadata": {},
   "outputs": [
    {
     "name": "stdout",
     "output_type": "stream",
     "text": [
      "alphabets= 112\n",
      "digits= 10\n",
      "spaces= 25\n",
      "special character= 5\n"
     ]
    }
   ],
   "source": [
    "#cout the number of alphabets,digits,space and special character in text file\n",
    "f=open('abc.txt','r+')\n",
    "string=f.read()\n",
    "alpha=0\n",
    "digit=0\n",
    "spaces=0\n",
    "specialcharacter=0\n",
    "for ch in string:\n",
    "    if ch.isalpha():\n",
    "        alpha+=1\n",
    "    elif ch.isdigit():\n",
    "        digit+=1\n",
    "    elif ch.isspace():\n",
    "        spaces+=1\n",
    "    else:\n",
    "        specialcharacter+=1\n",
    "print('alphabets=',alpha)\n",
    "print('digits=',digit)\n",
    "print(\"spaces=\",spaces)\n",
    "print(\"special character=\",specialcharacter)\n",
    "f.close()   "
   ]
  },
  {
   "cell_type": "code",
   "execution_count": 108,
   "id": "0d6e15c9-506e-4bcc-8fb0-ab7910bc86c4",
   "metadata": {},
   "outputs": [
    {
     "name": "stdout",
     "output_type": "stream",
     "text": [
      "welcome to python programming\n",
      "\n",
      "alphabets= 26\n",
      "digits= 0\n",
      "spaces= 4\n",
      "special character= 0\n",
      "it is simple coding language\n",
      "\n",
      "alphabets= 24\n",
      "digits= 0\n",
      "spaces= 5\n",
      "special character= 0\n",
      "It is very slow as compare to other language\n",
      "\n",
      "alphabets= 36\n",
      "digits= 0\n",
      "spaces= 9\n",
      "special character= 0\n",
      "It is learning for data science\n",
      "\n",
      "alphabets= 26\n",
      "digits= 0\n",
      "spaces= 6\n",
      "special character= 0\n",
      "7821840239\n",
      "\n",
      "alphabets= 0\n",
      "digits= 10\n",
      "spaces= 1\n",
      "special character= 0\n",
      "@$%^&\n",
      "alphabets= 0\n",
      "digits= 0\n",
      "spaces= 0\n",
      "special character= 5\n"
     ]
    }
   ],
   "source": [
    "f=open('abc.txt','r+')\n",
    "list=f.readlines()\n",
    "for line in list:\n",
    "    alpha=0\n",
    "    digit=0\n",
    "    spaces=0\n",
    "    specialcharacter=0\n",
    "    for ch in line:\n",
    "        if ch.isalpha():\n",
    "           alpha+=1\n",
    "        elif ch.isdigit():\n",
    "           digit+=1\n",
    "        elif ch.isspace():\n",
    "           spaces+=1\n",
    "        else:\n",
    "           specialcharacter+=1\n",
    "   \n",
    "    print(line)\n",
    "    print('alphabets=',alpha)\n",
    "    print('digits=',digit)\n",
    "    print(\"spaces=\",spaces)\n",
    "    print(\"special character=\",specialcharacter)\n",
    "f.close()   "
   ]
  },
  {
   "cell_type": "code",
   "execution_count": 148,
   "id": "d7f27d33-55a4-4a67-80a6-d6807b0a4616",
   "metadata": {},
   "outputs": [
    {
     "name": "stdout",
     "output_type": "stream",
     "text": [
      "Line 1:\n",
      "  Alphabets: 26\n",
      "  Digits: 0\n",
      "  Spaces: 4\n",
      "  Special Characters:0\n",
      "Line 2:\n",
      "  Alphabets: 24\n",
      "  Digits: 0\n",
      "  Spaces: 5\n",
      "  Special Characters:0\n",
      "Line 3:\n",
      "  Alphabets: 36\n",
      "  Digits: 0\n",
      "  Spaces: 9\n",
      "  Special Characters:0\n",
      "Line 4:\n",
      "  Alphabets: 26\n",
      "  Digits: 0\n",
      "  Spaces: 6\n",
      "  Special Characters:0\n",
      "Line 5:\n",
      "  Alphabets: 0\n",
      "  Digits: 10\n",
      "  Spaces: 1\n",
      "  Special Characters:0\n",
      "Line 6:\n",
      "  Alphabets: 0\n",
      "  Digits: 0\n",
      "  Spaces: 0\n",
      "  Special Characters:5\n"
     ]
    }
   ],
   "source": [
    "# Count the number of alphabets, digit,space,and special character in each line in the text file\n",
    "f=open(\"abc.txt\", 'r') \n",
    "lines = f.readlines()\n",
    "for i, line in enumerate(lines, start=1):\n",
    "        alphabets = sum(1 for char in line if char.isalpha())\n",
    "        digits = sum(1 for char in line if char.isdigit())\n",
    "        spaces = sum(1 for char in line if char.isspace())\n",
    "        special_chars = sum(1 for char in line if not char.isalnum() and not char.isspace())\n",
    "        \n",
    "        print(f\"Line {i}:\")\n",
    "        print(f\"  Alphabets: {alphabets}\")\n",
    "        print(f\"  Digits: {digits}\")\n",
    "        print(f\"  Spaces: {spaces}\")\n",
    "        print(f\"  Special Characters:{special_chars}\")"
   ]
  },
  {
   "cell_type": "code",
   "execution_count": 2,
   "id": "3e215204-fbb8-41ca-a6d9-7ba6c4ee0c4f",
   "metadata": {},
   "outputs": [
    {
     "name": "stdout",
     "output_type": "stream",
     "text": [
      "Total number of vowels: 0\n"
     ]
    }
   ],
   "source": [
    "#count the vowels and consonents in the text file\n",
    "with open('abc.txt', 'r+') as f:\n",
    "    string = f.read()\n",
    "listofwords = string.split()\n",
    "vowels = 0\n",
    "for word in listofwords:\n",
    "    for ch in word:\n",
    "        if ch.lower() in ['a', 'e', 'i', 'o', 'u']:\n",
    "            vowels += 1\n",
    "print(\"Total number of vowels:\", vowels)"
   ]
  },
  {
   "cell_type": "code",
   "execution_count": 146,
   "id": "767e797b-4eb3-4921-b0d7-0b4982194dfa",
   "metadata": {},
   "outputs": [
    {
     "name": "stdout",
     "output_type": "stream",
     "text": [
      "Line 1:\n",
      "  Vowels: 8\n",
      "  Consonants: 18\n",
      "Line 2:\n",
      "  Vowels: 10\n",
      "  Consonants: 14\n",
      "Line 3:\n",
      "  Vowels: 15\n",
      "  Consonants: 21\n",
      "Line 4:\n",
      "  Vowels: 11\n",
      "  Consonants: 15\n",
      "Line 5:\n",
      "  Vowels: 0\n",
      "  Consonants: 0\n",
      "Line 6:\n",
      "  Vowels: 0\n",
      "  Consonants: 0\n"
     ]
    }
   ],
   "source": [
    "#count the vowels and consonents in the word of text file\n",
    "vowels_set = {'a', 'e', 'i', 'o', 'u', 'A', 'E', 'I', 'O', 'U'}\n",
    "f= open(\"abc.txt\", 'r') \n",
    "lines = f.readlines()\n",
    "for i, line in enumerate(lines, start=1):\n",
    "        vowels = sum(1 for char in line if char in vowels_set)\n",
    "        consonants = sum(1 for char in line if char.isalpha() and char not in vowels_set)\n",
    "        \n",
    "        print(f\"Line {i}:\")\n",
    "        print(f\"  Vowels: {vowels}\")\n",
    "        print(f\"  Consonants: {consonants}\")\n",
    "f.close()"
   ]
  },
  {
   "cell_type": "code",
   "execution_count": 144,
   "id": "a8e9865c-0edd-4467-ba91-5bc1637d3ee4",
   "metadata": {},
   "outputs": [
    {
     "name": "stdout",
     "output_type": "stream",
     "text": [
      "Maximum words in a line: 9\n",
      "Minimum words in a line: 1\n"
     ]
    }
   ],
   "source": [
    "# Count the max and min in the text file \n",
    "f=open(\"abc.txt\", 'r') \n",
    "lines = f.readlines()\n",
    "word_counts = [len(line.split()) for line in lines]  \n",
    "\n",
    "max_words = max(word_counts)  \n",
    "min_words = min(word_counts)  \n",
    "\n",
    "print(\"Maximum words in a line:\",max_words)\n",
    "print(\"Minimum words in a line:\",min_words)"
   ]
  },
  {
   "cell_type": "code",
   "execution_count": 142,
   "id": "822b8961-7d76-47c8-af36-38919521deb0",
   "metadata": {},
   "outputs": [
    {
     "name": "stdout",
     "output_type": "stream",
     "text": [
      "Line 1:\n",
      "  Maximum word length:11\n",
      "  Minimum word length:2\n",
      "Line 2:\n",
      "  Maximum word length:8\n",
      "  Minimum word length:2\n",
      "Line 3:\n",
      "  Maximum word length:8\n",
      "  Minimum word length:2\n",
      "Line 4:\n",
      "  Maximum word length:8\n",
      "  Minimum word length:2\n",
      "Line 5:\n",
      "  Maximum word length:10\n",
      "  Minimum word length:10\n",
      "Line 6:\n",
      "  Maximum word length:5\n",
      "  Minimum word length:5\n"
     ]
    }
   ],
   "source": [
    "# Count the max and min in the file by each line \n",
    "f=open(\"abc.txt\", 'r') \n",
    "lines = f.readlines()\n",
    "for i, line in enumerate(lines, start=1):\n",
    "        words = line.split() \n",
    "        word_lengths = [len(word) for word in words]  \n",
    "        \n",
    "        if word_lengths:  \n",
    "            max_word_length = max(word_lengths)\n",
    "            min_word_length = min(word_lengths)\n",
    "        else:\n",
    "            max_word_length = 0  \n",
    "            min_word_length = 0\n",
    "\n",
    "        print(f\"Line {i}:\")\n",
    "        print(f\"  Maximum word length:{max_word_length}\")\n",
    "        print(f\"  Minimum word length:{min_word_length}\")"
   ]
  },
  {
   "cell_type": "code",
   "execution_count": 4,
   "id": "d1a5018d-d78b-46f3-a51a-17c784713d9a",
   "metadata": {},
   "outputs": [],
   "source": [
    "f=open(\"q.txt\",'w')\n",
    "list=['python programming\\n',\"modularity\\n\",\"high level\\n\"]\n",
    "f.writelines(list)\n",
    "f.close()"
   ]
  },
  {
   "cell_type": "code",
   "execution_count": 8,
   "id": "87b5479a-e2bc-4e64-8939-7f58fed2997e",
   "metadata": {},
   "outputs": [
    {
     "name": "stdout",
     "output_type": "stream",
     "text": [
      "python programming\n",
      "modularity\n",
      "high level\n",
      "\n"
     ]
    }
   ],
   "source": [
    "f=open(\"q.txt\",'r')\n",
    "print(f.read())\n",
    "f.close()"
   ]
  },
  {
   "cell_type": "code",
   "execution_count": 16,
   "id": "3e5d8308-acd6-4b59-a4ed-894e1490c807",
   "metadata": {},
   "outputs": [
    {
     "name": "stdout",
     "output_type": "stream",
     "text": [
      "programming\n"
     ]
    }
   ],
   "source": [
    "def largest_word(file):\n",
    "    with open(file,'r') as f:\n",
    "        data=f.read()\n",
    "        words=data.split()\n",
    "        largest=words[0]\n",
    "        for w in words:\n",
    "            if len(w)>len(largest):\n",
    "                largest=w\n",
    "    return largest\n",
    "file=('abc.txt')\n",
    "largest=largest_word(file)\n",
    "print(largest)\n",
    "            "
   ]
  },
  {
   "cell_type": "code",
   "execution_count": 29,
   "id": "08c40a03-c6fc-4d9e-b538-a6dcc4633fe3",
   "metadata": {},
   "outputs": [
    {
     "name": "stdout",
     "output_type": "stream",
     "text": [
      "programming\n"
     ]
    }
   ],
   "source": [
    "def largest_line(file):\n",
    "    with open(file,'r') as f:\n",
    "        data =f.writelines()\n",
    "        words=data.split()\n",
    "        largest=words[0]\n",
    "        for w in words:\n",
    "            if len(w)>len(largest):\n",
    "                largest=w\n",
    "        print(largest)\n",
    "        \n",
    "file=(\"abc.txt\")\n",
    "largest=largest_word(file)\n",
    "print(largest)"
   ]
  },
  {
   "cell_type": "code",
   "execution_count": 33,
   "id": "b418cfb7-3e22-457a-bc4e-0eaa304a17fd",
   "metadata": {},
   "outputs": [
    {
     "name": "stdout",
     "output_type": "stream",
     "text": [
      "Largest word in line 1:programming\n",
      "Largest word in line 2:language\n",
      "Largest word in line 3:language\n",
      "Largest word in line 4:learning\n",
      "Largest word in line 5:7821840239\n",
      "Largest word in line 6:@$%^&\n"
     ]
    }
   ],
   "source": [
    "# find the largest word in each line by using text file \n",
    "def find_largest_word_in_line(filename):\n",
    "    largest_words = []\n",
    "    with open(filename, 'r') as file:\n",
    "        for line in file:\n",
    "            words = line.split()\n",
    "            if words:  \n",
    "                largest_word = max(words, key=len)\n",
    "                largest_words.append(largest_word)\n",
    "    return largest_words\n",
    "largest_words_per_line = find_largest_word_in_line(\"abc.txt\")\n",
    "for idx, word in enumerate(largest_words_per_line, 1):\n",
    "    print(f\"Largest word in line {idx}:{word}\")"
   ]
  },
  {
   "cell_type": "code",
   "execution_count": 47,
   "id": "f97286e9-04e0-4f13-bb21-5f1db37f6176",
   "metadata": {},
   "outputs": [
    {
     "name": "stdin",
     "output_type": "stream",
     "text": [
      "enter first string: fun\n",
      "enter second string: fon\n"
     ]
    },
    {
     "name": "stdout",
     "output_type": "stream",
     "text": [
      "True\n"
     ]
    }
   ],
   "source": [
    "def are_isomorphic(str1, str2):\n",
    "    if len(str1) != len(str2):\n",
    "        return False\n",
    "    \n",
    "    map_str1_to_str2 = {}\n",
    "    map_str2_to_str1 = {}\n",
    "\n",
    "    for char1, char2 in zip(str1, str2):\n",
    "        # Check mapping from str1 to str2\n",
    "        if char1 in map_str1_to_str2:\n",
    "            if map_str1_to_str2[char1] != char2:\n",
    "                return False\n",
    "        else:\n",
    "            map_str1_to_str2[char1] = char2\n",
    "        if char2 in map_str2_to_str1:\n",
    "            if map_str2_to_str1[char2] != char1:\n",
    "                return False\n",
    "        else:\n",
    "            map_str2_to_str1[char2] = char1\n",
    "\n",
    "    return True\n",
    "\n",
    "str1=input(\"enter first string:\")\n",
    "str2=input(\"enter second string:\")\n",
    "print(are_isomorphic(str1, str2))"
   ]
  },
  {
   "cell_type": "code",
   "execution_count": 49,
   "id": "003e99f4-86ee-476d-b3ab-e09a61df4320",
   "metadata": {},
   "outputs": [],
   "source": [
    "#for finding the unique character\n"
   ]
  },
  {
   "cell_type": "code",
   "execution_count": 55,
   "id": "46848992-0aaa-4ea8-a0f1-56cd8f66c4fd",
   "metadata": {},
   "outputs": [],
   "source": [
    "#copy the content of a file 1 and file 2\n",
    "f1=open('q.txt','r')\n",
    "f2=open(\"p.txt\",'w')\n",
    "data=f1.read()\n",
    "f2.write(data)\n",
    "f1.close()\n",
    "f2.close()\n"
   ]
  },
  {
   "cell_type": "code",
   "execution_count": 57,
   "id": "4bf528e0-3d66-433c-a700-a07b3fa25664",
   "metadata": {},
   "outputs": [
    {
     "name": "stdout",
     "output_type": "stream",
     "text": [
      "python programming\n",
      "modularity\n",
      "high level\n",
      "\n"
     ]
    }
   ],
   "source": [
    "f2=open(\"p.txt\",'r')\n",
    "print(f2.read())\n",
    "f2.close()"
   ]
  },
  {
   "cell_type": "code",
   "execution_count": 59,
   "id": "9f399cb0-aa78-4ad9-8e1c-7d6d1b03c7ca",
   "metadata": {},
   "outputs": [],
   "source": [
    "#read the file 1 and count the number of words in file1 and copy to file2\n",
    "f1=open(\"q.txt\",'r')\n",
    "f2=open('p.txt','w')\n",
    "data=f1.read()\n",
    "list=data.split()\n",
    "f2.write(str(len(list)))\n",
    "f1.close()\n",
    "f2.close()"
   ]
  },
  {
   "cell_type": "code",
   "execution_count": 61,
   "id": "b2499f00-7669-45de-ad13-b8bddcccc691",
   "metadata": {},
   "outputs": [
    {
     "name": "stdout",
     "output_type": "stream",
     "text": [
      "5\n"
     ]
    }
   ],
   "source": [
    "f2=open(\"p.txt\",'r')\n",
    "print(f2.read())\n",
    "f2.close()"
   ]
  },
  {
   "cell_type": "code",
   "execution_count": 69,
   "id": "ac3ad103-e07c-4153-9c62-d0f8bbcafb22",
   "metadata": {},
   "outputs": [],
   "source": [
    "#read file1 and make the alphabets in file2 is @ and for numbers is #\n",
    "f1=open(\"file1\",'w')\n",
    "f1.write(\"python programming is a simple one\\n\")\n",
    "f1.write(\"python is good for scripting\\n\")\n",
    "f1.write(\"python is really good for automation\\n\")\n",
    "f1.write(\"python has good backend framework\\n\")\n",
    "f1.write(\"134 567 8907\")\n",
    "f1.write(\"!@#$%^&*\")\n",
    "f1.close()"
   ]
  },
  {
   "cell_type": "code",
   "execution_count": 73,
   "id": "d5566da0-a207-4382-8e63-c895c53150c3",
   "metadata": {},
   "outputs": [],
   "source": [
    "f1=open(\"file1\",'r')\n",
    "f2=open(\"file2\",\"w\")\n",
    "data=f1.read()\n",
    "for c in data:\n",
    "    if c.isalpha():\n",
    "        f2.write(\"*\")\n",
    "    elif c.isdigit():\n",
    "        f2.write(\"#\")\n",
    "    elif c.isspace():\n",
    "        f2.write(\"@\")\n",
    "    else:\n",
    "        f2.write(c)\n",
    "f1.close()\n",
    "f2.close()\n"
   ]
  },
  {
   "cell_type": "code",
   "execution_count": 75,
   "id": "7beda6eb-8ec9-45d9-aa2c-3f28a754a3bd",
   "metadata": {},
   "outputs": [
    {
     "name": "stdout",
     "output_type": "stream",
     "text": [
      "******@***********@**@*@******@***@******@**@****@***@*********@******@**@******@****@***@**********@******@***@****@*******@*********@###@###@####!@#$%^&*\n"
     ]
    }
   ],
   "source": [
    "f2=open('file2','r')\n",
    "print(f2.read())\n",
    "f2.close()"
   ]
  },
  {
   "cell_type": "code",
   "execution_count": 6,
   "id": "7f5487a3-c6d5-4b12-a6f0-f5930bf2564c",
   "metadata": {},
   "outputs": [
    {
     "data": {
      "text/plain": [
       "0"
      ]
     },
     "execution_count": 6,
     "metadata": {},
     "output_type": "execute_result"
    }
   ],
   "source": [
    "import os\n",
    "os.system(\"notepad\")"
   ]
  },
  {
   "cell_type": "code",
   "execution_count": 8,
   "id": "61f580d1-3365-4c3d-a63e-c33021697c34",
   "metadata": {},
   "outputs": [
    {
     "data": {
      "text/plain": [
       "'C:\\\\Users\\\\magar\\\\Data Science Program'"
      ]
     },
     "execution_count": 8,
     "metadata": {},
     "output_type": "execute_result"
    }
   ],
   "source": [
    "#how to get working directory\n",
    "import os\n",
    "os.getcwd()"
   ]
  },
  {
   "cell_type": "code",
   "execution_count": 32,
   "id": "df65ef66-e354-4fd5-bf89-45bf2ab21cb4",
   "metadata": {},
   "outputs": [
    {
     "data": {
      "text/plain": [
       "'C:\\\\Users\\\\magar\\\\Data Science Program'"
      ]
     },
     "execution_count": 32,
     "metadata": {},
     "output_type": "execute_result"
    }
   ],
   "source": [
    "#changing the current working directory\n",
    "os.chdir(\"C:\\\\Users\\\\magar\\\\Data Science Program\")\n",
    "os.getcwd()\n"
   ]
  },
  {
   "cell_type": "code",
   "execution_count": 34,
   "id": "74565fe4-310e-49e5-aeb9-5c6107254bb7",
   "metadata": {},
   "outputs": [
    {
     "data": {
      "text/plain": [
       "['.ipynb_checkpoints',\n",
       " 'abc.txt',\n",
       " 'classcode.ipynb',\n",
       " 'Dictionary.ipynb',\n",
       " 'file1',\n",
       " 'file2',\n",
       " 'fun.txt',\n",
       " 'info.txt',\n",
       " 'kiran',\n",
       " 'List.ipynb',\n",
       " 'list.txt',\n",
       " 'Nested list.ipynb',\n",
       " 'new.txt',\n",
       " 'p.txt',\n",
       " 'programs.ipynb',\n",
       " 'Python',\n",
       " 'q.txt',\n",
       " 'Regular Expression.ipynb',\n",
       " 'test',\n",
       " 'test.txt',\n",
       " 'Tuple.ipynb',\n",
       " 'Untitled.ipynb',\n",
       " 'Untitled1.ipynb']"
      ]
     },
     "execution_count": 34,
     "metadata": {},
     "output_type": "execute_result"
    }
   ],
   "source": [
    "os.listdir(os.getcwd())"
   ]
  },
  {
   "cell_type": "code",
   "execution_count": 38,
   "id": "f744f1d9-8720-4335-aa33-bd3fc1e2094c",
   "metadata": {},
   "outputs": [],
   "source": [
    "#create the new directory in current working directory\n",
    "os.mkdir(\"test\")"
   ]
  },
  {
   "cell_type": "code",
   "execution_count": 40,
   "id": "e3743422-75d2-41c3-a121-c63fd6d63428",
   "metadata": {},
   "outputs": [
    {
     "data": {
      "text/plain": [
       "['.ipynb_checkpoints',\n",
       " 'abc.txt',\n",
       " 'classcode.ipynb',\n",
       " 'Dictionary.ipynb',\n",
       " 'file1',\n",
       " 'file2',\n",
       " 'fun.txt',\n",
       " 'info.txt',\n",
       " 'kiran',\n",
       " 'List.ipynb',\n",
       " 'list.txt',\n",
       " 'Nested list.ipynb',\n",
       " 'new.txt',\n",
       " 'p.txt',\n",
       " 'programs.ipynb',\n",
       " 'Python',\n",
       " 'q.txt',\n",
       " 'Regular Expression.ipynb',\n",
       " 'test',\n",
       " 'test.txt',\n",
       " 'Tuple.ipynb',\n",
       " 'Untitled.ipynb',\n",
       " 'Untitled1.ipynb']"
      ]
     },
     "execution_count": 40,
     "metadata": {},
     "output_type": "execute_result"
    }
   ],
   "source": [
    "os.listdir(os.getcwd())"
   ]
  },
  {
   "cell_type": "code",
   "execution_count": 44,
   "id": "2096ef13-e8a8-41f1-874f-a8e42b7f843c",
   "metadata": {},
   "outputs": [
    {
     "data": {
      "text/plain": [
       "'C:\\\\Users\\\\magar\\\\Data Science Program'"
      ]
     },
     "execution_count": 44,
     "metadata": {},
     "output_type": "execute_result"
    }
   ],
   "source": [
    "#removing the directory\n",
    "os.getcwd()"
   ]
  },
  {
   "cell_type": "code",
   "execution_count": 46,
   "id": "581b9dc0-b4cd-46a3-990b-05c18f27a0e9",
   "metadata": {},
   "outputs": [],
   "source": [
    "os.rename(\"test\",\"test1\")"
   ]
  },
  {
   "cell_type": "code",
   "execution_count": 48,
   "id": "185dd11a-dff8-4864-9c24-f1842d807580",
   "metadata": {},
   "outputs": [
    {
     "data": {
      "text/plain": [
       "['.ipynb_checkpoints',\n",
       " 'abc.txt',\n",
       " 'classcode.ipynb',\n",
       " 'Dictionary.ipynb',\n",
       " 'file1',\n",
       " 'file2',\n",
       " 'fun.txt',\n",
       " 'info.txt',\n",
       " 'kiran',\n",
       " 'List.ipynb',\n",
       " 'list.txt',\n",
       " 'Nested list.ipynb',\n",
       " 'new.txt',\n",
       " 'p.txt',\n",
       " 'programs.ipynb',\n",
       " 'Python',\n",
       " 'q.txt',\n",
       " 'Regular Expression.ipynb',\n",
       " 'test.txt',\n",
       " 'test1',\n",
       " 'Tuple.ipynb',\n",
       " 'Untitled.ipynb',\n",
       " 'Untitled1.ipynb']"
      ]
     },
     "execution_count": 48,
     "metadata": {},
     "output_type": "execute_result"
    }
   ],
   "source": [
    "os.listdir(os.getcwd())"
   ]
  },
  {
   "cell_type": "code",
   "execution_count": 18,
   "id": "b32d036c-3cf8-485a-b14c-30d5775e0d25",
   "metadata": {},
   "outputs": [
    {
     "data": {
      "text/plain": [
       "720"
      ]
     },
     "execution_count": 18,
     "metadata": {},
     "output_type": "execute_result"
    }
   ],
   "source": [
    "import math\n",
    "math.factorial(6)"
   ]
  },
  {
   "cell_type": "code",
   "execution_count": null,
   "id": "6df17882-ac80-45eb-abfa-dda5f01b2bab",
   "metadata": {},
   "outputs": [],
   "source": []
  },
  {
   "cell_type": "code",
   "execution_count": null,
   "id": "6a420435-982c-4a84-9d03-901b64e40fbf",
   "metadata": {},
   "outputs": [],
   "source": []
  }
 ],
 "metadata": {
  "kernelspec": {
   "display_name": "Python 3 (ipykernel)",
   "language": "python",
   "name": "python3"
  },
  "language_info": {
   "codemirror_mode": {
    "name": "ipython",
    "version": 3
   },
   "file_extension": ".py",
   "mimetype": "text/x-python",
   "name": "python",
   "nbconvert_exporter": "python",
   "pygments_lexer": "ipython3",
   "version": "3.12.7"
  }
 },
 "nbformat": 4,
 "nbformat_minor": 5
}
