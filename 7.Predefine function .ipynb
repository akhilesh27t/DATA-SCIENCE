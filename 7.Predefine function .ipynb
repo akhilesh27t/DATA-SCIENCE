{
 "cells": [
  {
   "cell_type": "markdown",
   "id": "69de9037-1f6f-40f6-ad3c-1208c3ac441a",
   "metadata": {},
   "source": [
    "# @Functions"
   ]
  },
  {
   "cell_type": "markdown",
   "id": "ba6b0981-e5c2-414c-82bd-ac575e612ccb",
   "metadata": {},
   "source": [
    "# @Predifined Functions\n",
    "    -Block of code to perform the particular task\n",
    "    -reusability\n",
    "    -decreasing redundancy\n",
    "    Syntax:\n",
    "     def fun_name()\n",
    "      \"\"\"\n",
    "        doc string\n",
    "      \"\"\"\n",
    "      \n",
    "* doc string: \n",
    "\n",
    "            1.what exactly the function will do\n",
    "            2.it will increase the readability of the program\n",
    "            3.for execution of the function we need to call it\n",
    "            4.function may or may not return the value\n",
    "            5.return statement is optional\n",
    "            6.There are 2 types of functions\n",
    "                a.Built-in or pre-defined function\n",
    "                   -The function which are already available in the language itself\n",
    "                   -to execute that buitin function we just need to call it\n",
    "                   -there are many predefined function in pythong\n",
    "                          1.abs()\n",
    "                          2.map()\n",
    "                          3.filter()\n",
    "                          4.enumerate()\n",
    "                          5.devmod\n",
    "                          \n",
    "### 1.abs():\n",
    "\n",
    "      -it predefined function in python\n",
    "      -it will return the absolute value\n",
    "      -the meaning of absolute value is it will return the value with out sign\n",
    "      -it will take only one argument\n",
    "      -it will take three types of arguments.\n",
    "         a.integer\n",
    "         b.floating number\n",
    "         c.complex number  (magnitude=(a^2+b^2)^1/2)\n",
    "\n",
    "      In case of complex number it will return the magnitude of the complex number\n",
    "       -distance---absolute\n",
    "       -speed----absolute value of velocity\n",
    "       -MAE:median absolute error\n",
    "       -profit ,loss\n",
    "\n",
    "### 2.all():\n",
    "\n",
    "      -It is also the predefined functions\n",
    "      -It will work on iterable(all the data structure)\n",
    "      -it will return true when all the elements in the iterable are true\n",
    "      -it will return false whne atleast one value is false in terable\n",
    "      -it will return the boolean value\n",
    "      -every non zero is consider as true only 0 is considered as false\n",
    "      -all the enpty iterable is true\n",
    "      -dictionary is iterating on keys\n",
    "      Usecases: \n",
    "       data prepossing:before processing we are making some changes in the data\n",
    "        a.check wheather all the values in the coloums are normalised or not.\n",
    "        b.check all the features are having less than 0.05 p value\n",
    "\n",
    "### 3.dir():\n",
    "\n",
    "      -It is also predefined function\n",
    "      -It will return attributes functions or class of the data type\n",
    "\n",
    "### 4.divmod():\n",
    "\n",
    "      - it is also a predefined function in python\n",
    "      -it will take two values as argument and it will return the tuple of quotient and remainder\n",
    "\n",
    "### 5.enumerate():\n",
    "\n",
    "      -it is a predefined function in python \n",
    "      -it is used to enumerate\n",
    "      -enumerate means we are listing down the elments of  iterable with index\n",
    "      Syntax:\n",
    "        enumerate(iterable,start=0)\n",
    "         -iterable:list,tuple,dictionary,set\n",
    "         -start=0 by degault it is zero\n",
    "         -it will two arguments:\n",
    "            iterable----mandatory\n",
    "            start----optional\n",
    "      -it is used to keep track of the indexes in the elements of iterable\n",
    "      -internally enumerate will use the loop to listing down\n",
    "      Usecase:\n",
    "      -we can use the keep track of number of iteration or epoch while training the ML model\n",
    "      - we can keep tracking batches\n",
    "\n",
    "\n",
    "### 6.Filter():\n",
    "\n",
    "      -It is also the predefined function in python\n",
    "      -it is use to filter out the elements of the iterable based on some condition\n",
    "      Syntax:\n",
    "       -it will take two arguments\n",
    "         1.Function: condition (based on these condition only it will filter out the elements)\n",
    "         2.iterable:list,set,tuple,dict etc\n",
    "        filter(function,iterable)\n",
    "      -filter() function will return the filter object \n",
    "      -it will stored all the filtered elementsin different iterable\n",
    "      -if we want see the element we have to convert it to list\n",
    "      Usecase:\n",
    "      we can use it for data preprocessing and cleaning\n",
    "       ----filtered out all the missing value in the coloum\n",
    "      -filterde out the outliers\n",
    "\n",
    "\n",
    "### 7.isinstance():\n",
    "\n",
    "      -it is also predefined function in python\n",
    "      -it is used to check weather the object is a instance of a particular class or not \n",
    "      -it is also the boolean function\n",
    "      -True:when object isinstance of a class\n",
    "      -False:when object is not isinstance of class \n",
    "      Syntax:\n",
    "        isinstance(object,classinfo)\n",
    "       1.Object:class object,variable\n",
    "       2.classinfo:datatypes and tuple of datatypes\n",
    "\n",
    "      Usecase:\n",
    "        1.when we are creating the ML pipeline will always check the data is in correct format or not\n",
    "        2.we will always check the datatype when we will do the hyperparameter turning\n",
    "\n",
    "\n",
    "### 8.map()\n",
    "\n",
    "      -It is also the predefined function in python\n",
    "      -it is used to apply the function on each item of the list\n",
    "      Syntax:\n",
    "      map(function,iterable)\n",
    "      -it will also take two arguments\n",
    "      -function is apply on each item of the iterable\n",
    "      -iterable:list,set etc\n",
    "      -it will return map object so we need to convert it iterable(list)\n",
    "      Use case:\n",
    "      -data preprocessing: encoding\n",
    "      -feature engineer\n",
    "\n",
    "\n",
    "### 9.reduce():\n",
    "\n",
    "      -it is also predefined function in python\n",
    "      -it use to reduce the iterable into single value\n",
    "      Syntax:\n",
    "       from functools import reduce\n",
    "       reduce(function,iterable)\n",
    "      -it will take two arguments\n",
    "      function-it is also apply on all the elements of the iterable\n",
    "      ex: mean of the height of student present in the class\n",
    "      data aggregation\n",
    "      descriptive statistics,inferrential stats\n",
    "\n",
    "      #map(),filter(),reduce():transformation phase of the ETL process\n",
    "      ETL:\n",
    "        E--extract\n",
    "        T--transform---transformation\n",
    "        L--load\n",
    "\n",
    "### 10.lambda function:\n",
    "\n",
    "       -It is called anonymous function\n",
    "       -In anonymous function means it don't have any name to defined\n",
    "       -In python when we write a function we will use the def keyword but for anonymous function we will use lambda as keyword\n",
    "       -we are extensively using this function inside a buittin function like map(), filter(), reduce()\n",
    "       -lambda is a very simple and we can write it in a single line\n",
    "      Syntax:\n",
    "         lambda arguments:expression\n",
    "         lambda----keyword\n",
    "         arguments----input to the function\n",
    "         expression----the operation we are performing in the function\n",
    "\n",
    "### Iterator:\n",
    "\n",
    "     -It is python object to transverse the iterable each element one by one\n",
    "     -iterable:data structure which we wnat to iterate\n",
    "     -iterator:It is a object who is iterating each element of the iterator one by one\n",
    "      next()---it will next iterator element\n",
    "      StopIteration:it will show when there is no element left in the iterable\n",
    "\n",
    "### Generator:\n",
    "\n",
    "     -it is also a python object or iterator it will return the value one after other\n",
    "     -instead of return keyword we are using yield keyword get return\n",
    "     -both iterator and generators are memory efficient\n",
    "     -although they both are using the loops inside\n",
    "     -whenever we have huge amount of data and we don't want to load that data then in that case we can use generator"
   ]
  },
  {
   "cell_type": "code",
   "execution_count": 5,
   "id": "08305eb2-c453-4885-bfb0-ffee1962717c",
   "metadata": {},
   "outputs": [
    {
     "name": "stdout",
     "output_type": "stream",
     "text": [
      "HelloKiran\n",
      "None\n"
     ]
    }
   ],
   "source": [
    "def print_name(name):\n",
    "    \"\"\"\n",
    "    this function will print name\n",
    "    \"\"\"\n",
    "    print(\"Hello\"+str(name))\n",
    "print(print_name(\"Kiran\"))"
   ]
  },
  {
   "cell_type": "code",
   "execution_count": 7,
   "id": "49b5d6bd-14e9-40f4-b581-13b95e16b2c5",
   "metadata": {},
   "outputs": [
    {
     "name": "stdout",
     "output_type": "stream",
     "text": [
      "\n",
      "    this function will print name\n",
      "    \n"
     ]
    }
   ],
   "source": [
    "print(print_name.__doc__)"
   ]
  },
  {
   "cell_type": "code",
   "execution_count": 9,
   "id": "3d4f9214-e816-454a-8deb-0c76a90fad0c",
   "metadata": {},
   "outputs": [
    {
     "data": {
      "text/plain": [
       "5"
      ]
     },
     "execution_count": 9,
     "metadata": {},
     "output_type": "execute_result"
    }
   ],
   "source": [
    "abs(-5)"
   ]
  },
  {
   "cell_type": "code",
   "execution_count": 11,
   "id": "13c4f148-8aea-49a2-ac8c-bea6e9433788",
   "metadata": {},
   "outputs": [
    {
     "data": {
      "text/plain": [
       "3"
      ]
     },
     "execution_count": 11,
     "metadata": {},
     "output_type": "execute_result"
    }
   ],
   "source": [
    "abs(3)"
   ]
  },
  {
   "cell_type": "code",
   "execution_count": 13,
   "id": "56226f12-e758-40a8-897e-1ede3bcd7424",
   "metadata": {},
   "outputs": [
    {
     "data": {
      "text/plain": [
       "3.14"
      ]
     },
     "execution_count": 13,
     "metadata": {},
     "output_type": "execute_result"
    }
   ],
   "source": [
    "abs(-3.14)"
   ]
  },
  {
   "cell_type": "code",
   "execution_count": 15,
   "id": "e98bf133-d8c0-425d-aae0-8eac06317619",
   "metadata": {},
   "outputs": [
    {
     "data": {
      "text/plain": [
       "2.23606797749979"
      ]
     },
     "execution_count": 15,
     "metadata": {},
     "output_type": "execute_result"
    }
   ],
   "source": [
    "abs(1+2j)"
   ]
  },
  {
   "cell_type": "code",
   "execution_count": 17,
   "id": "7322fab7-a000-4612-81a4-e4c17c60044f",
   "metadata": {},
   "outputs": [
    {
     "data": {
      "text/plain": [
       "2.23606797749979"
      ]
     },
     "execution_count": 17,
     "metadata": {},
     "output_type": "execute_result"
    }
   ],
   "source": [
    "abs(-1-2j)"
   ]
  },
  {
   "cell_type": "code",
   "execution_count": 23,
   "id": "7ed99f45-17d9-4007-9c83-2678f85180ef",
   "metadata": {},
   "outputs": [
    {
     "data": {
      "text/plain": [
       "True"
      ]
     },
     "execution_count": 23,
     "metadata": {},
     "output_type": "execute_result"
    }
   ],
   "source": [
    "lst=[1,2,3,4,5]\n",
    "all(lst)"
   ]
  },
  {
   "cell_type": "code",
   "execution_count": 25,
   "id": "91dd04c8-312a-4e6d-85de-f66ba096d496",
   "metadata": {},
   "outputs": [
    {
     "data": {
      "text/plain": [
       "False"
      ]
     },
     "execution_count": 25,
     "metadata": {},
     "output_type": "execute_result"
    }
   ],
   "source": [
    "lst1=[0,1,2,3]\n",
    "all(lst1)"
   ]
  },
  {
   "cell_type": "code",
   "execution_count": 29,
   "id": "6c30973a-6a76-4b21-8902-29dc930070da",
   "metadata": {},
   "outputs": [
    {
     "data": {
      "text/plain": [
       "True"
      ]
     },
     "execution_count": 29,
     "metadata": {},
     "output_type": "execute_result"
    }
   ],
   "source": [
    "lst2=[True,3,5]\n",
    "all(lst2)"
   ]
  },
  {
   "cell_type": "code",
   "execution_count": 31,
   "id": "51e5366a-fc94-4dff-aeed-7e9198de1b20",
   "metadata": {},
   "outputs": [
    {
     "data": {
      "text/plain": [
       "False"
      ]
     },
     "execution_count": 31,
     "metadata": {},
     "output_type": "execute_result"
    }
   ],
   "source": [
    "lst3=[False,4,5,6,7]\n",
    "all(lst3)"
   ]
  },
  {
   "cell_type": "code",
   "execution_count": 33,
   "id": "895c920c-2861-4291-beef-69c2a58a4dc8",
   "metadata": {},
   "outputs": [
    {
     "data": {
      "text/plain": [
       "True"
      ]
     },
     "execution_count": 33,
     "metadata": {},
     "output_type": "execute_result"
    }
   ],
   "source": [
    "t=(1,2,3,4,5)\n",
    "all(t)"
   ]
  },
  {
   "cell_type": "code",
   "execution_count": 35,
   "id": "7b0c3380-9b8a-4f52-84d1-79d9f1eaf444",
   "metadata": {},
   "outputs": [
    {
     "data": {
      "text/plain": [
       "True"
      ]
     },
     "execution_count": 35,
     "metadata": {},
     "output_type": "execute_result"
    }
   ],
   "source": [
    "lst=[]\n",
    "all (lst)"
   ]
  },
  {
   "cell_type": "code",
   "execution_count": 37,
   "id": "f078d7b5-ac3b-4977-b7e4-02ca42c259d4",
   "metadata": {},
   "outputs": [
    {
     "data": {
      "text/plain": [
       "True"
      ]
     },
     "execution_count": 37,
     "metadata": {},
     "output_type": "execute_result"
    }
   ],
   "source": [
    "lst1={}\n",
    "all(lst1)"
   ]
  },
  {
   "cell_type": "code",
   "execution_count": 39,
   "id": "bbef0bf2-62ce-44d7-8ea4-57076e06be9a",
   "metadata": {},
   "outputs": [
    {
     "data": {
      "text/plain": [
       "False"
      ]
     },
     "execution_count": 39,
     "metadata": {},
     "output_type": "execute_result"
    }
   ],
   "source": [
    "dict={1:2,0:3,6:7}\n",
    "all(dict)"
   ]
  },
  {
   "cell_type": "code",
   "execution_count": 41,
   "id": "24991c13-be6e-4bba-b23e-fff2f1de9bcf",
   "metadata": {},
   "outputs": [
    {
     "data": {
      "text/plain": [
       "True"
      ]
     },
     "execution_count": 41,
     "metadata": {},
     "output_type": "execute_result"
    }
   ],
   "source": [
    "dict={1:2,3:0,6:7}\n",
    "all(dict)"
   ]
  },
  {
   "cell_type": "code",
   "execution_count": 45,
   "id": "36581c2a-338e-49db-8192-22f65e5f8cf5",
   "metadata": {},
   "outputs": [
    {
     "name": "stdout",
     "output_type": "stream",
     "text": [
      "['__add__', '__class__', '__class_getitem__', '__contains__', '__delattr__', '__delitem__', '__dir__', '__doc__', '__eq__', '__format__', '__ge__', '__getattribute__', '__getitem__', '__getstate__', '__gt__', '__hash__', '__iadd__', '__imul__', '__init__', '__init_subclass__', '__iter__', '__le__', '__len__', '__lt__', '__mul__', '__ne__', '__new__', '__reduce__', '__reduce_ex__', '__repr__', '__reversed__', '__rmul__', '__setattr__', '__setitem__', '__sizeof__', '__str__', '__subclasshook__', 'append', 'clear', 'copy', 'count', 'extend', 'index', 'insert', 'pop', 'remove', 'reverse', 'sort']\n"
     ]
    }
   ],
   "source": [
    "#dir()\n",
    "lst=[1,2,3,4,5]\n",
    "print(dir(lst))"
   ]
  },
  {
   "cell_type": "code",
   "execution_count": 47,
   "id": "1c7573a0-e4cd-4479-9521-e4c80646b2ff",
   "metadata": {},
   "outputs": [
    {
     "name": "stdout",
     "output_type": "stream",
     "text": [
      "['__abstractmethods__', '__annotations__', '__class__', '__delattr__', '__dict__', '__dir__', '__doc__', '__eq__', '__format__', '__ge__', '__getattribute__', '__getitem__', '__getstate__', '__gt__', '__hash__', '__init__', '__init_subclass__', '__iter__', '__le__', '__len__', '__lt__', '__module__', '__ne__', '__new__', '__reduce__', '__reduce_ex__', '__repr__', '__setattr__', '__setstate__', '__sizeof__', '__sklearn_clone__', '__str__', '__subclasshook__', '__weakref__', '_abc_impl', '_build_request_for_signature', '_check_feature_names', '_check_n_features', '_compute_oob_predictions', '_doc_link_module', '_doc_link_template', '_doc_link_url_param_generator', '_estimator_type', '_get_default_requests', '_get_doc_link', '_get_estimators_indices', '_get_metadata_request', '_get_oob_predictions', '_get_param_names', '_get_tags', '_make_estimator', '_more_tags', '_parameter_constraints', '_repr_html_', '_repr_html_inner', '_repr_mimebundle_', '_required_parameters', '_set_oob_score_and_attributes', '_validate_X_predict', '_validate_data', '_validate_estimator', '_validate_params', '_validate_y_class_weight', 'apply', 'bootstrap', 'ccp_alpha', 'class_weight', 'criterion', 'decision_path', 'estimator', 'estimator_params', 'estimators_samples_', 'feature_importances_', 'fit', 'get_metadata_routing', 'get_params', 'max_depth', 'max_features', 'max_leaf_nodes', 'max_samples', 'min_impurity_decrease', 'min_samples_leaf', 'min_samples_split', 'min_weight_fraction_leaf', 'monotonic_cst', 'n_estimators', 'n_jobs', 'oob_score', 'predict', 'predict_log_proba', 'predict_proba', 'random_state', 'score', 'set_fit_request', 'set_params', 'set_score_request', 'verbose', 'warm_start']\n"
     ]
    }
   ],
   "source": [
    "from sklearn.ensemble import RandomForestClassifier\n",
    "model=RandomForestClassifier()\n",
    "print(dir(model))"
   ]
  },
  {
   "cell_type": "code",
   "execution_count": 49,
   "id": "a4df2d54-4de4-4774-9886-6aa78accbad0",
   "metadata": {},
   "outputs": [
    {
     "name": "stdout",
     "output_type": "stream",
     "text": [
      "(4, 1)\n"
     ]
    }
   ],
   "source": [
    "print(divmod(9,2))"
   ]
  },
  {
   "cell_type": "code",
   "execution_count": 51,
   "id": "8751ca5e-2702-450c-81eb-1fc6b15dbfb8",
   "metadata": {},
   "outputs": [
    {
     "name": "stdout",
     "output_type": "stream",
     "text": [
      "(5, 3)\n"
     ]
    }
   ],
   "source": [
    "print(divmod(103,20))"
   ]
  },
  {
   "cell_type": "code",
   "execution_count": 5,
   "id": "fe3ad440-735d-424f-a8c4-4c40c539699c",
   "metadata": {},
   "outputs": [
    {
     "name": "stdout",
     "output_type": "stream",
     "text": [
      "0 10\n",
      "1 11\n",
      "2 12\n",
      "3 13\n",
      "4 14\n"
     ]
    }
   ],
   "source": [
    "list=[10,11,12,13,14]\n",
    "for index, val in enumerate(list,start=0):\n",
    "    print(index,val)"
   ]
  },
  {
   "cell_type": "code",
   "execution_count": 7,
   "id": "8e8a168a-4c61-4ff1-9cd3-814dfdd7b317",
   "metadata": {},
   "outputs": [
    {
     "name": "stdout",
     "output_type": "stream",
     "text": [
      "12 10\n",
      "13 11\n",
      "14 12\n",
      "15 13\n",
      "16 14\n"
     ]
    }
   ],
   "source": [
    "list=[10,11,12,13,14]\n",
    "for index, val in enumerate(list,start=12):\n",
    "    print(index,val)"
   ]
  },
  {
   "cell_type": "code",
   "execution_count": 31,
   "id": "c06ad127-f8b4-464f-a085-d368fa9e4e82",
   "metadata": {},
   "outputs": [
    {
     "name": "stdout",
     "output_type": "stream",
     "text": [
      "0 hi\n",
      "1 hello\n",
      "2 bye\n"
     ]
    }
   ],
   "source": [
    "#create a enumerate\n",
    "t=(\"hi\",\"hello\",\"bye\")\n",
    "for index, val in enumerate(t):\n",
    "    print(index,val)"
   ]
  },
  {
   "cell_type": "code",
   "execution_count": 15,
   "id": "5a56c944-1f57-44c4-9915-74b45b93dcd8",
   "metadata": {},
   "outputs": [
    {
     "name": "stdout",
     "output_type": "stream",
     "text": [
      "0 89\n",
      "1 67\n",
      "2 45\n",
      "3 23\n"
     ]
    }
   ],
   "source": [
    "s={23,45,67,89}\n",
    "for index, val in enumerate(s):\n",
    "    print(index,val)"
   ]
  },
  {
   "cell_type": "code",
   "execution_count": 17,
   "id": "da7dc176-3b0f-4b8e-b810-0f3a967827c4",
   "metadata": {},
   "outputs": [
    {
     "name": "stdout",
     "output_type": "stream",
     "text": [
      "0 1\n",
      "1 2\n",
      "2 3\n"
     ]
    }
   ],
   "source": [
    "dict={1:'a',2:'b',3:'c'}\n",
    "for index,key in enumerate(dict):\n",
    "    print(index,key)"
   ]
  },
  {
   "cell_type": "code",
   "execution_count": 29,
   "id": "09999ba0-7800-4e12-990f-5daf3936dd28",
   "metadata": {},
   "outputs": [
    {
     "name": "stdout",
     "output_type": "stream",
     "text": [
      "0 23\n",
      "1 45\n",
      "2 50\n",
      "3 56\n",
      "None\n"
     ]
    }
   ],
   "source": [
    "def my_enumerate(list):\n",
    "    for i in range(len(list)):\n",
    "        print(i,list[i])\n",
    "list=[23,45,50,56]\n",
    "print(my_enumerate(list))"
   ]
  },
  {
   "cell_type": "code",
   "execution_count": 37,
   "id": "7d1ddf10-5f2b-4c68-9f02-56c5058b538d",
   "metadata": {},
   "outputs": [
    {
     "name": "stdout",
     "output_type": "stream",
     "text": [
      "(2, 4, 6)\n"
     ]
    }
   ],
   "source": [
    "def my_even(x):\n",
    "    return x%2==0\n",
    "list=[1,2,3,4,5,6,7]\n",
    "even_no=filter(my_even,list)\n",
    "print(tuple(even_no))"
   ]
  },
  {
   "cell_type": "code",
   "execution_count": 45,
   "id": "4693f918-22ff-44ba-b821-2d9b8c748f6a",
   "metadata": {},
   "outputs": [
    {
     "name": "stdout",
     "output_type": "stream",
     "text": [
      "range(-10, 10)\n",
      "(1, 2, 3, 4, 5, 6, 7, 8, 9)\n"
     ]
    }
   ],
   "source": [
    "def positive(a):\n",
    "    if a>0:\n",
    "        return a\n",
    "b=range(-10,10)\n",
    "print(b)\n",
    "positive_elements=tuple(filter(positive,b))\n",
    "print(positive_elements)"
   ]
  },
  {
   "cell_type": "code",
   "execution_count": 53,
   "id": "3ba2d2f3-b8ea-4720-a0bc-3441dbeb4891",
   "metadata": {},
   "outputs": [],
   "source": [
    "#even string using filtered\n",
    "def even_string(string):\n",
    "    if len(string)%2==0:\n",
    "        return string\n",
    "b=(\"abcdef\",'cgdf',\"sdf\")\n",
    "even=filter(my_even,b)\n",
    "\n"
   ]
  },
  {
   "cell_type": "code",
   "execution_count": 55,
   "id": "9736222c-bbb4-4020-b534-58ce723a6e0c",
   "metadata": {},
   "outputs": [
    {
     "name": "stdout",
     "output_type": "stream",
     "text": [
      "True\n"
     ]
    }
   ],
   "source": [
    "x=5\n",
    "print(isinstance(x,int))"
   ]
  },
  {
   "cell_type": "code",
   "execution_count": 57,
   "id": "04edef4c-e5d9-48b8-a47c-7e10e8418cf8",
   "metadata": {},
   "outputs": [
    {
     "name": "stdout",
     "output_type": "stream",
     "text": [
      "True\n"
     ]
    }
   ],
   "source": [
    "y=7.5\n",
    "print(isinstance(y,float))"
   ]
  },
  {
   "cell_type": "code",
   "execution_count": 61,
   "id": "7116a0b5-97a3-434b-894b-492bebef6333",
   "metadata": {},
   "outputs": [
    {
     "name": "stdout",
     "output_type": "stream",
     "text": [
      "True\n"
     ]
    }
   ],
   "source": [
    "z=\"Kiran\"\n",
    "print(isinstance(z,(int,float,str)))"
   ]
  },
  {
   "cell_type": "code",
   "execution_count": 63,
   "id": "be9ea876-6409-4443-be24-db5ad2fcfbf9",
   "metadata": {},
   "outputs": [
    {
     "name": "stdout",
     "output_type": "stream",
     "text": [
      "hello\n",
      "True\n"
     ]
    }
   ],
   "source": [
    "class sample:\n",
    "    print('hello')\n",
    "obj=sample()\n",
    "print(isinstance(obj,sample))"
   ]
  },
  {
   "cell_type": "code",
   "execution_count": 67,
   "id": "c16aa9e4-214f-49d1-8251-fb1716139248",
   "metadata": {},
   "outputs": [
    {
     "name": "stdout",
     "output_type": "stream",
     "text": [
      "True\n"
     ]
    }
   ],
   "source": [
    "a=(2,3,4,5,6)\n",
    "print(isinstance(a,tuple))"
   ]
  },
  {
   "cell_type": "code",
   "execution_count": 69,
   "id": "d928e9f6-fb69-4553-84cd-e06eb755a7b5",
   "metadata": {},
   "outputs": [
    {
     "name": "stdout",
     "output_type": "stream",
     "text": [
      "True\n"
     ]
    }
   ],
   "source": [
    "a={2,3,4,5,6}\n",
    "print(isinstance(a,set))"
   ]
  },
  {
   "cell_type": "code",
   "execution_count": 73,
   "id": "88fe0254-79f3-41f7-a1d0-cad7251b188b",
   "metadata": {},
   "outputs": [
    {
     "name": "stdout",
     "output_type": "stream",
     "text": [
      "(1, 4, 9, 16)\n"
     ]
    }
   ],
   "source": [
    "ab=[1,2,3,4]\n",
    "def power(p):\n",
    "    return p**2\n",
    "numbers=map(power,ab)\n",
    "print(tuple(numbers))"
   ]
  },
  {
   "cell_type": "code",
   "execution_count": 79,
   "id": "8ac47564-1939-4087-afaa-64f1dafc5805",
   "metadata": {},
   "outputs": [
    {
     "name": "stdout",
     "output_type": "stream",
     "text": [
      "24\n"
     ]
    }
   ],
   "source": [
    "from functools import reduce\n",
    "cv=[1,2,3,4]\n",
    "def product(x,y):\n",
    "    return x*y\n",
    "total=reduce(product,cv)\n",
    "print(total)\n"
   ]
  },
  {
   "cell_type": "code",
   "execution_count": 3,
   "id": "9d0d8c8b-db0b-4d9e-a23f-8b92317f3559",
   "metadata": {},
   "outputs": [
    {
     "name": "stdout",
     "output_type": "stream",
     "text": [
      "24\n"
     ]
    }
   ],
   "source": [
    "list=[1,2,3,4]\n",
    "mul=1\n",
    "for i in list:\n",
    "    mul=mul*i\n",
    "print(mul)"
   ]
  },
  {
   "cell_type": "code",
   "execution_count": 21,
   "id": "6df8d340-05cb-4386-898f-4a5d2e908d3d",
   "metadata": {},
   "outputs": [
    {
     "name": "stdout",
     "output_type": "stream",
     "text": [
      "20\n"
     ]
    }
   ],
   "source": [
    "double=lambda x:x*2\n",
    "print(double(10))"
   ]
  },
  {
   "cell_type": "code",
   "execution_count": 23,
   "id": "8282e1fc-5fb7-41b0-9846-93794b34ba65",
   "metadata": {},
   "outputs": [
    {
     "name": "stdout",
     "output_type": "stream",
     "text": [
      "25\n"
     ]
    }
   ],
   "source": [
    "squares=lambda x:x**2\n",
    "print(squares(5))"
   ]
  },
  {
   "cell_type": "code",
   "execution_count": 12,
   "id": "1859b421-0107-4684-aa31-53a69820dac8",
   "metadata": {},
   "outputs": [
    {
     "name": "stdout",
     "output_type": "stream",
     "text": [
      "(2, 4, 6, 8)\n"
     ]
    }
   ],
   "source": [
    "my_list=[1,2,3,4,5,6,7,8]\n",
    "even_lst=tuple(filter(lambda x:x%2==0,my_list))\n",
    "print(even_lst)\n",
    "\n"
   ]
  },
  {
   "cell_type": "code",
   "execution_count": 33,
   "id": "0056cd05-4042-4301-a9ff-d675b2617705",
   "metadata": {},
   "outputs": [
    {
     "name": "stdout",
     "output_type": "stream",
     "text": [
      "[1, 3, 5, 6, 8]\n"
     ]
    }
   ],
   "source": [
    "my_list=[1,-2,3,-4,5,6,-7,8]\n",
    "even_lst=list(filter(lambda x:x>=0,my_list))\n",
    "print(even_lst)"
   ]
  },
  {
   "cell_type": "code",
   "execution_count": 37,
   "id": "575f3a28-726c-4ec7-9df1-437f26f4597e",
   "metadata": {},
   "outputs": [
    {
     "name": "stdout",
     "output_type": "stream",
     "text": [
      "[1, 4, 9, 16, 25, 36, 49, 64]\n"
     ]
    }
   ],
   "source": [
    "my_list=[1,2,3,4,5,6,7,8]\n",
    "square_no=list(map(lambda x:x**2,my_list))\n",
    "print(square_no)"
   ]
  },
  {
   "cell_type": "code",
   "execution_count": 43,
   "id": "ebcde802-98e1-4485-9e86-0949e59244bf",
   "metadata": {},
   "outputs": [
    {
     "name": "stdout",
     "output_type": "stream",
     "text": [
      "[0, 1, 0, 1, 1]\n"
     ]
    }
   ],
   "source": [
    "a=[\"male\",\"female\",\"male\",\"female\",\"female\"]\n",
    "convert=list(map(lambda x:0 if x=='male' else 1,a))\n",
    "print(convert)"
   ]
  },
  {
   "cell_type": "code",
   "execution_count": null,
   "id": "26f4867e-6e5e-441f-9f9f-fc2c6fc88caf",
   "metadata": {},
   "outputs": [],
   "source": [
    "#sort the tuple base on second value\n",
    "or_list=[('apple',3),('bat',1),(\"cat\",2)(\"dog\",4)]\n",
    "or_list.sort(key=lambda x:x[])\n",
    "\n",
    "#Q. replace the 3 in string of three like that using lambda\n",
    "#Q.processor:dualcore,i3,i5,i7,atom\n"
   ]
  },
  {
   "cell_type": "code",
   "execution_count": 55,
   "id": "03ef7b0d-cc55-474e-b429-2d4671421732",
   "metadata": {},
   "outputs": [
    {
     "name": "stdout",
     "output_type": "stream",
     "text": [
      "720\n"
     ]
    }
   ],
   "source": [
    "from functools import reduce\n",
    "old_list=[1,2,3,4,5,6]\n",
    "ans=reduce(lambda x,y:x*y,old_list)\n",
    "print(ans)"
   ]
  },
  {
   "cell_type": "code",
   "execution_count": 67,
   "id": "de19085b-1d76-4ca6-af81-2b9a4d5d3fc0",
   "metadata": {},
   "outputs": [
    {
     "name": "stdout",
     "output_type": "stream",
     "text": [
      "1\n",
      "2\n",
      "3\n",
      "no element is present\n"
     ]
    }
   ],
   "source": [
    "try:\n",
    "    list=[1,2,3]\n",
    "    iterator=iter(list)\n",
    "    print(next(iterator))\n",
    "    print(next(iterator))\n",
    "    print(next(iterator))\n",
    "    print(next(iterator))\n",
    "except StopIteration:\n",
    "    print(\"no element is present\")"
   ]
  },
  {
   "cell_type": "code",
   "execution_count": 73,
   "id": "cdfdfdae-e71d-41fa-a857-d77e7a64adf3",
   "metadata": {},
   "outputs": [
    {
     "name": "stdout",
     "output_type": "stream",
     "text": [
      "0\n",
      "1\n",
      "4\n",
      "9\n",
      "16\n",
      "25\n",
      "36\n",
      "49\n",
      "64\n",
      "81\n"
     ]
    }
   ],
   "source": [
    "def abc(x):\n",
    "    for i in range(x):\n",
    "        yield i*i\n",
    "result1=abc(10)\n",
    "for r in result1:\n",
    "    print(r)"
   ]
  },
  {
   "cell_type": "code",
   "execution_count": null,
   "id": "eeb712bf-3558-48f6-a581-eac87206ebdf",
   "metadata": {},
   "outputs": [],
   "source": [
    "#permutation "
   ]
  }
 ],
 "metadata": {
  "kernelspec": {
   "display_name": "Python 3 (ipykernel)",
   "language": "python",
   "name": "python3"
  },
  "language_info": {
   "codemirror_mode": {
    "name": "ipython",
    "version": 3
   },
   "file_extension": ".py",
   "mimetype": "text/x-python",
   "name": "python",
   "nbconvert_exporter": "python",
   "pygments_lexer": "ipython3",
   "version": "3.12.7"
  }
 },
 "nbformat": 4,
 "nbformat_minor": 5
}
