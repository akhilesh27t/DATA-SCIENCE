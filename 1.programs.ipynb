{
 "cells": [
  {
   "cell_type": "markdown",
   "id": "6d67ab58-f77d-4975-82a9-0cc2a9c0a987",
   "metadata": {},
   "source": [
    "# @Program of Hello world "
   ]
  },
  {
   "cell_type": "code",
   "execution_count": 3,
   "id": "8f8b5a0d-226d-444a-8a6b-59d3ef963642",
   "metadata": {},
   "outputs": [
    {
     "name": "stdout",
     "output_type": "stream",
     "text": [
      "Hello World\n"
     ]
    }
   ],
   "source": [
    "print(\"Hello World\")"
   ]
  },
  {
   "cell_type": "markdown",
   "id": "689f4d21-b09b-48f3-8417-967eef01152f",
   "metadata": {},
   "source": [
    "# @Perimeter Of Rectangle"
   ]
  },
  {
   "cell_type": "code",
   "execution_count": 2,
   "id": "bbe5f913-fdb2-444c-87e5-452c3549e273",
   "metadata": {},
   "outputs": [
    {
     "name": "stdin",
     "output_type": "stream",
     "text": [
      "Enter the length of rectangle 20\n",
      "Enter the breadth of rectangle 10\n"
     ]
    },
    {
     "name": "stdout",
     "output_type": "stream",
     "text": [
      "Perimeter of ractangle 60\n"
     ]
    }
   ],
   "source": [
    "length = int(input(\"Enter the length of rectangle\"))\n",
    "breadth = int(input(\"Enter the breadth of rectangle\"))\n",
    "perimeter = (length+breadth) *2\n",
    "print(\"Perimeter of ractangle\",perimeter)\n"
   ]
  },
  {
   "cell_type": "markdown",
   "id": "7e18bd06-f014-4e04-9740-f076e3c52c71",
   "metadata": {},
   "source": [
    "# @Area of Trapesium"
   ]
  },
  {
   "cell_type": "code",
   "execution_count": 21,
   "id": "3d6f0323-e6da-4717-9f8e-d9398dbaaad4",
   "metadata": {},
   "outputs": [
    {
     "name": "stdin",
     "output_type": "stream",
     "text": [
      "enter the value of a 30\n",
      "enter the value of b 20\n",
      "enter the value of h 40\n"
     ]
    },
    {
     "name": "stdout",
     "output_type": "stream",
     "text": [
      "Area of trapesium 1000.0\n"
     ]
    }
   ],
   "source": [
    "a= int(input(\"enter the value of a\"))\n",
    "b= int(input(\"enter the value of b\"))\n",
    "h= int(input(\"enter the value of h\"))\n",
    "Area = 0.5*(a+b)*h\n",
    "print(\"Area of trapesium\", Area)"
   ]
  },
  {
   "cell_type": "markdown",
   "id": "13b3dab2-9317-47f3-b9d3-c8e75a1ad19d",
   "metadata": {},
   "source": [
    "# @Perimeter Of Circle"
   ]
  },
  {
   "cell_type": "code",
   "execution_count": 25,
   "id": "8af9a97d-e1a2-42ed-a8b6-2c54c4b40bd7",
   "metadata": {},
   "outputs": [
    {
     "name": "stdin",
     "output_type": "stream",
     "text": [
      "enter the value of radius 5.2\n"
     ]
    },
    {
     "name": "stdout",
     "output_type": "stream",
     "text": [
      "Perimeter of circle 32.6768\n"
     ]
    }
   ],
   "source": [
    "radius = float (input(\"enter the value of radius\"))\n",
    "perimeter = 2*3.142*radius\n",
    "print(\"Perimeter of circle\",perimeter)"
   ]
  },
  {
   "cell_type": "markdown",
   "id": "07b356d6-d241-4ce8-a2d5-04a5751ba66c",
   "metadata": {},
   "source": [
    "# #Simple if"
   ]
  },
  {
   "cell_type": "markdown",
   "id": "39afb1b5-de9f-4cc3-ba05-467ecadf87fc",
   "metadata": {},
   "source": [
    "## @Program of even or odd number"
   ]
  },
  {
   "cell_type": "code",
   "execution_count": 8,
   "id": "1a0ca1f0-b83e-4871-b7d5-b1fe99003ce2",
   "metadata": {},
   "outputs": [
    {
     "name": "stdin",
     "output_type": "stream",
     "text": [
      "Enter the Number: 20\n"
     ]
    },
    {
     "name": "stdout",
     "output_type": "stream",
     "text": [
      "Even Number\n"
     ]
    }
   ],
   "source": [
    "Number = int(input(\"Enter the Number:\"))\n",
    "if Number%2==0:\n",
    "    print(\"Even Number\")\n",
    "if Number%2!=0:\n",
    "    print(\"Odd Number\")"
   ]
  },
  {
   "cell_type": "markdown",
   "id": "1b29bad5-7592-4abb-a5bb-7c9044858d70",
   "metadata": {},
   "source": [
    "# #if------else"
   ]
  },
  {
   "cell_type": "markdown",
   "id": "178e5805-ca4a-4bbf-aabd-69942b213b45",
   "metadata": {},
   "source": [
    "## @Program of even or odd number"
   ]
  },
  {
   "cell_type": "code",
   "execution_count": 16,
   "id": "ebd12a23-3fec-42b9-9ef4-4498c47d6af6",
   "metadata": {},
   "outputs": [
    {
     "name": "stdin",
     "output_type": "stream",
     "text": [
      "Enter the Number 25\n"
     ]
    },
    {
     "name": "stdout",
     "output_type": "stream",
     "text": [
      "Odd Number\n"
     ]
    }
   ],
   "source": [
    "Number = int(input(\"Enter the Number\"))\n",
    "if Number%2==0:\n",
    "    print(\"Even Number\")\n",
    "else:\n",
    "    print(\"Odd Number\")\n"
   ]
  },
  {
   "cell_type": "markdown",
   "id": "39f21fe8-cfb9-483a-8511-d70c1f3fd488",
   "metadata": {},
   "source": [
    "## @Program of which is greatest no. betn 2 no."
   ]
  },
  {
   "cell_type": "code",
   "execution_count": 22,
   "id": "7b7d2f9d-203e-4bd4-9862-45532fb3b769",
   "metadata": {},
   "outputs": [
    {
     "name": "stdin",
     "output_type": "stream",
     "text": [
      "Enter the first Number 50\n",
      "Enter the second Number 46\n"
     ]
    },
    {
     "name": "stdout",
     "output_type": "stream",
     "text": [
      "a is greater\n"
     ]
    }
   ],
   "source": [
    "a =int(input(\"Enter the first Number\"))\n",
    "b =int(input(\"Enter the second Number\"))\n",
    "if a>b:\n",
    "    print(\"a is greater\")\n",
    "else:\n",
    "    print(\"b is greater\")"
   ]
  },
  {
   "cell_type": "markdown",
   "id": "92399a1e-75a7-44ae-98dd-ccf76a82d4c0",
   "metadata": {},
   "source": [
    "## @Program for 3 Number"
   ]
  },
  {
   "cell_type": "code",
   "execution_count": 5,
   "id": "86c6df18-3583-4034-8fb5-764b7f00e57e",
   "metadata": {},
   "outputs": [
    {
     "name": "stdin",
     "output_type": "stream",
     "text": [
      "Enter the first Number 50\n",
      "Enter the second Number 40\n",
      "Enter the third Number 30\n"
     ]
    },
    {
     "name": "stdout",
     "output_type": "stream",
     "text": [
      "a is greater\n",
      "c is greater\n"
     ]
    }
   ],
   "source": [
    "a =int(input(\"Enter the first Number\"))\n",
    "b =int(input(\"Enter the second Number\"))\n",
    "c =int(input(\"Enter the third Number\"))\n",
    "if a>b and a>c:\n",
    "    print(\"a is greater\")\n",
    "if b>a and b>c :\n",
    "   print(\"b is greater\")\n",
    "else:\n",
    "    print (\"c is greater\")"
   ]
  },
  {
   "cell_type": "markdown",
   "id": "8aaa00e8-f564-421e-bac7-9a4ab16328a0",
   "metadata": {},
   "source": [
    "# @Swapping Programs"
   ]
  },
  {
   "cell_type": "code",
   "execution_count": 12,
   "id": "d950e1d8-2bf4-49a5-983d-fb27df3f64c1",
   "metadata": {},
   "outputs": [
    {
     "name": "stdin",
     "output_type": "stream",
     "text": [
      "Enter the First Number: 20\n",
      "Enter the Second Number 30\n"
     ]
    },
    {
     "name": "stdout",
     "output_type": "stream",
     "text": [
      "30 20\n"
     ]
    }
   ],
   "source": [
    "a=int(input(\"Enter the First Number:\"))\n",
    "b=int(input(\"Enter the Second Number\"))\n",
    "temp=a\n",
    "a=b\n",
    "b=temp\n",
    "print(a,b)"
   ]
  },
  {
   "cell_type": "code",
   "execution_count": 16,
   "id": "e974f12d-a3ce-4da5-aec3-43378e416e11",
   "metadata": {},
   "outputs": [
    {
     "name": "stdin",
     "output_type": "stream",
     "text": [
      "Enter the First Number: 40\n",
      "Enter the Second Number: 30\n"
     ]
    },
    {
     "name": "stdout",
     "output_type": "stream",
     "text": [
      "30 40\n"
     ]
    }
   ],
   "source": [
    "a=int(input(\"Enter the First Number:\"))\n",
    "b=int(input(\"Enter the Second Number:\"))\n",
    "a=(a+b)\n",
    "b=(a-b)\n",
    "a=(a-b)\n",
    "print(a,b)"
   ]
  },
  {
   "cell_type": "markdown",
   "id": "d4275a0f-aee7-4a8b-b1a9-f478f1af0e40",
   "metadata": {},
   "source": [
    "## @Program of Circle"
   ]
  },
  {
   "cell_type": "code",
   "execution_count": 29,
   "id": "eb316eb2-c61b-4e1a-b9a1-8f5cfe62afb0",
   "metadata": {},
   "outputs": [
    {
     "name": "stdin",
     "output_type": "stream",
     "text": [
      "Enter the radius: 50\n",
      "Enter the Number: 40\n",
      "Enter the Number: 30\n"
     ]
    },
    {
     "name": "stdout",
     "output_type": "stream",
     "text": [
      "Point on the circle\n",
      "Point outside the circle\n"
     ]
    }
   ],
   "source": [
    "radius=float(input(\"Enter the radius:\"))\n",
    "x1=int(input(\"Enter the Number:\"))\n",
    "y1=int(input(\"Enter the Number:\"))\n",
    "distance = (((0-y1)**2)+((0-x1)**2))**0.5\n",
    "if distance == radius :\n",
    "    print(\"Point on the circle\")\n",
    "if distance<radius :\n",
    "    print(\"Point inside the circle\")\n",
    "else :\n",
    "    print(\"Point outside the circle\")\n",
    "    \n"
   ]
  },
  {
   "cell_type": "markdown",
   "id": "91ee360b-9c5e-4f15-a870-fb223ede0698",
   "metadata": {},
   "source": [
    "## @WAP to find the no. is neutral ,negative or positive"
   ]
  },
  {
   "cell_type": "code",
   "execution_count": 2,
   "id": "8846db70-e5d5-4c6a-9fe4-f9f04c16559f",
   "metadata": {},
   "outputs": [
    {
     "name": "stdin",
     "output_type": "stream",
     "text": [
      "Enter the first number : -4\n"
     ]
    },
    {
     "name": "stdout",
     "output_type": "stream",
     "text": [
      "Number is Negative\n"
     ]
    }
   ],
   "source": [
    "a = int(input(\"Enter the first number :\"))\n",
    "if a>0 :\n",
    "    print(\"Number is Positive\")\n",
    "elif a<0 :\n",
    "    print(\"Number is Negative\")\n",
    "else:\n",
    "    print(\"Number is Neutral\")"
   ]
  },
  {
   "cell_type": "markdown",
   "id": "8bfa4ba9-70b6-4af7-8c3c-bcf1ac586706",
   "metadata": {},
   "source": [
    "## @WAP that person is eligible or not for voting"
   ]
  },
  {
   "cell_type": "code",
   "execution_count": 37,
   "id": "b7737a24-c639-4261-b3d9-12a6f142fb33",
   "metadata": {},
   "outputs": [
    {
     "name": "stdin",
     "output_type": "stream",
     "text": [
      "Enter the age of person:  16\n"
     ]
    },
    {
     "name": "stdout",
     "output_type": "stream",
     "text": [
      "Person is not eligible for voting\n"
     ]
    }
   ],
   "source": [
    "age=int(input(\"Enter the age of person: \"))\n",
    "if age>18 :\n",
    "    print(\"Person is eligible for voting\")\n",
    "else :\n",
    "    print(\"Person is not eligible for voting\")"
   ]
  },
  {
   "cell_type": "markdown",
   "id": "189671d1-8f38-4efe-aaf0-4d7b7ec477e1",
   "metadata": {},
   "source": [
    "# #if-------elif--------else"
   ]
  },
  {
   "cell_type": "markdown",
   "id": "359a3ab1-c4dc-4120-8dfe-b6e822a8683f",
   "metadata": {},
   "source": [
    "## @WAP of find greater number between 4 numbers "
   ]
  },
  {
   "cell_type": "code",
   "execution_count": 6,
   "id": "63711c74-7fb6-46ae-9f21-c34dd0c61685",
   "metadata": {},
   "outputs": [
    {
     "name": "stdin",
     "output_type": "stream",
     "text": [
      "Enter the first number : 30\n",
      "Enter the second number: 20\n",
      "Enter the third number : 40\n",
      "Enter the forth number : 35\n"
     ]
    },
    {
     "name": "stdout",
     "output_type": "stream",
     "text": [
      "c is greater\n"
     ]
    }
   ],
   "source": [
    "a = int(input(\"Enter the first number :\"))\n",
    "b = int(input(\"Enter the second number:\"))\n",
    "c = int(input(\"Enter the third number :\"))\n",
    "d = int(input(\"Enter the forth number :\"))\n",
    "if a>b and a>c and a>d :\n",
    "    print(\"a is greater\")\n",
    "elif b>a and b>c and b>d :\n",
    "    print(\"b is greater\")\n",
    "elif c>a and c>b and c>d :\n",
    "    print (\"c is greater\")\n",
    "else :\n",
    "    print (\"d is greater\")\n"
   ]
  },
  {
   "cell_type": "markdown",
   "id": "42048fab-6220-4154-afd3-a73353f9e5f5",
   "metadata": {},
   "source": [
    "## @WAP to calculate total salary"
   ]
  },
  {
   "cell_type": "code",
   "execution_count": 22,
   "id": "94a8bb74-ccd3-4b90-80ba-f0b083c98c1e",
   "metadata": {},
   "outputs": [
    {
     "name": "stdin",
     "output_type": "stream",
     "text": [
      "enter the sales 150000\n"
     ]
    },
    {
     "name": "stdout",
     "output_type": "stream",
     "text": [
      "the salary is: 25700.0\n"
     ]
    }
   ],
   "source": [
    "basic_salary = 4000\n",
    "sales =float(input(\"enter the sales\"))\n",
    "if sales>=100000 :\n",
    "   hra = 0.2*4000\n",
    "   DA = 1.1*4000\n",
    "   con = 500\n",
    "   incentives = 0.1*sales\n",
    "   Bonus = 1000\n",
    "else:\n",
    "    hra = 0.1*4000\n",
    "    DA = 1.1*4000\n",
    "    con = 500\n",
    "    incentives = 0.04*sales\n",
    "    Bones = 500\n",
    "total_salary = basic_salary+hra+DA+con+incentives+Bonus\n",
    "print(\"the salary is:\", total_salary)"
   ]
  },
  {
   "cell_type": "markdown",
   "id": "6687ce9c-1ccf-4de7-aeb3-d757389fbbc3",
   "metadata": {},
   "source": [
    "## @Program of person is adult and drink alcohol"
   ]
  },
  {
   "cell_type": "code",
   "execution_count": 50,
   "id": "2e68aeb2-cab7-43d1-8e7c-9420ec4ddcb9",
   "metadata": {},
   "outputs": [
    {
     "name": "stdin",
     "output_type": "stream",
     "text": [
      "Enter the age 19\n"
     ]
    },
    {
     "name": "stdout",
     "output_type": "stream",
     "text": [
      "Person is adult but do not eligible to drink the alcohol\n"
     ]
    }
   ],
   "source": [
    "age= int(input(\"Enter the age\"))\n",
    "if age>=18 :\n",
    "    if age>=21 :\n",
    "        print(\"Person is adult and eligible to drink the alcohol\")\n",
    "    else:\n",
    "        print(\"Person is adult but do not eligible to drink the alcohol\")\n",
    "else:\n",
    "    print(\"Person is not adult and not eligible to drink alcohol\")"
   ]
  },
  {
   "cell_type": "markdown",
   "id": "eb6425da-caa6-473a-b1de-30140c89bea1",
   "metadata": {},
   "source": [
    "## @WAP to takes marks of 5 subject and grade it by percentage "
   ]
  },
  {
   "cell_type": "code",
   "execution_count": 59,
   "id": "17751747-2d71-4b0b-9632-1c3bb89620e1",
   "metadata": {},
   "outputs": [
    {
     "name": "stdin",
     "output_type": "stream",
     "text": [
      "Enter the marks of 1st subject:  70\n",
      "Enter the marks of 2nd subject:  80\n",
      "Enter the marks of 3rd subject:  60\n",
      "Enter the marks of 4th subject:  70\n",
      "Enter the marks of 5th subject:  75\n"
     ]
    },
    {
     "name": "stdout",
     "output_type": "stream",
     "text": [
      "Student got B grade\n"
     ]
    }
   ],
   "source": [
    "s1=float(input(\"Enter the marks of 1st subject: \"))\n",
    "s2=float(input(\"Enter the marks of 2nd subject: \"))\n",
    "s3=float(input(\"Enter the marks of 3rd subject: \"))\n",
    "s4=float(input(\"Enter the marks of 4th subject: \"))\n",
    "s5=float(input(\"Enter the marks of 5th subject: \"))\n",
    "total_marks = 500\n",
    "obtain_marks = s1+s2+s3+s4+s5\n",
    "Percentage = (obtain_marks/ total_marks)*100\n",
    "if Percentage > 90:\n",
    "    print(\"Student got A+ grade\")\n",
    "elif Percentage<=90 and Percentage>80:\n",
    "    print(\"Student got A grade\")\n",
    "elif Percentage<=80 and Percentage>70:\n",
    "    print (\"Student got B grade\")\n",
    "elif Percentage<=70 and Percentage>60:\n",
    "    print(\"Student got C grade\")\n",
    "elif Percentage<=60 and Percentage>50:\n",
    "    print(\"Student got D grade\")\n",
    "else:\n",
    "    print (\" Student is Fail\")"
   ]
  },
  {
   "cell_type": "markdown",
   "id": "9a00b27f-af31-4f4f-98c6-38d4fc244654",
   "metadata": {},
   "source": [
    "# #Nested if"
   ]
  },
  {
   "cell_type": "markdown",
   "id": "a4c3d171-a9ed-4095-8dd6-a416af179edd",
   "metadata": {},
   "source": [
    "## @input is divisible by 5 and 10"
   ]
  },
  {
   "cell_type": "code",
   "execution_count": 102,
   "id": "f82c348c-b259-45ec-8c4c-6b5ec814c1ce",
   "metadata": {},
   "outputs": [
    {
     "name": "stdin",
     "output_type": "stream",
     "text": [
      "Enter the Number: 40\n"
     ]
    },
    {
     "name": "stdout",
     "output_type": "stream",
     "text": [
      "Number is divisible by 5 and 10\n"
     ]
    }
   ],
   "source": [
    "Number =int(input(\"Enter the Number:\"))\n",
    "if Number%5==0:\n",
    "    if Number%10==0:\n",
    "        print(\"Number is divisible by 5 and 10\")\n",
    "    else:\n",
    "        print(\"Number is divisible by 5 but not divisible by 10\")\n",
    "else:\n",
    "    print(\"Number is not divisible by both\")"
   ]
  },
  {
   "cell_type": "markdown",
   "id": "caa91f92-b009-418a-86c1-aa61c706c50e",
   "metadata": {},
   "source": [
    "# #Iterative Approach"
   ]
  },
  {
   "cell_type": "markdown",
   "id": "785082b0-0f9a-433c-87f1-32a2e006d17f",
   "metadata": {},
   "source": [
    "# @while loop"
   ]
  },
  {
   "cell_type": "raw",
   "id": "7c12eb38-9dec-44ab-8c2d-f3005d4bde61",
   "metadata": {},
   "source": [
    "#Iterative Approach (Loop) repetative statements:\n",
    "  - Whenever we want to execute the specific block of the code the we will go for this approach.\n",
    "    1.while loop\n",
    "    2.for loop\n",
    "   we need to find out 3 steps\n",
    "   i. Initialization  i=0\n",
    "  ii. Termination condition -> how to repeat\n",
    " iii. Updation -> Getting update the number\n",
    "  -whenever we are using the loop then that approach is called iterative approach\n",
    "\n",
    "Programs: while loop:\n",
    "Syntax:\n",
    "  while condition:\n",
    "     while body\n"
   ]
  },
  {
   "cell_type": "code",
   "execution_count": 13,
   "id": "e3a2ce4b-d7ff-46c8-9c0c-987c7c71dce7",
   "metadata": {},
   "outputs": [
    {
     "name": "stdout",
     "output_type": "stream",
     "text": [
      "Hello\n",
      "Hello\n",
      "Hello\n",
      "Hello\n",
      "Hello\n",
      "Hello\n",
      "Hello\n",
      "Hello\n",
      "Hello\n",
      "Hello\n"
     ]
    }
   ],
   "source": [
    "i=1\n",
    "while i<=10:\n",
    "    print(\"Hello\")\n",
    "    i+=1"
   ]
  },
  {
   "cell_type": "markdown",
   "id": "e3214b77-fab3-428c-b7cf-694b390a9fab",
   "metadata": {},
   "source": [
    "## @WAP to print 1 to 10"
   ]
  },
  {
   "cell_type": "code",
   "execution_count": 4,
   "id": "3eb24432-3cfb-4796-883c-0ffad8b46471",
   "metadata": {},
   "outputs": [
    {
     "name": "stdout",
     "output_type": "stream",
     "text": [
      "1\n",
      "2\n",
      "3\n",
      "4\n",
      "5\n",
      "6\n",
      "7\n",
      "8\n",
      "9\n",
      "10\n"
     ]
    }
   ],
   "source": [
    "i= 1\n",
    "while i<=10:\n",
    "    print(i)\n",
    "    i+=1"
   ]
  },
  {
   "cell_type": "markdown",
   "id": "e8ba87eb-72ba-46e1-ad79-4e41ae800cb9",
   "metadata": {},
   "source": [
    "## @WAP to print 10 to 1"
   ]
  },
  {
   "cell_type": "code",
   "execution_count": 8,
   "id": "69ba8d7d-413e-429e-a455-7238f6ca9f17",
   "metadata": {},
   "outputs": [
    {
     "name": "stdout",
     "output_type": "stream",
     "text": [
      "10\n",
      "9\n",
      "8\n",
      "7\n",
      "6\n",
      "5\n",
      "4\n",
      "3\n",
      "2\n",
      "1\n"
     ]
    }
   ],
   "source": [
    "i= 10\n",
    "while i>=1:\n",
    "   print(i)\n",
    "   i-=1"
   ]
  },
  {
   "cell_type": "markdown",
   "id": "4f31f575-9795-4aca-a72d-fce031ddc653",
   "metadata": {},
   "source": [
    "## @WAP to print the number"
   ]
  },
  {
   "cell_type": "code",
   "execution_count": 15,
   "id": "ecb749cf-623b-4e01-a3f0-e973d5b0d34a",
   "metadata": {},
   "outputs": [
    {
     "name": "stdout",
     "output_type": "stream",
     "text": [
      "2\n",
      "3\n",
      "4\n",
      "5\n",
      "6\n",
      "7\n",
      "8\n",
      "9\n",
      "10\n",
      "11\n"
     ]
    }
   ],
   "source": [
    "i=1\n",
    "while i<=10:\n",
    "    i+=1\n",
    "    print(i)"
   ]
  },
  {
   "cell_type": "markdown",
   "id": "f23dbcf7-adbd-404e-99f6-1c8b746ca488",
   "metadata": {},
   "source": [
    "## @WAP that is if 0 is input then program end"
   ]
  },
  {
   "cell_type": "code",
   "execution_count": 2,
   "id": "8ba4438c-8ca9-4937-957a-6ff4f9242981",
   "metadata": {},
   "outputs": [
    {
     "name": "stdin",
     "output_type": "stream",
     "text": [
      "Enter any number 3\n"
     ]
    },
    {
     "name": "stdout",
     "output_type": "stream",
     "text": [
      "3\n"
     ]
    },
    {
     "name": "stdin",
     "output_type": "stream",
     "text": [
      "Enter any number2 77\n"
     ]
    },
    {
     "name": "stdout",
     "output_type": "stream",
     "text": [
      "77\n"
     ]
    },
    {
     "name": "stdin",
     "output_type": "stream",
     "text": [
      "Enter any number2 0\n"
     ]
    },
    {
     "name": "stdout",
     "output_type": "stream",
     "text": [
      "Over\n"
     ]
    }
   ],
   "source": [
    "a = int(input(\"Enter any number\"))\n",
    "while a!= 0:\n",
    "    print(a)\n",
    "    a = int(input(\"Enter any number2\"))\n",
    "print(\"Over\")"
   ]
  },
  {
   "cell_type": "markdown",
   "id": "9030b23a-6f3f-43aa-9cca-5b6d61245397",
   "metadata": {},
   "source": [
    "## @WAP to print first 10 number addition"
   ]
  },
  {
   "cell_type": "code",
   "execution_count": 19,
   "id": "9681b750-bbc3-4e6a-89e1-4c29555814cf",
   "metadata": {},
   "outputs": [
    {
     "name": "stdout",
     "output_type": "stream",
     "text": [
      "55\n"
     ]
    }
   ],
   "source": [
    "i=1\n",
    "sum=0\n",
    "while i<=10:\n",
    "    sum = sum+i\n",
    "    i+=1\n",
    "print(sum)"
   ]
  },
  {
   "cell_type": "markdown",
   "id": "2a4e480a-587e-48cc-a15d-5a901344f88f",
   "metadata": {},
   "source": [
    "## @Multiplication Program"
   ]
  },
  {
   "cell_type": "code",
   "execution_count": 21,
   "id": "31585756-e6bc-476e-94e6-8aac71250391",
   "metadata": {},
   "outputs": [
    {
     "name": "stdin",
     "output_type": "stream",
     "text": [
      "Enter any number: 5\n"
     ]
    },
    {
     "name": "stdout",
     "output_type": "stream",
     "text": [
      "25\n"
     ]
    }
   ],
   "source": [
    "n=int(input(\"Enter any number:\"))\n",
    "i = 1\n",
    "mul = 1\n",
    "while i<=n:\n",
    "    mul = n*i\n",
    "    i+=1\n",
    "print(mul)"
   ]
  },
  {
   "cell_type": "markdown",
   "id": "3db36720-2e89-49f5-b8d6-b728453c9741",
   "metadata": {},
   "source": [
    "## WAP to print addition of Even number "
   ]
  },
  {
   "cell_type": "code",
   "execution_count": 23,
   "id": "a2119634-62b1-4ba4-b0c4-89e735c5028a",
   "metadata": {},
   "outputs": [
    {
     "name": "stdin",
     "output_type": "stream",
     "text": [
      "Enter any Number: 20\n"
     ]
    },
    {
     "name": "stdout",
     "output_type": "stream",
     "text": [
      "110\n"
     ]
    }
   ],
   "source": [
    "n=int(input(\"Enter any Number:\"))\n",
    "i=2\n",
    "sum=0\n",
    "while i<=n:\n",
    "    sum = sum+i\n",
    "    i+=2\n",
    "print(sum)"
   ]
  },
  {
   "cell_type": "markdown",
   "id": "b6e73014-07d1-498f-9986-b22259ca4949",
   "metadata": {},
   "source": [
    "## @WAP to print multiplication of even number"
   ]
  },
  {
   "cell_type": "code",
   "execution_count": 25,
   "id": "157a9bf3-d267-4dcb-a8f8-f1de50ff279d",
   "metadata": {},
   "outputs": [
    {
     "name": "stdin",
     "output_type": "stream",
     "text": [
      "Enter any Number: 20\n"
     ]
    },
    {
     "name": "stdout",
     "output_type": "stream",
     "text": [
      "400\n"
     ]
    }
   ],
   "source": [
    "n=int(input(\"Enter any Number:\"))\n",
    "i=2\n",
    "mul=1\n",
    "while i<=n:\n",
    "    mul= i*n\n",
    "    i+=2\n",
    "print(mul)"
   ]
  },
  {
   "cell_type": "markdown",
   "id": "48449049-9066-4cce-bb12-66827b3a9e0c",
   "metadata": {},
   "source": [
    "## @WAP to print addition of odd number "
   ]
  },
  {
   "cell_type": "code",
   "execution_count": 27,
   "id": "36b81310-c2a0-4734-a264-47fbc3877216",
   "metadata": {},
   "outputs": [
    {
     "name": "stdin",
     "output_type": "stream",
     "text": [
      "Enter any Number: 10\n"
     ]
    },
    {
     "name": "stdout",
     "output_type": "stream",
     "text": [
      "25\n"
     ]
    }
   ],
   "source": [
    "n=int(input(\"Enter any Number:\"))\n",
    "i=1\n",
    "sum=0\n",
    "while i<=n:\n",
    "    sum = sum+i\n",
    "    i+=2\n",
    "print(sum)"
   ]
  },
  {
   "cell_type": "markdown",
   "id": "58862b49-2e33-4833-9f64-a6dcc33cbc61",
   "metadata": {},
   "source": [
    "## @WAP to print event number between the n number"
   ]
  },
  {
   "cell_type": "code",
   "execution_count": 29,
   "id": "68bb5d0c-a720-47da-be66-9916116809f3",
   "metadata": {},
   "outputs": [
    {
     "name": "stdin",
     "output_type": "stream",
     "text": [
      "Enter any Number: 10\n"
     ]
    },
    {
     "name": "stdout",
     "output_type": "stream",
     "text": [
      "2\n",
      "4\n",
      "6\n",
      "8\n",
      "10\n"
     ]
    }
   ],
   "source": [
    "n=int(input(\"Enter any Number:\"))\n",
    "i=2\n",
    "while i<=n:\n",
    "    print(i)\n",
    "    i+=2"
   ]
  },
  {
   "cell_type": "markdown",
   "id": "29370691-107b-4d95-96a9-4e0516996b8c",
   "metadata": {},
   "source": [
    "## @WAP to Print the number which is divisible by 3 in the n number"
   ]
  },
  {
   "cell_type": "code",
   "execution_count": 2,
   "id": "b1b4150b-eff1-4409-a1d0-588b5c0a18f3",
   "metadata": {},
   "outputs": [
    {
     "name": "stdin",
     "output_type": "stream",
     "text": [
      "Enter any Number: 30\n"
     ]
    },
    {
     "name": "stdout",
     "output_type": "stream",
     "text": [
      "3\n",
      "6\n",
      "9\n",
      "12\n",
      "15\n",
      "18\n",
      "21\n",
      "24\n",
      "27\n",
      "30\n"
     ]
    }
   ],
   "source": [
    "n=int(input(\"Enter any Number:\"))\n",
    "i=1\n",
    "while i<=n:\n",
    "    if i%3==0:\n",
    "        print(i)\n",
    "    i+=1"
   ]
  },
  {
   "cell_type": "markdown",
   "id": "816fc0c2-9755-4661-b840-98acfd6a88d6",
   "metadata": {},
   "source": [
    "## @WAP to given number is divisible by 5 and 10"
   ]
  },
  {
   "cell_type": "code",
   "execution_count": 4,
   "id": "57adcf4a-0474-4a45-a45d-273af5a9d8ed",
   "metadata": {},
   "outputs": [
    {
     "name": "stdin",
     "output_type": "stream",
     "text": [
      "Enter any number 50\n"
     ]
    },
    {
     "name": "stdout",
     "output_type": "stream",
     "text": [
      "10\n",
      "20\n",
      "30\n",
      "40\n",
      "50\n"
     ]
    }
   ],
   "source": [
    "n=int(input(\"Enter any number\"))\n",
    "i=1\n",
    "while i<=n:\n",
    "    if i%5==0 and i%10==0 :\n",
    "        print(i)\n",
    "    i+=1"
   ]
  },
  {
   "cell_type": "markdown",
   "id": "a4c05303-f07d-4366-b7b0-b356a960996b",
   "metadata": {},
   "source": [
    "## @WAP to addition of given number digit"
   ]
  },
  {
   "cell_type": "code",
   "execution_count": 8,
   "id": "f0417d35-3b87-4bf2-9143-80e477ddf709",
   "metadata": {},
   "outputs": [
    {
     "name": "stdin",
     "output_type": "stream",
     "text": [
      "Enter any number 123\n"
     ]
    },
    {
     "name": "stdout",
     "output_type": "stream",
     "text": [
      "6\n"
     ]
    }
   ],
   "source": [
    "n = int(input(\"Enter any number\"))\n",
    "sum = 0\n",
    "while n!=0:\n",
    "    sum=sum+(n%10)\n",
    "    n = n//10\n",
    "print(sum)"
   ]
  },
  {
   "cell_type": "markdown",
   "id": "95a25819-7365-4a68-ada9-ffd13418689e",
   "metadata": {},
   "source": [
    "## @WAP to reversed the given number"
   ]
  },
  {
   "cell_type": "code",
   "execution_count": 30,
   "id": "be703a02-8339-46c9-afb8-c33bed5d58f9",
   "metadata": {},
   "outputs": [
    {
     "name": "stdin",
     "output_type": "stream",
     "text": [
      "Enter any number 328\n"
     ]
    },
    {
     "name": "stdout",
     "output_type": "stream",
     "text": [
      "823\n"
     ]
    }
   ],
   "source": [
    "n = int(input(\"Enter any number\"))\n",
    "a=0\n",
    "while n!=0:\n",
    "    a= a*10+(n%10) \n",
    "    n=n//10\n",
    "print(a)"
   ]
  },
  {
   "cell_type": "markdown",
   "id": "2f419465-e8e3-40db-ba71-ae8f3459ec06",
   "metadata": {},
   "source": [
    "## @WAP to print Prime Number"
   ]
  },
  {
   "cell_type": "code",
   "execution_count": 12,
   "id": "f6ba481e-cb39-4191-b8ea-de5421d59c4a",
   "metadata": {},
   "outputs": [
    {
     "name": "stdin",
     "output_type": "stream",
     "text": [
      "Enter any Number 32\n"
     ]
    },
    {
     "name": "stdout",
     "output_type": "stream",
     "text": [
      "not a prime number\n"
     ]
    }
   ],
   "source": [
    "n = int(input(\"Enter any Number\"))\n",
    "i= 2\n",
    "d =False\n",
    "while i<n:\n",
    "    if n%i==0:\n",
    "        d =True\n",
    "    i+=1 \n",
    "if d == False :\n",
    "    print(\"Number is Prime number\")\n",
    "else:\n",
    "    print(\"not a prime number\")\n",
    "    "
   ]
  },
  {
   "cell_type": "code",
   "execution_count": 18,
   "id": "e3879f16-8e28-4d99-abbd-c7b96bd7413c",
   "metadata": {},
   "outputs": [
    {
     "name": "stdin",
     "output_type": "stream",
     "text": [
      "Enter any Number 10\n"
     ]
    }
   ],
   "source": [
    "n = int (input(\"Enter any Number\"))\n",
    "i= 2\n",
    "d =False\n",
    "while i<n:\n",
    "    if n%i==0:\n",
    "        d =True\n",
    "    i+=1\n",
    "if d==False:\n",
    "    print(i)\n",
    "else:\n",
    "    i+=1"
   ]
  },
  {
   "cell_type": "code",
   "execution_count": 12,
   "id": "693f3542-2b9a-4d36-952d-30b154ff8089",
   "metadata": {},
   "outputs": [
    {
     "data": {
      "text/plain": [
       "1"
      ]
     },
     "execution_count": 12,
     "metadata": {},
     "output_type": "execute_result"
    }
   ],
   "source": [
    "100%3"
   ]
  },
  {
   "cell_type": "code",
   "execution_count": 3,
   "id": "f7f5fd76-012c-4af4-8c70-35602b1b6ea8",
   "metadata": {},
   "outputs": [
    {
     "name": "stdout",
     "output_type": "stream",
     "text": [
      "* * * * * \n",
      "* * * * * \n",
      "* * * * * \n",
      "* * * * * \n",
      "* * * * * \n"
     ]
    }
   ],
   "source": [
    "n=5\n",
    "for i in range(n):\n",
    "    for j in range(n):\n",
    "        print(\"*\",end=' ')\n",
    "    print()"
   ]
  },
  {
   "cell_type": "code",
   "execution_count": 5,
   "id": "3d7d2a81-3a42-4124-9e49-d4c836824e0a",
   "metadata": {},
   "outputs": [
    {
     "name": "stdout",
     "output_type": "stream",
     "text": [
      "\n",
      "1\n",
      "22\n",
      "333\n",
      "4444\n",
      "55555\n"
     ]
    }
   ],
   "source": [
    "n=5\n",
    "for i in range(n+1):\n",
    "    for j in range(i):\n",
    "        print(i,end='')\n",
    "    print()"
   ]
  },
  {
   "cell_type": "code",
   "execution_count": 7,
   "id": "2abd9e35-f023-43b5-bae2-6ac0cdae95e0",
   "metadata": {},
   "outputs": [
    {
     "name": "stdout",
     "output_type": "stream",
     "text": [
      "55555\n",
      "4444\n",
      "333\n",
      "22\n",
      "1\n"
     ]
    }
   ],
   "source": [
    "n=5\n",
    "for i in range(n,0,-1):\n",
    "    for j in range(i):\n",
    "        print(i,end='')\n",
    "    print()"
   ]
  },
  {
   "cell_type": "markdown",
   "id": "6dd27573-7c5a-4164-b539-589fdb26ecee",
   "metadata": {},
   "source": [
    "## #While with else"
   ]
  },
  {
   "cell_type": "raw",
   "id": "9d211ee8-39fc-48ab-8f0d-1a0d6c4f58cf",
   "metadata": {},
   "source": [
    "Syntax:\n",
    "   while condition:\n",
    "       while body\n",
    "   else:\n",
    "       else body\n",
    "-The else block code is executed when the while condition is false\n",
    "-if the while condition is True it will not goes to else block"
   ]
  },
  {
   "cell_type": "code",
   "execution_count": 5,
   "id": "52d2068c-fdb0-4aef-84e7-b0c231a7af6e",
   "metadata": {},
   "outputs": [
    {
     "name": "stdout",
     "output_type": "stream",
     "text": [
      "1\n",
      "2\n",
      "3\n",
      "4\n",
      "5\n",
      "6\n",
      "7\n",
      "8\n",
      "9\n",
      "10\n",
      "stop here\n"
     ]
    }
   ],
   "source": [
    "i=1\n",
    "while i<=10:\n",
    "    print(i)\n",
    "    i+=1\n",
    "else:\n",
    "    print(\"stop here\")\n"
   ]
  },
  {
   "cell_type": "code",
   "execution_count": 17,
   "id": "a9392454-5e56-4dfe-921b-d88781aac51d",
   "metadata": {},
   "outputs": [
    {
     "name": "stdout",
     "output_type": "stream",
     "text": [
      "2\n",
      "3\n",
      "4\n",
      "5\n",
      "1\n",
      "2\n",
      "3\n",
      "4\n",
      "5\n",
      "6\n",
      "7\n",
      "8\n",
      "9\n",
      "10\n"
     ]
    }
   ],
   "source": [
    "i=1\n",
    "j=2\n",
    "while i<=10:\n",
    "    while j<=5:\n",
    "        print(j)\n",
    "        j+=1\n",
    "    print(i)\n",
    "    i+=1"
   ]
  },
  {
   "cell_type": "markdown",
   "id": "5d0ab582-3b88-4826-89dc-5ec736fc9d5e",
   "metadata": {},
   "source": [
    "# #for loop"
   ]
  },
  {
   "cell_type": "raw",
   "id": "d0b664fb-0ddb-46c6-8adf-0d64ef5a0bc5",
   "metadata": {},
   "source": [
    "-It is used for iterating over the sequence iterative == trasverse=__visit the number in sequence\n",
    "-sequence:list,tuple,set,dictionary\n",
    "-working for a loop is same as while loop but the implementation is different.\n",
    "Syntax:\n",
    "    for element in sequence:\n",
    "       body of for\n",
    "element:iterator,who is going to iterate the sequence\n",
    "-The working of while loop and for loop is same but the implimentation is different.\n",
    "-No. of comparision of while loop and for loop are same over the same sequence.\n",
    "\n",
    "Range function:\n",
    "   - It will print the value in specific range.\n",
    "     for i in range(1,10,1)\n",
    "         print(i)\n",
    "   -By default the stepsize is 1\n",
    "     range(start step(initialization),end step(condition),step size(updation))\n",
    "   -By default start with 0\n",
    "   -End step is mandatory step and u need to specify it.other vise compiler will not understand where u have to stop.\n",
    "\n"
   ]
  },
  {
   "cell_type": "markdown",
   "id": "9687dffd-303f-4de1-8af7-cc8bdade4bf4",
   "metadata": {},
   "source": [
    "## @break"
   ]
  },
  {
   "cell_type": "raw",
   "id": "cc8b1e85-23fb-4973-8880-f8e3eabb416e",
   "metadata": {},
   "source": [
    "-It is unconditional statement\n",
    "-It will execute without checking any condition\n",
    "-once the break statements is encountered the printer/cursor automatically comesout of the scope and it will points first statements after scope\n"
   ]
  },
  {
   "cell_type": "code",
   "execution_count": 24,
   "id": "1679940c-0d72-4ec2-b731-9bfdb93ee48d",
   "metadata": {},
   "outputs": [
    {
     "name": "stdin",
     "output_type": "stream",
     "text": [
      "Enter any number 17\n"
     ]
    },
    {
     "name": "stdout",
     "output_type": "stream",
     "text": [
      "Number is a Prime Number\n"
     ]
    }
   ],
   "source": [
    "a= int(input(\"Enter any number\"))\n",
    "b= False\n",
    "for i in range(2,a):\n",
    "    if a%i==0:\n",
    "        b=True\n",
    "        break;\n",
    "if b== False:\n",
    "    print(\"Number is a Prime Number\")\n",
    "else:\n",
    "    print(\"Number is not a Prime Number\")\n",
    "    "
   ]
  },
  {
   "cell_type": "code",
   "execution_count": 28,
   "id": "0196efda-b7ff-48b0-847a-16208ab29fcf",
   "metadata": {},
   "outputs": [
    {
     "name": "stdin",
     "output_type": "stream",
     "text": [
      "Enter any Number 28\n"
     ]
    },
    {
     "name": "stdout",
     "output_type": "stream",
     "text": [
      "The number is a perfect Number\n"
     ]
    }
   ],
   "source": [
    "a= int(input(\"Enter any Number\"))\n",
    "sum = 0\n",
    "for i in range(1,a):\n",
    "    if (a%i==0):\n",
    "        sum = sum + i\n",
    "if (sum==a):\n",
    "    print(\"The number is a perfect Number\")\n",
    "else:\n",
    "    print(\"The number is not a perfect Number\")"
   ]
  },
  {
   "cell_type": "code",
   "execution_count": 30,
   "id": "eee1f89e-ab85-47df-b9c3-cf918767e074",
   "metadata": {},
   "outputs": [
    {
     "name": "stdin",
     "output_type": "stream",
     "text": [
      "Enter any Number 153\n"
     ]
    },
    {
     "name": "stdout",
     "output_type": "stream",
     "text": [
      "armstrong number\n"
     ]
    }
   ],
   "source": [
    "n=int(input(\"Enter any Number\"))\n",
    "temp = n\n",
    "sum = 0\n",
    "for i in range(1,temp+1):\n",
    "    r=temp% 10\n",
    "    sum = sum + (r*r*r)\n",
    "    temp = temp // 10\n",
    "if sum == n:\n",
    "    print(\"armstrong number\")\n",
    "else:\n",
    "    print(\"not armstrong Number\")"
   ]
  },
  {
   "cell_type": "markdown",
   "id": "62d26ce2-bdae-408c-aa0d-0865ecc6e192",
   "metadata": {},
   "source": [
    "# #Continue"
   ]
  },
  {
   "cell_type": "raw",
   "id": "63fe8527-0f77-4b12-9767-6e06cf54e3d8",
   "metadata": {},
   "source": [
    "-It is unconditional statement\n",
    "-so we don't required to specify any condition\n",
    "-once the continue encountered the cursor goes automatically towards the first statement of the scope"
   ]
  },
  {
   "cell_type": "code",
   "execution_count": 3,
   "id": "2f143799-039b-4a97-ab2e-1a599170b32c",
   "metadata": {},
   "outputs": [
    {
     "name": "stdout",
     "output_type": "stream",
     "text": [
      "1\n",
      "3\n",
      "5\n",
      "7\n",
      "9\n",
      "Else block\n"
     ]
    }
   ],
   "source": [
    "for i in range(10):\n",
    "    if i%2==0:\n",
    "        continue\n",
    "    print(i)\n",
    "else:\n",
    "    print(\"Else block\")"
   ]
  },
  {
   "cell_type": "markdown",
   "id": "b4d6bc54-7781-456c-963f-108a02549351",
   "metadata": {},
   "source": [
    "## @WAP to find a Factorial"
   ]
  },
  {
   "cell_type": "code",
   "execution_count": 4,
   "id": "db84d017-f325-47cb-a122-e31451828487",
   "metadata": {},
   "outputs": [
    {
     "name": "stdin",
     "output_type": "stream",
     "text": [
      "Enter any Number 3\n"
     ]
    },
    {
     "name": "stdout",
     "output_type": "stream",
     "text": [
      "6\n"
     ]
    }
   ],
   "source": [
    "a = int(input(\"Enter any Number\"))\n",
    "i=1\n",
    "mul=1\n",
    "while i<=a:\n",
    "     mul=mul*i\n",
    "     i+=1\n",
    "print(mul)   "
   ]
  },
  {
   "cell_type": "code",
   "execution_count": 6,
   "id": "9ba9ecf0-3db6-433d-bc34-8425116226e7",
   "metadata": {},
   "outputs": [
    {
     "name": "stdin",
     "output_type": "stream",
     "text": [
      "Enter any Number 4\n"
     ]
    },
    {
     "name": "stdout",
     "output_type": "stream",
     "text": [
      "24\n"
     ]
    }
   ],
   "source": [
    "a = int(input(\"Enter any Number\"))\n",
    "mul=1\n",
    "for i in range(1,a+1) :\n",
    "        mul=mul*i\n",
    "        continue\n",
    "print(mul)   "
   ]
  },
  {
   "cell_type": "markdown",
   "id": "e42961d8-fba3-4ed1-954e-ad3557e410cc",
   "metadata": {},
   "source": [
    "## @WAP to write 1 to 10 except 3 and 6"
   ]
  },
  {
   "cell_type": "code",
   "execution_count": 2,
   "id": "ecdab6c2-88f3-420b-abb2-7f037b3d86ae",
   "metadata": {},
   "outputs": [
    {
     "name": "stdout",
     "output_type": "stream",
     "text": [
      "1\n",
      "2\n",
      "4\n",
      "5\n",
      "7\n",
      "8\n",
      "10\n",
      "else block\n"
     ]
    }
   ],
   "source": [
    "for i in range(11):\n",
    "   if i%3==0:\n",
    "       continue\n",
    "   print(i)\n",
    "else:\n",
    "    print(\"else block\")"
   ]
  },
  {
   "cell_type": "markdown",
   "id": "0544f6ba-4993-4cf1-bdbf-adbc2484bb51",
   "metadata": {},
   "source": [
    "# #Funtions"
   ]
  },
  {
   "cell_type": "raw",
   "id": "75a3c42b-bd70-419a-a80d-3887c2bb3754",
   "metadata": {},
   "source": [
    "-Function is a self contained block to solve a particular problem.\n",
    "-through function one we achieving the modularity function divides the larger program into small-small module\n",
    "-Function supports the reusability, once we define the function we can use it anywhere through out the program.\n",
    "Syntax:\n",
    "  def function,name(parameters):\n",
    "    function body\n",
    "Syntax:\n",
    "   function,name(arguments):\n",
    "-Function may or may not return the value \n",
    "-all the user defined function is called by the main function in a python and the main function is called by operating system.\n",
    "-for returning the value or expression from a function we required to use return statement.\n",
    "return(value/expression)\n",
    "-most of the time in case of expression only function will return\n",
    "-whenever we are writing a code using function then define it first"
   ]
  },
  {
   "cell_type": "code",
   "execution_count": 2,
   "id": "022b7091-472c-4f6b-bc33-bae7b4641501",
   "metadata": {},
   "outputs": [
    {
     "name": "stdout",
     "output_type": "stream",
     "text": [
      "Hello, How are u?\n"
     ]
    }
   ],
   "source": [
    "def my_function():\n",
    "    print(\"Hello, How are u?\")\n",
    "my_function()"
   ]
  },
  {
   "cell_type": "markdown",
   "id": "35d10ee5-cc7e-4877-a911-7a32bbd21133",
   "metadata": {},
   "source": [
    "## @WAP to print addition"
   ]
  },
  {
   "cell_type": "code",
   "execution_count": 4,
   "id": "57af2b9a-cc60-48c6-ac61-ceca0bef88a1",
   "metadata": {},
   "outputs": [
    {
     "name": "stdout",
     "output_type": "stream",
     "text": [
      "15\n"
     ]
    }
   ],
   "source": [
    "def addition(a,b):\n",
    "    sum=a+b\n",
    "    print(sum)\n",
    "addition(7,8)"
   ]
  },
  {
   "cell_type": "code",
   "execution_count": 6,
   "id": "51657e97-f982-4ce1-acb1-a8a9847b6f75",
   "metadata": {},
   "outputs": [
    {
     "name": "stdout",
     "output_type": "stream",
     "text": [
      "15\n"
     ]
    }
   ],
   "source": [
    "def addition(a,b):\n",
    "    sum=a+b\n",
    "    return sum\n",
    "print(addition(7,8))"
   ]
  },
  {
   "cell_type": "markdown",
   "id": "c3ae5e05-e850-4039-a124-3fb0a2bacc97",
   "metadata": {},
   "source": [
    "## @WAP to print Subtraction"
   ]
  },
  {
   "cell_type": "code",
   "execution_count": 8,
   "id": "0ce375b8-c593-491f-b81b-f36299b7dd08",
   "metadata": {},
   "outputs": [
    {
     "name": "stdout",
     "output_type": "stream",
     "text": [
      "5\n"
     ]
    }
   ],
   "source": [
    "def subtraction(a,b):\n",
    "    sub=a-b\n",
    "    return sub\n",
    "print(subtraction(8,3))"
   ]
  },
  {
   "cell_type": "markdown",
   "id": "38185726-335a-4e98-b5eb-5e98e78b5c19",
   "metadata": {},
   "source": [
    "## @WAP to print Multiplication"
   ]
  },
  {
   "cell_type": "code",
   "execution_count": 10,
   "id": "d840fda6-f47c-41a2-af9b-8d5fcebc8c59",
   "metadata": {},
   "outputs": [
    {
     "name": "stdout",
     "output_type": "stream",
     "text": [
      "35\n"
     ]
    }
   ],
   "source": [
    "def multiplication(a,b):\n",
    "    mul=a*b\n",
    "    return mul\n",
    "print(multiplication(5,7))"
   ]
  },
  {
   "cell_type": "markdown",
   "id": "1d372ca5-a946-4968-b0c9-1cfa6712f9a5",
   "metadata": {},
   "source": [
    "## @WAP to print Division"
   ]
  },
  {
   "cell_type": "code",
   "execution_count": 12,
   "id": "aed61249-dbf1-4c60-a89a-bc17f62c2909",
   "metadata": {},
   "outputs": [
    {
     "name": "stdout",
     "output_type": "stream",
     "text": [
      "4.0\n"
     ]
    }
   ],
   "source": [
    "def division(a,b):\n",
    "    div=a/b\n",
    "    return div\n",
    "print(division(8,2))\n"
   ]
  },
  {
   "cell_type": "markdown",
   "id": "7071569f-d385-4c1d-b469-bd00119d6ec2",
   "metadata": {},
   "source": [
    "## @WAP to print Factorial of number"
   ]
  },
  {
   "cell_type": "code",
   "execution_count": 14,
   "id": "bc2440c3-515f-43aa-8933-aa1e27cb220a",
   "metadata": {},
   "outputs": [
    {
     "name": "stdout",
     "output_type": "stream",
     "text": [
      "24\n"
     ]
    }
   ],
   "source": [
    "def factorial(n):\n",
    "    fact=1\n",
    "    for i in range(1,n+1):\n",
    "        fact=fact*i\n",
    "    return fact\n",
    "print(factorial(4))"
   ]
  },
  {
   "cell_type": "markdown",
   "id": "c758e995-a9ad-4b17-bef1-4e846cb5e36f",
   "metadata": {},
   "source": [
    "## @WAP to print addition of n number"
   ]
  },
  {
   "cell_type": "code",
   "execution_count": 16,
   "id": "d178e94c-1c81-4a60-9a55-6f0091b1e7c4",
   "metadata": {},
   "outputs": [
    {
     "name": "stdout",
     "output_type": "stream",
     "text": [
      "55\n"
     ]
    }
   ],
   "source": [
    "def addition(n):\n",
    "    add=0\n",
    "    for i in range(1,n+1):\n",
    "        add=add+i\n",
    "    return add\n",
    "print(addition(10))"
   ]
  },
  {
   "cell_type": "markdown",
   "id": "8144330d-9331-417d-8e55-6ed394fbe201",
   "metadata": {},
   "source": [
    "## @WAP to find Maximum number "
   ]
  },
  {
   "cell_type": "code",
   "execution_count": 11,
   "id": "2f003193-0b4b-49a0-83e2-71da508fa73f",
   "metadata": {},
   "outputs": [
    {
     "name": "stdout",
     "output_type": "stream",
     "text": [
      "c is maximum number\n"
     ]
    }
   ],
   "source": [
    "def maximum(a,b,c):\n",
    "    if a>b and a>c:\n",
    "        print (\"a is maximum number\")\n",
    "    if b>a and b>c:\n",
    "        print(\"b is maximum number\")\n",
    "    else:\n",
    "        print(\"c is maximum number\")\n",
    "maximum(4,7,9)"
   ]
  },
  {
   "cell_type": "markdown",
   "id": "4c794cf6-cd63-4047-ab5e-7b8e6b6f3e75",
   "metadata": {},
   "source": [
    "## @WAP to find the no. is prime or not"
   ]
  },
  {
   "cell_type": "code",
   "execution_count": 4,
   "id": "9c7a7a31-8a00-4e6d-9644-24256f1a4a51",
   "metadata": {},
   "outputs": [
    {
     "name": "stdout",
     "output_type": "stream",
     "text": [
      "Prime Number\n"
     ]
    }
   ],
   "source": [
    "def prime(n):\n",
    "    isdivisible= False\n",
    "    for i in range(2,n):\n",
    "        if n%i==0:\n",
    "            isdivisible= True\n",
    "    return isdivisible\n",
    "if prime(7)== False:\n",
    "     print(\"Prime Number\")\n",
    "else:\n",
    "    print(\"Not a prime number\")"
   ]
  },
  {
   "cell_type": "markdown",
   "id": "e3e4fd8c-608e-49aa-bc91-9a9939f5024f",
   "metadata": {},
   "source": [
    "## @WAP of multiplication of 2 number"
   ]
  },
  {
   "cell_type": "code",
   "execution_count": 10,
   "id": "89365b90-ca9d-426d-88aa-106e41d7a2ca",
   "metadata": {},
   "outputs": [
    {
     "name": "stdin",
     "output_type": "stream",
     "text": [
      "Enter first number 6\n",
      "Enter second number 4\n"
     ]
    },
    {
     "name": "stdout",
     "output_type": "stream",
     "text": [
      "24\n"
     ]
    }
   ],
   "source": [
    "def multiplication(a,b):\n",
    "    if b==0:\n",
    "        return 0\n",
    "    else:\n",
    "        return a+multiplication(a,(b-1))\n",
    "a=int(input(\"Enter first number\"))\n",
    "b=int(input(\"Enter second number\"))\n",
    "print(multiplication(a,b))"
   ]
  },
  {
   "cell_type": "markdown",
   "id": "e8cbf5bb-f54e-4e0e-9eee-8154adf516da",
   "metadata": {},
   "source": [
    "# #Recursion"
   ]
  },
  {
   "cell_type": "raw",
   "id": "8f2cfd38-568d-41ac-96f8-3e2d901668aa",
   "metadata": {},
   "source": [
    "@Recursion:\n",
    "    Approach towards the problem solving.\n",
    "    -Function calling itself again and again until the some condition will get satisfied.\n",
    "    -Whenever we want to write any recursive code we have to find out.\n",
    "    -Two steps:\n",
    "        1.Anchor/stop step:\n",
    "           -Termination condition\n",
    "           -Where exactly the function calling gets stop.\n",
    "        2.Recursive/Inductive step:\n",
    "           -Which statements we want to execute repeatedly.\n",
    "           -Whenever we are writing the recursive code stack will be created in the file stack segment implicitly\n",
    "\n",
    "     *stack:generic data structure\n",
    "            Linear Data structure-storing data in a stack\n",
    "            principle:LIFO or FILO (Last in first out)\n",
    "            one end---->open\n",
    "            other end---->Closed\n",
    "\n",
    "     -Standard operating function of the stack.\n",
    "     -Push:inserting the element onto the stack\n",
    "     -Pop:deleting the element from the stack\n",
    "     *Stack-push-every time the recursive function call will yet push onto the stack\n",
    "     *Pop-Whenever the function starts returning the value the function call will get poped from the stack\n",
    "        -Function execution done and then only it will start the returning the value it will get poped.\n",
    "**Recursive Program execution will be done in 2 phases.\n",
    "   1.Winding Phase:Pushing the function call\n",
    "   2.Unwinding Phase:Returning the value\n",
    "   -element stored inside the stack in the form of activation records/stack frame\n",
    "    DAG = Directed Acyclic Graph.\n",
    "    Stack size = Address space of stack segment.\n",
    "   -Whenever we are not specifying the anchor step the it may leads to stack overflow and segmentation fault.\n",
    "    -so it is mandatory to write anchor steps. "
   ]
  },
  {
   "cell_type": "markdown",
   "id": "cf93f21e-b3a8-4083-ace3-99d9ddb1454f",
   "metadata": {},
   "source": [
    "## @WAP of division of 2 number"
   ]
  },
  {
   "cell_type": "code",
   "execution_count": 20,
   "id": "3a9385db-98c5-4e9b-8f28-caa616c47871",
   "metadata": {},
   "outputs": [
    {
     "name": "stdin",
     "output_type": "stream",
     "text": [
      "Enter first number 6\n",
      "Enter second number 3\n"
     ]
    },
    {
     "name": "stdout",
     "output_type": "stream",
     "text": [
      "2\n"
     ]
    }
   ],
   "source": [
    "def division(a,b):\n",
    "    if a<b:\n",
    "        return 0\n",
    "    else:\n",
    "        return 1+division((a-b),b)\n",
    "a=int(input(\"Enter first number\"))\n",
    "b=int(input(\"Enter second number\"))\n",
    "print(division(a,b))"
   ]
  },
  {
   "cell_type": "code",
   "execution_count": 22,
   "id": "d93b2553-ac06-452f-9f6e-d32345b04b66",
   "metadata": {},
   "outputs": [
    {
     "name": "stdin",
     "output_type": "stream",
     "text": [
      "Enter any Number 10\n"
     ]
    },
    {
     "name": "stdout",
     "output_type": "stream",
     "text": [
      "55\n"
     ]
    }
   ],
   "source": [
    "def sum(n):\n",
    "    if n==0:\n",
    "        return 0\n",
    "    else:\n",
    "        return n+sum(n-1)\n",
    "n=int(input(\"Enter any Number\"))\n",
    "print(sum(n))"
   ]
  },
  {
   "cell_type": "code",
   "execution_count": 87,
   "id": "f6a6e965-aa1f-4253-a8ab-6651a4543032",
   "metadata": {},
   "outputs": [
    {
     "name": "stdin",
     "output_type": "stream",
     "text": [
      "Enter first number 80\n",
      "Enter second number 2\n"
     ]
    },
    {
     "name": "stdout",
     "output_type": "stream",
     "text": [
      "40\n"
     ]
    }
   ],
   "source": [
    "def division(a,b):\n",
    "    x=0\n",
    "    if a<b:\n",
    "        return x\n",
    "    else : \n",
    "        x+=1\n",
    "        return x+division((a-b),b)\n",
    "a=int(input(\"Enter first number\"))\n",
    "b=int(input(\"Enter second number\"))\n",
    "print(division(a,b))"
   ]
  },
  {
   "cell_type": "code",
   "execution_count": 31,
   "id": "e9f3fb8f-ce90-45a7-ba36-d6a2102f3e37",
   "metadata": {},
   "outputs": [
    {
     "name": "stdout",
     "output_type": "stream",
     "text": [
      "0\n",
      "1\n",
      "2\n",
      "3\n",
      "4\n",
      "5\n",
      "6\n",
      "7\n",
      "8\n",
      "9\n",
      "10\n",
      "11\n",
      "12\n",
      "13\n",
      "14\n",
      "15\n",
      "16\n",
      "17\n",
      "18\n",
      "19\n",
      "20\n",
      "21\n",
      "22\n",
      "23\n",
      "24\n",
      "25\n",
      "26\n",
      "27\n",
      "28\n",
      "29\n",
      "30\n",
      "31\n",
      "32\n",
      "33\n",
      "34\n",
      "35\n",
      "36\n",
      "37\n",
      "38\n",
      "39\n",
      "40\n",
      "41\n",
      "42\n",
      "43\n",
      "44\n",
      "45\n",
      "46\n",
      "47\n",
      "48\n",
      "49\n",
      "None\n"
     ]
    }
   ],
   "source": [
    "def addition(n,i=0):\n",
    "    if n==0:\n",
    "        return\n",
    "    else:\n",
    "        print(i)\n",
    "        return addition(n-1,i+1)\n",
    "print(addition(50))\n",
    "        "
   ]
  },
  {
   "cell_type": "code",
   "execution_count": 6,
   "id": "49215926-7b8f-4ccf-b23d-cce25bd3bffe",
   "metadata": {},
   "outputs": [
    {
     "name": "stdout",
     "output_type": "stream",
     "text": [
      "50\n",
      "49\n",
      "48\n",
      "47\n",
      "46\n",
      "45\n",
      "44\n",
      "43\n",
      "42\n",
      "41\n",
      "40\n",
      "39\n",
      "38\n",
      "37\n",
      "36\n",
      "35\n",
      "34\n",
      "33\n",
      "32\n",
      "31\n",
      "30\n",
      "29\n",
      "28\n",
      "27\n",
      "26\n",
      "25\n",
      "24\n",
      "23\n",
      "22\n",
      "21\n",
      "20\n",
      "19\n",
      "18\n",
      "17\n",
      "16\n",
      "15\n",
      "14\n",
      "13\n",
      "12\n",
      "11\n",
      "10\n",
      "9\n",
      "8\n",
      "7\n",
      "6\n",
      "5\n",
      "4\n",
      "3\n",
      "2\n",
      "1\n",
      "None\n"
     ]
    }
   ],
   "source": [
    "def addition(n,i=0):\n",
    "    if n==0:\n",
    "        return\n",
    "    else:\n",
    "        print(n)\n",
    "        return addition(n-1,i+1)\n",
    "print(addition(50))\n"
   ]
  },
  {
   "cell_type": "code",
   "execution_count": 4,
   "id": "d59896e6-6730-42c4-81a1-e0be18de43a2",
   "metadata": {},
   "outputs": [
    {
     "name": "stdout",
     "output_type": "stream",
     "text": [
      "3\n"
     ]
    }
   ],
   "source": [
    "def digit(n,count=0):\n",
    "    if n!=0:\n",
    "       return digit(n//10,count+1)\n",
    "    else:\n",
    "        return count\n",
    "print (digit(523))"
   ]
  },
  {
   "cell_type": "code",
   "execution_count": 9,
   "id": "7b35a48b-0310-4fb4-994f-1557334e8bb7",
   "metadata": {},
   "outputs": [
    {
     "name": "stdout",
     "output_type": "stream",
     "text": [
      "32\n"
     ]
    }
   ],
   "source": [
    "def power(x,n):\n",
    "    if n==0:\n",
    "        return 1\n",
    "    else:\n",
    "        return x*power(x,(n-1))\n",
    "print(power(2,5))"
   ]
  },
  {
   "cell_type": "code",
   "execution_count": 2,
   "id": "e916e391-ac1f-450f-aa35-6cf4543abceb",
   "metadata": {},
   "outputs": [
    {
     "name": "stdout",
     "output_type": "stream",
     "text": [
      "32\n"
     ]
    }
   ],
   "source": [
    "def power(x,n):\n",
    "    if n==0:\n",
    "        return 1\n",
    "    elif n%2==0:\n",
    "        xp1=power(x,n//2)\n",
    "        result=xp1*xp1\n",
    "    else:\n",
    "        xp2=power(x,n//2)\n",
    "        result= x*xp2*xp2\n",
    "    return result\n",
    "print(power(2,5))"
   ]
  },
  {
   "cell_type": "markdown",
   "id": "b4ee7dcf-f347-45c3-b43a-be93fe13ccfa",
   "metadata": {},
   "source": [
    "## #Iterative Approach"
   ]
  },
  {
   "cell_type": "raw",
   "id": "6d3ca4e3-9955-4a6b-a9f7-2baec36a1a44",
   "metadata": {},
   "source": [
    "@Iterative Approach:\n",
    "    -In some cases stack overhead recursive version is better than the iterative version.\n",
    "    -But recursion always have the stack overhead.\n",
    "    -So the space complexity of recursion is always greater than iterative version\n",
    "    -Most of the algorithm techniques are recursive in nature.\n",
    "    -ex. divide and conquer, dynamic\n",
    "\n",
    "   #Advantages:\n",
    "        1.Very logical\n",
    "        2.Very easy to implement\n",
    "   #Disadvantages:\n",
    "        1.Stack overflow or infinite recursion\n",
    "        2.it may leads to segmentation fault\n",
    "        3.stack overhead.\n"
   ]
  },
  {
   "cell_type": "code",
   "execution_count": 42,
   "id": "36e81bab-6c3f-410c-a2a5-68a7d93356df",
   "metadata": {},
   "outputs": [
    {
     "name": "stdout",
     "output_type": "stream",
     "text": [
      "6\n"
     ]
    }
   ],
   "source": [
    "def digit(n,a=0):\n",
    "    if n==0:\n",
    "        return 0\n",
    "    else :\n",
    "        a=n%10\n",
    "        return a+digit(n//10)\n",
    "print(digit(321))"
   ]
  },
  {
   "cell_type": "code",
   "execution_count": 1,
   "id": "91f839c0-3931-4aed-bcae-b6efa107ae84",
   "metadata": {},
   "outputs": [
    {
     "name": "stdin",
     "output_type": "stream",
     "text": [
      "Enter any number 321\n"
     ]
    },
    {
     "name": "stdout",
     "output_type": "stream",
     "text": [
      "4\n"
     ]
    }
   ],
   "source": [
    "def digit(n):\n",
    "    last_digit=n%10\n",
    "    while n>0:\n",
    "        n=n//10\n",
    "        if n<10:\n",
    "            first_digit=n\n",
    "            break\n",
    "    return last_digit+first_digit\n",
    "n=int(input(\"Enter any number\"))\n",
    "print(digit(n))"
   ]
  },
  {
   "cell_type": "code",
   "execution_count": 11,
   "id": "d07fd971-41a3-45d1-b9b4-384578385742",
   "metadata": {},
   "outputs": [
    {
     "name": "stdin",
     "output_type": "stream",
     "text": [
      "Enter any number 5\n"
     ]
    },
    {
     "name": "stdout",
     "output_type": "stream",
     "text": [
      "5\n"
     ]
    }
   ],
   "source": [
    "def recursion(n):\n",
    "    if n<10:\n",
    "        return n\n",
    "    return recursion(n//10)\n",
    "n=int(input(\"Enter any number\"))\n",
    "last_digit=n%10\n",
    "if last_digit==recursion(n):\n",
    "    print(last_digit)\n",
    "else:\n",
    "    sum=last_digit+recursion(n)\n",
    "    print(sum)"
   ]
  },
  {
   "cell_type": "code",
   "execution_count": null,
   "id": "cd6fa8c7-45a0-4cb4-98e5-289e63cf641a",
   "metadata": {},
   "outputs": [],
   "source": []
  }
 ],
 "metadata": {
  "kernelspec": {
   "display_name": "Python 3 (ipykernel)",
   "language": "python",
   "name": "python3"
  },
  "language_info": {
   "codemirror_mode": {
    "name": "ipython",
    "version": 3
   },
   "file_extension": ".py",
   "mimetype": "text/x-python",
   "name": "python",
   "nbconvert_exporter": "python",
   "pygments_lexer": "ipython3",
   "version": "3.12.7"
  }
 },
 "nbformat": 4,
 "nbformat_minor": 5
}
