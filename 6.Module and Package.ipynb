{
 "cells": [
  {
   "cell_type": "markdown",
   "id": "e6df4483-d4fe-49a9-9d50-eed37635a881",
   "metadata": {},
   "source": [
    "# @Modules"
   ]
  },
  {
   "cell_type": "markdown",
   "id": "123e7ccf-3b3c-4e4d-8dd6-3ebab22ca277",
   "metadata": {},
   "source": [
    "*Modules:\n",
    "\n",
    "    -modules refers to a file containing python statements and definition\n",
    "    -reusability\n",
    "    -there are 2 types of module\n",
    "\n",
    "      A. builtin module\n",
    "  \n",
    "        -it is directly define in the language itself we have to directly used it\n",
    "         1.math\n",
    "         2.datetime\n",
    "         3.os\n",
    "         4.random\n",
    "       \n",
    "     B. user defined module:\n",
    "        -we are creating own modules\n",
    "      Syntax:\n",
    "        import module_name\n",
    "        import---keyword\n",
    "        modules----no. of function\n",
    "\n",
    "       -it is mandatory to import the module because we have to use the function which are present inside the module\n",
    "     ex. import math\n",
    "     Syntax:\n",
    "      from module_name import fun \n",
    "\n",
    "      ex.from math import *\n",
    "      \n",
    "    syntax: we can use the alias \n",
    "      import math as m\n",
    "\n",
    "module_name.function_name\n",
    "\n",
    "    OS:it is used to performing os level operation \n",
    "\n",
    "-every os has 2 modes:\n",
    "\n",
    "    1.GUI(graphical user interface)\n",
    "\n",
    "    2.CUI(command user interface)\n",
    "\n",
    "p='please open the notepad'\n",
    "\n",
    "    if(notepad in p)and ((open in p)or(execute in p)) \n",
    "    os.system(notepad)\n",
    "\n",
    "\n",
    "1.go to jupyter\n",
    "\n",
    "2.click on new text file\n",
    "\n",
    "3.write the python code\n",
    "\n",
    "4.save that file with .py extension\n",
    "\n",
    "5.import that module in a program\n",
    "\n",
    "6.access with the function name"
   ]
  },
  {
   "cell_type": "code",
   "execution_count": 2,
   "id": "07793753-7f02-40bb-a6bd-8972e0a83a26",
   "metadata": {},
   "outputs": [
    {
     "data": {
      "text/plain": [
       "3.141592653589793"
      ]
     },
     "execution_count": 2,
     "metadata": {},
     "output_type": "execute_result"
    }
   ],
   "source": [
    "import math\n",
    "math.pi"
   ]
  },
  {
   "cell_type": "code",
   "execution_count": 4,
   "id": "8c2885a9-fedd-43df-afb4-fad8b0b751ce",
   "metadata": {},
   "outputs": [
    {
     "data": {
      "text/plain": [
       "16.0"
      ]
     },
     "execution_count": 4,
     "metadata": {},
     "output_type": "execute_result"
    }
   ],
   "source": [
    "math.pow(2,4)"
   ]
  },
  {
   "cell_type": "code",
   "execution_count": 11,
   "id": "327a377e-dd0a-4305-9f07-c5fda4d67fb2",
   "metadata": {},
   "outputs": [
    {
     "data": {
      "text/plain": [
       "1.6197751905438615"
      ]
     },
     "execution_count": 11,
     "metadata": {},
     "output_type": "execute_result"
    }
   ],
   "source": [
    "math.tan(45)"
   ]
  },
  {
   "cell_type": "code",
   "execution_count": 13,
   "id": "6dca9665-43c9-4870-b80d-6dc27bbe96ab",
   "metadata": {},
   "outputs": [
    {
     "data": {
      "text/plain": [
       "'Return x**y (x to the power of y).'"
      ]
     },
     "execution_count": 13,
     "metadata": {},
     "output_type": "execute_result"
    }
   ],
   "source": [
    "math.pow.__doc__"
   ]
  },
  {
   "cell_type": "code",
   "execution_count": 23,
   "id": "13bb0c16-e719-4724-a715-2a1c0674b234",
   "metadata": {},
   "outputs": [
    {
     "data": {
      "text/plain": [
       "0"
      ]
     },
     "execution_count": 23,
     "metadata": {},
     "output_type": "execute_result"
    }
   ],
   "source": [
    "import os\n",
    "os.system(\"notepad\")"
   ]
  },
  {
   "cell_type": "code",
   "execution_count": 25,
   "id": "06378f44-a961-4193-9570-465b6e259845",
   "metadata": {},
   "outputs": [
    {
     "data": {
      "text/plain": [
       "1"
      ]
     },
     "execution_count": 25,
     "metadata": {},
     "output_type": "execute_result"
    }
   ],
   "source": [
    "os.system(\"chrome\")"
   ]
  },
  {
   "cell_type": "code",
   "execution_count": 2,
   "id": "a5acbf3b-025c-451e-bda4-6fa3bb7b8bd5",
   "metadata": {},
   "outputs": [
    {
     "data": {
      "text/plain": [
       "13"
      ]
     },
     "execution_count": 2,
     "metadata": {},
     "output_type": "execute_result"
    }
   ],
   "source": [
    "#code for fiboseries\n",
    "import fiboseries\n",
    "fiboseries.fibo(6)"
   ]
  },
  {
   "cell_type": "code",
   "execution_count": 10,
   "id": "6b580d3a-34d6-4618-b04c-e7fecdddcc28",
   "metadata": {},
   "outputs": [
    {
     "data": {
      "text/plain": [
       "datetime.datetime(2025, 2, 4, 18, 34, 34, 153305)"
      ]
     },
     "execution_count": 10,
     "metadata": {},
     "output_type": "execute_result"
    }
   ],
   "source": [
    "import datetime\n",
    "datetime.datetime.now()"
   ]
  },
  {
   "cell_type": "code",
   "execution_count": 2,
   "id": "ea05ce50-b005-4f7a-adb8-4d9c224f2521",
   "metadata": {},
   "outputs": [
    {
     "data": {
      "text/plain": [
       "[3]"
      ]
     },
     "execution_count": 2,
     "metadata": {},
     "output_type": "execute_result"
    }
   ],
   "source": [
    "#code for duplicate\n",
    "import duplicates\n",
    "duplicates.duplicate([1,2,3,4,3,5])"
   ]
  },
  {
   "cell_type": "code",
   "execution_count": 6,
   "id": "06f0128d-3550-480b-b6a1-2b5b5d12e0a9",
   "metadata": {},
   "outputs": [
    {
     "data": {
      "text/plain": [
       "10"
      ]
     },
     "execution_count": 6,
     "metadata": {},
     "output_type": "execute_result"
    }
   ],
   "source": [
    "#code of gcd\n",
    "import newadd\n",
    "newadd.gcd(50,10)"
   ]
  },
  {
   "cell_type": "code",
   "execution_count": 16,
   "id": "3b4fbd40-61eb-4089-acff-80128edf07a4",
   "metadata": {},
   "outputs": [
    {
     "data": {
      "text/plain": [
       "8"
      ]
     },
     "execution_count": 16,
     "metadata": {},
     "output_type": "execute_result"
    }
   ],
   "source": [
    "import random\n",
    "random.randint(0,10)"
   ]
  },
  {
   "cell_type": "code",
   "execution_count": 50,
   "id": "b37ce17d-9a3d-4413-8116-a93c4ec5256a",
   "metadata": {},
   "outputs": [
    {
     "name": "stdout",
     "output_type": "stream",
     "text": [
      "[3, 1, 4, 2, 5]\n"
     ]
    }
   ],
   "source": [
    "import random\n",
    "a=[1,2,3,4,5]\n",
    "random.shuffle(a)\n",
    "print(a)"
   ]
  },
  {
   "cell_type": "code",
   "execution_count": 48,
   "id": "d32379fa-4e74-410c-b65c-97794394a50a",
   "metadata": {},
   "outputs": [
    {
     "data": {
      "text/plain": [
       "1738675115.00519"
      ]
     },
     "execution_count": 48,
     "metadata": {},
     "output_type": "execute_result"
    }
   ],
   "source": [
    "import time\n",
    "time.time()"
   ]
  },
  {
   "cell_type": "code",
   "execution_count": 78,
   "id": "3dee2496-534d-485e-9693-faf5743c8b7e",
   "metadata": {},
   "outputs": [],
   "source": [
    "#Create user define module for sort in that we are quick sort"
   ]
  },
  {
   "cell_type": "markdown",
   "id": "b366ee54-8bff-490b-98e7-8ad5243826b6",
   "metadata": {},
   "source": [
    "## Package:\n",
    "\n",
    "    -packages are the way for structuring the python module\n",
    "    -it is a kind of directory\n",
    "    -package must contains the __init__.py\n",
    "    -without __init__.py this file it is not considered as package\n",
    "    -__init__ this file can be empty or it can have some startup or initialization code"
   ]
  },
  {
   "cell_type": "code",
   "execution_count": 10,
   "id": "5b4a788b-cfe2-4af9-b945-fff5b47c6b14",
   "metadata": {},
   "outputs": [],
   "source": [
    "#Trecing program"
   ]
  },
  {
   "cell_type": "code",
   "execution_count": 4,
   "id": "c296cd4a-d6f9-452f-8d66-25e26bf5174a",
   "metadata": {},
   "outputs": [
    {
     "name": "stdout",
     "output_type": "stream",
     "text": [
      "3\n",
      "1\n",
      "2\n",
      "1\n",
      "1\n",
      "1\n",
      "2\n",
      "2\n"
     ]
    }
   ],
   "source": [
    "def count(n,d=1):\n",
    "    print(n)    \n",
    "    print(d)   \n",
    "    d+=1       \n",
    "    if n>1:\n",
    "      count(n-1)\n",
    "      print(d)  \n",
    "count(3)\n"
   ]
  },
  {
   "cell_type": "code",
   "execution_count": 8,
   "id": "a8b77517-6402-4e2e-9612-c0d6a350dcc0",
   "metadata": {},
   "outputs": [
    {
     "data": {
      "text/plain": [
       "6"
      ]
     },
     "execution_count": 8,
     "metadata": {},
     "output_type": "execute_result"
    }
   ],
   "source": [
    "def f(n,r=[0]):\n",
    "   if n<=0:\n",
    "     return 1\n",
    "   r[0]=n\n",
    "   return f(n-1,r)+r[0]\n",
    "f(5)\n"
   ]
  },
  {
   "cell_type": "code",
   "execution_count": 12,
   "id": "c86ec393-2a97-487a-bb1c-6ba2197f536a",
   "metadata": {},
   "outputs": [
    {
     "name": "stdout",
     "output_type": "stream",
     "text": [
      "-\n",
      "-\n",
      "-\n",
      "-\n",
      "-\n",
      "-\n",
      "-\n",
      "-\n"
     ]
    }
   ],
   "source": [
    "def howmanydash(n):\n",
    "    if n==0:\n",
    "        print(\"-\")\n",
    "    elif n==1:\n",
    "        print(\"-\")\n",
    "    else:\n",
    "        howmanydash(n-1)\n",
    "        howmanydash(n-2)\n",
    "howmanydash(5)"
   ]
  },
  {
   "cell_type": "code",
   "execution_count": 6,
   "id": "dbbe8e73-8d08-4c7a-9e95-b721fcc7b90d",
   "metadata": {},
   "outputs": [
    {
     "name": "stdout",
     "output_type": "stream",
     "text": [
      "17\n"
     ]
    }
   ],
   "source": [
    "def fun1(x,y):\n",
    "    if y==0:\n",
    "        return 0\n",
    "    return x+fun2(x,y-1)\n",
    "def fun2(x,y):\n",
    "    if x==0:\n",
    "        return y\n",
    "    return fun2(x-1,x+y)\n",
    "print(fun1(4,4))\n",
    "       "
   ]
  },
  {
   "cell_type": "code",
   "execution_count": 2,
   "id": "0dc356b4-d78e-4442-a194-9504bdbb0651",
   "metadata": {},
   "outputs": [
    {
     "name": "stdout",
     "output_type": "stream",
     "text": [
      "hellohellohellohellohellohelloworldworldworldworldworldworldworld"
     ]
    }
   ],
   "source": [
    "def greet(n):\n",
    "    if n>0:\n",
    "        print(\"hello\", end=\"\")\n",
    "        greet(n - 1)\n",
    "    print(\"world\", end=\"\")\n",
    "greet(6)"
   ]
  },
  {
   "cell_type": "code",
   "execution_count": 4,
   "id": "1005d3ca-d422-4e57-8766-5b32badaf1cb",
   "metadata": {},
   "outputs": [
    {
     "data": {
      "text/plain": [
       "1640"
      ]
     },
     "execution_count": 4,
     "metadata": {},
     "output_type": "execute_result"
    }
   ],
   "source": [
    "def f1(n):\n",
    "    if n == 0 or n == 1:\n",
    "        return n\n",
    "    else:\n",
    "        return 2 * f1(n - 1) + 3 * f1(n - 2)\n",
    "f1(8)"
   ]
  },
  {
   "cell_type": "code",
   "execution_count": 12,
   "id": "c5d2fe96-0f78-4705-b6d2-c0f085e7dfd4",
   "metadata": {},
   "outputs": [
    {
     "name": "stdout",
     "output_type": "stream",
     "text": [
      "5\n"
     ]
    }
   ],
   "source": [
    "def f(n):\n",
    "    if n<= 1:\n",
    "        return 1\n",
    "    if n % 2 == 0:\n",
    "        return f(n // 2)\n",
    "    return f(n // 2) + f(n // 2 + 1)\n",
    "\n",
    "print(f(11))"
   ]
  },
  {
   "cell_type": "code",
   "execution_count": 10,
   "id": "ad7e8a5f-d52c-4b70-9ac7-1f8448cfecaa",
   "metadata": {},
   "outputs": [
    {
     "data": {
      "text/plain": [
       "5"
      ]
     },
     "execution_count": 10,
     "metadata": {},
     "output_type": "execute_result"
    }
   ],
   "source": [
    "11//2"
   ]
  },
  {
   "cell_type": "code",
   "execution_count": 14,
   "id": "f41b0729-2b05-4229-a09f-fe63da36343b",
   "metadata": {},
   "outputs": [
    {
     "name": "stdout",
     "output_type": "stream",
     "text": [
      "15\n"
     ]
    }
   ],
   "source": [
    "def f(a, n):\n",
    "    if n<= 0:\n",
    "        return 0\n",
    "    elif a[0] % 2 == 0: # Check if the first element is even\n",
    "        return a[0] + f(a[1:], n - 1)\n",
    "    else:\n",
    "        return a[0] - f(a[1:], n - 1)\n",
    "\n",
    "a = [12, 7, 13, 4, 11, 6]\n",
    "print(f(a, len(a)))"
   ]
  },
  {
   "cell_type": "code",
   "execution_count": null,
   "id": "817c0fe6-89e3-41dc-900f-f9486fdaee58",
   "metadata": {},
   "outputs": [],
   "source": []
  }
 ],
 "metadata": {
  "kernelspec": {
   "display_name": "Python 3 (ipykernel)",
   "language": "python",
   "name": "python3"
  },
  "language_info": {
   "codemirror_mode": {
    "name": "ipython",
    "version": 3
   },
   "file_extension": ".py",
   "mimetype": "text/x-python",
   "name": "python",
   "nbconvert_exporter": "python",
   "pygments_lexer": "ipython3",
   "version": "3.12.7"
  }
 },
 "nbformat": 4,
 "nbformat_minor": 5
}
